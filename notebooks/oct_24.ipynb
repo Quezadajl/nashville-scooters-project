{
 "cells": [
  {
   "cell_type": "code",
   "execution_count": 1,
   "id": "e9be942b",
   "metadata": {},
   "outputs": [],
   "source": [
    "import numpy as np\n",
    "import pandas as pd\n",
    "import geopandas as gpd\n",
    "import folium\n",
    "import datetime\n",
    "import pickle\n",
    "from shapely.geometry import Point\n",
    "from shapely.geometry import Polygon"
   ]
  },
  {
   "cell_type": "code",
   "execution_count": 2,
   "id": "828a43f2",
   "metadata": {},
   "outputs": [
    {
     "name": "stdout",
     "output_type": "stream",
     "text": [
      "epsg:2274\n"
     ]
    }
   ],
   "source": [
    "promise_zone = gpd.read_file('../data/MDHA_Promise_Zones/Export_Output_5.shp')\n",
    "print(promise_zone.crs)"
   ]
  },
  {
   "cell_type": "code",
   "execution_count": 3,
   "id": "1f48ac4d",
   "metadata": {},
   "outputs": [],
   "source": [
    "promise_zone = promise_zone.to_crs(epsg = 4326)"
   ]
  },
  {
   "cell_type": "code",
   "execution_count": 4,
   "id": "2ee615c1",
   "metadata": {},
   "outputs": [],
   "source": [
    "# Import the file as a Pandas DataFrame\n",
    "fp = '../data/july.csv'\n",
    "july = pd.read_csv(fp)"
   ]
  },
  {
   "cell_type": "code",
   "execution_count": 5,
   "id": "52550a41",
   "metadata": {},
   "outputs": [],
   "source": [
    "company_dict = {'Bird':0, 'Lyft': 1, 'Gotcha': 2, 'Lime': 3, 'Spin': 4, 'Jump': 5, 'Bolt': 6}\n",
    "july.companyname = july.companyname.replace(company_dict)"
   ]
  },
  {
   "cell_type": "code",
   "execution_count": 6,
   "id": "05099b39",
   "metadata": {},
   "outputs": [],
   "source": [
    "july.pubdatetime = pd.to_datetime(july['pubdatetime'])"
   ]
  },
  {
   "cell_type": "code",
   "execution_count": 7,
   "id": "192fbaa8",
   "metadata": {},
   "outputs": [],
   "source": [
    "july.to_pickle(\"../data/july.pkl\")"
   ]
  },
  {
   "cell_type": "code",
   "execution_count": null,
   "id": "df632340",
   "metadata": {},
   "outputs": [],
   "source": [
    "july_scooters = july[['pubdatetime', 'latitude', 'longitude', 'sumdid', 'chargelevel', 'companyname']]"
   ]
  },
  {
   "cell_type": "code",
   "execution_count": null,
   "id": "e7630a00",
   "metadata": {},
   "outputs": [],
   "source": [
    "july_scooters['geometry'] = july_scooters.apply(lambda x: Point((x.longitude,x.latitude)),\n",
    "                                        axis=1)"
   ]
  },
  {
   "cell_type": "code",
   "execution_count": null,
   "id": "0c495a2f",
   "metadata": {},
   "outputs": [],
   "source": []
  }
 ],
 "metadata": {
  "kernelspec": {
   "display_name": "Python 3 (ipykernel)",
   "language": "python",
   "name": "python3"
  },
  "language_info": {
   "codemirror_mode": {
    "name": "ipython",
    "version": 3
   },
   "file_extension": ".py",
   "mimetype": "text/x-python",
   "name": "python",
   "nbconvert_exporter": "python",
   "pygments_lexer": "ipython3",
   "version": "3.8.5"
  }
 },
 "nbformat": 4,
 "nbformat_minor": 5
}
