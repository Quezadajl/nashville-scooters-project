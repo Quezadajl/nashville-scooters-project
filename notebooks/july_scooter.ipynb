{
 "cells": [
  {
   "cell_type": "code",
   "execution_count": 10,
   "id": "652fddca",
   "metadata": {},
   "outputs": [],
   "source": [
    "import pandas as pd\n",
    "import pickle\n",
    "from shapely.geometry import Point\n",
    "import geopandas as gpd\n",
    "import matplotlib.pyplot as plt\n",
    "import folium\n",
    "from folium.plugins import MarkerCluster\n",
    "from folium.plugins import FastMarkerCluster"
   ]
  },
  {
   "cell_type": "code",
   "execution_count": 11,
   "id": "abf9e0ff",
   "metadata": {},
   "outputs": [
    {
     "data": {
      "text/html": [
       "<div>\n",
       "<style scoped>\n",
       "    .dataframe tbody tr th:only-of-type {\n",
       "        vertical-align: middle;\n",
       "    }\n",
       "\n",
       "    .dataframe tbody tr th {\n",
       "        vertical-align: top;\n",
       "    }\n",
       "\n",
       "    .dataframe thead th {\n",
       "        text-align: right;\n",
       "    }\n",
       "</style>\n",
       "<table border=\"1\" class=\"dataframe\">\n",
       "  <thead>\n",
       "    <tr style=\"text-align: right;\">\n",
       "      <th></th>\n",
       "      <th>pubdatetime</th>\n",
       "      <th>latitude</th>\n",
       "      <th>longitude</th>\n",
       "      <th>sumdid</th>\n",
       "      <th>chargelevel</th>\n",
       "      <th>companyname</th>\n",
       "    </tr>\n",
       "  </thead>\n",
       "  <tbody>\n",
       "    <tr>\n",
       "      <th>0</th>\n",
       "      <td>2019-07-01 00:00:33.550</td>\n",
       "      <td>36.156678</td>\n",
       "      <td>-86.809004</td>\n",
       "      <td>Powered635135</td>\n",
       "      <td>22.0</td>\n",
       "      <td>Lyft</td>\n",
       "    </tr>\n",
       "    <tr>\n",
       "      <th>1</th>\n",
       "      <td>2019-07-01 00:00:34.973</td>\n",
       "      <td>36.145674</td>\n",
       "      <td>-86.794138</td>\n",
       "      <td>Powered790946</td>\n",
       "      <td>33.0</td>\n",
       "      <td>Lyft</td>\n",
       "    </tr>\n",
       "    <tr>\n",
       "      <th>2</th>\n",
       "      <td>2019-07-01 00:00:41.183</td>\n",
       "      <td>36.179319</td>\n",
       "      <td>-86.751538</td>\n",
       "      <td>Powered570380</td>\n",
       "      <td>76.0</td>\n",
       "      <td>Lyft</td>\n",
       "    </tr>\n",
       "    <tr>\n",
       "      <th>3</th>\n",
       "      <td>2019-07-01 00:00:41.620</td>\n",
       "      <td>36.152111</td>\n",
       "      <td>-86.803821</td>\n",
       "      <td>Powered240631</td>\n",
       "      <td>43.0</td>\n",
       "      <td>Lyft</td>\n",
       "    </tr>\n",
       "    <tr>\n",
       "      <th>4</th>\n",
       "      <td>2019-07-01 00:00:45.087</td>\n",
       "      <td>36.149355</td>\n",
       "      <td>-86.797550</td>\n",
       "      <td>Powered970404</td>\n",
       "      <td>52.0</td>\n",
       "      <td>Lyft</td>\n",
       "    </tr>\n",
       "  </tbody>\n",
       "</table>\n",
       "</div>"
      ],
      "text/plain": [
       "              pubdatetime   latitude  longitude         sumdid  chargelevel  \\\n",
       "0 2019-07-01 00:00:33.550  36.156678 -86.809004  Powered635135         22.0   \n",
       "1 2019-07-01 00:00:34.973  36.145674 -86.794138  Powered790946         33.0   \n",
       "2 2019-07-01 00:00:41.183  36.179319 -86.751538  Powered570380         76.0   \n",
       "3 2019-07-01 00:00:41.620  36.152111 -86.803821  Powered240631         43.0   \n",
       "4 2019-07-01 00:00:45.087  36.149355 -86.797550  Powered970404         52.0   \n",
       "\n",
       "  companyname  \n",
       "0        Lyft  \n",
       "1        Lyft  \n",
       "2        Lyft  \n",
       "3        Lyft  \n",
       "4        Lyft  "
      ]
     },
     "execution_count": 11,
     "metadata": {},
     "output_type": "execute_result"
    }
   ],
   "source": [
    "july = pd.read_pickle('../data/july.pkl')\n",
    "july.head()"
   ]
  },
  {
   "cell_type": "code",
   "execution_count": 12,
   "id": "b675119d",
   "metadata": {},
   "outputs": [
    {
     "data": {
      "text/html": [
       "<div>\n",
       "<style scoped>\n",
       "    .dataframe tbody tr th:only-of-type {\n",
       "        vertical-align: middle;\n",
       "    }\n",
       "\n",
       "    .dataframe tbody tr th {\n",
       "        vertical-align: top;\n",
       "    }\n",
       "\n",
       "    .dataframe thead th {\n",
       "        text-align: right;\n",
       "    }\n",
       "</style>\n",
       "<table border=\"1\" class=\"dataframe\">\n",
       "  <thead>\n",
       "    <tr style=\"text-align: right;\">\n",
       "      <th></th>\n",
       "      <th>pubTimeStamp</th>\n",
       "      <th>companyName</th>\n",
       "      <th>tripRecordNum</th>\n",
       "      <th>sumdID</th>\n",
       "      <th>tripDuration</th>\n",
       "      <th>tripDistance</th>\n",
       "      <th>startDate</th>\n",
       "      <th>startTime</th>\n",
       "      <th>endDate</th>\n",
       "      <th>endTime</th>\n",
       "      <th>startLatitude</th>\n",
       "      <th>startLongitude</th>\n",
       "      <th>endLatitude</th>\n",
       "      <th>endLongitude</th>\n",
       "      <th>tripRoute</th>\n",
       "      <th>create_dt</th>\n",
       "    </tr>\n",
       "  </thead>\n",
       "  <tbody>\n",
       "    <tr>\n",
       "      <th>0</th>\n",
       "      <td>2019-07-01 00:02:52.213000</td>\n",
       "      <td>Bird</td>\n",
       "      <td>BRD5179</td>\n",
       "      <td>PoweredZSHKJ</td>\n",
       "      <td>2.0</td>\n",
       "      <td>0.0</td>\n",
       "      <td>2019-07-01 00:00:00</td>\n",
       "      <td>00:01:32.290000</td>\n",
       "      <td>2019-07-01 00:00:00</td>\n",
       "      <td>00:03:55.966666</td>\n",
       "      <td>36.1775</td>\n",
       "      <td>-86.7516</td>\n",
       "      <td>36.1778</td>\n",
       "      <td>-86.7514</td>\n",
       "      <td>[[36.177438,-86.751861],[36.177425,-86.751987]...</td>\n",
       "      <td>2019-07-02 05:30:18.333000</td>\n",
       "    </tr>\n",
       "    <tr>\n",
       "      <th>1</th>\n",
       "      <td>2019-07-01 00:02:52.213000</td>\n",
       "      <td>Bird</td>\n",
       "      <td>BRD5177</td>\n",
       "      <td>Powered22JF6</td>\n",
       "      <td>0.0</td>\n",
       "      <td>0.0</td>\n",
       "      <td>2019-07-01 00:00:00</td>\n",
       "      <td>00:02:38.640000</td>\n",
       "      <td>2019-07-01 00:00:00</td>\n",
       "      <td>00:02:54.406666</td>\n",
       "      <td>36.1627</td>\n",
       "      <td>-86.7711</td>\n",
       "      <td>36.1627</td>\n",
       "      <td>-86.7711</td>\n",
       "      <td>[[36.162718,-86.771102],[36.162718,-86.771102]]</td>\n",
       "      <td>2019-07-02 05:30:18.273000</td>\n",
       "    </tr>\n",
       "    <tr>\n",
       "      <th>2</th>\n",
       "      <td>2019-07-01 00:02:52.213000</td>\n",
       "      <td>Bird</td>\n",
       "      <td>BRD5176</td>\n",
       "      <td>Powered22JF6</td>\n",
       "      <td>1.0</td>\n",
       "      <td>0.0</td>\n",
       "      <td>2019-07-01 00:00:00</td>\n",
       "      <td>00:03:04.333333</td>\n",
       "      <td>2019-07-01 00:00:00</td>\n",
       "      <td>00:03:37.680000</td>\n",
       "      <td>36.1627</td>\n",
       "      <td>-86.7713</td>\n",
       "      <td>36.1627</td>\n",
       "      <td>-86.7713</td>\n",
       "      <td>[[36.162734,-86.77122],[36.162706,-86.771325],...</td>\n",
       "      <td>2019-07-02 05:30:18.243000</td>\n",
       "    </tr>\n",
       "    <tr>\n",
       "      <th>3</th>\n",
       "      <td>2019-07-01 00:02:52.213000</td>\n",
       "      <td>Bird</td>\n",
       "      <td>BRD5178</td>\n",
       "      <td>PoweredIB2CC</td>\n",
       "      <td>1.0</td>\n",
       "      <td>0.0</td>\n",
       "      <td>2019-07-01 00:00:00</td>\n",
       "      <td>00:02:06.963333</td>\n",
       "      <td>2019-07-01 00:00:00</td>\n",
       "      <td>00:03:25.766666</td>\n",
       "      <td>36.1525</td>\n",
       "      <td>-86.7988</td>\n",
       "      <td>36.1525</td>\n",
       "      <td>-86.7988</td>\n",
       "      <td>[[36.152499,-86.798708]]</td>\n",
       "      <td>2019-07-02 05:30:18.303000</td>\n",
       "    </tr>\n",
       "    <tr>\n",
       "      <th>4</th>\n",
       "      <td>2019-07-01 00:02:52.213000</td>\n",
       "      <td>Bird</td>\n",
       "      <td>BRD5180</td>\n",
       "      <td>PoweredW4G7R</td>\n",
       "      <td>2.0</td>\n",
       "      <td>0.0</td>\n",
       "      <td>2019-07-01 00:00:00</td>\n",
       "      <td>00:01:19.843333</td>\n",
       "      <td>2019-07-01 00:00:00</td>\n",
       "      <td>00:02:53.976666</td>\n",
       "      <td>36.1578</td>\n",
       "      <td>-86.7760</td>\n",
       "      <td>36.1575</td>\n",
       "      <td>-86.7758</td>\n",
       "      <td>[[36.157523,-86.775794]]</td>\n",
       "      <td>2019-07-02 05:30:18.363000</td>\n",
       "    </tr>\n",
       "  </tbody>\n",
       "</table>\n",
       "</div>"
      ],
      "text/plain": [
       "                 pubTimeStamp companyName tripRecordNum        sumdID  \\\n",
       "0  2019-07-01 00:02:52.213000        Bird       BRD5179  PoweredZSHKJ   \n",
       "1  2019-07-01 00:02:52.213000        Bird       BRD5177  Powered22JF6   \n",
       "2  2019-07-01 00:02:52.213000        Bird       BRD5176  Powered22JF6   \n",
       "3  2019-07-01 00:02:52.213000        Bird       BRD5178  PoweredIB2CC   \n",
       "4  2019-07-01 00:02:52.213000        Bird       BRD5180  PoweredW4G7R   \n",
       "\n",
       "   tripDuration  tripDistance            startDate        startTime  \\\n",
       "0           2.0           0.0  2019-07-01 00:00:00  00:01:32.290000   \n",
       "1           0.0           0.0  2019-07-01 00:00:00  00:02:38.640000   \n",
       "2           1.0           0.0  2019-07-01 00:00:00  00:03:04.333333   \n",
       "3           1.0           0.0  2019-07-01 00:00:00  00:02:06.963333   \n",
       "4           2.0           0.0  2019-07-01 00:00:00  00:01:19.843333   \n",
       "\n",
       "               endDate          endTime  startLatitude  startLongitude  \\\n",
       "0  2019-07-01 00:00:00  00:03:55.966666        36.1775        -86.7516   \n",
       "1  2019-07-01 00:00:00  00:02:54.406666        36.1627        -86.7711   \n",
       "2  2019-07-01 00:00:00  00:03:37.680000        36.1627        -86.7713   \n",
       "3  2019-07-01 00:00:00  00:03:25.766666        36.1525        -86.7988   \n",
       "4  2019-07-01 00:00:00  00:02:53.976666        36.1578        -86.7760   \n",
       "\n",
       "   endLatitude  endLongitude  \\\n",
       "0      36.1778      -86.7514   \n",
       "1      36.1627      -86.7711   \n",
       "2      36.1627      -86.7713   \n",
       "3      36.1525      -86.7988   \n",
       "4      36.1575      -86.7758   \n",
       "\n",
       "                                           tripRoute  \\\n",
       "0  [[36.177438,-86.751861],[36.177425,-86.751987]...   \n",
       "1    [[36.162718,-86.771102],[36.162718,-86.771102]]   \n",
       "2  [[36.162734,-86.77122],[36.162706,-86.771325],...   \n",
       "3                           [[36.152499,-86.798708]]   \n",
       "4                           [[36.157523,-86.775794]]   \n",
       "\n",
       "                    create_dt  \n",
       "0  2019-07-02 05:30:18.333000  \n",
       "1  2019-07-02 05:30:18.273000  \n",
       "2  2019-07-02 05:30:18.243000  \n",
       "3  2019-07-02 05:30:18.303000  \n",
       "4  2019-07-02 05:30:18.363000  "
      ]
     },
     "execution_count": 12,
     "metadata": {},
     "output_type": "execute_result"
    }
   ],
   "source": [
    "july_trip = pd.read_csv('../data/july_trip.csv')\n",
    "july_trip.head()"
   ]
  },
  {
   "cell_type": "code",
   "execution_count": 13,
   "id": "6a07074c",
   "metadata": {},
   "outputs": [
    {
     "data": {
      "text/plain": [
       "pubdatetime      0\n",
       "latitude         0\n",
       "longitude        0\n",
       "sumdid           0\n",
       "chargelevel    202\n",
       "companyname      0\n",
       "dtype: int64"
      ]
     },
     "execution_count": 13,
     "metadata": {},
     "output_type": "execute_result"
    }
   ],
   "source": [
    "july.isnull().sum()"
   ]
  },
  {
   "cell_type": "markdown",
   "id": "289d0e55",
   "metadata": {},
   "source": [
    "#Null values only in chargelevel column. No nulls within the trip dfs"
   ]
  },
  {
   "cell_type": "code",
   "execution_count": 14,
   "id": "cb278ea3",
   "metadata": {},
   "outputs": [
    {
     "data": {
      "text/plain": [
       "Jump      10367575\n",
       "Bird       3702282\n",
       "Lime       3233573\n",
       "Lyft       2890233\n",
       "Gotcha     1933513\n",
       "Spin       1750581\n",
       "Bolt       1188767\n",
       "Name: companyname, dtype: int64"
      ]
     },
     "execution_count": 14,
     "metadata": {},
     "output_type": "execute_result"
    }
   ],
   "source": [
    "july.companyname.value_counts()"
   ]
  },
  {
   "cell_type": "markdown",
   "id": "64e4e936",
   "metadata": {},
   "source": [
    "#Scooters pinging went up in July, especially for Jump which climbed from 3rd place up to 1st. "
   ]
  },
  {
   "cell_type": "code",
   "execution_count": 15,
   "id": "1979f80a",
   "metadata": {},
   "outputs": [
    {
     "data": {
      "text/plain": [
       "2019-07-30 09:08:43.000    1205\n",
       "2019-07-31 09:59:13.000    1205\n",
       "2019-07-28 02:31:43.000    1205\n",
       "2019-07-31 08:09:13.000    1205\n",
       "2019-07-31 07:09:13.000    1205\n",
       "                           ... \n",
       "2019-07-10 21:05:58.537       1\n",
       "2019-07-10 21:05:58.623       1\n",
       "2019-07-10 21:05:58.630       1\n",
       "2019-07-10 21:05:58.733       1\n",
       "2019-07-16 06:07:02.173       1\n",
       "Name: pubdatetime, Length: 2944872, dtype: int64"
      ]
     },
     "execution_count": 15,
     "metadata": {},
     "output_type": "execute_result"
    }
   ],
   "source": [
    "july.pubdatetime.value_counts()"
   ]
  },
  {
   "cell_type": "markdown",
   "id": "aafd1352",
   "metadata": {},
   "source": [
    "#Zipcodes df read in"
   ]
  },
  {
   "cell_type": "code",
   "execution_count": 16,
   "id": "7879bf0b",
   "metadata": {},
   "outputs": [],
   "source": [
    "zipcodes= gpd.read_file('../data/zipcodes.geojson')"
   ]
  },
  {
   "cell_type": "code",
   "execution_count": 17,
   "id": "11b77729",
   "metadata": {},
   "outputs": [
    {
     "data": {
      "text/html": [
       "<div>\n",
       "<style scoped>\n",
       "    .dataframe tbody tr th:only-of-type {\n",
       "        vertical-align: middle;\n",
       "    }\n",
       "\n",
       "    .dataframe tbody tr th {\n",
       "        vertical-align: top;\n",
       "    }\n",
       "\n",
       "    .dataframe thead th {\n",
       "        text-align: right;\n",
       "    }\n",
       "</style>\n",
       "<table border=\"1\" class=\"dataframe\">\n",
       "  <thead>\n",
       "    <tr style=\"text-align: right;\">\n",
       "      <th></th>\n",
       "      <th>zip</th>\n",
       "      <th>objectid</th>\n",
       "      <th>po_name</th>\n",
       "      <th>shape_stlength</th>\n",
       "      <th>shape_starea</th>\n",
       "      <th>geometry</th>\n",
       "    </tr>\n",
       "  </thead>\n",
       "  <tbody>\n",
       "    <tr>\n",
       "      <th>0</th>\n",
       "      <td>37115</td>\n",
       "      <td>1</td>\n",
       "      <td>MADISON</td>\n",
       "      <td>178783.02488886821</td>\n",
       "      <td>596553400.57885742</td>\n",
       "      <td>MULTIPOLYGON (((-86.68725 36.31821, -86.68722 ...</td>\n",
       "    </tr>\n",
       "    <tr>\n",
       "      <th>1</th>\n",
       "      <td>37203</td>\n",
       "      <td>33</td>\n",
       "      <td>NASHVILLE</td>\n",
       "      <td>93532.890729543782</td>\n",
       "      <td>120334624.37817383</td>\n",
       "      <td>MULTIPOLYGON (((-86.78734 36.16688, -86.78711 ...</td>\n",
       "    </tr>\n",
       "    <tr>\n",
       "      <th>2</th>\n",
       "      <td>37204</td>\n",
       "      <td>9</td>\n",
       "      <td>NASHVILLE</td>\n",
       "      <td>93180.292250425613</td>\n",
       "      <td>200664795.51708984</td>\n",
       "      <td>MULTIPOLYGON (((-86.77914 36.13424, -86.77923 ...</td>\n",
       "    </tr>\n",
       "    <tr>\n",
       "      <th>3</th>\n",
       "      <td>37064</td>\n",
       "      <td>18</td>\n",
       "      <td>FRANKLIN</td>\n",
       "      <td>28995.828320601937</td>\n",
       "      <td>46969608.005737305</td>\n",
       "      <td>MULTIPOLYGON (((-87.02197 36.01200, -87.02140 ...</td>\n",
       "    </tr>\n",
       "    <tr>\n",
       "      <th>4</th>\n",
       "      <td>37246</td>\n",
       "      <td>57</td>\n",
       "      <td>NASHVILLE</td>\n",
       "      <td>2247.4521491892065</td>\n",
       "      <td>315078.17651367187</td>\n",
       "      <td>MULTIPOLYGON (((-86.79052 36.15846, -86.79107 ...</td>\n",
       "    </tr>\n",
       "  </tbody>\n",
       "</table>\n",
       "</div>"
      ],
      "text/plain": [
       "     zip objectid    po_name      shape_stlength        shape_starea  \\\n",
       "0  37115        1    MADISON  178783.02488886821  596553400.57885742   \n",
       "1  37203       33  NASHVILLE  93532.890729543782  120334624.37817383   \n",
       "2  37204        9  NASHVILLE  93180.292250425613  200664795.51708984   \n",
       "3  37064       18   FRANKLIN  28995.828320601937  46969608.005737305   \n",
       "4  37246       57  NASHVILLE  2247.4521491892065  315078.17651367187   \n",
       "\n",
       "                                            geometry  \n",
       "0  MULTIPOLYGON (((-86.68725 36.31821, -86.68722 ...  \n",
       "1  MULTIPOLYGON (((-86.78734 36.16688, -86.78711 ...  \n",
       "2  MULTIPOLYGON (((-86.77914 36.13424, -86.77923 ...  \n",
       "3  MULTIPOLYGON (((-87.02197 36.01200, -87.02140 ...  \n",
       "4  MULTIPOLYGON (((-86.79052 36.15846, -86.79107 ...  "
      ]
     },
     "execution_count": 17,
     "metadata": {},
     "output_type": "execute_result"
    }
   ],
   "source": [
    "zipcodes.head()"
   ]
  },
  {
   "cell_type": "code",
   "execution_count": 18,
   "id": "7f6121e4",
   "metadata": {},
   "outputs": [
    {
     "data": {
      "text/plain": [
       "<Geographic 2D CRS: EPSG:4326>\n",
       "Name: WGS 84\n",
       "Axis Info [ellipsoidal]:\n",
       "- Lat[north]: Geodetic latitude (degree)\n",
       "- Lon[east]: Geodetic longitude (degree)\n",
       "Area of Use:\n",
       "- name: World\n",
       "- bounds: (-180.0, -90.0, 180.0, 90.0)\n",
       "Datum: World Geodetic System 1984\n",
       "- Ellipsoid: WGS 84\n",
       "- Prime Meridian: Greenwich"
      ]
     },
     "execution_count": 18,
     "metadata": {},
     "output_type": "execute_result"
    }
   ],
   "source": [
    "zipcodes.crs"
   ]
  },
  {
   "cell_type": "markdown",
   "id": "7a5809e2",
   "metadata": {},
   "source": [
    "#Promise Zone df read in"
   ]
  },
  {
   "cell_type": "code",
   "execution_count": 19,
   "id": "4294d07e",
   "metadata": {},
   "outputs": [],
   "source": [
    "promise_zone = gpd.read_file('../data/MDHA_Promise_Zones/Export_Output_5.shp')"
   ]
  },
  {
   "cell_type": "code",
   "execution_count": 20,
   "id": "7185b8f0",
   "metadata": {},
   "outputs": [
    {
     "name": "stdout",
     "output_type": "stream",
     "text": [
      "<class 'geopandas.geodataframe.GeoDataFrame'>\n",
      "RangeIndex: 6 entries, 0 to 5\n",
      "Data columns (total 5 columns):\n",
      " #   Column      Non-Null Count  Dtype   \n",
      "---  ------      --------------  -----   \n",
      " 0   OBJECTID    6 non-null      int64   \n",
      " 1   ZONE_ID     6 non-null      int64   \n",
      " 2   SHAPE_STAr  6 non-null      float64 \n",
      " 3   SHAPE_STLe  6 non-null      float64 \n",
      " 4   geometry    6 non-null      geometry\n",
      "dtypes: float64(2), geometry(1), int64(2)\n",
      "memory usage: 368.0 bytes\n"
     ]
    }
   ],
   "source": [
    "promise_zone.info()"
   ]
  },
  {
   "cell_type": "code",
   "execution_count": 21,
   "id": "ad1d57fe",
   "metadata": {},
   "outputs": [
    {
     "data": {
      "text/html": [
       "<div>\n",
       "<style scoped>\n",
       "    .dataframe tbody tr th:only-of-type {\n",
       "        vertical-align: middle;\n",
       "    }\n",
       "\n",
       "    .dataframe tbody tr th {\n",
       "        vertical-align: top;\n",
       "    }\n",
       "\n",
       "    .dataframe thead th {\n",
       "        text-align: right;\n",
       "    }\n",
       "</style>\n",
       "<table border=\"1\" class=\"dataframe\">\n",
       "  <thead>\n",
       "    <tr style=\"text-align: right;\">\n",
       "      <th></th>\n",
       "      <th>OBJECTID</th>\n",
       "      <th>ZONE_ID</th>\n",
       "      <th>SHAPE_STAr</th>\n",
       "      <th>SHAPE_STLe</th>\n",
       "      <th>geometry</th>\n",
       "    </tr>\n",
       "  </thead>\n",
       "  <tbody>\n",
       "    <tr>\n",
       "      <th>0</th>\n",
       "      <td>1</td>\n",
       "      <td>1</td>\n",
       "      <td>1.053728e+08</td>\n",
       "      <td>49364.601403</td>\n",
       "      <td>POLYGON ((1743366.812 678044.543, 1743367.698 ...</td>\n",
       "    </tr>\n",
       "    <tr>\n",
       "      <th>1</th>\n",
       "      <td>2</td>\n",
       "      <td>2</td>\n",
       "      <td>7.670585e+07</td>\n",
       "      <td>45226.018917</td>\n",
       "      <td>POLYGON ((1738690.545 661791.347, 1738733.644 ...</td>\n",
       "    </tr>\n",
       "    <tr>\n",
       "      <th>2</th>\n",
       "      <td>3</td>\n",
       "      <td>3</td>\n",
       "      <td>2.985488e+08</td>\n",
       "      <td>75207.067487</td>\n",
       "      <td>POLYGON ((1759602.544 668309.889, 1759640.155 ...</td>\n",
       "    </tr>\n",
       "    <tr>\n",
       "      <th>3</th>\n",
       "      <td>4</td>\n",
       "      <td>4</td>\n",
       "      <td>2.713638e+08</td>\n",
       "      <td>74348.596054</td>\n",
       "      <td>POLYGON ((1747799.003 654974.612, 1747821.293 ...</td>\n",
       "    </tr>\n",
       "    <tr>\n",
       "      <th>4</th>\n",
       "      <td>5</td>\n",
       "      <td>5</td>\n",
       "      <td>3.928178e+08</td>\n",
       "      <td>106661.712102</td>\n",
       "      <td>POLYGON ((1737013.744 692634.639, 1737122.605 ...</td>\n",
       "    </tr>\n",
       "  </tbody>\n",
       "</table>\n",
       "</div>"
      ],
      "text/plain": [
       "   OBJECTID  ZONE_ID    SHAPE_STAr     SHAPE_STLe  \\\n",
       "0         1        1  1.053728e+08   49364.601403   \n",
       "1         2        2  7.670585e+07   45226.018917   \n",
       "2         3        3  2.985488e+08   75207.067487   \n",
       "3         4        4  2.713638e+08   74348.596054   \n",
       "4         5        5  3.928178e+08  106661.712102   \n",
       "\n",
       "                                            geometry  \n",
       "0  POLYGON ((1743366.812 678044.543, 1743367.698 ...  \n",
       "1  POLYGON ((1738690.545 661791.347, 1738733.644 ...  \n",
       "2  POLYGON ((1759602.544 668309.889, 1759640.155 ...  \n",
       "3  POLYGON ((1747799.003 654974.612, 1747821.293 ...  \n",
       "4  POLYGON ((1737013.744 692634.639, 1737122.605 ...  "
      ]
     },
     "execution_count": 21,
     "metadata": {},
     "output_type": "execute_result"
    }
   ],
   "source": [
    "promise_zone.head()"
   ]
  },
  {
   "cell_type": "code",
   "execution_count": 22,
   "id": "db473a3e",
   "metadata": {},
   "outputs": [
    {
     "data": {
      "text/plain": [
       "<AxesSubplot:>"
      ]
     },
     "execution_count": 22,
     "metadata": {},
     "output_type": "execute_result"
    },
    {
     "data": {
      "image/png": "[encoded data removed]",
      "text/plain": [
       "<Figure size 432x288 with 1 Axes>"
      ]
     },
     "metadata": {
      "needs_background": "light"
     },
     "output_type": "display_data"
    }
   ],
   "source": [
    "promise_zone.plot()"
   ]
  },
  {
   "cell_type": "code",
   "execution_count": 23,
   "id": "60ebe955",
   "metadata": {},
   "outputs": [
    {
     "data": {
      "text/html": [
       "<div>\n",
       "<style scoped>\n",
       "    .dataframe tbody tr th:only-of-type {\n",
       "        vertical-align: middle;\n",
       "    }\n",
       "\n",
       "    .dataframe tbody tr th {\n",
       "        vertical-align: top;\n",
       "    }\n",
       "\n",
       "    .dataframe thead th {\n",
       "        text-align: right;\n",
       "    }\n",
       "</style>\n",
       "<table border=\"1\" class=\"dataframe\">\n",
       "  <thead>\n",
       "    <tr style=\"text-align: right;\">\n",
       "      <th></th>\n",
       "      <th>pubdatetime</th>\n",
       "      <th>latitude</th>\n",
       "      <th>longitude</th>\n",
       "      <th>sumdid</th>\n",
       "      <th>chargelevel</th>\n",
       "      <th>companyname</th>\n",
       "      <th>geometry</th>\n",
       "    </tr>\n",
       "  </thead>\n",
       "  <tbody>\n",
       "    <tr>\n",
       "      <th>0</th>\n",
       "      <td>2019-07-01 00:00:33.550</td>\n",
       "      <td>36.156678</td>\n",
       "      <td>-86.809004</td>\n",
       "      <td>Powered635135</td>\n",
       "      <td>22.0</td>\n",
       "      <td>Lyft</td>\n",
       "      <td>POINT (-86.809004 36.156678)</td>\n",
       "    </tr>\n",
       "    <tr>\n",
       "      <th>1</th>\n",
       "      <td>2019-07-01 00:00:34.973</td>\n",
       "      <td>36.145674</td>\n",
       "      <td>-86.794138</td>\n",
       "      <td>Powered790946</td>\n",
       "      <td>33.0</td>\n",
       "      <td>Lyft</td>\n",
       "      <td>POINT (-86.794138 36.145674)</td>\n",
       "    </tr>\n",
       "    <tr>\n",
       "      <th>2</th>\n",
       "      <td>2019-07-01 00:00:41.183</td>\n",
       "      <td>36.179319</td>\n",
       "      <td>-86.751538</td>\n",
       "      <td>Powered570380</td>\n",
       "      <td>76.0</td>\n",
       "      <td>Lyft</td>\n",
       "      <td>POINT (-86.751538 36.179319)</td>\n",
       "    </tr>\n",
       "  </tbody>\n",
       "</table>\n",
       "</div>"
      ],
      "text/plain": [
       "              pubdatetime   latitude  longitude         sumdid  chargelevel  \\\n",
       "0 2019-07-01 00:00:33.550  36.156678 -86.809004  Powered635135         22.0   \n",
       "1 2019-07-01 00:00:34.973  36.145674 -86.794138  Powered790946         33.0   \n",
       "2 2019-07-01 00:00:41.183  36.179319 -86.751538  Powered570380         76.0   \n",
       "\n",
       "  companyname                      geometry  \n",
       "0        Lyft  POINT (-86.809004 36.156678)  \n",
       "1        Lyft  POINT (-86.794138 36.145674)  \n",
       "2        Lyft  POINT (-86.751538 36.179319)  "
      ]
     },
     "execution_count": 23,
     "metadata": {},
     "output_type": "execute_result"
    }
   ],
   "source": [
    "july['geometry'] = july.apply(lambda x: Point((x.longitude, \n",
    "                                                         x.latitude)), \n",
    "                                        axis=1)\n",
    "july.head(3)"
   ]
  },
  {
   "cell_type": "markdown",
   "id": "2a6e39b2",
   "metadata": {},
   "source": [
    "#Make a July geo df"
   ]
  },
  {
   "cell_type": "code",
   "execution_count": 24,
   "id": "bc6b6214",
   "metadata": {},
   "outputs": [],
   "source": [
    "july_geo = gpd.GeoDataFrame(july, \n",
    "                           crs = zipcodes.crs, \n",
    "                           geometry = july['geometry'])"
   ]
  },
  {
   "cell_type": "code",
   "execution_count": 25,
   "id": "51b1027a",
   "metadata": {},
   "outputs": [
    {
     "data": {
      "text/plain": [
       "geopandas.geodataframe.GeoDataFrame"
      ]
     },
     "execution_count": 25,
     "metadata": {},
     "output_type": "execute_result"
    }
   ],
   "source": [
    "type(july_geo)"
   ]
  },
  {
   "cell_type": "code",
   "execution_count": 26,
   "id": "362675c5",
   "metadata": {},
   "outputs": [
    {
     "data": {
      "text/html": [
       "<div>\n",
       "<style scoped>\n",
       "    .dataframe tbody tr th:only-of-type {\n",
       "        vertical-align: middle;\n",
       "    }\n",
       "\n",
       "    .dataframe tbody tr th {\n",
       "        vertical-align: top;\n",
       "    }\n",
       "\n",
       "    .dataframe thead th {\n",
       "        text-align: right;\n",
       "    }\n",
       "</style>\n",
       "<table border=\"1\" class=\"dataframe\">\n",
       "  <thead>\n",
       "    <tr style=\"text-align: right;\">\n",
       "      <th></th>\n",
       "      <th>zip</th>\n",
       "      <th>objectid</th>\n",
       "      <th>po_name</th>\n",
       "      <th>shape_stlength</th>\n",
       "      <th>shape_starea</th>\n",
       "      <th>geometry</th>\n",
       "    </tr>\n",
       "  </thead>\n",
       "  <tbody>\n",
       "    <tr>\n",
       "      <th>0</th>\n",
       "      <td>37115</td>\n",
       "      <td>1</td>\n",
       "      <td>MADISON</td>\n",
       "      <td>178783.02488886821</td>\n",
       "      <td>596553400.57885742</td>\n",
       "      <td>MULTIPOLYGON (((-86.68725 36.31821, -86.68722 ...</td>\n",
       "    </tr>\n",
       "  </tbody>\n",
       "</table>\n",
       "</div>"
      ],
      "text/plain": [
       "     zip objectid  po_name      shape_stlength        shape_starea  \\\n",
       "0  37115        1  MADISON  178783.02488886821  596553400.57885742   \n",
       "\n",
       "                                            geometry  \n",
       "0  MULTIPOLYGON (((-86.68725 36.31821, -86.68722 ...  "
      ]
     },
     "execution_count": 26,
     "metadata": {},
     "output_type": "execute_result"
    }
   ],
   "source": [
    "zipcodes.head(1)"
   ]
  },
  {
   "cell_type": "code",
   "execution_count": 27,
   "id": "36c4c397",
   "metadata": {},
   "outputs": [
    {
     "data": {
      "text/html": [
       "<div>\n",
       "<style scoped>\n",
       "    .dataframe tbody tr th:only-of-type {\n",
       "        vertical-align: middle;\n",
       "    }\n",
       "\n",
       "    .dataframe tbody tr th {\n",
       "        vertical-align: top;\n",
       "    }\n",
       "\n",
       "    .dataframe thead th {\n",
       "        text-align: right;\n",
       "    }\n",
       "</style>\n",
       "<table border=\"1\" class=\"dataframe\">\n",
       "  <thead>\n",
       "    <tr style=\"text-align: right;\">\n",
       "      <th></th>\n",
       "      <th>zip</th>\n",
       "      <th>po_name</th>\n",
       "      <th>geometry</th>\n",
       "    </tr>\n",
       "  </thead>\n",
       "  <tbody>\n",
       "    <tr>\n",
       "      <th>0</th>\n",
       "      <td>37115</td>\n",
       "      <td>MADISON</td>\n",
       "      <td>MULTIPOLYGON (((-86.68725 36.31821, -86.68722 ...</td>\n",
       "    </tr>\n",
       "  </tbody>\n",
       "</table>\n",
       "</div>"
      ],
      "text/plain": [
       "     zip  po_name                                           geometry\n",
       "0  37115  MADISON  MULTIPOLYGON (((-86.68725 36.31821, -86.68722 ..."
      ]
     },
     "execution_count": 27,
     "metadata": {},
     "output_type": "execute_result"
    }
   ],
   "source": [
    "zipcodes = zipcodes[['zip', 'po_name', 'geometry']]\n",
    "zipcodes.head(1)"
   ]
  },
  {
   "cell_type": "code",
   "execution_count": 28,
   "id": "a065e0f9",
   "metadata": {},
   "outputs": [],
   "source": [
    "scooter_zip = gpd.sjoin(july_geo, zipcodes, op = 'within')"
   ]
  },
  {
   "cell_type": "code",
   "execution_count": 29,
   "id": "7071c988",
   "metadata": {
    "scrolled": true
   },
   "outputs": [
    {
     "data": {
      "text/html": [
       "<div>\n",
       "<style scoped>\n",
       "    .dataframe tbody tr th:only-of-type {\n",
       "        vertical-align: middle;\n",
       "    }\n",
       "\n",
       "    .dataframe tbody tr th {\n",
       "        vertical-align: top;\n",
       "    }\n",
       "\n",
       "    .dataframe thead th {\n",
       "        text-align: right;\n",
       "    }\n",
       "</style>\n",
       "<table border=\"1\" class=\"dataframe\">\n",
       "  <thead>\n",
       "    <tr style=\"text-align: right;\">\n",
       "      <th></th>\n",
       "      <th>pubdatetime</th>\n",
       "      <th>latitude</th>\n",
       "      <th>longitude</th>\n",
       "      <th>sumdid</th>\n",
       "      <th>chargelevel</th>\n",
       "      <th>companyname</th>\n",
       "      <th>geometry</th>\n",
       "      <th>index_right</th>\n",
       "      <th>zip</th>\n",
       "      <th>po_name</th>\n",
       "    </tr>\n",
       "  </thead>\n",
       "  <tbody>\n",
       "    <tr>\n",
       "      <th>0</th>\n",
       "      <td>2019-07-01 00:00:33.550</td>\n",
       "      <td>36.156678</td>\n",
       "      <td>-86.809004</td>\n",
       "      <td>Powered635135</td>\n",
       "      <td>22.0</td>\n",
       "      <td>Lyft</td>\n",
       "      <td>POINT (-86.80900 36.15668)</td>\n",
       "      <td>1</td>\n",
       "      <td>37203</td>\n",
       "      <td>NASHVILLE</td>\n",
       "    </tr>\n",
       "    <tr>\n",
       "      <th>3</th>\n",
       "      <td>2019-07-01 00:00:41.620</td>\n",
       "      <td>36.152111</td>\n",
       "      <td>-86.803821</td>\n",
       "      <td>Powered240631</td>\n",
       "      <td>43.0</td>\n",
       "      <td>Lyft</td>\n",
       "      <td>POINT (-86.80382 36.15211)</td>\n",
       "      <td>1</td>\n",
       "      <td>37203</td>\n",
       "      <td>NASHVILLE</td>\n",
       "    </tr>\n",
       "    <tr>\n",
       "      <th>4</th>\n",
       "      <td>2019-07-01 00:00:45.087</td>\n",
       "      <td>36.149355</td>\n",
       "      <td>-86.797550</td>\n",
       "      <td>Powered970404</td>\n",
       "      <td>52.0</td>\n",
       "      <td>Lyft</td>\n",
       "      <td>POINT (-86.79755 36.14935)</td>\n",
       "      <td>1</td>\n",
       "      <td>37203</td>\n",
       "      <td>NASHVILLE</td>\n",
       "    </tr>\n",
       "    <tr>\n",
       "      <th>12</th>\n",
       "      <td>2019-07-01 00:00:57.200</td>\n",
       "      <td>36.156158</td>\n",
       "      <td>-86.776344</td>\n",
       "      <td>Powered608532</td>\n",
       "      <td>48.0</td>\n",
       "      <td>Lyft</td>\n",
       "      <td>POINT (-86.77634 36.15616)</td>\n",
       "      <td>1</td>\n",
       "      <td>37203</td>\n",
       "      <td>NASHVILLE</td>\n",
       "    </tr>\n",
       "    <tr>\n",
       "      <th>15</th>\n",
       "      <td>2019-07-01 00:00:57.567</td>\n",
       "      <td>36.149963</td>\n",
       "      <td>-86.806727</td>\n",
       "      <td>Powered402686</td>\n",
       "      <td>64.0</td>\n",
       "      <td>Lyft</td>\n",
       "      <td>POINT (-86.80673 36.14996)</td>\n",
       "      <td>1</td>\n",
       "      <td>37203</td>\n",
       "      <td>NASHVILLE</td>\n",
       "    </tr>\n",
       "  </tbody>\n",
       "</table>\n",
       "</div>"
      ],
      "text/plain": [
       "               pubdatetime   latitude  longitude         sumdid  chargelevel  \\\n",
       "0  2019-07-01 00:00:33.550  36.156678 -86.809004  Powered635135         22.0   \n",
       "3  2019-07-01 00:00:41.620  36.152111 -86.803821  Powered240631         43.0   \n",
       "4  2019-07-01 00:00:45.087  36.149355 -86.797550  Powered970404         52.0   \n",
       "12 2019-07-01 00:00:57.200  36.156158 -86.776344  Powered608532         48.0   \n",
       "15 2019-07-01 00:00:57.567  36.149963 -86.806727  Powered402686         64.0   \n",
       "\n",
       "   companyname                    geometry  index_right    zip    po_name  \n",
       "0         Lyft  POINT (-86.80900 36.15668)            1  37203  NASHVILLE  \n",
       "3         Lyft  POINT (-86.80382 36.15211)            1  37203  NASHVILLE  \n",
       "4         Lyft  POINT (-86.79755 36.14935)            1  37203  NASHVILLE  \n",
       "12        Lyft  POINT (-86.77634 36.15616)            1  37203  NASHVILLE  \n",
       "15        Lyft  POINT (-86.80673 36.14996)            1  37203  NASHVILLE  "
      ]
     },
     "execution_count": 29,
     "metadata": {},
     "output_type": "execute_result"
    }
   ],
   "source": [
    "scooter_zip.head()"
   ]
  },
  {
   "cell_type": "code",
   "execution_count": 30,
   "id": "2d260548",
   "metadata": {},
   "outputs": [
    {
     "data": {
      "text/html": [
       "<div>\n",
       "<style scoped>\n",
       "    .dataframe tbody tr th:only-of-type {\n",
       "        vertical-align: middle;\n",
       "    }\n",
       "\n",
       "    .dataframe tbody tr th {\n",
       "        vertical-align: top;\n",
       "    }\n",
       "\n",
       "    .dataframe thead th {\n",
       "        text-align: right;\n",
       "    }\n",
       "</style>\n",
       "<table border=\"1\" class=\"dataframe\">\n",
       "  <thead>\n",
       "    <tr style=\"text-align: right;\">\n",
       "      <th></th>\n",
       "      <th>pubdatetime</th>\n",
       "      <th>sumdid</th>\n",
       "      <th>chargelevel</th>\n",
       "      <th>companyname</th>\n",
       "      <th>geometry</th>\n",
       "      <th>zip</th>\n",
       "      <th>po_name</th>\n",
       "    </tr>\n",
       "  </thead>\n",
       "  <tbody>\n",
       "    <tr>\n",
       "      <th>0</th>\n",
       "      <td>2019-07-01 00:00:33.550</td>\n",
       "      <td>Powered635135</td>\n",
       "      <td>22.0</td>\n",
       "      <td>Lyft</td>\n",
       "      <td>POINT (-86.80900 36.15668)</td>\n",
       "      <td>37203</td>\n",
       "      <td>NASHVILLE</td>\n",
       "    </tr>\n",
       "    <tr>\n",
       "      <th>3</th>\n",
       "      <td>2019-07-01 00:00:41.620</td>\n",
       "      <td>Powered240631</td>\n",
       "      <td>43.0</td>\n",
       "      <td>Lyft</td>\n",
       "      <td>POINT (-86.80382 36.15211)</td>\n",
       "      <td>37203</td>\n",
       "      <td>NASHVILLE</td>\n",
       "    </tr>\n",
       "    <tr>\n",
       "      <th>4</th>\n",
       "      <td>2019-07-01 00:00:45.087</td>\n",
       "      <td>Powered970404</td>\n",
       "      <td>52.0</td>\n",
       "      <td>Lyft</td>\n",
       "      <td>POINT (-86.79755 36.14935)</td>\n",
       "      <td>37203</td>\n",
       "      <td>NASHVILLE</td>\n",
       "    </tr>\n",
       "    <tr>\n",
       "      <th>12</th>\n",
       "      <td>2019-07-01 00:00:57.200</td>\n",
       "      <td>Powered608532</td>\n",
       "      <td>48.0</td>\n",
       "      <td>Lyft</td>\n",
       "      <td>POINT (-86.77634 36.15616)</td>\n",
       "      <td>37203</td>\n",
       "      <td>NASHVILLE</td>\n",
       "    </tr>\n",
       "    <tr>\n",
       "      <th>15</th>\n",
       "      <td>2019-07-01 00:00:57.567</td>\n",
       "      <td>Powered402686</td>\n",
       "      <td>64.0</td>\n",
       "      <td>Lyft</td>\n",
       "      <td>POINT (-86.80673 36.14996)</td>\n",
       "      <td>37203</td>\n",
       "      <td>NASHVILLE</td>\n",
       "    </tr>\n",
       "  </tbody>\n",
       "</table>\n",
       "</div>"
      ],
      "text/plain": [
       "               pubdatetime         sumdid  chargelevel companyname  \\\n",
       "0  2019-07-01 00:00:33.550  Powered635135         22.0        Lyft   \n",
       "3  2019-07-01 00:00:41.620  Powered240631         43.0        Lyft   \n",
       "4  2019-07-01 00:00:45.087  Powered970404         52.0        Lyft   \n",
       "12 2019-07-01 00:00:57.200  Powered608532         48.0        Lyft   \n",
       "15 2019-07-01 00:00:57.567  Powered402686         64.0        Lyft   \n",
       "\n",
       "                      geometry    zip    po_name  \n",
       "0   POINT (-86.80900 36.15668)  37203  NASHVILLE  \n",
       "3   POINT (-86.80382 36.15211)  37203  NASHVILLE  \n",
       "4   POINT (-86.79755 36.14935)  37203  NASHVILLE  \n",
       "12  POINT (-86.77634 36.15616)  37203  NASHVILLE  \n",
       "15  POINT (-86.80673 36.14996)  37203  NASHVILLE  "
      ]
     },
     "execution_count": 30,
     "metadata": {},
     "output_type": "execute_result"
    }
   ],
   "source": [
    "scooter_zip = scooter_zip[['pubdatetime', 'sumdid', 'chargelevel', 'companyname', 'geometry', 'zip', 'po_name']]\n",
    "scooter_zip.head()"
   ]
  },
  {
   "cell_type": "markdown",
   "id": "bf2a130b",
   "metadata": {},
   "source": [
    "#place holder to make map with\n",
    "stops_in_37207 = stops_by_zip.loc[stops_by_zip['zip'] == '37207']\n",
    "stops_in_37207.shape"
   ]
  },
  {
   "cell_type": "code",
   "execution_count": null,
   "id": "07b22b23",
   "metadata": {},
   "outputs": [],
   "source": []
  }
 ],
 "metadata": {
  "kernelspec": {
   "display_name": "Python 3 (ipykernel)",
   "language": "python",
   "name": "python3"
  },
  "language_info": {
   "codemirror_mode": {
    "name": "ipython",
    "version": 3
   },
   "file_extension": ".py",
   "mimetype": "text/x-python",
   "name": "python",
   "nbconvert_exporter": "python",
   "pygments_lexer": "ipython3",
   "version": "3.8.5"
  }
 },
 "nbformat": 4,
 "nbformat_minor": 5
}
