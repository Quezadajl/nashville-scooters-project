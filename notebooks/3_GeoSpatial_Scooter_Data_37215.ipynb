{
 "cells": [
  {
   "cell_type": "code",
   "execution_count": null,
   "id": "fc420684",
   "metadata": {},
   "outputs": [],
   "source": [
    "from shapely.geometry import Point # Use in geospatial environment\n",
    "import pandas as pd\n",
    "import geopandas as gpd # Use in geospatial environment\n",
    "import matplotlib.pyplot as plt\n",
    "import folium #Use in geospatial environment\n",
    "from folium.plugins import MarkerCluster\n",
    "from folium.plugins import FastMarkerCluster"
   ]
  },
  {
   "cell_type": "code",
   "execution_count": null,
   "id": "9f5d325a",
   "metadata": {},
   "outputs": [],
   "source": [
    "zipcodes = gpd.read_file('../data/zipcodes.geojson')\n",
    "print(zipcodes.crs)\n",
    "zipcodes.head( )"
   ]
  },
  {
   "cell_type": "code",
   "execution_count": null,
   "id": "a2fd74b2",
   "metadata": {},
   "outputs": [],
   "source": [
    "type(zipcodes)"
   ]
  },
  {
   "cell_type": "code",
   "execution_count": null,
   "id": "9c639697",
   "metadata": {},
   "outputs": [],
   "source": [
    "zipcodes.info()"
   ]
  },
  {
   "cell_type": "code",
   "execution_count": null,
   "id": "b963ac6c",
   "metadata": {},
   "outputs": [],
   "source": [
    "zipcodes.loc[0,'geometry']"
   ]
  },
  {
   "cell_type": "code",
   "execution_count": null,
   "id": "85bf79a8",
   "metadata": {},
   "outputs": [],
   "source": [
    "zipcodes.plot();"
   ]
  },
  {
   "cell_type": "code",
   "execution_count": null,
   "id": "09320d70",
   "metadata": {},
   "outputs": [],
   "source": [
    "#geopandas handles legend styling if you pass a dict of keywords\n",
    "\n",
    "leg_kwds = {'title': 'Zipcodes', 'loc': 'upper left', \n",
    "            'bbox_to_anchor': (1, 1.03), 'ncol': 3}\n",
    "\n",
    "zipcodes.plot(column = 'zip', figsize=(10, 10),\n",
    "              edgecolor = 'black',\n",
    "              legend = True, legend_kwds = leg_kwds, \n",
    "              cmap = 'Set3')\n",
    "plt.show()"
   ]
  },
  {
   "cell_type": "code",
   "execution_count": null,
   "id": "8c311845",
   "metadata": {},
   "outputs": [],
   "source": [
    "may_trips_pkl = pd.read_pickle('../data/may_trips.pkl')\n",
    "print(may_trips_pkl.shape)\n",
    "may_trips_pkl.head()"
   ]
  },
  {
   "cell_type": "code",
   "execution_count": null,
   "id": "c12bf794",
   "metadata": {},
   "outputs": [],
   "source": [
    "may_trips_pkl.info()"
   ]
  },
  {
   "cell_type": "code",
   "execution_count": null,
   "id": "bcb3ab30",
   "metadata": {},
   "outputs": [],
   "source": [
    "may_trips_pkl.loc[0].startLatitude"
   ]
  },
  {
   "cell_type": "code",
   "execution_count": null,
   "id": "f8d04477",
   "metadata": {},
   "outputs": [],
   "source": [
    "may_trips_pkl['geometry'] = may_trips_pkl.apply(lambda x: Point((x.startLongitude, x.startLatitude)), \n",
    "                                        axis=1)\n",
    "may_trips_pkl.head(3)"
   ]
  },
  {
   "cell_type": "code",
   "execution_count": null,
   "id": "6431ba31",
   "metadata": {},
   "outputs": [],
   "source": [
    "zipcodes.crs"
   ]
  },
  {
   "cell_type": "code",
   "execution_count": null,
   "id": "8032b8e1",
   "metadata": {},
   "outputs": [],
   "source": [
    "may_scooter_geo = gpd.GeoDataFrame(may_trips_pkl, \n",
    "                           crs = zipcodes.crs, \n",
    "                           geometry = may_trips_pkl['geometry'])"
   ]
  },
  {
   "cell_type": "code",
   "execution_count": null,
   "id": "dbbdde38",
   "metadata": {},
   "outputs": [],
   "source": [
    "type(may_trips_pkl)"
   ]
  },
  {
   "cell_type": "code",
   "execution_count": null,
   "id": "a01ad05a",
   "metadata": {},
   "outputs": [],
   "source": [
    "type(may_scooter_geo)"
   ]
  },
  {
   "cell_type": "code",
   "execution_count": null,
   "id": "efdf0f85",
   "metadata": {},
   "outputs": [],
   "source": [
    "may_scooter_geo.info()"
   ]
  },
  {
   "cell_type": "code",
   "execution_count": null,
   "id": "607e8f03",
   "metadata": {},
   "outputs": [],
   "source": [
    "zipcodes = zipcodes[['zip', 'po_name', 'geometry']]"
   ]
  },
  {
   "cell_type": "code",
   "execution_count": null,
   "id": "4b52335a",
   "metadata": {},
   "outputs": [],
   "source": [
    "stops_by_zip = gpd.sjoin(may_scooter_geo, zipcodes, op = 'within')"
   ]
  },
  {
   "cell_type": "code",
   "execution_count": null,
   "id": "ad460180",
   "metadata": {},
   "outputs": [],
   "source": [
    "stops_by_zip.head()"
   ]
  },
  {
   "cell_type": "code",
   "execution_count": null,
   "id": "dc8bce43",
   "metadata": {},
   "outputs": [],
   "source": [
    "stops_by_zip['zip'].value_counts()"
   ]
  },
  {
   "cell_type": "code",
   "execution_count": null,
   "id": "15250b20",
   "metadata": {},
   "outputs": [],
   "source": [
    "stops_in_37215 = stops_by_zip.loc[stops_by_zip['zip'] == '37215']\n",
    "stops_in_37215.shape"
   ]
  },
  {
   "cell_type": "code",
   "execution_count": null,
   "id": "74312f05",
   "metadata": {},
   "outputs": [],
   "source": [
    "polygon37215 = zipcodes.loc[zipcodes['zip'] == '37215']\n",
    "polygon37215.shape"
   ]
  },
  {
   "cell_type": "code",
   "execution_count": null,
   "id": "3d015ca7",
   "metadata": {},
   "outputs": [],
   "source": [
    "#fig, ax = matplotlib.subplots()\n",
    "ax = polygon37215.plot(figsize = (8, 10), color = 'lightgreen')\n",
    "stops_in_37215.plot( ax = ax, column = 'tripRoute');\n",
    "plt.show();"
   ]
  },
  {
   "cell_type": "code",
   "execution_count": null,
   "id": "6eb232a5",
   "metadata": {},
   "outputs": [],
   "source": [
    "polygon37215.geometry.centroid"
   ]
  },
  {
   "cell_type": "code",
   "execution_count": null,
   "id": "2bceb485",
   "metadata": {},
   "outputs": [],
   "source": [
    "#find the center of the larger (more southern) polygon and look at it\n",
    "center = polygon37215.geometry.centroid[38]\n",
    "print(center)"
   ]
  },
  {
   "cell_type": "code",
   "execution_count": null,
   "id": "e54ca7c3",
   "metadata": {},
   "outputs": [],
   "source": [
    "# reverse the order when constructing the array for folium location\n",
    "area_center = [center.y, center.x]\n",
    "\n",
    "# check the order of area_center, the location for our folium map\n",
    "print(area_center)"
   ]
  },
  {
   "cell_type": "code",
   "execution_count": null,
   "id": "86938bc1",
   "metadata": {},
   "outputs": [],
   "source": [
    "#create our map of Nashville Zip Code 37207 and show it\n",
    "map_37215 = folium.Map(location =  area_center, zoom_start = 12)\n",
    "map_37215"
   ]
  },
  {
   "cell_type": "code",
   "execution_count": null,
   "id": "e9b48e39",
   "metadata": {},
   "outputs": [],
   "source": [
    "i = 0\n",
    "for row_index, row_values in stops_in_37215.iterrows():\n",
    "    if i <3: \n",
    "        print('index is', row_index)\n",
    "        print('values are:')\n",
    "        print(' ')\n",
    "        print(row_values)\n",
    "        print('------------------------- ')\n",
    "        i+=1"
   ]
  },
  {
   "cell_type": "code",
   "execution_count": null,
   "id": "2faf5306",
   "metadata": {},
   "outputs": [],
   "source": [
    "#draw our zip code area: 37215\n",
    "map_37215 = folium.Map(location =  area_center, zoom_start = 12)\n",
    "\n",
    "folium.GeoJson(polygon37215).add_to(map_37215)\n",
    "\n",
    "#iterate through stops_in_37215 to create locations and markers \n",
    "#for each bus stop\n",
    "#remember for Folium locations, lat is listed first!!\n",
    "\n",
    "for row_index, row_values in stops_in_37215.iterrows():\n",
    "    loc = [row_values['startLatitude'], row_values['startLongitude']]\n",
    "    pop = str(row_values['tripRoute'])\n",
    "    icon=folium.Icon(color=\"blue\",icon=\"bicycle\", prefix='fa')\n",
    "    \n",
    "    marker = folium.Marker(\n",
    "        location = loc, \n",
    "        popup = pop, icon = icon) \n",
    "\n",
    "    marker.add_to(map_37215)\n",
    "#map_37215.save('../maps/map37215.html')\n",
    "\n",
    "#display our map\n",
    "map_37215"
   ]
  },
  {
   "cell_type": "code",
   "execution_count": null,
   "id": "98a5412f",
   "metadata": {},
   "outputs": [],
   "source": [
    "folium.Map?"
   ]
  },
  {
   "cell_type": "code",
   "execution_count": null,
   "id": "6cbacd37",
   "metadata": {},
   "outputs": [],
   "source": [
    "cluster_map_37215 = folium.Map(location =  area_center, zoom_start = 12)\n",
    "\n",
    "#create a marker cluster\n",
    "marker_cluster = MarkerCluster().add_to(cluster_map_37215)\n",
    "\n",
    "folium.GeoJson(polygon37215).add_to(cluster_map_37215)\n",
    "\n",
    "# inside the loop add each marker to the cluster\n",
    "for row_index, row_values in stops_in_37215.iterrows():\n",
    "    loc = [row_values['startLatitude'], row_values['startLongitude']]\n",
    "    pop = str(row_values['tripRoute'])\n",
    "    icon=folium.Icon(color=\"blue\",icon=\"bicyle\", prefix='fa')\n",
    "    \n",
    "    marker = folium.Marker(\n",
    "        location = loc, \n",
    "        popup = pop,\n",
    "    icon = icon) \n",
    "    \n",
    "    marker.add_to(marker_cluster)\n",
    "\n",
    "    \n",
    "#save an interactive HTML map by calling .save()\n",
    "#cluster_map_37215.save('../maps/cluster37215.html')\n",
    "\n",
    "cluster_map_37215  "
   ]
  },
  {
   "cell_type": "code",
   "execution_count": null,
   "id": "4e4d01ff",
   "metadata": {},
   "outputs": [],
   "source": [
    "#draw our zip code area: 37215\n",
    "map_37215 = folium.Map(location =  area_center, zoom_start = 12)\n",
    "\n",
    "folium.GeoJson(polygon37215).add_to(map_37215)\n",
    "\n",
    "#create a list of locations and pass them to FastMarkerCluster()\n",
    "locations = stops_in_37215[['startLatitude', 'startLongitude']].values.tolist()\n",
    "map_37215.add_child(\n",
    "    FastMarkerCluster(locations)\n",
    ")\n",
    "\n",
    "\n",
    "\n",
    "#display our map\n",
    "map_37215"
   ]
  },
  {
   "cell_type": "code",
   "execution_count": null,
   "id": "d16e1573",
   "metadata": {},
   "outputs": [],
   "source": []
  },
  {
   "cell_type": "code",
   "execution_count": null,
   "id": "88ba982e",
   "metadata": {},
   "outputs": [],
   "source": []
  },
  {
   "cell_type": "code",
   "execution_count": null,
   "id": "3bbb7342",
   "metadata": {},
   "outputs": [],
   "source": []
  }
 ],
 "metadata": {
  "kernelspec": {
   "display_name": "Python 3 (ipykernel)",
   "language": "python",
   "name": "python3"
  },
  "language_info": {
   "codemirror_mode": {
    "name": "ipython",
    "version": 3
   },
   "file_extension": ".py",
   "mimetype": "text/x-python",
   "name": "python",
   "nbconvert_exporter": "python",
   "pygments_lexer": "ipython3",
   "version": "3.8.5"
  }
 },
 "nbformat": 4,
 "nbformat_minor": 5
}
