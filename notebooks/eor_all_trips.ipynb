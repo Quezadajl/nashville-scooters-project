{
 "cells": [
  {
   "cell_type": "code",
   "execution_count": 1,
   "id": "c2be4438",
   "metadata": {},
   "outputs": [],
   "source": [
    "import pandas as pd\n",
    "import pickle\n",
    "import matplotlib.pyplot as plt\n",
    "import seaborn as sns\n",
    "import geopandas as gpd\n",
    "from shapely.geometry import Point\n",
    "import numpy as np\n",
    "import folium\n",
    "\n",
    "%matplotlib inline"
   ]
  },
  {
   "cell_type": "code",
   "execution_count": 2,
   "id": "13515928",
   "metadata": {},
   "outputs": [],
   "source": [
    "may_trips = pd.read_csv('../data/may_trip.csv')\n",
    "june_trips = pd.read_csv('../data/june_trip.csv')\n",
    "july_trips = pd.read_csv('../data/july_trip.csv')\n",
    "july_pickle = pd.read_pickle(\"../data/july.pkl\")"
   ]
  },
  {
   "cell_type": "code",
   "execution_count": 3,
   "id": "eccf672f",
   "metadata": {},
   "outputs": [
    {
     "data": {
      "text/plain": [
       "(224969, 16)"
      ]
     },
     "execution_count": 3,
     "metadata": {},
     "output_type": "execute_result"
    }
   ],
   "source": [
    "may_trips.shape"
   ]
  },
  {
   "cell_type": "code",
   "execution_count": 4,
   "id": "dde84d0e",
   "metadata": {},
   "outputs": [
    {
     "data": {
      "text/plain": [
       "(205627, 16)"
      ]
     },
     "execution_count": 4,
     "metadata": {},
     "output_type": "execute_result"
    }
   ],
   "source": [
    "june_trips.shape"
   ]
  },
  {
   "cell_type": "code",
   "execution_count": 5,
   "id": "74b1a1f7",
   "metadata": {},
   "outputs": [
    {
     "data": {
      "text/plain": [
       "(134926, 16)"
      ]
     },
     "execution_count": 5,
     "metadata": {},
     "output_type": "execute_result"
    }
   ],
   "source": [
    "july_trips.shape"
   ]
  },
  {
   "cell_type": "code",
   "execution_count": 6,
   "id": "6be3c1c2",
   "metadata": {},
   "outputs": [
    {
     "data": {
      "text/plain": [
       "565522"
      ]
     },
     "execution_count": 6,
     "metadata": {},
     "output_type": "execute_result"
    }
   ],
   "source": [
    "224969+205627+134926"
   ]
  },
  {
   "cell_type": "code",
   "execution_count": 7,
   "id": "33c18461",
   "metadata": {},
   "outputs": [],
   "source": [
    "all_trips = pd.concat([may_trips, june_trips, july_trips])"
   ]
  },
  {
   "cell_type": "code",
   "execution_count": 8,
   "id": "ce1267e7",
   "metadata": {},
   "outputs": [
    {
     "data": {
      "text/html": [
       "<div>\n",
       "<style scoped>\n",
       "    .dataframe tbody tr th:only-of-type {\n",
       "        vertical-align: middle;\n",
       "    }\n",
       "\n",
       "    .dataframe tbody tr th {\n",
       "        vertical-align: top;\n",
       "    }\n",
       "\n",
       "    .dataframe thead th {\n",
       "        text-align: right;\n",
       "    }\n",
       "</style>\n",
       "<table border=\"1\" class=\"dataframe\">\n",
       "  <thead>\n",
       "    <tr style=\"text-align: right;\">\n",
       "      <th></th>\n",
       "      <th>time_stamp</th>\n",
       "      <th>company_name</th>\n",
       "      <th>trip_number</th>\n",
       "      <th>scooter_id</th>\n",
       "      <th>trip_duration</th>\n",
       "      <th>trip_distance</th>\n",
       "      <th>start_date</th>\n",
       "      <th>start_time</th>\n",
       "      <th>end_date</th>\n",
       "      <th>end_time</th>\n",
       "      <th>start_lat</th>\n",
       "      <th>start_lon</th>\n",
       "      <th>end_lat</th>\n",
       "      <th>end_lon</th>\n",
       "      <th>trip_route</th>\n",
       "      <th>created_date</th>\n",
       "    </tr>\n",
       "  </thead>\n",
       "  <tbody>\n",
       "    <tr>\n",
       "      <th>0</th>\n",
       "      <td>2019-07-01 00:02:52.213000</td>\n",
       "      <td>Bird</td>\n",
       "      <td>BRD5179</td>\n",
       "      <td>PoweredZSHKJ</td>\n",
       "      <td>2.0</td>\n",
       "      <td>0.0</td>\n",
       "      <td>2019-07-01 00:00:00</td>\n",
       "      <td>00:01:32.290000</td>\n",
       "      <td>2019-07-01 00:00:00</td>\n",
       "      <td>00:03:55.966666</td>\n",
       "      <td>36.1775</td>\n",
       "      <td>-86.7516</td>\n",
       "      <td>36.1778</td>\n",
       "      <td>-86.7514</td>\n",
       "      <td>[[36.177438,-86.751861],[36.177425,-86.751987]...</td>\n",
       "      <td>2019-07-02 05:30:18.333000</td>\n",
       "    </tr>\n",
       "    <tr>\n",
       "      <th>1</th>\n",
       "      <td>2019-07-01 00:02:52.213000</td>\n",
       "      <td>Bird</td>\n",
       "      <td>BRD5177</td>\n",
       "      <td>Powered22JF6</td>\n",
       "      <td>0.0</td>\n",
       "      <td>0.0</td>\n",
       "      <td>2019-07-01 00:00:00</td>\n",
       "      <td>00:02:38.640000</td>\n",
       "      <td>2019-07-01 00:00:00</td>\n",
       "      <td>00:02:54.406666</td>\n",
       "      <td>36.1627</td>\n",
       "      <td>-86.7711</td>\n",
       "      <td>36.1627</td>\n",
       "      <td>-86.7711</td>\n",
       "      <td>[[36.162718,-86.771102],[36.162718,-86.771102]]</td>\n",
       "      <td>2019-07-02 05:30:18.273000</td>\n",
       "    </tr>\n",
       "    <tr>\n",
       "      <th>2</th>\n",
       "      <td>2019-07-01 00:02:52.213000</td>\n",
       "      <td>Bird</td>\n",
       "      <td>BRD5176</td>\n",
       "      <td>Powered22JF6</td>\n",
       "      <td>1.0</td>\n",
       "      <td>0.0</td>\n",
       "      <td>2019-07-01 00:00:00</td>\n",
       "      <td>00:03:04.333333</td>\n",
       "      <td>2019-07-01 00:00:00</td>\n",
       "      <td>00:03:37.680000</td>\n",
       "      <td>36.1627</td>\n",
       "      <td>-86.7713</td>\n",
       "      <td>36.1627</td>\n",
       "      <td>-86.7713</td>\n",
       "      <td>[[36.162734,-86.77122],[36.162706,-86.771325],...</td>\n",
       "      <td>2019-07-02 05:30:18.243000</td>\n",
       "    </tr>\n",
       "    <tr>\n",
       "      <th>3</th>\n",
       "      <td>2019-07-01 00:02:52.213000</td>\n",
       "      <td>Bird</td>\n",
       "      <td>BRD5178</td>\n",
       "      <td>PoweredIB2CC</td>\n",
       "      <td>1.0</td>\n",
       "      <td>0.0</td>\n",
       "      <td>2019-07-01 00:00:00</td>\n",
       "      <td>00:02:06.963333</td>\n",
       "      <td>2019-07-01 00:00:00</td>\n",
       "      <td>00:03:25.766666</td>\n",
       "      <td>36.1525</td>\n",
       "      <td>-86.7988</td>\n",
       "      <td>36.1525</td>\n",
       "      <td>-86.7988</td>\n",
       "      <td>[[36.152499,-86.798708]]</td>\n",
       "      <td>2019-07-02 05:30:18.303000</td>\n",
       "    </tr>\n",
       "    <tr>\n",
       "      <th>4</th>\n",
       "      <td>2019-07-01 00:02:52.213000</td>\n",
       "      <td>Bird</td>\n",
       "      <td>BRD5180</td>\n",
       "      <td>PoweredW4G7R</td>\n",
       "      <td>2.0</td>\n",
       "      <td>0.0</td>\n",
       "      <td>2019-07-01 00:00:00</td>\n",
       "      <td>00:01:19.843333</td>\n",
       "      <td>2019-07-01 00:00:00</td>\n",
       "      <td>00:02:53.976666</td>\n",
       "      <td>36.1578</td>\n",
       "      <td>-86.7760</td>\n",
       "      <td>36.1575</td>\n",
       "      <td>-86.7758</td>\n",
       "      <td>[[36.157523,-86.775794]]</td>\n",
       "      <td>2019-07-02 05:30:18.363000</td>\n",
       "    </tr>\n",
       "  </tbody>\n",
       "</table>\n",
       "</div>"
      ],
      "text/plain": [
       "                   time_stamp company_name trip_number    scooter_id  \\\n",
       "0  2019-07-01 00:02:52.213000         Bird     BRD5179  PoweredZSHKJ   \n",
       "1  2019-07-01 00:02:52.213000         Bird     BRD5177  Powered22JF6   \n",
       "2  2019-07-01 00:02:52.213000         Bird     BRD5176  Powered22JF6   \n",
       "3  2019-07-01 00:02:52.213000         Bird     BRD5178  PoweredIB2CC   \n",
       "4  2019-07-01 00:02:52.213000         Bird     BRD5180  PoweredW4G7R   \n",
       "\n",
       "   trip_duration  trip_distance           start_date       start_time  \\\n",
       "0            2.0            0.0  2019-07-01 00:00:00  00:01:32.290000   \n",
       "1            0.0            0.0  2019-07-01 00:00:00  00:02:38.640000   \n",
       "2            1.0            0.0  2019-07-01 00:00:00  00:03:04.333333   \n",
       "3            1.0            0.0  2019-07-01 00:00:00  00:02:06.963333   \n",
       "4            2.0            0.0  2019-07-01 00:00:00  00:01:19.843333   \n",
       "\n",
       "              end_date         end_time  start_lat  start_lon  end_lat  \\\n",
       "0  2019-07-01 00:00:00  00:03:55.966666    36.1775   -86.7516  36.1778   \n",
       "1  2019-07-01 00:00:00  00:02:54.406666    36.1627   -86.7711  36.1627   \n",
       "2  2019-07-01 00:00:00  00:03:37.680000    36.1627   -86.7713  36.1627   \n",
       "3  2019-07-01 00:00:00  00:03:25.766666    36.1525   -86.7988  36.1525   \n",
       "4  2019-07-01 00:00:00  00:02:53.976666    36.1578   -86.7760  36.1575   \n",
       "\n",
       "   end_lon                                         trip_route  \\\n",
       "0 -86.7514  [[36.177438,-86.751861],[36.177425,-86.751987]...   \n",
       "1 -86.7711    [[36.162718,-86.771102],[36.162718,-86.771102]]   \n",
       "2 -86.7713  [[36.162734,-86.77122],[36.162706,-86.771325],...   \n",
       "3 -86.7988                           [[36.152499,-86.798708]]   \n",
       "4 -86.7758                           [[36.157523,-86.775794]]   \n",
       "\n",
       "                 created_date  \n",
       "0  2019-07-02 05:30:18.333000  \n",
       "1  2019-07-02 05:30:18.273000  \n",
       "2  2019-07-02 05:30:18.243000  \n",
       "3  2019-07-02 05:30:18.303000  \n",
       "4  2019-07-02 05:30:18.363000  "
      ]
     },
     "execution_count": 8,
     "metadata": {},
     "output_type": "execute_result"
    }
   ],
   "source": [
    "july_trips = july_trips.rename(columns={\"pubTimeStamp\": \"time_stamp\",\n",
    "                        \"companyName\": \"company_name\",\n",
    "                        \"tripRecordNum\": \"trip_number\",\n",
    "                        \"sumdID\": \"scooter_id\",\n",
    "                         \"tripDuration\": \"trip_duration\",\n",
    "                         \"tripDistance\": \"trip_distance\",\n",
    "                         \"startDate\": \"start_date\",\n",
    "                         \"startTime\": \"start_time\",\n",
    "                         \"endDate\": \"end_date\",\n",
    "                         \"endTime\": \"end_time\",\n",
    "                         \"startLatitude\": \"start_lat\",\n",
    "                         \"startLongitude\": \"start_lon\",\n",
    "                         \"endLatitude\": \"end_lat\",\n",
    "                         \"endLongitude\": \"end_lon\",\n",
    "                         \"tripRoute\": \"trip_route\",\n",
    "                         \"create_dt\": \"created_date\"})\n",
    "july_trips.head()"
   ]
  },
  {
   "cell_type": "code",
   "execution_count": 9,
   "id": "f4a0e467",
   "metadata": {},
   "outputs": [],
   "source": [
    "july_trips['end_date'] = july_trips['end_date'].astype('datetime64')"
   ]
  },
  {
   "cell_type": "code",
   "execution_count": 10,
   "id": "b01791f8",
   "metadata": {},
   "outputs": [],
   "source": [
    "july_trips['start_date'] = july_trips['start_date'].astype('datetime64')"
   ]
  },
  {
   "cell_type": "code",
   "execution_count": 11,
   "id": "9df122e7",
   "metadata": {},
   "outputs": [],
   "source": [
    "july_trips['start_geo'] = july_trips.apply(lambda x: Point((x.start_lon, \n",
    "                                                         x.start_lat)), \n",
    "                                        axis=1)"
   ]
  },
  {
   "cell_type": "code",
   "execution_count": 12,
   "id": "94428f84",
   "metadata": {},
   "outputs": [],
   "source": [
    "july_trips['end_geo'] = july_trips.apply(lambda x: Point((x.end_lon, \n",
    "                                                         x.end_lat)), \n",
    "                                        axis=1)"
   ]
  },
  {
   "cell_type": "code",
   "execution_count": 13,
   "id": "a1c48a43",
   "metadata": {},
   "outputs": [
    {
     "data": {
      "text/plain": [
       "PoweredUNKNOWN          327\n",
       "Powered5N5J5BJDODHYX    141\n",
       "PoweredOEHCPCAUHESR5    134\n",
       "PoweredIHGSNSRXCZ2ZG    128\n",
       "Powered5BW4GPYGBMUTL    126\n",
       "                       ... \n",
       "PoweredUJHQ7              1\n",
       "PoweredJXSCI              1\n",
       "Powered3655517            1\n",
       "PoweredKURT7              1\n",
       "PoweredVNWRA              1\n",
       "Name: scooter_id, Length: 5585, dtype: int64"
      ]
     },
     "execution_count": 13,
     "metadata": {},
     "output_type": "execute_result"
    }
   ],
   "source": [
    "july_trips[\"scooter_id\"].value_counts()"
   ]
  },
  {
   "cell_type": "code",
   "execution_count": 14,
   "id": "ef585bf7",
   "metadata": {},
   "outputs": [
    {
     "data": {
      "text/plain": [
       "time_stamp               object\n",
       "company_name             object\n",
       "trip_number              object\n",
       "scooter_id               object\n",
       "trip_duration           float64\n",
       "trip_distance           float64\n",
       "start_date       datetime64[ns]\n",
       "start_time               object\n",
       "end_date         datetime64[ns]\n",
       "end_time                 object\n",
       "start_lat               float64\n",
       "start_lon               float64\n",
       "end_lat                 float64\n",
       "end_lon                 float64\n",
       "trip_route               object\n",
       "created_date             object\n",
       "start_geo                object\n",
       "end_geo                  object\n",
       "dtype: object"
      ]
     },
     "execution_count": 14,
     "metadata": {},
     "output_type": "execute_result"
    }
   ],
   "source": [
    "july_trips.dtypes"
   ]
  },
  {
   "cell_type": "code",
   "execution_count": 15,
   "id": "72ce4c2d",
   "metadata": {},
   "outputs": [
    {
     "data": {
      "text/plain": [
       "time_stamp               object\n",
       "company_name             object\n",
       "trip_number              object\n",
       "scooter_id               object\n",
       "trip_duration           float64\n",
       "trip_distance           float64\n",
       "start_date       datetime64[ns]\n",
       "start_time               object\n",
       "end_date         datetime64[ns]\n",
       "end_time                 object\n",
       "start_lat               float64\n",
       "start_lon               float64\n",
       "end_lat                 float64\n",
       "end_lon                 float64\n",
       "trip_route               object\n",
       "created_date             object\n",
       "start_geo                object\n",
       "end_geo                  object\n",
       "dates            datetime64[ns]\n",
       "time                     object\n",
       "dtype: object"
      ]
     },
     "execution_count": 15,
     "metadata": {},
     "output_type": "execute_result"
    }
   ],
   "source": [
    "july_trips['dates'] = pd.to_datetime(july_trips['time_stamp']).dt.date\n",
    "july_trips['time'] = pd.to_datetime(july_trips['time_stamp']).dt.time\n",
    "july_trips['dates'] = july_trips['dates'].astype('datetime64')\n",
    "july_trips.dtypes"
   ]
  },
  {
   "cell_type": "code",
   "execution_count": 16,
   "id": "a2c4a148",
   "metadata": {},
   "outputs": [
    {
     "data": {
      "text/plain": [
       "Index(['time_stamp', 'latitude', 'longitude', 'scooter_id', 'chargelevel',\n",
       "       'company_name'],\n",
       "      dtype='object')"
      ]
     },
     "execution_count": 16,
     "metadata": {},
     "output_type": "execute_result"
    }
   ],
   "source": [
    "july_pickle = july_pickle.rename(columns={\"pubdatetime\": \"time_stamp\",\n",
    "                        \"companyname\": \"company_name\",\n",
    "                        \"sumdid\": \"scooter_id\"\n",
    "                         })\n",
    "july_pickle.columns"
   ]
  },
  {
   "cell_type": "code",
   "execution_count": 17,
   "id": "56ad098d",
   "metadata": {},
   "outputs": [
    {
     "data": {
      "text/plain": [
       "time_stamp      datetime64[ns]\n",
       "latitude               float64\n",
       "longitude              float64\n",
       "scooter_id              object\n",
       "chargelevel            float64\n",
       "company_name             int64\n",
       "dates           datetime64[ns]\n",
       "time                    object\n",
       "dtype: object"
      ]
     },
     "execution_count": 17,
     "metadata": {},
     "output_type": "execute_result"
    }
   ],
   "source": [
    "july_pickle['dates'] = pd.to_datetime(july_pickle['time_stamp']).dt.date\n",
    "july_pickle['time'] = pd.to_datetime(july_pickle['time_stamp']).dt.time\n",
    "july_pickle['dates'] = july_pickle['dates'].astype('datetime64')\n",
    "july_pickle.dtypes"
   ]
  },
  {
   "cell_type": "code",
   "execution_count": 18,
   "id": "053ee5a5",
   "metadata": {},
   "outputs": [
    {
     "data": {
      "text/plain": [
       "(4248, 20)"
      ]
     },
     "execution_count": 18,
     "metadata": {},
     "output_type": "execute_result"
    }
   ],
   "source": [
    "jul_01 = july_trips['dates']== \"2019-07-01\"\n",
    "july_01 = july_trips[jul_01]\n",
    "#only unique IDs/then take the July pickle file and\n",
    "#condense it down to unique ids - how to subtract all of a series from another list or series\n",
    "#maybe pick a brand or a certain time\n",
    "july_01.shape"
   ]
  },
  {
   "cell_type": "code",
   "execution_count": 19,
   "id": "253101ba",
   "metadata": {},
   "outputs": [
    {
     "data": {
      "text/plain": [
       "(2050, 20)"
      ]
     },
     "execution_count": 19,
     "metadata": {},
     "output_type": "execute_result"
    }
   ],
   "source": [
    "july_01_un = july_01.drop_duplicates(subset = [\"scooter_id\"])\n",
    "july_01_un.shape\n",
    "#turn this into a list, and then do the same for the pickle data\n",
    "#match it on both sides - once you have the lists, do a loc/isin with a ~"
   ]
  },
  {
   "cell_type": "code",
   "execution_count": 20,
   "id": "82702e93",
   "metadata": {},
   "outputs": [],
   "source": [
    "jul_list = july_01_un[\"scooter_id\"].tolist"
   ]
  },
  {
   "cell_type": "code",
   "execution_count": 21,
   "id": "db52af8b",
   "metadata": {
    "scrolled": true
   },
   "outputs": [
    {
     "name": "stderr",
     "output_type": "stream",
     "text": [
      "C:\\Users\\Erin\\AppData\\Local\\Temp/ipykernel_808/700504881.py:3: SettingWithCopyWarning: \n",
      "A value is trying to be set on a copy of a slice from a DataFrame.\n",
      "Try using .loc[row_indexer,col_indexer] = value instead\n",
      "\n",
      "See the caveats in the documentation: https://pandas.pydata.org/pandas-docs/stable/user_guide/indexing.html#returning-a-view-versus-a-copy\n",
      "  july_pickle_01[\"scooter_id\"] = july_pickle_01[\"scooter_id\"].astype('|S')\n"
     ]
    },
    {
     "data": {
      "text/plain": [
       "time_stamp      datetime64[ns]\n",
       "latitude               float64\n",
       "longitude              float64\n",
       "scooter_id                |S44\n",
       "chargelevel            float64\n",
       "company_name             int64\n",
       "dates           datetime64[ns]\n",
       "time                    object\n",
       "dtype: object"
      ]
     },
     "execution_count": 21,
     "metadata": {},
     "output_type": "execute_result"
    }
   ],
   "source": [
    "jul_pickle = july_pickle['dates']== \"2019-07-01\"\n",
    "july_pickle_01 = july_pickle[jul_pickle]\n",
    "july_pickle_01[\"scooter_id\"] = july_pickle_01[\"scooter_id\"].astype('|S')\n",
    "july_pickle_01.dtypes"
   ]
  },
  {
   "cell_type": "code",
   "execution_count": 22,
   "id": "8e4f4548",
   "metadata": {},
   "outputs": [
    {
     "data": {
      "text/plain": [
       "(5082, 8)"
      ]
     },
     "execution_count": 22,
     "metadata": {},
     "output_type": "execute_result"
    }
   ],
   "source": [
    "july_pickle_un = july_pickle_01.drop_duplicates(subset = [\"scooter_id\"])\n",
    "july_pickle_un.shape"
   ]
  },
  {
   "cell_type": "code",
   "execution_count": 23,
   "id": "6777903c",
   "metadata": {},
   "outputs": [
    {
     "data": {
      "text/html": [
       "<div>\n",
       "<style scoped>\n",
       "    .dataframe tbody tr th:only-of-type {\n",
       "        vertical-align: middle;\n",
       "    }\n",
       "\n",
       "    .dataframe tbody tr th {\n",
       "        vertical-align: top;\n",
       "    }\n",
       "\n",
       "    .dataframe thead th {\n",
       "        text-align: right;\n",
       "    }\n",
       "</style>\n",
       "<table border=\"1\" class=\"dataframe\">\n",
       "  <thead>\n",
       "    <tr style=\"text-align: right;\">\n",
       "      <th></th>\n",
       "      <th>time_stamp</th>\n",
       "      <th>latitude</th>\n",
       "      <th>longitude</th>\n",
       "      <th>scooter_id</th>\n",
       "      <th>chargelevel</th>\n",
       "      <th>company_name</th>\n",
       "      <th>dates</th>\n",
       "      <th>time</th>\n",
       "    </tr>\n",
       "  </thead>\n",
       "  <tbody>\n",
       "  </tbody>\n",
       "</table>\n",
       "</div>"
      ],
      "text/plain": [
       "Empty DataFrame\n",
       "Columns: [time_stamp, latitude, longitude, scooter_id, chargelevel, company_name, dates, time]\n",
       "Index: []"
      ]
     },
     "execution_count": 23,
     "metadata": {},
     "output_type": "execute_result"
    }
   ],
   "source": [
    "jp01_filtered = july_pickle_un.loc[july_pickle_un[\"scooter_id\"].isin([jul_list])]\n",
    "jp01_filtered.head(1)"
   ]
  },
  {
   "cell_type": "code",
   "execution_count": 24,
   "id": "1f2ea864",
   "metadata": {},
   "outputs": [],
   "source": [
    "jpu_list = july_pickle_un[\"scooter_id\"].tolist"
   ]
  },
  {
   "cell_type": "code",
   "execution_count": 25,
   "id": "0f07061b",
   "metadata": {},
   "outputs": [
    {
     "name": "stdout",
     "output_type": "stream",
     "text": [
      "index is 0\n",
      "values are:\n",
      " \n",
      "time_stamp                              2019-07-01 00:02:52.213000\n",
      "company_name                                                  Bird\n",
      "trip_number                                                BRD5179\n",
      "scooter_id                                            PoweredZSHKJ\n",
      "trip_duration                                                  2.0\n",
      "trip_distance                                                  0.0\n",
      "start_date                                     2019-07-01 00:00:00\n",
      "start_time                                         00:01:32.290000\n",
      "end_date                                       2019-07-01 00:00:00\n",
      "end_time                                           00:03:55.966666\n",
      "start_lat                                                  36.1775\n",
      "start_lon                                                 -86.7516\n",
      "end_lat                                                    36.1778\n",
      "end_lon                                                   -86.7514\n",
      "trip_route       [[36.177438,-86.751861],[36.177425,-86.751987]...\n",
      "created_date                            2019-07-02 05:30:18.333000\n",
      "start_geo                                 POINT (-86.7516 36.1775)\n",
      "end_geo                                   POINT (-86.7514 36.1778)\n",
      "dates                                          2019-07-01 00:00:00\n",
      "time                                               00:02:52.213000\n",
      "Name: 0, dtype: object\n",
      "------------------------- \n",
      "index is 1\n",
      "values are:\n",
      " \n",
      "time_stamp                            2019-07-01 00:02:52.213000\n",
      "company_name                                                Bird\n",
      "trip_number                                              BRD5177\n",
      "scooter_id                                          Powered22JF6\n",
      "trip_duration                                                0.0\n",
      "trip_distance                                                0.0\n",
      "start_date                                   2019-07-01 00:00:00\n",
      "start_time                                       00:02:38.640000\n",
      "end_date                                     2019-07-01 00:00:00\n",
      "end_time                                         00:02:54.406666\n",
      "start_lat                                                36.1627\n",
      "start_lon                                               -86.7711\n",
      "end_lat                                                  36.1627\n",
      "end_lon                                                 -86.7711\n",
      "trip_route       [[36.162718,-86.771102],[36.162718,-86.771102]]\n",
      "created_date                          2019-07-02 05:30:18.273000\n",
      "start_geo                               POINT (-86.7711 36.1627)\n",
      "end_geo                                 POINT (-86.7711 36.1627)\n",
      "dates                                        2019-07-01 00:00:00\n",
      "time                                             00:02:52.213000\n",
      "Name: 1, dtype: object\n",
      "------------------------- \n",
      "index is 3\n",
      "values are:\n",
      " \n",
      "time_stamp       2019-07-01 00:02:52.213000\n",
      "company_name                           Bird\n",
      "trip_number                         BRD5178\n",
      "scooter_id                     PoweredIB2CC\n",
      "trip_duration                           1.0\n",
      "trip_distance                           0.0\n",
      "start_date              2019-07-01 00:00:00\n",
      "start_time                  00:02:06.963333\n",
      "end_date                2019-07-01 00:00:00\n",
      "end_time                    00:03:25.766666\n",
      "start_lat                           36.1525\n",
      "start_lon                          -86.7988\n",
      "end_lat                             36.1525\n",
      "end_lon                            -86.7988\n",
      "trip_route         [[36.152499,-86.798708]]\n",
      "created_date     2019-07-02 05:30:18.303000\n",
      "start_geo          POINT (-86.7988 36.1525)\n",
      "end_geo            POINT (-86.7988 36.1525)\n",
      "dates                   2019-07-01 00:00:00\n",
      "time                        00:02:52.213000\n",
      "Name: 3, dtype: object\n",
      "------------------------- \n"
     ]
    }
   ],
   "source": [
    "i = 0\n",
    "for row_index, row_values in july_01_un.iterrows():\n",
    "    if i <3: \n",
    "        print('index is', row_index)\n",
    "        print('values are:')\n",
    "        print(' ')\n",
    "        print(row_values)\n",
    "        print('------------------------- ')\n",
    "        i+=1"
   ]
  },
  {
   "cell_type": "code",
   "execution_count": null,
   "id": "fbb5fc38",
   "metadata": {},
   "outputs": [
    {
     "name": "stdout",
     "output_type": "stream",
     "text": [
      "index is 0\n",
      "values are:\n",
      " \n",
      "time_stamp      2019-07-01 00:00:33.550000\n",
      "latitude                         36.156678\n",
      "longitude                       -86.809004\n",
      "scooter_id                   Powered635135\n",
      "chargelevel                           22.0\n",
      "company_name                             1\n",
      "dates                  2019-07-01 00:00:00\n",
      "time                       00:00:33.550000\n",
      "Name: 0, dtype: object\n",
      "------------------------- \n",
      "index is 1\n",
      "values are:\n",
      " \n",
      "time_stamp      2019-07-01 00:00:34.973000\n",
      "latitude                         36.145674\n",
      "longitude                       -86.794138\n",
      "scooter_id                   Powered790946\n",
      "chargelevel                           33.0\n",
      "company_name                             1\n",
      "dates                  2019-07-01 00:00:00\n",
      "time                       00:00:34.973000\n",
      "Name: 1, dtype: object\n",
      "------------------------- \n",
      "index is 2\n",
      "values are:\n",
      " \n",
      "time_stamp      2019-07-01 00:00:41.183000\n",
      "latitude                         36.179319\n",
      "longitude                       -86.751538\n",
      "scooter_id                   Powered570380\n",
      "chargelevel                           76.0\n",
      "company_name                             1\n",
      "dates                  2019-07-01 00:00:00\n",
      "time                       00:00:41.183000\n",
      "Name: 2, dtype: object\n",
      "------------------------- \n"
     ]
    }
   ],
   "source": [
    "i = 0\n",
    "for row_index, row_values in july_pickle.iterrows():\n",
    "    if i <3: \n",
    "        print('index is', row_index)\n",
    "        print('values are:')\n",
    "        print(' ')\n",
    "        print(row_values)\n",
    "        print('------------------------- ')\n",
    "        i+=1"
   ]
  },
  {
   "cell_type": "code",
   "execution_count": null,
   "id": "90f47b74",
   "metadata": {},
   "outputs": [],
   "source": [
    "#load in map of nashville\n",
    "nash_map = folium.Map(location = [36.1612, -86.7775], zoom_start=12)\n",
    "\n",
    "for ind, row in july_01_un.iterrows():\n",
    "    point = [row['start_lat'], row['start_lon']]\n",
    "    message = row['scooter_id'] + ': ' + 'scooter_id'\n",
    "    folium.CircleMarker(location = point, popup = message, radius=4).add_to(nash_map)\n",
    "\n",
    "nash_map"
   ]
  },
  {
   "cell_type": "code",
   "execution_count": null,
   "id": "6cb5beb5",
   "metadata": {},
   "outputs": [],
   "source": []
  }
 ],
 "metadata": {
  "kernelspec": {
   "display_name": "Python 3 (ipykernel)",
   "language": "python",
   "name": "python3"
  },
  "language_info": {
   "codemirror_mode": {
    "name": "ipython",
    "version": 3
   },
   "file_extension": ".py",
   "mimetype": "text/x-python",
   "name": "python",
   "nbconvert_exporter": "python",
   "pygments_lexer": "ipython3",
   "version": "3.8.5"
  }
 },
 "nbformat": 4,
 "nbformat_minor": 5
}
