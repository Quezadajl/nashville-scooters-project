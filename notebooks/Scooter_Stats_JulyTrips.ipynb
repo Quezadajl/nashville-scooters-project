{
 "cells": [
  {
   "cell_type": "code",
   "execution_count": 76,
   "id": "f7620850",
   "metadata": {},
   "outputs": [],
   "source": [
    "import numpy as np\n",
    "import pandas as pd\n",
    "import matplotlib.pyplot as plt\n",
    "import seaborn as sns\n",
    "import pickle\n",
    "import re\n",
    "import numpy as np\n",
    "from matplotlib import colors\n",
    "from matplotlib.ticker import PercentFormatter\n",
    "%matplotlib inline"
   ]
  },
  {
   "cell_type": "code",
   "execution_count": 2,
   "id": "574d659d",
   "metadata": {},
   "outputs": [
    {
     "data": {
      "text/html": [
       "<div>\n",
       "<style scoped>\n",
       "    .dataframe tbody tr th:only-of-type {\n",
       "        vertical-align: middle;\n",
       "    }\n",
       "\n",
       "    .dataframe tbody tr th {\n",
       "        vertical-align: top;\n",
       "    }\n",
       "\n",
       "    .dataframe thead th {\n",
       "        text-align: right;\n",
       "    }\n",
       "</style>\n",
       "<table border=\"1\" class=\"dataframe\">\n",
       "  <thead>\n",
       "    <tr style=\"text-align: right;\">\n",
       "      <th></th>\n",
       "      <th>pubTimeStamp</th>\n",
       "      <th>companyName</th>\n",
       "      <th>tripRecordNum</th>\n",
       "      <th>sumdID</th>\n",
       "      <th>tripDuration</th>\n",
       "      <th>tripDistance</th>\n",
       "      <th>startDate</th>\n",
       "      <th>startTime</th>\n",
       "      <th>endDate</th>\n",
       "      <th>endTime</th>\n",
       "      <th>startLatitude</th>\n",
       "      <th>startLongitude</th>\n",
       "      <th>endLatitude</th>\n",
       "      <th>endLongitude</th>\n",
       "      <th>tripRoute</th>\n",
       "      <th>create_dt</th>\n",
       "    </tr>\n",
       "  </thead>\n",
       "  <tbody>\n",
       "    <tr>\n",
       "      <th>0</th>\n",
       "      <td>2019-07-01 00:02:52.213000</td>\n",
       "      <td>Bird</td>\n",
       "      <td>BRD5179</td>\n",
       "      <td>PoweredZSHKJ</td>\n",
       "      <td>2.0</td>\n",
       "      <td>0.0</td>\n",
       "      <td>2019-07-01 00:00:00</td>\n",
       "      <td>00:01:32.290000</td>\n",
       "      <td>2019-07-01 00:00:00</td>\n",
       "      <td>00:03:55.966666</td>\n",
       "      <td>36.1775</td>\n",
       "      <td>-86.7516</td>\n",
       "      <td>36.1778</td>\n",
       "      <td>-86.7514</td>\n",
       "      <td>[[36.177438,-86.751861],[36.177425,-86.751987]...</td>\n",
       "      <td>2019-07-02 05:30:18.333000</td>\n",
       "    </tr>\n",
       "    <tr>\n",
       "      <th>1</th>\n",
       "      <td>2019-07-01 00:02:52.213000</td>\n",
       "      <td>Bird</td>\n",
       "      <td>BRD5177</td>\n",
       "      <td>Powered22JF6</td>\n",
       "      <td>0.0</td>\n",
       "      <td>0.0</td>\n",
       "      <td>2019-07-01 00:00:00</td>\n",
       "      <td>00:02:38.640000</td>\n",
       "      <td>2019-07-01 00:00:00</td>\n",
       "      <td>00:02:54.406666</td>\n",
       "      <td>36.1627</td>\n",
       "      <td>-86.7711</td>\n",
       "      <td>36.1627</td>\n",
       "      <td>-86.7711</td>\n",
       "      <td>[[36.162718,-86.771102],[36.162718,-86.771102]]</td>\n",
       "      <td>2019-07-02 05:30:18.273000</td>\n",
       "    </tr>\n",
       "    <tr>\n",
       "      <th>2</th>\n",
       "      <td>2019-07-01 00:02:52.213000</td>\n",
       "      <td>Bird</td>\n",
       "      <td>BRD5176</td>\n",
       "      <td>Powered22JF6</td>\n",
       "      <td>1.0</td>\n",
       "      <td>0.0</td>\n",
       "      <td>2019-07-01 00:00:00</td>\n",
       "      <td>00:03:04.333333</td>\n",
       "      <td>2019-07-01 00:00:00</td>\n",
       "      <td>00:03:37.680000</td>\n",
       "      <td>36.1627</td>\n",
       "      <td>-86.7713</td>\n",
       "      <td>36.1627</td>\n",
       "      <td>-86.7713</td>\n",
       "      <td>[[36.162734,-86.77122],[36.162706,-86.771325],...</td>\n",
       "      <td>2019-07-02 05:30:18.243000</td>\n",
       "    </tr>\n",
       "    <tr>\n",
       "      <th>3</th>\n",
       "      <td>2019-07-01 00:02:52.213000</td>\n",
       "      <td>Bird</td>\n",
       "      <td>BRD5178</td>\n",
       "      <td>PoweredIB2CC</td>\n",
       "      <td>1.0</td>\n",
       "      <td>0.0</td>\n",
       "      <td>2019-07-01 00:00:00</td>\n",
       "      <td>00:02:06.963333</td>\n",
       "      <td>2019-07-01 00:00:00</td>\n",
       "      <td>00:03:25.766666</td>\n",
       "      <td>36.1525</td>\n",
       "      <td>-86.7988</td>\n",
       "      <td>36.1525</td>\n",
       "      <td>-86.7988</td>\n",
       "      <td>[[36.152499,-86.798708]]</td>\n",
       "      <td>2019-07-02 05:30:18.303000</td>\n",
       "    </tr>\n",
       "    <tr>\n",
       "      <th>4</th>\n",
       "      <td>2019-07-01 00:02:52.213000</td>\n",
       "      <td>Bird</td>\n",
       "      <td>BRD5180</td>\n",
       "      <td>PoweredW4G7R</td>\n",
       "      <td>2.0</td>\n",
       "      <td>0.0</td>\n",
       "      <td>2019-07-01 00:00:00</td>\n",
       "      <td>00:01:19.843333</td>\n",
       "      <td>2019-07-01 00:00:00</td>\n",
       "      <td>00:02:53.976666</td>\n",
       "      <td>36.1578</td>\n",
       "      <td>-86.7760</td>\n",
       "      <td>36.1575</td>\n",
       "      <td>-86.7758</td>\n",
       "      <td>[[36.157523,-86.775794]]</td>\n",
       "      <td>2019-07-02 05:30:18.363000</td>\n",
       "    </tr>\n",
       "  </tbody>\n",
       "</table>\n",
       "</div>"
      ],
      "text/plain": [
       "                 pubTimeStamp companyName tripRecordNum        sumdID  \\\n",
       "0  2019-07-01 00:02:52.213000        Bird       BRD5179  PoweredZSHKJ   \n",
       "1  2019-07-01 00:02:52.213000        Bird       BRD5177  Powered22JF6   \n",
       "2  2019-07-01 00:02:52.213000        Bird       BRD5176  Powered22JF6   \n",
       "3  2019-07-01 00:02:52.213000        Bird       BRD5178  PoweredIB2CC   \n",
       "4  2019-07-01 00:02:52.213000        Bird       BRD5180  PoweredW4G7R   \n",
       "\n",
       "   tripDuration  tripDistance            startDate        startTime  \\\n",
       "0           2.0           0.0  2019-07-01 00:00:00  00:01:32.290000   \n",
       "1           0.0           0.0  2019-07-01 00:00:00  00:02:38.640000   \n",
       "2           1.0           0.0  2019-07-01 00:00:00  00:03:04.333333   \n",
       "3           1.0           0.0  2019-07-01 00:00:00  00:02:06.963333   \n",
       "4           2.0           0.0  2019-07-01 00:00:00  00:01:19.843333   \n",
       "\n",
       "               endDate          endTime  startLatitude  startLongitude  \\\n",
       "0  2019-07-01 00:00:00  00:03:55.966666        36.1775        -86.7516   \n",
       "1  2019-07-01 00:00:00  00:02:54.406666        36.1627        -86.7711   \n",
       "2  2019-07-01 00:00:00  00:03:37.680000        36.1627        -86.7713   \n",
       "3  2019-07-01 00:00:00  00:03:25.766666        36.1525        -86.7988   \n",
       "4  2019-07-01 00:00:00  00:02:53.976666        36.1578        -86.7760   \n",
       "\n",
       "   endLatitude  endLongitude  \\\n",
       "0      36.1778      -86.7514   \n",
       "1      36.1627      -86.7711   \n",
       "2      36.1627      -86.7713   \n",
       "3      36.1525      -86.7988   \n",
       "4      36.1575      -86.7758   \n",
       "\n",
       "                                           tripRoute  \\\n",
       "0  [[36.177438,-86.751861],[36.177425,-86.751987]...   \n",
       "1    [[36.162718,-86.771102],[36.162718,-86.771102]]   \n",
       "2  [[36.162734,-86.77122],[36.162706,-86.771325],...   \n",
       "3                           [[36.152499,-86.798708]]   \n",
       "4                           [[36.157523,-86.775794]]   \n",
       "\n",
       "                    create_dt  \n",
       "0  2019-07-02 05:30:18.333000  \n",
       "1  2019-07-02 05:30:18.273000  \n",
       "2  2019-07-02 05:30:18.243000  \n",
       "3  2019-07-02 05:30:18.303000  \n",
       "4  2019-07-02 05:30:18.363000  "
      ]
     },
     "execution_count": 2,
     "metadata": {},
     "output_type": "execute_result"
    }
   ],
   "source": [
    "july_trips = pd.read_csv('../data/july_trip.csv')\n",
    "july_trips.head()"
   ]
  },
  {
   "cell_type": "code",
   "execution_count": 3,
   "id": "22d65ac4",
   "metadata": {},
   "outputs": [
    {
     "data": {
      "text/plain": [
       "array(['Bird', 'Lyft', 'Bolt Mobility', 'SPIN', 'Lime', 'Gotcha', 'JUMP'],\n",
       "      dtype=object)"
      ]
     },
     "execution_count": 3,
     "metadata": {},
     "output_type": "execute_result"
    }
   ],
   "source": [
    "july_trips.companyName.unique()"
   ]
  },
  {
   "cell_type": "code",
   "execution_count": 4,
   "id": "e4471734",
   "metadata": {},
   "outputs": [],
   "source": [
    "company_dict = {'Bird':0, 'Lyft': 1, 'Bolt Mobility': 2, 'SPIN': 3, 'Lime': 4, 'Gotcha': 5, 'JUMP': 6}"
   ]
  },
  {
   "cell_type": "code",
   "execution_count": 5,
   "id": "4a27e175",
   "metadata": {},
   "outputs": [],
   "source": [
    "july_trips.companyName = july_trips.companyName.replace(company_dict)"
   ]
  },
  {
   "cell_type": "code",
   "execution_count": 6,
   "id": "1e9cda05",
   "metadata": {},
   "outputs": [
    {
     "data": {
      "text/html": [
       "<div>\n",
       "<style scoped>\n",
       "    .dataframe tbody tr th:only-of-type {\n",
       "        vertical-align: middle;\n",
       "    }\n",
       "\n",
       "    .dataframe tbody tr th {\n",
       "        vertical-align: top;\n",
       "    }\n",
       "\n",
       "    .dataframe thead th {\n",
       "        text-align: right;\n",
       "    }\n",
       "</style>\n",
       "<table border=\"1\" class=\"dataframe\">\n",
       "  <thead>\n",
       "    <tr style=\"text-align: right;\">\n",
       "      <th></th>\n",
       "      <th>pubTimeStamp</th>\n",
       "      <th>companyName</th>\n",
       "      <th>tripRecordNum</th>\n",
       "      <th>sumdID</th>\n",
       "      <th>tripDuration</th>\n",
       "      <th>tripDistance</th>\n",
       "      <th>startDate</th>\n",
       "      <th>startTime</th>\n",
       "      <th>endDate</th>\n",
       "      <th>endTime</th>\n",
       "      <th>startLatitude</th>\n",
       "      <th>startLongitude</th>\n",
       "      <th>endLatitude</th>\n",
       "      <th>endLongitude</th>\n",
       "      <th>tripRoute</th>\n",
       "      <th>create_dt</th>\n",
       "    </tr>\n",
       "  </thead>\n",
       "  <tbody>\n",
       "    <tr>\n",
       "      <th>0</th>\n",
       "      <td>2019-07-01 00:02:52.213</td>\n",
       "      <td>0</td>\n",
       "      <td>BRD5179</td>\n",
       "      <td>PoweredZSHKJ</td>\n",
       "      <td>2.0</td>\n",
       "      <td>0.0</td>\n",
       "      <td>2019-07-01 00:00:00</td>\n",
       "      <td>00:01:32.290000</td>\n",
       "      <td>2019-07-01 00:00:00</td>\n",
       "      <td>00:03:55.966666</td>\n",
       "      <td>36.1775</td>\n",
       "      <td>-86.7516</td>\n",
       "      <td>36.1778</td>\n",
       "      <td>-86.7514</td>\n",
       "      <td>[[36.177438,-86.751861],[36.177425,-86.751987]...</td>\n",
       "      <td>2019-07-02 05:30:18.333000</td>\n",
       "    </tr>\n",
       "    <tr>\n",
       "      <th>1</th>\n",
       "      <td>2019-07-01 00:02:52.213</td>\n",
       "      <td>0</td>\n",
       "      <td>BRD5177</td>\n",
       "      <td>Powered22JF6</td>\n",
       "      <td>0.0</td>\n",
       "      <td>0.0</td>\n",
       "      <td>2019-07-01 00:00:00</td>\n",
       "      <td>00:02:38.640000</td>\n",
       "      <td>2019-07-01 00:00:00</td>\n",
       "      <td>00:02:54.406666</td>\n",
       "      <td>36.1627</td>\n",
       "      <td>-86.7711</td>\n",
       "      <td>36.1627</td>\n",
       "      <td>-86.7711</td>\n",
       "      <td>[[36.162718,-86.771102],[36.162718,-86.771102]]</td>\n",
       "      <td>2019-07-02 05:30:18.273000</td>\n",
       "    </tr>\n",
       "  </tbody>\n",
       "</table>\n",
       "</div>"
      ],
      "text/plain": [
       "             pubTimeStamp  companyName tripRecordNum        sumdID  \\\n",
       "0 2019-07-01 00:02:52.213            0       BRD5179  PoweredZSHKJ   \n",
       "1 2019-07-01 00:02:52.213            0       BRD5177  Powered22JF6   \n",
       "\n",
       "   tripDuration  tripDistance            startDate        startTime  \\\n",
       "0           2.0           0.0  2019-07-01 00:00:00  00:01:32.290000   \n",
       "1           0.0           0.0  2019-07-01 00:00:00  00:02:38.640000   \n",
       "\n",
       "               endDate          endTime  startLatitude  startLongitude  \\\n",
       "0  2019-07-01 00:00:00  00:03:55.966666        36.1775        -86.7516   \n",
       "1  2019-07-01 00:00:00  00:02:54.406666        36.1627        -86.7711   \n",
       "\n",
       "   endLatitude  endLongitude  \\\n",
       "0      36.1778      -86.7514   \n",
       "1      36.1627      -86.7711   \n",
       "\n",
       "                                           tripRoute  \\\n",
       "0  [[36.177438,-86.751861],[36.177425,-86.751987]...   \n",
       "1    [[36.162718,-86.771102],[36.162718,-86.771102]]   \n",
       "\n",
       "                    create_dt  \n",
       "0  2019-07-02 05:30:18.333000  \n",
       "1  2019-07-02 05:30:18.273000  "
      ]
     },
     "execution_count": 6,
     "metadata": {},
     "output_type": "execute_result"
    }
   ],
   "source": [
    "july_trips.pubTimeStamp = pd.to_datetime(july_trips.pubTimeStamp)\n",
    "july_trips.head(2)"
   ]
  },
  {
   "cell_type": "code",
   "execution_count": 7,
   "id": "94a572bc",
   "metadata": {},
   "outputs": [],
   "source": [
    "july_trips_scooters = july_trips[['pubTimeStamp','tripRecordNum','tripRoute', 'sumdID', 'tripDuration', 'tripDistance']]"
   ]
  },
  {
   "cell_type": "code",
   "execution_count": 8,
   "id": "69eac3ba",
   "metadata": {},
   "outputs": [],
   "source": [
    "july_trips_scooters.to_pickle(\"../data/july_trips.pkl\")"
   ]
  },
  {
   "cell_type": "code",
   "execution_count": 40,
   "id": "e542021c",
   "metadata": {
    "scrolled": true
   },
   "outputs": [
    {
     "data": {
      "text/html": [
       "<div>\n",
       "<style scoped>\n",
       "    .dataframe tbody tr th:only-of-type {\n",
       "        vertical-align: middle;\n",
       "    }\n",
       "\n",
       "    .dataframe tbody tr th {\n",
       "        vertical-align: top;\n",
       "    }\n",
       "\n",
       "    .dataframe thead th {\n",
       "        text-align: right;\n",
       "    }\n",
       "</style>\n",
       "<table border=\"1\" class=\"dataframe\">\n",
       "  <thead>\n",
       "    <tr style=\"text-align: right;\">\n",
       "      <th></th>\n",
       "      <th>pubTimeStamp</th>\n",
       "      <th>tripRecordNum</th>\n",
       "      <th>tripRoute</th>\n",
       "      <th>sumdID</th>\n",
       "      <th>tripDuration</th>\n",
       "      <th>tripDistance</th>\n",
       "    </tr>\n",
       "  </thead>\n",
       "  <tbody>\n",
       "    <tr>\n",
       "      <th>0</th>\n",
       "      <td>2019-07-01 00:02:52.213</td>\n",
       "      <td>BRD5179</td>\n",
       "      <td>[[36.177438,-86.751861],[36.177425,-86.751987]...</td>\n",
       "      <td>PoweredZSHKJ</td>\n",
       "      <td>2.0</td>\n",
       "      <td>0.0</td>\n",
       "    </tr>\n",
       "    <tr>\n",
       "      <th>1</th>\n",
       "      <td>2019-07-01 00:02:52.213</td>\n",
       "      <td>BRD5177</td>\n",
       "      <td>[[36.162718,-86.771102],[36.162718,-86.771102]]</td>\n",
       "      <td>Powered22JF6</td>\n",
       "      <td>0.0</td>\n",
       "      <td>0.0</td>\n",
       "    </tr>\n",
       "    <tr>\n",
       "      <th>2</th>\n",
       "      <td>2019-07-01 00:02:52.213</td>\n",
       "      <td>BRD5176</td>\n",
       "      <td>[[36.162734,-86.77122],[36.162706,-86.771325],...</td>\n",
       "      <td>Powered22JF6</td>\n",
       "      <td>1.0</td>\n",
       "      <td>0.0</td>\n",
       "    </tr>\n",
       "    <tr>\n",
       "      <th>3</th>\n",
       "      <td>2019-07-01 00:02:52.213</td>\n",
       "      <td>BRD5178</td>\n",
       "      <td>[[36.152499,-86.798708]]</td>\n",
       "      <td>PoweredIB2CC</td>\n",
       "      <td>1.0</td>\n",
       "      <td>0.0</td>\n",
       "    </tr>\n",
       "    <tr>\n",
       "      <th>4</th>\n",
       "      <td>2019-07-01 00:02:52.213</td>\n",
       "      <td>BRD5180</td>\n",
       "      <td>[[36.157523,-86.775794]]</td>\n",
       "      <td>PoweredW4G7R</td>\n",
       "      <td>2.0</td>\n",
       "      <td>0.0</td>\n",
       "    </tr>\n",
       "  </tbody>\n",
       "</table>\n",
       "</div>"
      ],
      "text/plain": [
       "             pubTimeStamp tripRecordNum  \\\n",
       "0 2019-07-01 00:02:52.213       BRD5179   \n",
       "1 2019-07-01 00:02:52.213       BRD5177   \n",
       "2 2019-07-01 00:02:52.213       BRD5176   \n",
       "3 2019-07-01 00:02:52.213       BRD5178   \n",
       "4 2019-07-01 00:02:52.213       BRD5180   \n",
       "\n",
       "                                           tripRoute        sumdID  \\\n",
       "0  [[36.177438,-86.751861],[36.177425,-86.751987]...  PoweredZSHKJ   \n",
       "1    [[36.162718,-86.771102],[36.162718,-86.771102]]  Powered22JF6   \n",
       "2  [[36.162734,-86.77122],[36.162706,-86.771325],...  Powered22JF6   \n",
       "3                           [[36.152499,-86.798708]]  PoweredIB2CC   \n",
       "4                           [[36.157523,-86.775794]]  PoweredW4G7R   \n",
       "\n",
       "   tripDuration  tripDistance  \n",
       "0           2.0           0.0  \n",
       "1           0.0           0.0  \n",
       "2           1.0           0.0  \n",
       "3           1.0           0.0  \n",
       "4           2.0           0.0  "
      ]
     },
     "execution_count": 40,
     "metadata": {},
     "output_type": "execute_result"
    }
   ],
   "source": [
    "july_trips_pkl = pd.read_pickle(\"../data/july_trips.pkl\")\n",
    "july_trips_pkl.head(5)"
   ]
  },
  {
   "cell_type": "markdown",
   "id": "f2f704e0",
   "metadata": {},
   "source": [
    "##### Statistics is decision making in the face of uncertainty or variablity\n",
    "\n",
    " - GOAL: can we understand the metrics that explain what is the ideal density of available scooters?"
   ]
  },
  {
   "cell_type": "markdown",
   "id": "5f3a6f8a",
   "metadata": {},
   "source": [
    "### Common descriptive statistics\n",
    " - measures of central tendency (mean, median, mode)\n",
    " - measures of variability (standard deviation, variance)\n",
    " - distribution metrics (quartiles, interquartile range, outliers)"
   ]
  },
  {
   "cell_type": "code",
   "execution_count": 10,
   "id": "28ac800b",
   "metadata": {},
   "outputs": [
    {
     "data": {
      "text/plain": [
       "4.000000     6423\n",
       "5.000000     6168\n",
       "3.000000     5900\n",
       "6.000000     5830\n",
       "7.000000     5091\n",
       "             ... \n",
       "18.263950       1\n",
       "55.839800       1\n",
       "7.425817        1\n",
       "13.871150       1\n",
       "27.563217       1\n",
       "Name: tripDuration, Length: 35772, dtype: int64"
      ]
     },
     "execution_count": 10,
     "metadata": {},
     "output_type": "execute_result"
    }
   ],
   "source": [
    "july_trips_pkl['tripDuration'].value_counts()"
   ]
  },
  {
   "cell_type": "code",
   "execution_count": 11,
   "id": "6a719095",
   "metadata": {},
   "outputs": [
    {
     "data": {
      "text/html": [
       "<div>\n",
       "<style scoped>\n",
       "    .dataframe tbody tr th:only-of-type {\n",
       "        vertical-align: middle;\n",
       "    }\n",
       "\n",
       "    .dataframe tbody tr th {\n",
       "        vertical-align: top;\n",
       "    }\n",
       "\n",
       "    .dataframe thead th {\n",
       "        text-align: right;\n",
       "    }\n",
       "</style>\n",
       "<table border=\"1\" class=\"dataframe\">\n",
       "  <thead>\n",
       "    <tr style=\"text-align: right;\">\n",
       "      <th></th>\n",
       "      <th>tripDuration</th>\n",
       "      <th>tripDistance</th>\n",
       "    </tr>\n",
       "  </thead>\n",
       "  <tbody>\n",
       "    <tr>\n",
       "      <th>count</th>\n",
       "      <td>134926.000000</td>\n",
       "      <td>1.349260e+05</td>\n",
       "    </tr>\n",
       "    <tr>\n",
       "      <th>mean</th>\n",
       "      <td>97.097264</td>\n",
       "      <td>5.333994e+03</td>\n",
       "    </tr>\n",
       "    <tr>\n",
       "      <th>std</th>\n",
       "      <td>1722.548585</td>\n",
       "      <td>1.406051e+05</td>\n",
       "    </tr>\n",
       "    <tr>\n",
       "      <th>min</th>\n",
       "      <td>-19.358267</td>\n",
       "      <td>-2.032480e+07</td>\n",
       "    </tr>\n",
       "    <tr>\n",
       "      <th>25%</th>\n",
       "      <td>5.000000</td>\n",
       "      <td>3.280840e+02</td>\n",
       "    </tr>\n",
       "    <tr>\n",
       "      <th>50%</th>\n",
       "      <td>10.148442</td>\n",
       "      <td>2.956037e+03</td>\n",
       "    </tr>\n",
       "    <tr>\n",
       "      <th>75%</th>\n",
       "      <td>21.250550</td>\n",
       "      <td>6.916011e+03</td>\n",
       "    </tr>\n",
       "    <tr>\n",
       "      <th>max</th>\n",
       "      <td>512619.000000</td>\n",
       "      <td>3.188448e+07</td>\n",
       "    </tr>\n",
       "  </tbody>\n",
       "</table>\n",
       "</div>"
      ],
      "text/plain": [
       "        tripDuration  tripDistance\n",
       "count  134926.000000  1.349260e+05\n",
       "mean       97.097264  5.333994e+03\n",
       "std      1722.548585  1.406051e+05\n",
       "min       -19.358267 -2.032480e+07\n",
       "25%         5.000000  3.280840e+02\n",
       "50%        10.148442  2.956037e+03\n",
       "75%        21.250550  6.916011e+03\n",
       "max    512619.000000  3.188448e+07"
      ]
     },
     "execution_count": 11,
     "metadata": {},
     "output_type": "execute_result"
    }
   ],
   "source": [
    "july_trips_pkl.describe()"
   ]
  },
  {
   "cell_type": "markdown",
   "id": "e935124b",
   "metadata": {},
   "source": [
    "  What is the mean for `tripDuration` and `tripDistance` ?\n",
    " "
   ]
  },
  {
   "cell_type": "code",
   "execution_count": 12,
   "id": "89594ced",
   "metadata": {},
   "outputs": [
    {
     "data": {
      "text/plain": [
       "pubTimeStamp     0\n",
       "tripRecordNum    0\n",
       "tripRoute        0\n",
       "sumdID           0\n",
       "tripDuration     0\n",
       "tripDistance     0\n",
       "dtype: int64"
      ]
     },
     "execution_count": 12,
     "metadata": {},
     "output_type": "execute_result"
    }
   ],
   "source": [
    "july_trips_pkl.isnull().sum()"
   ]
  },
  {
   "cell_type": "code",
   "execution_count": 22,
   "id": "67178c91",
   "metadata": {},
   "outputs": [],
   "source": [
    "scooter_name = july_trips_pkl.tripRecordNum.unique()"
   ]
  },
  {
   "cell_type": "code",
   "execution_count": 23,
   "id": "73319332",
   "metadata": {},
   "outputs": [
    {
     "name": "stdout",
     "output_type": "stream",
     "text": [
      "       tripRecordNum  tripDuration  tripDistance\n",
      "0            BRD5179      2.000000           0.0\n",
      "1            BRD5177      0.000000           0.0\n",
      "2            BRD5176      1.000000           0.0\n",
      "3            BRD5178      1.000000           0.0\n",
      "4            BRD5180      2.000000           0.0\n",
      "...              ...           ...           ...\n",
      "134921          JMP3     17.497950        7075.2\n",
      "134922          JMP2      3.154917        1320.0\n",
      "134923          JMP1     18.440650        7920.0\n",
      "134924         JMP35    142.345610       20433.6\n",
      "134925         JMP34    209.409650       14889.6\n",
      "\n",
      "[134926 rows x 3 columns]\n"
     ]
    }
   ],
   "source": [
    "scoot_name = pd.DataFrame(july_trips_pkl, columns = ['tripRecordNum', 'tripDuration', 'tripDistance'])\n",
    "print(scoot_name)"
   ]
  },
  {
   "cell_type": "code",
   "execution_count": 39,
   "id": "07ada897",
   "metadata": {},
   "outputs": [
    {
     "data": {
      "text/html": [
       "<div>\n",
       "<style scoped>\n",
       "    .dataframe tbody tr th:only-of-type {\n",
       "        vertical-align: middle;\n",
       "    }\n",
       "\n",
       "    .dataframe tbody tr th {\n",
       "        vertical-align: top;\n",
       "    }\n",
       "\n",
       "    .dataframe thead th {\n",
       "        text-align: right;\n",
       "    }\n",
       "</style>\n",
       "<table border=\"1\" class=\"dataframe\">\n",
       "  <thead>\n",
       "    <tr style=\"text-align: right;\">\n",
       "      <th></th>\n",
       "      <th>tripRecordNum</th>\n",
       "      <th>tripDuration</th>\n",
       "      <th>tripDistance</th>\n",
       "    </tr>\n",
       "  </thead>\n",
       "  <tbody>\n",
       "    <tr>\n",
       "      <th>0</th>\n",
       "      <td>BRD5179</td>\n",
       "      <td>2.0</td>\n",
       "      <td>0.0</td>\n",
       "    </tr>\n",
       "    <tr>\n",
       "      <th>1</th>\n",
       "      <td>BRD5177</td>\n",
       "      <td>0.0</td>\n",
       "      <td>0.0</td>\n",
       "    </tr>\n",
       "    <tr>\n",
       "      <th>2</th>\n",
       "      <td>BRD5176</td>\n",
       "      <td>1.0</td>\n",
       "      <td>0.0</td>\n",
       "    </tr>\n",
       "    <tr>\n",
       "      <th>3</th>\n",
       "      <td>BRD5178</td>\n",
       "      <td>1.0</td>\n",
       "      <td>0.0</td>\n",
       "    </tr>\n",
       "    <tr>\n",
       "      <th>4</th>\n",
       "      <td>BRD5180</td>\n",
       "      <td>2.0</td>\n",
       "      <td>0.0</td>\n",
       "    </tr>\n",
       "  </tbody>\n",
       "</table>\n",
       "</div>"
      ],
      "text/plain": [
       "  tripRecordNum  tripDuration  tripDistance\n",
       "0       BRD5179           2.0           0.0\n",
       "1       BRD5177           0.0           0.0\n",
       "2       BRD5176           1.0           0.0\n",
       "3       BRD5178           1.0           0.0\n",
       "4       BRD5180           2.0           0.0"
      ]
     },
     "execution_count": 39,
     "metadata": {},
     "output_type": "execute_result"
    }
   ],
   "source": [
    "Bird = scoot_name[scoot_name['tripRecordNum'].str.contains('BRD')]\n",
    "Bird.head()"
   ]
  },
  {
   "cell_type": "code",
   "execution_count": 29,
   "id": "9a2c25ec",
   "metadata": {},
   "outputs": [
    {
     "data": {
      "text/html": [
       "<div>\n",
       "<style scoped>\n",
       "    .dataframe tbody tr th:only-of-type {\n",
       "        vertical-align: middle;\n",
       "    }\n",
       "\n",
       "    .dataframe tbody tr th {\n",
       "        vertical-align: top;\n",
       "    }\n",
       "\n",
       "    .dataframe thead th {\n",
       "        text-align: right;\n",
       "    }\n",
       "</style>\n",
       "<table border=\"1\" class=\"dataframe\">\n",
       "  <thead>\n",
       "    <tr style=\"text-align: right;\">\n",
       "      <th></th>\n",
       "      <th>tripRecordNum</th>\n",
       "      <th>tripDuration</th>\n",
       "      <th>tripDistance</th>\n",
       "    </tr>\n",
       "  </thead>\n",
       "  <tbody>\n",
       "    <tr>\n",
       "      <th>5</th>\n",
       "      <td>LFT7</td>\n",
       "      <td>3.716183</td>\n",
       "      <td>2375.32816</td>\n",
       "    </tr>\n",
       "    <tr>\n",
       "      <th>10</th>\n",
       "      <td>LFT11</td>\n",
       "      <td>6.297550</td>\n",
       "      <td>5488.84532</td>\n",
       "    </tr>\n",
       "    <tr>\n",
       "      <th>11</th>\n",
       "      <td>LFT12</td>\n",
       "      <td>6.776617</td>\n",
       "      <td>5383.85844</td>\n",
       "    </tr>\n",
       "    <tr>\n",
       "      <th>12</th>\n",
       "      <td>LFT15</td>\n",
       "      <td>7.443667</td>\n",
       "      <td>4379.92140</td>\n",
       "    </tr>\n",
       "    <tr>\n",
       "      <th>13</th>\n",
       "      <td>LFT16</td>\n",
       "      <td>1.487350</td>\n",
       "      <td>104.98688</td>\n",
       "    </tr>\n",
       "  </tbody>\n",
       "</table>\n",
       "</div>"
      ],
      "text/plain": [
       "   tripRecordNum  tripDuration  tripDistance\n",
       "5           LFT7      3.716183    2375.32816\n",
       "10         LFT11      6.297550    5488.84532\n",
       "11         LFT12      6.776617    5383.85844\n",
       "12         LFT15      7.443667    4379.92140\n",
       "13         LFT16      1.487350     104.98688"
      ]
     },
     "execution_count": 29,
     "metadata": {},
     "output_type": "execute_result"
    }
   ],
   "source": [
    "Lyft = scoot_name[scoot_name['tripRecordNum'].str.contains('LFT')]\n",
    "Lyft.head()"
   ]
  },
  {
   "cell_type": "code",
   "execution_count": 31,
   "id": "3c3fb840",
   "metadata": {},
   "outputs": [
    {
     "data": {
      "text/html": [
       "<div>\n",
       "<style scoped>\n",
       "    .dataframe tbody tr th:only-of-type {\n",
       "        vertical-align: middle;\n",
       "    }\n",
       "\n",
       "    .dataframe tbody tr th {\n",
       "        vertical-align: top;\n",
       "    }\n",
       "\n",
       "    .dataframe thead th {\n",
       "        text-align: right;\n",
       "    }\n",
       "</style>\n",
       "<table border=\"1\" class=\"dataframe\">\n",
       "  <thead>\n",
       "    <tr style=\"text-align: right;\">\n",
       "      <th></th>\n",
       "      <th>tripRecordNum</th>\n",
       "      <th>tripDuration</th>\n",
       "      <th>tripDistance</th>\n",
       "    </tr>\n",
       "  </thead>\n",
       "  <tbody>\n",
       "    <tr>\n",
       "      <th>227</th>\n",
       "      <td>LIM784824</td>\n",
       "      <td>2.0</td>\n",
       "      <td>782.872780</td>\n",
       "    </tr>\n",
       "    <tr>\n",
       "      <th>228</th>\n",
       "      <td>LIM784825</td>\n",
       "      <td>1.0</td>\n",
       "      <td>413.195448</td>\n",
       "    </tr>\n",
       "    <tr>\n",
       "      <th>229</th>\n",
       "      <td>LIM784829</td>\n",
       "      <td>4.0</td>\n",
       "      <td>3545.810316</td>\n",
       "    </tr>\n",
       "    <tr>\n",
       "      <th>230</th>\n",
       "      <td>LIM784835</td>\n",
       "      <td>5.0</td>\n",
       "      <td>3302.785000</td>\n",
       "    </tr>\n",
       "    <tr>\n",
       "      <th>231</th>\n",
       "      <td>LIM784837</td>\n",
       "      <td>1.0</td>\n",
       "      <td>31.924046</td>\n",
       "    </tr>\n",
       "  </tbody>\n",
       "</table>\n",
       "</div>"
      ],
      "text/plain": [
       "    tripRecordNum  tripDuration  tripDistance\n",
       "227     LIM784824           2.0    782.872780\n",
       "228     LIM784825           1.0    413.195448\n",
       "229     LIM784829           4.0   3545.810316\n",
       "230     LIM784835           5.0   3302.785000\n",
       "231     LIM784837           1.0     31.924046"
      ]
     },
     "execution_count": 31,
     "metadata": {},
     "output_type": "execute_result"
    }
   ],
   "source": [
    "Lime = scoot_name[scoot_name['tripRecordNum'].str.contains('LIM')]\n",
    "Lime.head()"
   ]
  },
  {
   "cell_type": "code",
   "execution_count": 32,
   "id": "68e7f6c6",
   "metadata": {},
   "outputs": [
    {
     "data": {
      "text/html": [
       "<div>\n",
       "<style scoped>\n",
       "    .dataframe tbody tr th:only-of-type {\n",
       "        vertical-align: middle;\n",
       "    }\n",
       "\n",
       "    .dataframe tbody tr th {\n",
       "        vertical-align: top;\n",
       "    }\n",
       "\n",
       "    .dataframe thead th {\n",
       "        text-align: right;\n",
       "    }\n",
       "</style>\n",
       "<table border=\"1\" class=\"dataframe\">\n",
       "  <thead>\n",
       "    <tr style=\"text-align: right;\">\n",
       "      <th></th>\n",
       "      <th>tripRecordNum</th>\n",
       "      <th>tripDuration</th>\n",
       "      <th>tripDistance</th>\n",
       "    </tr>\n",
       "  </thead>\n",
       "  <tbody>\n",
       "    <tr>\n",
       "      <th>2994</th>\n",
       "      <td>JMP64</td>\n",
       "      <td>21.434584</td>\n",
       "      <td>12249.6</td>\n",
       "    </tr>\n",
       "    <tr>\n",
       "      <th>2995</th>\n",
       "      <td>JMP68</td>\n",
       "      <td>21.616800</td>\n",
       "      <td>9979.2</td>\n",
       "    </tr>\n",
       "    <tr>\n",
       "      <th>2996</th>\n",
       "      <td>JMP55</td>\n",
       "      <td>828.387000</td>\n",
       "      <td>8236.8</td>\n",
       "    </tr>\n",
       "    <tr>\n",
       "      <th>2997</th>\n",
       "      <td>JMP63</td>\n",
       "      <td>10.221517</td>\n",
       "      <td>4752.0</td>\n",
       "    </tr>\n",
       "    <tr>\n",
       "      <th>2998</th>\n",
       "      <td>JMP62</td>\n",
       "      <td>10.497383</td>\n",
       "      <td>4752.0</td>\n",
       "    </tr>\n",
       "  </tbody>\n",
       "</table>\n",
       "</div>"
      ],
      "text/plain": [
       "     tripRecordNum  tripDuration  tripDistance\n",
       "2994         JMP64     21.434584       12249.6\n",
       "2995         JMP68     21.616800        9979.2\n",
       "2996         JMP55    828.387000        8236.8\n",
       "2997         JMP63     10.221517        4752.0\n",
       "2998         JMP62     10.497383        4752.0"
      ]
     },
     "execution_count": 32,
     "metadata": {},
     "output_type": "execute_result"
    }
   ],
   "source": [
    "Jump = scoot_name[scoot_name['tripRecordNum'].str.contains('JMP')]\n",
    "Jump.head()"
   ]
  },
  {
   "cell_type": "code",
   "execution_count": 33,
   "id": "3fdcd0dc",
   "metadata": {},
   "outputs": [
    {
     "data": {
      "text/html": [
       "<div>\n",
       "<style scoped>\n",
       "    .dataframe tbody tr th:only-of-type {\n",
       "        vertical-align: middle;\n",
       "    }\n",
       "\n",
       "    .dataframe tbody tr th {\n",
       "        vertical-align: top;\n",
       "    }\n",
       "\n",
       "    .dataframe thead th {\n",
       "        text-align: right;\n",
       "    }\n",
       "</style>\n",
       "<table border=\"1\" class=\"dataframe\">\n",
       "  <thead>\n",
       "    <tr style=\"text-align: right;\">\n",
       "      <th></th>\n",
       "      <th>tripRecordNum</th>\n",
       "      <th>tripDuration</th>\n",
       "      <th>tripDistance</th>\n",
       "    </tr>\n",
       "  </thead>\n",
       "  <tbody>\n",
       "    <tr>\n",
       "      <th>74</th>\n",
       "      <td>SPI12</td>\n",
       "      <td>3.0</td>\n",
       "      <td>131.23360</td>\n",
       "    </tr>\n",
       "    <tr>\n",
       "      <th>75</th>\n",
       "      <td>SPI11</td>\n",
       "      <td>8.0</td>\n",
       "      <td>4366.79804</td>\n",
       "    </tr>\n",
       "    <tr>\n",
       "      <th>76</th>\n",
       "      <td>SPI10</td>\n",
       "      <td>8.0</td>\n",
       "      <td>4507.87416</td>\n",
       "    </tr>\n",
       "    <tr>\n",
       "      <th>100</th>\n",
       "      <td>SPI9</td>\n",
       "      <td>10.0</td>\n",
       "      <td>3720.47256</td>\n",
       "    </tr>\n",
       "    <tr>\n",
       "      <th>125</th>\n",
       "      <td>SPI19</td>\n",
       "      <td>4.0</td>\n",
       "      <td>236.22048</td>\n",
       "    </tr>\n",
       "  </tbody>\n",
       "</table>\n",
       "</div>"
      ],
      "text/plain": [
       "    tripRecordNum  tripDuration  tripDistance\n",
       "74          SPI12           3.0     131.23360\n",
       "75          SPI11           8.0    4366.79804\n",
       "76          SPI10           8.0    4507.87416\n",
       "100          SPI9          10.0    3720.47256\n",
       "125         SPI19           4.0     236.22048"
      ]
     },
     "execution_count": 33,
     "metadata": {},
     "output_type": "execute_result"
    }
   ],
   "source": [
    "Spin= scoot_name[scoot_name['tripRecordNum'].str.contains('SPI')]\n",
    "Spin.head()"
   ]
  },
  {
   "cell_type": "code",
   "execution_count": 36,
   "id": "61b5f942",
   "metadata": {},
   "outputs": [
    {
     "data": {
      "text/html": [
       "<div>\n",
       "<style scoped>\n",
       "    .dataframe tbody tr th:only-of-type {\n",
       "        vertical-align: middle;\n",
       "    }\n",
       "\n",
       "    .dataframe tbody tr th {\n",
       "        vertical-align: top;\n",
       "    }\n",
       "\n",
       "    .dataframe thead th {\n",
       "        text-align: right;\n",
       "    }\n",
       "</style>\n",
       "<table border=\"1\" class=\"dataframe\">\n",
       "  <thead>\n",
       "    <tr style=\"text-align: right;\">\n",
       "      <th></th>\n",
       "      <th>tripRecordNum</th>\n",
       "      <th>tripDuration</th>\n",
       "      <th>tripDistance</th>\n",
       "    </tr>\n",
       "  </thead>\n",
       "  <tbody>\n",
       "    <tr>\n",
       "      <th>56</th>\n",
       "      <td>BOL00005</td>\n",
       "      <td>391.0</td>\n",
       "      <td>2221.13</td>\n",
       "    </tr>\n",
       "    <tr>\n",
       "      <th>57</th>\n",
       "      <td>BOL00004</td>\n",
       "      <td>395.0</td>\n",
       "      <td>2162.07</td>\n",
       "    </tr>\n",
       "    <tr>\n",
       "      <th>101</th>\n",
       "      <td>BOL00008</td>\n",
       "      <td>372.0</td>\n",
       "      <td>2568.90</td>\n",
       "    </tr>\n",
       "    <tr>\n",
       "      <th>142</th>\n",
       "      <td>BOL00010</td>\n",
       "      <td>597.0</td>\n",
       "      <td>4320.87</td>\n",
       "    </tr>\n",
       "    <tr>\n",
       "      <th>163</th>\n",
       "      <td>BOL00015</td>\n",
       "      <td>325.0</td>\n",
       "      <td>1633.86</td>\n",
       "    </tr>\n",
       "  </tbody>\n",
       "</table>\n",
       "</div>"
      ],
      "text/plain": [
       "    tripRecordNum  tripDuration  tripDistance\n",
       "56       BOL00005         391.0       2221.13\n",
       "57       BOL00004         395.0       2162.07\n",
       "101      BOL00008         372.0       2568.90\n",
       "142      BOL00010         597.0       4320.87\n",
       "163      BOL00015         325.0       1633.86"
      ]
     },
     "execution_count": 36,
     "metadata": {},
     "output_type": "execute_result"
    }
   ],
   "source": [
    "Bolt = scoot_name[scoot_name['tripRecordNum'].str.contains('BOL')]\n",
    "Bolt.head()"
   ]
  },
  {
   "cell_type": "code",
   "execution_count": 37,
   "id": "8f00e556",
   "metadata": {},
   "outputs": [
    {
     "data": {
      "text/html": [
       "<div>\n",
       "<style scoped>\n",
       "    .dataframe tbody tr th:only-of-type {\n",
       "        vertical-align: middle;\n",
       "    }\n",
       "\n",
       "    .dataframe tbody tr th {\n",
       "        vertical-align: top;\n",
       "    }\n",
       "\n",
       "    .dataframe thead th {\n",
       "        text-align: right;\n",
       "    }\n",
       "</style>\n",
       "<table border=\"1\" class=\"dataframe\">\n",
       "  <thead>\n",
       "    <tr style=\"text-align: right;\">\n",
       "      <th></th>\n",
       "      <th>tripRecordNum</th>\n",
       "      <th>tripDuration</th>\n",
       "      <th>tripDistance</th>\n",
       "    </tr>\n",
       "  </thead>\n",
       "  <tbody>\n",
       "    <tr>\n",
       "      <th>2202</th>\n",
       "      <td>GOT11</td>\n",
       "      <td>2.183333</td>\n",
       "      <td>420.964580</td>\n",
       "    </tr>\n",
       "    <tr>\n",
       "      <th>2234</th>\n",
       "      <td>GOT12</td>\n",
       "      <td>7.966667</td>\n",
       "      <td>26340.650449</td>\n",
       "    </tr>\n",
       "    <tr>\n",
       "      <th>2877</th>\n",
       "      <td>GOT13</td>\n",
       "      <td>3.150000</td>\n",
       "      <td>11.191175</td>\n",
       "    </tr>\n",
       "    <tr>\n",
       "      <th>11847</th>\n",
       "      <td>GOT1</td>\n",
       "      <td>15.000000</td>\n",
       "      <td>1228.809094</td>\n",
       "    </tr>\n",
       "    <tr>\n",
       "      <th>11880</th>\n",
       "      <td>GOT2</td>\n",
       "      <td>5.000000</td>\n",
       "      <td>1491.154903</td>\n",
       "    </tr>\n",
       "  </tbody>\n",
       "</table>\n",
       "</div>"
      ],
      "text/plain": [
       "      tripRecordNum  tripDuration  tripDistance\n",
       "2202          GOT11      2.183333    420.964580\n",
       "2234          GOT12      7.966667  26340.650449\n",
       "2877          GOT13      3.150000     11.191175\n",
       "11847          GOT1     15.000000   1228.809094\n",
       "11880          GOT2      5.000000   1491.154903"
      ]
     },
     "execution_count": 37,
     "metadata": {},
     "output_type": "execute_result"
    }
   ],
   "source": [
    "Gotcha = scoot_name[scoot_name['tripRecordNum'].str.contains('GOT')]\n",
    "Gotcha.head()"
   ]
  },
  {
   "cell_type": "code",
   "execution_count": 52,
   "id": "a9d576b3",
   "metadata": {},
   "outputs": [
    {
     "data": {
      "text/html": [
       "<div>\n",
       "<style scoped>\n",
       "    .dataframe tbody tr th:only-of-type {\n",
       "        vertical-align: middle;\n",
       "    }\n",
       "\n",
       "    .dataframe tbody tr th {\n",
       "        vertical-align: top;\n",
       "    }\n",
       "\n",
       "    .dataframe thead th {\n",
       "        text-align: right;\n",
       "    }\n",
       "</style>\n",
       "<table border=\"1\" class=\"dataframe\">\n",
       "  <thead>\n",
       "    <tr style=\"text-align: right;\">\n",
       "      <th></th>\n",
       "      <th>tripDuration</th>\n",
       "      <th>tripDistance</th>\n",
       "    </tr>\n",
       "  </thead>\n",
       "  <tbody>\n",
       "    <tr>\n",
       "      <th>count</th>\n",
       "      <td>11685.000000</td>\n",
       "      <td>11685.000000</td>\n",
       "    </tr>\n",
       "    <tr>\n",
       "      <th>mean</th>\n",
       "      <td>21.185537</td>\n",
       "      <td>2775.959577</td>\n",
       "    </tr>\n",
       "    <tr>\n",
       "      <th>std</th>\n",
       "      <td>43.450700</td>\n",
       "      <td>2887.430660</td>\n",
       "    </tr>\n",
       "    <tr>\n",
       "      <th>min</th>\n",
       "      <td>2.000000</td>\n",
       "      <td>0.000000</td>\n",
       "    </tr>\n",
       "    <tr>\n",
       "      <th>25%</th>\n",
       "      <td>7.000000</td>\n",
       "      <td>777.559080</td>\n",
       "    </tr>\n",
       "    <tr>\n",
       "      <th>50%</th>\n",
       "      <td>13.000000</td>\n",
       "      <td>2034.120800</td>\n",
       "    </tr>\n",
       "    <tr>\n",
       "      <th>75%</th>\n",
       "      <td>24.000000</td>\n",
       "      <td>3772.966000</td>\n",
       "    </tr>\n",
       "    <tr>\n",
       "      <th>max</th>\n",
       "      <td>2005.000000</td>\n",
       "      <td>66207.351200</td>\n",
       "    </tr>\n",
       "  </tbody>\n",
       "</table>\n",
       "</div>"
      ],
      "text/plain": [
       "       tripDuration  tripDistance\n",
       "count  11685.000000  11685.000000\n",
       "mean      21.185537   2775.959577\n",
       "std       43.450700   2887.430660\n",
       "min        2.000000      0.000000\n",
       "25%        7.000000    777.559080\n",
       "50%       13.000000   2034.120800\n",
       "75%       24.000000   3772.966000\n",
       "max     2005.000000  66207.351200"
      ]
     },
     "execution_count": 52,
     "metadata": {},
     "output_type": "execute_result"
    }
   ],
   "source": [
    "Jump.max()\n",
    "Lyft.max()\n",
    "Bolt.max()\n",
    "Gotcha.max()\n",
    "Spin.describe()"
   ]
  },
  {
   "cell_type": "code",
   "execution_count": 100,
   "id": "72e61544",
   "metadata": {},
   "outputs": [
    {
     "data": {
      "image/png": "[encoded data removed]",
      "text/plain": [
       "<Figure size 432x288 with 1 Axes>"
      ]
     },
     "metadata": {},
     "output_type": "display_data"
    }
   ],
   "source": [
    "Lyft.tripDuration.plot();Lyft.tripDistance.plot();Bird.tripDuration.plot();Bird.tripDistance.plot();"
   ]
  },
  {
   "cell_type": "code",
   "execution_count": 93,
   "id": "d38ec7ab",
   "metadata": {},
   "outputs": [
    {
     "data": {
      "image/png": "[encoded data removed]",
      "text/plain": [
       "<Figure size 432x288 with 1 Axes>"
      ]
     },
     "metadata": {},
     "output_type": "display_data"
    }
   ],
   "source": [
    "plt.hist('tripDuration', bins = 2, data = Jump);\n",
    "plt.hist('tripDuration', bins = 4, data = Spin);\n",
    "plt.hist('tripDuration', bins = 6, data = Bird);\n",
    "plt.hist('tripDuration', bins = 8, data = Lyft);"
   ]
  },
  {
   "cell_type": "code",
   "execution_count": 85,
   "id": "fab1911d",
   "metadata": {},
   "outputs": [
    {
     "data": {
      "image/png": "[encoded data removed]",
      "text/plain": [
       "<Figure size 360x360 with 6 Axes>"
      ]
     },
     "metadata": {},
     "output_type": "display_data"
    },
    {
     "data": {
      "image/png": "[encoded data removed]",
      "text/plain": [
       "<Figure size 360x360 with 6 Axes>"
      ]
     },
     "metadata": {},
     "output_type": "display_data"
    }
   ],
   "source": [
    "#set the seaborn theme, style, color palette\n",
    "sns.set(style=\"ticks\", color_codes=True)\n",
    "\n",
    "#make a correlation plot that looks at each variables relationship with every other variable\n",
    "#and plots the distribution of each variable along the diagonal\n",
    "sns.pairplot(Jump);sns.pairplot(Lyft);"
   ]
  },
  {
   "cell_type": "code",
   "execution_count": 86,
   "id": "7348deac",
   "metadata": {},
   "outputs": [
    {
     "data": {
      "image/png": "[encoded data removed]",
      "text/plain": [
       "<Figure size 360x360 with 6 Axes>"
      ]
     },
     "metadata": {},
     "output_type": "display_data"
    },
    {
     "data": {
      "image/png": "[encoded data removed]",
      "text/plain": [
       "<Figure size 360x360 with 6 Axes>"
      ]
     },
     "metadata": {},
     "output_type": "display_data"
    }
   ],
   "source": [
    "#set the seaborn theme, style, color palette\n",
    "sns.set(style=\"ticks\", color_codes=True)\n",
    "\n",
    "#make a correlation plot that looks at each variables relationship with every other variable\n",
    "#and plots the distribution of each variable along the diagonal\n",
    "\n",
    "sns.pairplot(Bird);sns.pairplot(Lime);"
   ]
  },
  {
   "cell_type": "code",
   "execution_count": 94,
   "id": "4b3a2abe",
   "metadata": {},
   "outputs": [
    {
     "data": {
      "image/png": "[encoded data removed]",
      "text/plain": [
       "<Figure size 432x288 with 1 Axes>"
      ]
     },
     "metadata": {},
     "output_type": "display_data"
    }
   ],
   "source": [
    "plt.scatter('tripDistance', 'tripDuration', data = Lime)\n",
    "plt.xlabel('tripDistance')\n",
    "plt.ylabel('tripDuration');"
   ]
  },
  {
   "cell_type": "code",
   "execution_count": 95,
   "id": "9f8597a9",
   "metadata": {},
   "outputs": [
    {
     "data": {
      "image/png": "[encoded data removed]",
      "text/plain": [
       "<Figure size 432x288 with 1 Axes>"
      ]
     },
     "metadata": {},
     "output_type": "display_data"
    }
   ],
   "source": [
    "plt.scatter('tripDistance', 'tripDuration', data = Lyft)\n",
    "plt.xlabel('tripDistance')\n",
    "plt.ylabel('tripDuration');"
   ]
  },
  {
   "cell_type": "code",
   "execution_count": 96,
   "id": "a7c30bd3",
   "metadata": {},
   "outputs": [
    {
     "data": {
      "image/png": "[encoded data removed]",
      "text/plain": [
       "<Figure size 432x288 with 1 Axes>"
      ]
     },
     "metadata": {},
     "output_type": "display_data"
    }
   ],
   "source": [
    "plt.scatter('tripDistance', 'tripDuration', data = Jump)\n",
    "plt.xlabel('tripDistance')\n",
    "plt.ylabel('tripDuration');"
   ]
  },
  {
   "cell_type": "code",
   "execution_count": 97,
   "id": "24fd67f5",
   "metadata": {},
   "outputs": [
    {
     "data": {
      "image/png": "[encoded data removed]",
      "text/plain": [
       "<Figure size 432x288 with 1 Axes>"
      ]
     },
     "metadata": {},
     "output_type": "display_data"
    }
   ],
   "source": [
    "plt.scatter('tripDistance', 'tripDuration', data = Bolt)\n",
    "plt.xlabel('tripDistance')\n",
    "plt.ylabel('tripDuration');"
   ]
  },
  {
   "cell_type": "code",
   "execution_count": 98,
   "id": "3fc9ac13",
   "metadata": {},
   "outputs": [
    {
     "data": {
      "image/png": "[encoded data removed]",
      "text/plain": [
       "<Figure size 432x288 with 1 Axes>"
      ]
     },
     "metadata": {},
     "output_type": "display_data"
    }
   ],
   "source": [
    "plt.scatter('tripDistance', 'tripDuration', data = Bird)\n",
    "plt.xlabel('tripDistance')\n",
    "plt.ylabel('tripDuration');"
   ]
  },
  {
   "cell_type": "code",
   "execution_count": 101,
   "id": "3ad9c26f",
   "metadata": {},
   "outputs": [
    {
     "data": {
      "image/png": "[encoded data removed]",
      "text/plain": [
       "<Figure size 432x288 with 1 Axes>"
      ]
     },
     "metadata": {},
     "output_type": "display_data"
    }
   ],
   "source": [
    "plt.scatter('tripDistance', 'tripDuration', data = july_trips_pkl)\n",
    "plt.xlabel('tripDistance')\n",
    "plt.ylabel('tripDuration');"
   ]
  }
 ],
 "metadata": {
  "kernelspec": {
   "display_name": "Python 3",
   "language": "python",
   "name": "python3"
  },
  "language_info": {
   "codemirror_mode": {
    "name": "ipython",
    "version": 3
   },
   "file_extension": ".py",
   "mimetype": "text/x-python",
   "name": "python",
   "nbconvert_exporter": "python",
   "pygments_lexer": "ipython3",
   "version": "3.8.8"
  }
 },
 "nbformat": 4,
 "nbformat_minor": 5
}
