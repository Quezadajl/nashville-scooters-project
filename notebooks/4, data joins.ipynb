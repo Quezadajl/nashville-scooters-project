{
 "cells": [
  {
   "cell_type": "markdown",
   "id": "3de69b78",
   "metadata": {},
   "source": [
    "# Nashville Scooter Data pt4, joining the data"
   ]
  },
  {
   "cell_type": "code",
   "execution_count": 1,
   "id": "30ac7301",
   "metadata": {},
   "outputs": [],
   "source": [
    "import pandas as pd\n",
    "import numpy as np\n",
    "import matplotlib.pyplot as plt\n",
    "import pickle\n",
    "%matplotlib inline"
   ]
  },
  {
   "cell_type": "code",
   "execution_count": 2,
   "id": "1c858fa1",
   "metadata": {},
   "outputs": [],
   "source": [
    "may = pd.read_csv('../data/may.csv')\n",
    "may = may.sort_values('companyname')"
   ]
  },
  {
   "cell_type": "code",
   "execution_count": 3,
   "id": "89668a67",
   "metadata": {},
   "outputs": [
    {
     "data": {
      "text/html": [
       "<div>\n",
       "<style scoped>\n",
       "    .dataframe tbody tr th:only-of-type {\n",
       "        vertical-align: middle;\n",
       "    }\n",
       "\n",
       "    .dataframe tbody tr th {\n",
       "        vertical-align: top;\n",
       "    }\n",
       "\n",
       "    .dataframe thead th {\n",
       "        text-align: right;\n",
       "    }\n",
       "</style>\n",
       "<table border=\"1\" class=\"dataframe\">\n",
       "  <thead>\n",
       "    <tr style=\"text-align: right;\">\n",
       "      <th></th>\n",
       "      <th>pubdatetime</th>\n",
       "      <th>latitude</th>\n",
       "      <th>longitude</th>\n",
       "      <th>sumdid</th>\n",
       "      <th>sumdtype</th>\n",
       "      <th>chargelevel</th>\n",
       "      <th>sumdgroup</th>\n",
       "      <th>costpermin</th>\n",
       "      <th>companyname</th>\n",
       "    </tr>\n",
       "  </thead>\n",
       "  <tbody>\n",
       "    <tr>\n",
       "      <th>0</th>\n",
       "      <td>2019-05-01 00:01:41.247000</td>\n",
       "      <td>36.136822</td>\n",
       "      <td>-86.799877</td>\n",
       "      <td>PoweredLIRL1</td>\n",
       "      <td>Powered</td>\n",
       "      <td>93.0</td>\n",
       "      <td>scooter</td>\n",
       "      <td>0.0</td>\n",
       "      <td>Bird</td>\n",
       "    </tr>\n",
       "  </tbody>\n",
       "</table>\n",
       "</div>"
      ],
      "text/plain": [
       "                  pubdatetime   latitude  longitude        sumdid sumdtype  \\\n",
       "0  2019-05-01 00:01:41.247000  36.136822 -86.799877  PoweredLIRL1  Powered   \n",
       "\n",
       "   chargelevel sumdgroup  costpermin companyname  \n",
       "0         93.0   scooter         0.0        Bird  "
      ]
     },
     "execution_count": 3,
     "metadata": {},
     "output_type": "execute_result"
    }
   ],
   "source": [
    "may.head(1)"
   ]
  },
  {
   "cell_type": "code",
   "execution_count": 4,
   "id": "62446fc4",
   "metadata": {},
   "outputs": [
    {
     "data": {
      "text/html": [
       "<div>\n",
       "<style scoped>\n",
       "    .dataframe tbody tr th:only-of-type {\n",
       "        vertical-align: middle;\n",
       "    }\n",
       "\n",
       "    .dataframe tbody tr th {\n",
       "        vertical-align: top;\n",
       "    }\n",
       "\n",
       "    .dataframe thead th {\n",
       "        text-align: right;\n",
       "    }\n",
       "</style>\n",
       "<table border=\"1\" class=\"dataframe\">\n",
       "  <thead>\n",
       "    <tr style=\"text-align: right;\">\n",
       "      <th></th>\n",
       "      <th>pubdatetime</th>\n",
       "      <th>latitude</th>\n",
       "      <th>longitude</th>\n",
       "      <th>sumdid</th>\n",
       "      <th>sumdtype</th>\n",
       "      <th>chargelevel</th>\n",
       "      <th>sumdgroup</th>\n",
       "      <th>costpermin</th>\n",
       "      <th>companyname</th>\n",
       "    </tr>\n",
       "  </thead>\n",
       "  <tbody>\n",
       "    <tr>\n",
       "      <th>10146251</th>\n",
       "      <td>2019-05-20 19:42:33.423000</td>\n",
       "      <td>36.15853</td>\n",
       "      <td>-86.78045</td>\n",
       "      <td>Powered5484396</td>\n",
       "      <td>Powered</td>\n",
       "      <td>99.0</td>\n",
       "      <td>Scooter</td>\n",
       "      <td>0.0</td>\n",
       "      <td>Spin</td>\n",
       "    </tr>\n",
       "  </tbody>\n",
       "</table>\n",
       "</div>"
      ],
      "text/plain": [
       "                         pubdatetime  latitude  longitude          sumdid  \\\n",
       "10146251  2019-05-20 19:42:33.423000  36.15853  -86.78045  Powered5484396   \n",
       "\n",
       "         sumdtype  chargelevel sumdgroup  costpermin companyname  \n",
       "10146251  Powered         99.0   Scooter         0.0        Spin  "
      ]
     },
     "execution_count": 4,
     "metadata": {},
     "output_type": "execute_result"
    }
   ],
   "source": [
    "may.tail(1)"
   ]
  },
  {
   "cell_type": "code",
   "execution_count": 5,
   "id": "7e90137b",
   "metadata": {},
   "outputs": [
    {
     "name": "stdout",
     "output_type": "stream",
     "text": [
      "<class 'pandas.core.frame.DataFrame'>\n",
      "Int64Index: 20292503 entries, 0 to 10146251\n",
      "Data columns (total 9 columns):\n",
      " #   Column       Dtype  \n",
      "---  ------       -----  \n",
      " 0   pubdatetime  object \n",
      " 1   latitude     float64\n",
      " 2   longitude    float64\n",
      " 3   sumdid       object \n",
      " 4   sumdtype     object \n",
      " 5   chargelevel  float64\n",
      " 6   sumdgroup    object \n",
      " 7   costpermin   float64\n",
      " 8   companyname  object \n",
      "dtypes: float64(4), object(5)\n",
      "memory usage: 1.5+ GB\n"
     ]
    }
   ],
   "source": [
    "may.info()"
   ]
  },
  {
   "cell_type": "code",
   "execution_count": 6,
   "id": "3df959e8",
   "metadata": {},
   "outputs": [
    {
     "data": {
      "text/plain": [
       "[(0, 'Bird'),\n",
       " (1, 'Bolt'),\n",
       " (2, 'Gotcha'),\n",
       " (3, 'Jump'),\n",
       " (4, 'Lime'),\n",
       " (5, 'Lyft'),\n",
       " (6, 'Spin')]"
      ]
     },
     "execution_count": 6,
     "metadata": {},
     "output_type": "execute_result"
    }
   ],
   "source": [
    "may_companies = list(enumerate(may.companyname.unique()))\n",
    "may_companies"
   ]
  },
  {
   "cell_type": "code",
   "execution_count": 7,
   "id": "7de96684",
   "metadata": {},
   "outputs": [],
   "source": [
    "june = pd.read_csv('../data/june.csv')\n",
    "june = june.sort_values('companyname')"
   ]
  },
  {
   "cell_type": "code",
   "execution_count": 8,
   "id": "d8035519",
   "metadata": {},
   "outputs": [
    {
     "data": {
      "text/html": [
       "<div>\n",
       "<style scoped>\n",
       "    .dataframe tbody tr th:only-of-type {\n",
       "        vertical-align: middle;\n",
       "    }\n",
       "\n",
       "    .dataframe tbody tr th {\n",
       "        vertical-align: top;\n",
       "    }\n",
       "\n",
       "    .dataframe thead th {\n",
       "        text-align: right;\n",
       "    }\n",
       "</style>\n",
       "<table border=\"1\" class=\"dataframe\">\n",
       "  <thead>\n",
       "    <tr style=\"text-align: right;\">\n",
       "      <th></th>\n",
       "      <th>pubdatetime</th>\n",
       "      <th>latitude</th>\n",
       "      <th>longitude</th>\n",
       "      <th>sumdid</th>\n",
       "      <th>sumdtype</th>\n",
       "      <th>chargelevel</th>\n",
       "      <th>sumdgroup</th>\n",
       "      <th>costpermin</th>\n",
       "      <th>companyname</th>\n",
       "    </tr>\n",
       "  </thead>\n",
       "  <tbody>\n",
       "    <tr>\n",
       "      <th>23539555</th>\n",
       "      <td>2019-06-26 04:32:37.147000</td>\n",
       "      <td>36.160294</td>\n",
       "      <td>-86.778396</td>\n",
       "      <td>PoweredDIGLD</td>\n",
       "      <td>Powered</td>\n",
       "      <td>70.0</td>\n",
       "      <td>scooter</td>\n",
       "      <td>0.15</td>\n",
       "      <td>Bird</td>\n",
       "    </tr>\n",
       "  </tbody>\n",
       "</table>\n",
       "</div>"
      ],
      "text/plain": [
       "                         pubdatetime   latitude  longitude        sumdid  \\\n",
       "23539555  2019-06-26 04:32:37.147000  36.160294 -86.778396  PoweredDIGLD   \n",
       "\n",
       "         sumdtype  chargelevel sumdgroup  costpermin companyname  \n",
       "23539555  Powered         70.0   scooter        0.15        Bird  "
      ]
     },
     "execution_count": 8,
     "metadata": {},
     "output_type": "execute_result"
    }
   ],
   "source": [
    "june.head(1)"
   ]
  },
  {
   "cell_type": "code",
   "execution_count": 9,
   "id": "2333f420",
   "metadata": {},
   "outputs": [
    {
     "data": {
      "text/html": [
       "<div>\n",
       "<style scoped>\n",
       "    .dataframe tbody tr th:only-of-type {\n",
       "        vertical-align: middle;\n",
       "    }\n",
       "\n",
       "    .dataframe tbody tr th {\n",
       "        vertical-align: top;\n",
       "    }\n",
       "\n",
       "    .dataframe thead th {\n",
       "        text-align: right;\n",
       "    }\n",
       "</style>\n",
       "<table border=\"1\" class=\"dataframe\">\n",
       "  <thead>\n",
       "    <tr style=\"text-align: right;\">\n",
       "      <th></th>\n",
       "      <th>pubdatetime</th>\n",
       "      <th>latitude</th>\n",
       "      <th>longitude</th>\n",
       "      <th>sumdid</th>\n",
       "      <th>sumdtype</th>\n",
       "      <th>chargelevel</th>\n",
       "      <th>sumdgroup</th>\n",
       "      <th>costpermin</th>\n",
       "      <th>companyname</th>\n",
       "    </tr>\n",
       "  </thead>\n",
       "  <tbody>\n",
       "    <tr>\n",
       "      <th>13530961</th>\n",
       "      <td>2019-06-15 04:40:43.647000</td>\n",
       "      <td>36.15163</td>\n",
       "      <td>-86.804928</td>\n",
       "      <td>Powered4987498</td>\n",
       "      <td>Powered</td>\n",
       "      <td>57.0</td>\n",
       "      <td>Scooter</td>\n",
       "      <td>0.23</td>\n",
       "      <td>Spin</td>\n",
       "    </tr>\n",
       "  </tbody>\n",
       "</table>\n",
       "</div>"
      ],
      "text/plain": [
       "                         pubdatetime  latitude  longitude          sumdid  \\\n",
       "13530961  2019-06-15 04:40:43.647000  36.15163 -86.804928  Powered4987498   \n",
       "\n",
       "         sumdtype  chargelevel sumdgroup  costpermin companyname  \n",
       "13530961  Powered         57.0   Scooter        0.23        Spin  "
      ]
     },
     "execution_count": 9,
     "metadata": {},
     "output_type": "execute_result"
    }
   ],
   "source": [
    "june.tail(1)"
   ]
  },
  {
   "cell_type": "code",
   "execution_count": 10,
   "id": "79565f29",
   "metadata": {
    "scrolled": false
   },
   "outputs": [
    {
     "name": "stdout",
     "output_type": "stream",
     "text": [
      "<class 'pandas.core.frame.DataFrame'>\n",
      "Int64Index: 28046095 entries, 23539555 to 13530961\n",
      "Data columns (total 9 columns):\n",
      " #   Column       Dtype  \n",
      "---  ------       -----  \n",
      " 0   pubdatetime  object \n",
      " 1   latitude     float64\n",
      " 2   longitude    float64\n",
      " 3   sumdid       object \n",
      " 4   sumdtype     object \n",
      " 5   chargelevel  float64\n",
      " 6   sumdgroup    object \n",
      " 7   costpermin   float64\n",
      " 8   companyname  object \n",
      "dtypes: float64(4), object(5)\n",
      "memory usage: 2.1+ GB\n"
     ]
    }
   ],
   "source": [
    "june.info()"
   ]
  },
  {
   "cell_type": "code",
   "execution_count": 11,
   "id": "7bf52349",
   "metadata": {},
   "outputs": [
    {
     "data": {
      "text/plain": [
       "[(0, 'Bird'),\n",
       " (1, 'Bolt'),\n",
       " (2, 'Gotcha'),\n",
       " (3, 'Jump'),\n",
       " (4, 'Lime'),\n",
       " (5, 'Lyft'),\n",
       " (6, 'Spin')]"
      ]
     },
     "execution_count": 11,
     "metadata": {},
     "output_type": "execute_result"
    }
   ],
   "source": [
    "june_companies = list(enumerate(june.companyname.unique()))\n",
    "june_companies"
   ]
  },
  {
   "cell_type": "code",
   "execution_count": 12,
   "id": "a09e54b5",
   "metadata": {},
   "outputs": [],
   "source": [
    "july = pd.read_csv('../data/july.csv')\n",
    "july = july.sort_values('companyname')"
   ]
  },
  {
   "cell_type": "code",
   "execution_count": 13,
   "id": "eced9d43",
   "metadata": {},
   "outputs": [
    {
     "data": {
      "text/html": [
       "<div>\n",
       "<style scoped>\n",
       "    .dataframe tbody tr th:only-of-type {\n",
       "        vertical-align: middle;\n",
       "    }\n",
       "\n",
       "    .dataframe tbody tr th {\n",
       "        vertical-align: top;\n",
       "    }\n",
       "\n",
       "    .dataframe thead th {\n",
       "        text-align: right;\n",
       "    }\n",
       "</style>\n",
       "<table border=\"1\" class=\"dataframe\">\n",
       "  <thead>\n",
       "    <tr style=\"text-align: right;\">\n",
       "      <th></th>\n",
       "      <th>pubdatetime</th>\n",
       "      <th>latitude</th>\n",
       "      <th>longitude</th>\n",
       "      <th>sumdid</th>\n",
       "      <th>sumdtype</th>\n",
       "      <th>chargelevel</th>\n",
       "      <th>sumdgroup</th>\n",
       "      <th>costpermin</th>\n",
       "      <th>companyname</th>\n",
       "    </tr>\n",
       "  </thead>\n",
       "  <tbody>\n",
       "    <tr>\n",
       "      <th>18106104</th>\n",
       "      <td>2019-07-22 23:52:06.760000</td>\n",
       "      <td>36.173757</td>\n",
       "      <td>-86.784629</td>\n",
       "      <td>PoweredJALW3</td>\n",
       "      <td>Powered</td>\n",
       "      <td>100.0</td>\n",
       "      <td>scooter</td>\n",
       "      <td>0.15</td>\n",
       "      <td>Bird</td>\n",
       "    </tr>\n",
       "  </tbody>\n",
       "</table>\n",
       "</div>"
      ],
      "text/plain": [
       "                         pubdatetime   latitude  longitude        sumdid  \\\n",
       "18106104  2019-07-22 23:52:06.760000  36.173757 -86.784629  PoweredJALW3   \n",
       "\n",
       "         sumdtype  chargelevel sumdgroup  costpermin companyname  \n",
       "18106104  Powered        100.0   scooter        0.15        Bird  "
      ]
     },
     "execution_count": 13,
     "metadata": {},
     "output_type": "execute_result"
    }
   ],
   "source": [
    "july.head(1)"
   ]
  },
  {
   "cell_type": "code",
   "execution_count": 14,
   "id": "cfa19bc8",
   "metadata": {},
   "outputs": [
    {
     "data": {
      "text/html": [
       "<div>\n",
       "<style scoped>\n",
       "    .dataframe tbody tr th:only-of-type {\n",
       "        vertical-align: middle;\n",
       "    }\n",
       "\n",
       "    .dataframe tbody tr th {\n",
       "        vertical-align: top;\n",
       "    }\n",
       "\n",
       "    .dataframe thead th {\n",
       "        text-align: right;\n",
       "    }\n",
       "</style>\n",
       "<table border=\"1\" class=\"dataframe\">\n",
       "  <thead>\n",
       "    <tr style=\"text-align: right;\">\n",
       "      <th></th>\n",
       "      <th>pubdatetime</th>\n",
       "      <th>latitude</th>\n",
       "      <th>longitude</th>\n",
       "      <th>sumdid</th>\n",
       "      <th>sumdtype</th>\n",
       "      <th>chargelevel</th>\n",
       "      <th>sumdgroup</th>\n",
       "      <th>costpermin</th>\n",
       "      <th>companyname</th>\n",
       "    </tr>\n",
       "  </thead>\n",
       "  <tbody>\n",
       "    <tr>\n",
       "      <th>21590775</th>\n",
       "      <td>2019-07-27 15:02:59.907000</td>\n",
       "      <td>36.15261</td>\n",
       "      <td>-86.79329</td>\n",
       "      <td>Powered1897818</td>\n",
       "      <td>Powered</td>\n",
       "      <td>84.0</td>\n",
       "      <td>Scooter</td>\n",
       "      <td>0.23</td>\n",
       "      <td>Spin</td>\n",
       "    </tr>\n",
       "  </tbody>\n",
       "</table>\n",
       "</div>"
      ],
      "text/plain": [
       "                         pubdatetime  latitude  longitude          sumdid  \\\n",
       "21590775  2019-07-27 15:02:59.907000  36.15261  -86.79329  Powered1897818   \n",
       "\n",
       "         sumdtype  chargelevel sumdgroup  costpermin companyname  \n",
       "21590775  Powered         84.0   Scooter        0.23        Spin  "
      ]
     },
     "execution_count": 14,
     "metadata": {},
     "output_type": "execute_result"
    }
   ],
   "source": [
    "july.tail(1)"
   ]
  },
  {
   "cell_type": "code",
   "execution_count": 15,
   "id": "e0a9f6f2",
   "metadata": {
    "scrolled": false
   },
   "outputs": [
    {
     "name": "stdout",
     "output_type": "stream",
     "text": [
      "<class 'pandas.core.frame.DataFrame'>\n",
      "Int64Index: 25075445 entries, 18106104 to 21590775\n",
      "Data columns (total 9 columns):\n",
      " #   Column       Dtype  \n",
      "---  ------       -----  \n",
      " 0   pubdatetime  object \n",
      " 1   latitude     float64\n",
      " 2   longitude    float64\n",
      " 3   sumdid       object \n",
      " 4   sumdtype     object \n",
      " 5   chargelevel  float64\n",
      " 6   sumdgroup    object \n",
      " 7   costpermin   float64\n",
      " 8   companyname  object \n",
      "dtypes: float64(4), object(5)\n",
      "memory usage: 1.9+ GB\n"
     ]
    }
   ],
   "source": [
    "july.info()"
   ]
  },
  {
   "cell_type": "code",
   "execution_count": 16,
   "id": "87e40e17",
   "metadata": {},
   "outputs": [
    {
     "data": {
      "text/plain": [
       "[(0, 'Bird'),\n",
       " (1, 'Bolt'),\n",
       " (2, 'Gotcha'),\n",
       " (3, 'Jump'),\n",
       " (4, 'Lime'),\n",
       " (5, 'Lyft'),\n",
       " (6, 'Spin')]"
      ]
     },
     "execution_count": 16,
     "metadata": {},
     "output_type": "execute_result"
    }
   ],
   "source": [
    "july_companies = list(enumerate(july.companyname.unique()))\n",
    "july_companies"
   ]
  },
  {
   "cell_type": "code",
   "execution_count": null,
   "id": "e446cd07",
   "metadata": {},
   "outputs": [],
   "source": []
  }
 ],
 "metadata": {
  "kernelspec": {
   "display_name": "Python 3 (ipykernel)",
   "language": "python",
   "name": "python3"
  },
  "language_info": {
   "codemirror_mode": {
    "name": "ipython",
    "version": 3
   },
   "file_extension": ".py",
   "mimetype": "text/x-python",
   "name": "python",
   "nbconvert_exporter": "python",
   "pygments_lexer": "ipython3",
   "version": "3.8.5"
  }
 },
 "nbformat": 4,
 "nbformat_minor": 5
}
