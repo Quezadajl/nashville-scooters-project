{
 "cells": [
  {
   "cell_type": "code",
   "execution_count": 1,
   "id": "6d795cd1",
   "metadata": {},
   "outputs": [],
   "source": [
    "import numpy as np\n",
    "import pandas as pd\n",
    "import matplotlib.pyplot as plt\n",
    "import seaborn as sns\n",
    "import pickle\n",
    "import re\n",
    "%matplotlib inline"
   ]
  },
  {
   "cell_type": "code",
   "execution_count": 2,
   "id": "5cc04c4c",
   "metadata": {},
   "outputs": [
    {
     "data": {
      "text/html": [
       "<div>\n",
       "<style scoped>\n",
       "    .dataframe tbody tr th:only-of-type {\n",
       "        vertical-align: middle;\n",
       "    }\n",
       "\n",
       "    .dataframe tbody tr th {\n",
       "        vertical-align: top;\n",
       "    }\n",
       "\n",
       "    .dataframe thead th {\n",
       "        text-align: right;\n",
       "    }\n",
       "</style>\n",
       "<table border=\"1\" class=\"dataframe\">\n",
       "  <thead>\n",
       "    <tr style=\"text-align: right;\">\n",
       "      <th></th>\n",
       "      <th>pubdatetime</th>\n",
       "      <th>latitude</th>\n",
       "      <th>longitude</th>\n",
       "      <th>sumdid</th>\n",
       "      <th>sumdtype</th>\n",
       "      <th>chargelevel</th>\n",
       "      <th>sumdgroup</th>\n",
       "      <th>costpermin</th>\n",
       "      <th>companyname</th>\n",
       "    </tr>\n",
       "  </thead>\n",
       "  <tbody>\n",
       "    <tr>\n",
       "      <th>0</th>\n",
       "      <td>2019-07-01 00:00:33.550000</td>\n",
       "      <td>36.156678</td>\n",
       "      <td>-86.809004</td>\n",
       "      <td>Powered635135</td>\n",
       "      <td>Powered</td>\n",
       "      <td>22.0</td>\n",
       "      <td>scooter</td>\n",
       "      <td>0.15</td>\n",
       "      <td>Lyft</td>\n",
       "    </tr>\n",
       "    <tr>\n",
       "      <th>1</th>\n",
       "      <td>2019-07-01 00:00:34.973000</td>\n",
       "      <td>36.145674</td>\n",
       "      <td>-86.794138</td>\n",
       "      <td>Powered790946</td>\n",
       "      <td>Powered</td>\n",
       "      <td>33.0</td>\n",
       "      <td>scooter</td>\n",
       "      <td>0.15</td>\n",
       "      <td>Lyft</td>\n",
       "    </tr>\n",
       "    <tr>\n",
       "      <th>2</th>\n",
       "      <td>2019-07-01 00:00:41.183000</td>\n",
       "      <td>36.179319</td>\n",
       "      <td>-86.751538</td>\n",
       "      <td>Powered570380</td>\n",
       "      <td>Powered</td>\n",
       "      <td>76.0</td>\n",
       "      <td>scooter</td>\n",
       "      <td>0.15</td>\n",
       "      <td>Lyft</td>\n",
       "    </tr>\n",
       "    <tr>\n",
       "      <th>3</th>\n",
       "      <td>2019-07-01 00:00:41.620000</td>\n",
       "      <td>36.152111</td>\n",
       "      <td>-86.803821</td>\n",
       "      <td>Powered240631</td>\n",
       "      <td>Powered</td>\n",
       "      <td>43.0</td>\n",
       "      <td>scooter</td>\n",
       "      <td>0.15</td>\n",
       "      <td>Lyft</td>\n",
       "    </tr>\n",
       "    <tr>\n",
       "      <th>4</th>\n",
       "      <td>2019-07-01 00:00:45.087000</td>\n",
       "      <td>36.149355</td>\n",
       "      <td>-86.797550</td>\n",
       "      <td>Powered970404</td>\n",
       "      <td>Powered</td>\n",
       "      <td>52.0</td>\n",
       "      <td>scooter</td>\n",
       "      <td>0.15</td>\n",
       "      <td>Lyft</td>\n",
       "    </tr>\n",
       "  </tbody>\n",
       "</table>\n",
       "</div>"
      ],
      "text/plain": [
       "                  pubdatetime   latitude  longitude         sumdid sumdtype  \\\n",
       "0  2019-07-01 00:00:33.550000  36.156678 -86.809004  Powered635135  Powered   \n",
       "1  2019-07-01 00:00:34.973000  36.145674 -86.794138  Powered790946  Powered   \n",
       "2  2019-07-01 00:00:41.183000  36.179319 -86.751538  Powered570380  Powered   \n",
       "3  2019-07-01 00:00:41.620000  36.152111 -86.803821  Powered240631  Powered   \n",
       "4  2019-07-01 00:00:45.087000  36.149355 -86.797550  Powered970404  Powered   \n",
       "\n",
       "   chargelevel sumdgroup  costpermin companyname  \n",
       "0         22.0   scooter        0.15        Lyft  \n",
       "1         33.0   scooter        0.15        Lyft  \n",
       "2         76.0   scooter        0.15        Lyft  \n",
       "3         43.0   scooter        0.15        Lyft  \n",
       "4         52.0   scooter        0.15        Lyft  "
      ]
     },
     "execution_count": 2,
     "metadata": {},
     "output_type": "execute_result"
    }
   ],
   "source": [
    "july = pd.read_csv('../data/july.csv')\n",
    "july.head()"
   ]
  },
  {
   "cell_type": "code",
   "execution_count": 3,
   "id": "96b08f17",
   "metadata": {},
   "outputs": [
    {
     "data": {
      "text/plain": [
       "array(['Lyft', 'Bird', 'Spin', 'Bolt', 'Jump', 'Lime', 'Gotcha'],\n",
       "      dtype=object)"
      ]
     },
     "execution_count": 3,
     "metadata": {},
     "output_type": "execute_result"
    }
   ],
   "source": [
    "july.companyname.unique()"
   ]
  },
  {
   "cell_type": "code",
   "execution_count": 4,
   "id": "16be2330",
   "metadata": {},
   "outputs": [],
   "source": [
    "company_dict = {'Lyft':0, 'Bird': 1, 'Spin': 2, 'Bolt': 3, 'Jump': 4, 'Lime': 5, 'Gotcha': 6}"
   ]
  },
  {
   "cell_type": "code",
   "execution_count": 5,
   "id": "986f9d9e",
   "metadata": {},
   "outputs": [],
   "source": [
    "july.companyname = july.companyname.replace(company_dict)"
   ]
  },
  {
   "cell_type": "code",
   "execution_count": 6,
   "id": "0a495c01",
   "metadata": {},
   "outputs": [
    {
     "data": {
      "text/html": [
       "<div>\n",
       "<style scoped>\n",
       "    .dataframe tbody tr th:only-of-type {\n",
       "        vertical-align: middle;\n",
       "    }\n",
       "\n",
       "    .dataframe tbody tr th {\n",
       "        vertical-align: top;\n",
       "    }\n",
       "\n",
       "    .dataframe thead th {\n",
       "        text-align: right;\n",
       "    }\n",
       "</style>\n",
       "<table border=\"1\" class=\"dataframe\">\n",
       "  <thead>\n",
       "    <tr style=\"text-align: right;\">\n",
       "      <th></th>\n",
       "      <th>pubdatetime</th>\n",
       "      <th>latitude</th>\n",
       "      <th>longitude</th>\n",
       "      <th>sumdid</th>\n",
       "      <th>sumdtype</th>\n",
       "      <th>chargelevel</th>\n",
       "      <th>sumdgroup</th>\n",
       "      <th>costpermin</th>\n",
       "      <th>companyname</th>\n",
       "    </tr>\n",
       "  </thead>\n",
       "  <tbody>\n",
       "    <tr>\n",
       "      <th>0</th>\n",
       "      <td>2019-07-01 00:00:33.550</td>\n",
       "      <td>36.156678</td>\n",
       "      <td>-86.809004</td>\n",
       "      <td>Powered635135</td>\n",
       "      <td>Powered</td>\n",
       "      <td>22.0</td>\n",
       "      <td>scooter</td>\n",
       "      <td>0.15</td>\n",
       "      <td>0</td>\n",
       "    </tr>\n",
       "    <tr>\n",
       "      <th>1</th>\n",
       "      <td>2019-07-01 00:00:34.973</td>\n",
       "      <td>36.145674</td>\n",
       "      <td>-86.794138</td>\n",
       "      <td>Powered790946</td>\n",
       "      <td>Powered</td>\n",
       "      <td>33.0</td>\n",
       "      <td>scooter</td>\n",
       "      <td>0.15</td>\n",
       "      <td>0</td>\n",
       "    </tr>\n",
       "  </tbody>\n",
       "</table>\n",
       "</div>"
      ],
      "text/plain": [
       "              pubdatetime   latitude  longitude         sumdid sumdtype  \\\n",
       "0 2019-07-01 00:00:33.550  36.156678 -86.809004  Powered635135  Powered   \n",
       "1 2019-07-01 00:00:34.973  36.145674 -86.794138  Powered790946  Powered   \n",
       "\n",
       "   chargelevel sumdgroup  costpermin  companyname  \n",
       "0         22.0   scooter        0.15            0  \n",
       "1         33.0   scooter        0.15            0  "
      ]
     },
     "execution_count": 6,
     "metadata": {},
     "output_type": "execute_result"
    }
   ],
   "source": [
    "july.pubdatetime = pd.to_datetime(july.pubdatetime)\n",
    "july.head(2)"
   ]
  },
  {
   "cell_type": "code",
   "execution_count": 7,
   "id": "25de8ee5",
   "metadata": {},
   "outputs": [
    {
     "data": {
      "text/plain": [
       "array(['scooter', 'Scooter', 'bicycle'], dtype=object)"
      ]
     },
     "execution_count": 7,
     "metadata": {},
     "output_type": "execute_result"
    }
   ],
   "source": [
    "july.sumdgroup.unique()"
   ]
  },
  {
   "cell_type": "code",
   "execution_count": 8,
   "id": "07ecb8cb",
   "metadata": {},
   "outputs": [],
   "source": [
    "july_scooters = july.loc[july.sumdgroup.isin(['scooter', 'Scooter'])]"
   ]
  },
  {
   "cell_type": "code",
   "execution_count": 9,
   "id": "638f342e",
   "metadata": {},
   "outputs": [],
   "source": [
    "july_scooters = july_scooters[['pubdatetime', 'latitude', 'longitude', 'sumdid', 'chargelevel', 'companyname']]"
   ]
  },
  {
   "cell_type": "code",
   "execution_count": 10,
   "id": "1904096c",
   "metadata": {},
   "outputs": [],
   "source": [
    "july_scooters.to_pickle(\"../data/july.pkl\")"
   ]
  },
  {
   "cell_type": "code",
   "execution_count": 11,
   "id": "c27e1a8a",
   "metadata": {},
   "outputs": [
    {
     "data": {
      "text/html": [
       "<div>\n",
       "<style scoped>\n",
       "    .dataframe tbody tr th:only-of-type {\n",
       "        vertical-align: middle;\n",
       "    }\n",
       "\n",
       "    .dataframe tbody tr th {\n",
       "        vertical-align: top;\n",
       "    }\n",
       "\n",
       "    .dataframe thead th {\n",
       "        text-align: right;\n",
       "    }\n",
       "</style>\n",
       "<table border=\"1\" class=\"dataframe\">\n",
       "  <thead>\n",
       "    <tr style=\"text-align: right;\">\n",
       "      <th></th>\n",
       "      <th>pubdatetime</th>\n",
       "      <th>latitude</th>\n",
       "      <th>longitude</th>\n",
       "      <th>sumdid</th>\n",
       "      <th>chargelevel</th>\n",
       "      <th>companyname</th>\n",
       "    </tr>\n",
       "  </thead>\n",
       "  <tbody>\n",
       "    <tr>\n",
       "      <th>0</th>\n",
       "      <td>2019-07-01 00:00:33.550</td>\n",
       "      <td>36.156678</td>\n",
       "      <td>-86.809004</td>\n",
       "      <td>Powered635135</td>\n",
       "      <td>22.0</td>\n",
       "      <td>0</td>\n",
       "    </tr>\n",
       "    <tr>\n",
       "      <th>1</th>\n",
       "      <td>2019-07-01 00:00:34.973</td>\n",
       "      <td>36.145674</td>\n",
       "      <td>-86.794138</td>\n",
       "      <td>Powered790946</td>\n",
       "      <td>33.0</td>\n",
       "      <td>0</td>\n",
       "    </tr>\n",
       "    <tr>\n",
       "      <th>2</th>\n",
       "      <td>2019-07-01 00:00:41.183</td>\n",
       "      <td>36.179319</td>\n",
       "      <td>-86.751538</td>\n",
       "      <td>Powered570380</td>\n",
       "      <td>76.0</td>\n",
       "      <td>0</td>\n",
       "    </tr>\n",
       "    <tr>\n",
       "      <th>3</th>\n",
       "      <td>2019-07-01 00:00:41.620</td>\n",
       "      <td>36.152111</td>\n",
       "      <td>-86.803821</td>\n",
       "      <td>Powered240631</td>\n",
       "      <td>43.0</td>\n",
       "      <td>0</td>\n",
       "    </tr>\n",
       "    <tr>\n",
       "      <th>4</th>\n",
       "      <td>2019-07-01 00:00:45.087</td>\n",
       "      <td>36.149355</td>\n",
       "      <td>-86.797550</td>\n",
       "      <td>Powered970404</td>\n",
       "      <td>52.0</td>\n",
       "      <td>0</td>\n",
       "    </tr>\n",
       "  </tbody>\n",
       "</table>\n",
       "</div>"
      ],
      "text/plain": [
       "              pubdatetime   latitude  longitude         sumdid  chargelevel  \\\n",
       "0 2019-07-01 00:00:33.550  36.156678 -86.809004  Powered635135         22.0   \n",
       "1 2019-07-01 00:00:34.973  36.145674 -86.794138  Powered790946         33.0   \n",
       "2 2019-07-01 00:00:41.183  36.179319 -86.751538  Powered570380         76.0   \n",
       "3 2019-07-01 00:00:41.620  36.152111 -86.803821  Powered240631         43.0   \n",
       "4 2019-07-01 00:00:45.087  36.149355 -86.797550  Powered970404         52.0   \n",
       "\n",
       "   companyname  \n",
       "0            0  \n",
       "1            0  \n",
       "2            0  \n",
       "3            0  \n",
       "4            0  "
      ]
     },
     "execution_count": 11,
     "metadata": {},
     "output_type": "execute_result"
    }
   ],
   "source": [
    "july_pkl = pd.read_pickle(\"../data/july.pkl\")\n",
    "july_pkl.head()"
   ]
  },
  {
   "cell_type": "code",
   "execution_count": 12,
   "id": "d07b5a91",
   "metadata": {},
   "outputs": [
    {
     "data": {
      "text/plain": [
       "PoweredK7VBEW7S2VHPG                           8915\n",
       "PoweredSMYDSCUCCKE3D                           8910\n",
       "PoweredCPBMGOVZOHE4Z                           8909\n",
       "Powered023b94ca-01c6-5fab-b299-21d8e3660835    8901\n",
       "Powered947f9e23-64e9-5dc6-af9c-3980af15c192    8901\n",
       "Powered11f2969f-3623-5fa1-a229-db9525116997    8901\n",
       "Powered84a783e5-1fc3-5128-a3c0-ccbcdaef9303    8901\n",
       "Powerede96ea2c3-3988-5c85-921e-744d06ef87d7    8901\n",
       "Powered6f889e9e-4b1e-56a7-88aa-9a17e61880b9    8901\n",
       "Poweredf7c7ceef-3f9e-5107-b994-95e6bcaf674f    8901\n",
       "Powered23cb7559-7e9f-57cc-8d00-281bb38e4aa2    8901\n",
       "Powered979cbd9e-8b3b-5019-9c47-dd33b0159361    8901\n",
       "Powered00746183-96c8-58d7-97b5-04a091c91b34    8901\n",
       "Poweredfb9de7ca-27a8-55f3-af7a-58818ad69949    8901\n",
       "Powereda39dd69a-a262-5752-a3f2-1b6974585a69    8901\n",
       "Powered02e45bf6-625a-5acc-b1a4-090f18c580a7    8901\n",
       "Powered82032b07-76b9-5d47-ae79-74917507871e    8901\n",
       "Poweredf011adf4-844d-5840-921a-33ae13ffe820    8901\n",
       "Powered6769f8f3-d1ec-5d79-a113-b1d42c16ccc0    8901\n",
       "Poweredb035ee75-ef3d-58b2-82a0-d049c46f5fae    8901\n",
       "Name: sumdid, dtype: int64"
      ]
     },
     "execution_count": 12,
     "metadata": {},
     "output_type": "execute_result"
    }
   ],
   "source": [
    "july_pkl['sumdid'].value_counts().head(20)#look into these based on presentation"
   ]
  },
  {
   "cell_type": "code",
   "execution_count": 13,
   "id": "a078ef1a",
   "metadata": {},
   "outputs": [
    {
     "data": {
      "text/html": [
       "<div>\n",
       "<style scoped>\n",
       "    .dataframe tbody tr th:only-of-type {\n",
       "        vertical-align: middle;\n",
       "    }\n",
       "\n",
       "    .dataframe tbody tr th {\n",
       "        vertical-align: top;\n",
       "    }\n",
       "\n",
       "    .dataframe thead th {\n",
       "        text-align: right;\n",
       "    }\n",
       "</style>\n",
       "<table border=\"1\" class=\"dataframe\">\n",
       "  <thead>\n",
       "    <tr style=\"text-align: right;\">\n",
       "      <th></th>\n",
       "      <th>latitude</th>\n",
       "      <th>longitude</th>\n",
       "      <th>chargelevel</th>\n",
       "      <th>companyname</th>\n",
       "    </tr>\n",
       "  </thead>\n",
       "  <tbody>\n",
       "    <tr>\n",
       "      <th>count</th>\n",
       "      <td>2.506652e+07</td>\n",
       "      <td>2.506652e+07</td>\n",
       "      <td>2.506632e+07</td>\n",
       "      <td>2.506652e+07</td>\n",
       "    </tr>\n",
       "    <tr>\n",
       "      <th>mean</th>\n",
       "      <td>3.783235e+01</td>\n",
       "      <td>-8.670358e+01</td>\n",
       "      <td>5.151019e+01</td>\n",
       "      <td>3.191866e+00</td>\n",
       "    </tr>\n",
       "    <tr>\n",
       "      <th>std</th>\n",
       "      <td>2.497648e+03</td>\n",
       "      <td>2.331620e+00</td>\n",
       "      <td>3.733133e+01</td>\n",
       "      <td>1.812556e+00</td>\n",
       "    </tr>\n",
       "    <tr>\n",
       "      <th>min</th>\n",
       "      <td>0.000000e+00</td>\n",
       "      <td>-9.744388e+01</td>\n",
       "      <td>0.000000e+00</td>\n",
       "      <td>0.000000e+00</td>\n",
       "    </tr>\n",
       "    <tr>\n",
       "      <th>25%</th>\n",
       "      <td>3.612010e+01</td>\n",
       "      <td>-8.678850e+01</td>\n",
       "      <td>3.000000e+00</td>\n",
       "      <td>1.000000e+00</td>\n",
       "    </tr>\n",
       "    <tr>\n",
       "      <th>50%</th>\n",
       "      <td>3.614853e+01</td>\n",
       "      <td>-8.677546e+01</td>\n",
       "      <td>5.900000e+01</td>\n",
       "      <td>4.000000e+00</td>\n",
       "    </tr>\n",
       "    <tr>\n",
       "      <th>75%</th>\n",
       "      <td>3.615993e+01</td>\n",
       "      <td>-8.675340e+01</td>\n",
       "      <td>8.700000e+01</td>\n",
       "      <td>4.000000e+00</td>\n",
       "    </tr>\n",
       "    <tr>\n",
       "      <th>max</th>\n",
       "      <td>3.609874e+06</td>\n",
       "      <td>0.000000e+00</td>\n",
       "      <td>1.000000e+02</td>\n",
       "      <td>6.000000e+00</td>\n",
       "    </tr>\n",
       "  </tbody>\n",
       "</table>\n",
       "</div>"
      ],
      "text/plain": [
       "           latitude     longitude   chargelevel   companyname\n",
       "count  2.506652e+07  2.506652e+07  2.506632e+07  2.506652e+07\n",
       "mean   3.783235e+01 -8.670358e+01  5.151019e+01  3.191866e+00\n",
       "std    2.497648e+03  2.331620e+00  3.733133e+01  1.812556e+00\n",
       "min    0.000000e+00 -9.744388e+01  0.000000e+00  0.000000e+00\n",
       "25%    3.612010e+01 -8.678850e+01  3.000000e+00  1.000000e+00\n",
       "50%    3.614853e+01 -8.677546e+01  5.900000e+01  4.000000e+00\n",
       "75%    3.615993e+01 -8.675340e+01  8.700000e+01  4.000000e+00\n",
       "max    3.609874e+06  0.000000e+00  1.000000e+02  6.000000e+00"
      ]
     },
     "execution_count": 13,
     "metadata": {},
     "output_type": "execute_result"
    }
   ],
   "source": [
    "july_pkl.describe()"
   ]
  },
  {
   "cell_type": "code",
   "execution_count": 14,
   "id": "746a2076",
   "metadata": {},
   "outputs": [
    {
     "data": {
      "image/png": "[encoded data removed]",
      "text/plain": [
       "<Figure size 432x288 with 1 Axes>"
      ]
     },
     "metadata": {
      "needs_background": "light"
     },
     "output_type": "display_data"
    }
   ],
   "source": [
    "plt.hist('chargelevel ', bins = 10, data = july_pkl);"
   ]
  },
  {
   "cell_type": "code",
   "execution_count": 16,
   "id": "7f8e516d",
   "metadata": {},
   "outputs": [
    {
     "data": {
      "text/plain": [
       "<AxesSubplot:>"
      ]
     },
     "execution_count": 16,
     "metadata": {},
     "output_type": "execute_result"
    },
    {
     "data": {
      "image/png": "[encoded data removed]",
      "text/plain": [
       "<Figure size 432x288 with 2 Axes>"
      ]
     },
     "metadata": {
      "needs_background": "light"
     },
     "output_type": "display_data"
    }
   ],
   "source": [
    "corr = july_pkl.corr()\n",
    "sns.heatmap(corr)"
   ]
  },
  {
   "cell_type": "code",
   "execution_count": null,
   "id": "0a335bf2",
   "metadata": {},
   "outputs": [],
   "source": [
    "fig, axs = plt.subplots(3, 1, figsize=(5, 15), sharex=True, sharey=True,\n",
    "                        tight_layout=True)\n",
    "\n",
    "# We can increase the number of bins on each axis\n",
    "axs[0].hist2d(july_pkl, july_scooters, bins=40)\n",
    "\n",
    "# As well as define normalization of the colors\n",
    "axs[1].hist2d(x, y, bins=40, norm=colors.LogNorm())\n",
    "\n",
    "# We can also define custom numbers of bins for each axis\n",
    "axs[2].hist2d(x, y, bins=(80, 10), norm=colors.LogNorm())\n",
    "\n",
    "plt.show()"
   ]
  },
  {
   "cell_type": "code",
   "execution_count": null,
   "id": "aa71e9f4",
   "metadata": {},
   "outputs": [],
   "source": []
  },
  {
   "cell_type": "code",
   "execution_count": null,
   "id": "15335f24",
   "metadata": {},
   "outputs": [],
   "source": []
  }
 ],
 "metadata": {
  "kernelspec": {
   "display_name": "Python 3",
   "language": "python",
   "name": "python3"
  },
  "language_info": {
   "codemirror_mode": {
    "name": "ipython",
    "version": 3
   },
   "file_extension": ".py",
   "mimetype": "text/x-python",
   "name": "python",
   "nbconvert_exporter": "python",
   "pygments_lexer": "ipython3",
   "version": "3.8.8"
  }
 },
 "nbformat": 4,
 "nbformat_minor": 5
}
