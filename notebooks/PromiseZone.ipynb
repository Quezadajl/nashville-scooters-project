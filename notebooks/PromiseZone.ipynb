{
 "cells": [
  {
   "cell_type": "code",
   "execution_count": 6,
   "id": "3afdd9f8",
   "metadata": {},
   "outputs": [],
   "source": [
    "from shapely.geometry import Point # Use in geospatial environment\n",
    "import pandas as pd\n",
    "import geopandas as gpd # Use in geospatial environment\n",
    "import matplotlib.pyplot as plt\n",
    "import folium #Use in geospatial environment\n",
    "from folium import plugins\n",
    "from folium.plugins import MarkerCluster\n",
    "from folium.plugins import FastMarkerCluster"
   ]
  },
  {
   "cell_type": "code",
   "execution_count": 9,
   "id": "6902a682",
   "metadata": {},
   "outputs": [
    {
     "name": "stdout",
     "output_type": "stream",
     "text": [
      "epsg:2274\n"
     ]
    },
    {
     "data": {
      "text/html": [
       "<div>\n",
       "<style scoped>\n",
       "    .dataframe tbody tr th:only-of-type {\n",
       "        vertical-align: middle;\n",
       "    }\n",
       "\n",
       "    .dataframe tbody tr th {\n",
       "        vertical-align: top;\n",
       "    }\n",
       "\n",
       "    .dataframe thead th {\n",
       "        text-align: right;\n",
       "    }\n",
       "</style>\n",
       "<table border=\"1\" class=\"dataframe\">\n",
       "  <thead>\n",
       "    <tr style=\"text-align: right;\">\n",
       "      <th></th>\n",
       "      <th>OBJECTID</th>\n",
       "      <th>ZONE_ID</th>\n",
       "      <th>SHAPE_STAr</th>\n",
       "      <th>SHAPE_STLe</th>\n",
       "      <th>geometry</th>\n",
       "    </tr>\n",
       "  </thead>\n",
       "  <tbody>\n",
       "    <tr>\n",
       "      <th>0</th>\n",
       "      <td>1</td>\n",
       "      <td>1</td>\n",
       "      <td>1.053728e+08</td>\n",
       "      <td>49364.601403</td>\n",
       "      <td>POLYGON ((1743366.812 678044.543, 1743367.698 ...</td>\n",
       "    </tr>\n",
       "    <tr>\n",
       "      <th>1</th>\n",
       "      <td>2</td>\n",
       "      <td>2</td>\n",
       "      <td>7.670585e+07</td>\n",
       "      <td>45226.018917</td>\n",
       "      <td>POLYGON ((1738690.545 661791.347, 1738733.644 ...</td>\n",
       "    </tr>\n",
       "    <tr>\n",
       "      <th>2</th>\n",
       "      <td>3</td>\n",
       "      <td>3</td>\n",
       "      <td>2.985488e+08</td>\n",
       "      <td>75207.067487</td>\n",
       "      <td>POLYGON ((1759602.544 668309.889, 1759640.155 ...</td>\n",
       "    </tr>\n",
       "    <tr>\n",
       "      <th>3</th>\n",
       "      <td>4</td>\n",
       "      <td>4</td>\n",
       "      <td>2.713638e+08</td>\n",
       "      <td>74348.596054</td>\n",
       "      <td>POLYGON ((1747799.003 654974.612, 1747821.293 ...</td>\n",
       "    </tr>\n",
       "    <tr>\n",
       "      <th>4</th>\n",
       "      <td>5</td>\n",
       "      <td>5</td>\n",
       "      <td>3.928178e+08</td>\n",
       "      <td>106661.712102</td>\n",
       "      <td>POLYGON ((1737013.744 692634.639, 1737122.605 ...</td>\n",
       "    </tr>\n",
       "    <tr>\n",
       "      <th>5</th>\n",
       "      <td>6</td>\n",
       "      <td>6</td>\n",
       "      <td>9.535996e+07</td>\n",
       "      <td>59256.923574</td>\n",
       "      <td>POLYGON ((1716935.654 667534.495, 1716992.481 ...</td>\n",
       "    </tr>\n",
       "  </tbody>\n",
       "</table>\n",
       "</div>"
      ],
      "text/plain": [
       "   OBJECTID  ZONE_ID    SHAPE_STAr     SHAPE_STLe  \\\n",
       "0         1        1  1.053728e+08   49364.601403   \n",
       "1         2        2  7.670585e+07   45226.018917   \n",
       "2         3        3  2.985488e+08   75207.067487   \n",
       "3         4        4  2.713638e+08   74348.596054   \n",
       "4         5        5  3.928178e+08  106661.712102   \n",
       "5         6        6  9.535996e+07   59256.923574   \n",
       "\n",
       "                                            geometry  \n",
       "0  POLYGON ((1743366.812 678044.543, 1743367.698 ...  \n",
       "1  POLYGON ((1738690.545 661791.347, 1738733.644 ...  \n",
       "2  POLYGON ((1759602.544 668309.889, 1759640.155 ...  \n",
       "3  POLYGON ((1747799.003 654974.612, 1747821.293 ...  \n",
       "4  POLYGON ((1737013.744 692634.639, 1737122.605 ...  \n",
       "5  POLYGON ((1716935.654 667534.495, 1716992.481 ...  "
      ]
     },
     "execution_count": 9,
     "metadata": {},
     "output_type": "execute_result"
    }
   ],
   "source": [
    "promise_zones= gpd.read_file('../data/MDHA_Promise_Zones/Export_Output_5.shp')\n",
    "print(promise_zones.crs)\n",
    "promise_zones.head(7)"
   ]
  },
  {
   "cell_type": "code",
   "execution_count": null,
   "id": "274b3cc3",
   "metadata": {},
   "outputs": [],
   "source": []
  },
  {
   "cell_type": "code",
   "execution_count": null,
   "id": "bb9d22a3",
   "metadata": {},
   "outputs": [],
   "source": []
  },
  {
   "cell_type": "code",
   "execution_count": null,
   "id": "6d4b80ff",
   "metadata": {},
   "outputs": [],
   "source": []
  }
 ],
 "metadata": {
  "kernelspec": {
   "display_name": "Python 3 (ipykernel)",
   "language": "python",
   "name": "python3"
  },
  "language_info": {
   "codemirror_mode": {
    "name": "ipython",
    "version": 3
   },
   "file_extension": ".py",
   "mimetype": "text/x-python",
   "name": "python",
   "nbconvert_exporter": "python",
   "pygments_lexer": "ipython3",
   "version": "3.8.5"
  }
 },
 "nbformat": 4,
 "nbformat_minor": 5
}
