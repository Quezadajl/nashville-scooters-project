{
 "cells": [
  {
   "cell_type": "code",
   "execution_count": 110,
   "id": "c686085a",
   "metadata": {},
   "outputs": [],
   "source": [
    "import pandas as pd\n",
    "import pickle\n",
    "from shapely.geometry import Point\n",
    "import geopandas as gpd\n",
    "import matplotlib.pyplot as plt\n",
    "import folium\n",
    "from folium.plugins import MarkerCluster\n",
    "from folium.plugins import FastMarkerCluster\n"
   ]
  },
  {
   "cell_type": "code",
   "execution_count": 109,
   "id": "38b813f7",
   "metadata": {},
   "outputs": [
    {
     "name": "stdout",
     "output_type": "stream",
     "text": [
      "Collecting seaborn\n",
      "  Downloading seaborn-0.11.2-py3-none-any.whl (292 kB)\n",
      "Collecting scipy>=1.0\n",
      "  Downloading scipy-1.7.1-cp38-cp38-win_amd64.whl (33.7 MB)\n",
      "Requirement already satisfied: numpy>=1.15 in c:\\users\\tomle\\anaconda3\\envs\\geospatial\\lib\\site-packages (from seaborn) (1.21.2)\n",
      "Requirement already satisfied: pandas>=0.23 in c:\\users\\tomle\\anaconda3\\envs\\geospatial\\lib\\site-packages (from seaborn) (1.3.3)\n",
      "Requirement already satisfied: matplotlib>=2.2 in c:\\users\\tomle\\anaconda3\\envs\\geospatial\\lib\\site-packages (from seaborn) (3.3.1)\n",
      "Requirement already satisfied: pillow>=6.2.0 in c:\\users\\tomle\\anaconda3\\envs\\geospatial\\lib\\site-packages (from matplotlib>=2.2->seaborn) (8.2.0)\n",
      "Requirement already satisfied: kiwisolver>=1.0.1 in c:\\users\\tomle\\anaconda3\\envs\\geospatial\\lib\\site-packages (from matplotlib>=2.2->seaborn) (1.3.2)\n",
      "Requirement already satisfied: pyparsing!=2.0.4,!=2.1.2,!=2.1.6,>=2.0.3 in c:\\users\\tomle\\anaconda3\\envs\\geospatial\\lib\\site-packages (from matplotlib>=2.2->seaborn) (2.4.7)\n",
      "Requirement already satisfied: python-dateutil>=2.1 in c:\\users\\tomle\\anaconda3\\envs\\geospatial\\lib\\site-packages (from matplotlib>=2.2->seaborn) (2.8.2)\n",
      "Requirement already satisfied: certifi>=2020.06.20 in c:\\users\\tomle\\anaconda3\\envs\\geospatial\\lib\\site-packages (from matplotlib>=2.2->seaborn) (2021.5.30)\n",
      "Requirement already satisfied: cycler>=0.10 in c:\\users\\tomle\\anaconda3\\envs\\geospatial\\lib\\site-packages (from matplotlib>=2.2->seaborn) (0.10.0)\n",
      "Requirement already satisfied: six in c:\\users\\tomle\\anaconda3\\envs\\geospatial\\lib\\site-packages (from cycler>=0.10->matplotlib>=2.2->seaborn) (1.15.0)\n",
      "Requirement already satisfied: pytz>=2017.3 in c:\\users\\tomle\\anaconda3\\envs\\geospatial\\lib\\site-packages (from pandas>=0.23->seaborn) (2021.3)\n",
      "Installing collected packages: scipy, seaborn\n",
      "Successfully installed scipy-1.7.1 seaborn-0.11.2\n",
      "Note: you may need to restart the kernel to use updated packages.\n"
     ]
    }
   ],
   "source": [
    "pip install seaborn"
   ]
  },
  {
   "cell_type": "code",
   "execution_count": 2,
   "id": "78a09c24",
   "metadata": {},
   "outputs": [
    {
     "data": {
      "text/html": [
       "<div>\n",
       "<style scoped>\n",
       "    .dataframe tbody tr th:only-of-type {\n",
       "        vertical-align: middle;\n",
       "    }\n",
       "\n",
       "    .dataframe tbody tr th {\n",
       "        vertical-align: top;\n",
       "    }\n",
       "\n",
       "    .dataframe thead th {\n",
       "        text-align: right;\n",
       "    }\n",
       "</style>\n",
       "<table border=\"1\" class=\"dataframe\">\n",
       "  <thead>\n",
       "    <tr style=\"text-align: right;\">\n",
       "      <th></th>\n",
       "      <th>pubTimeStamp</th>\n",
       "      <th>companyName</th>\n",
       "      <th>tripRecordNum</th>\n",
       "      <th>sumdID</th>\n",
       "      <th>tripDuration</th>\n",
       "      <th>tripDistance</th>\n",
       "      <th>startDate</th>\n",
       "      <th>startTime</th>\n",
       "      <th>endDate</th>\n",
       "      <th>endTime</th>\n",
       "      <th>startLatitude</th>\n",
       "      <th>startLongitude</th>\n",
       "      <th>endLatitude</th>\n",
       "      <th>endLongitude</th>\n",
       "      <th>tripRoute</th>\n",
       "      <th>create_dt</th>\n",
       "    </tr>\n",
       "  </thead>\n",
       "  <tbody>\n",
       "    <tr>\n",
       "      <th>0</th>\n",
       "      <td>2019-07-01 00:02:52.213000</td>\n",
       "      <td>Bird</td>\n",
       "      <td>BRD5179</td>\n",
       "      <td>PoweredZSHKJ</td>\n",
       "      <td>2.0</td>\n",
       "      <td>0.0</td>\n",
       "      <td>2019-07-01 00:00:00</td>\n",
       "      <td>00:01:32.290000</td>\n",
       "      <td>2019-07-01 00:00:00</td>\n",
       "      <td>00:03:55.966666</td>\n",
       "      <td>36.1775</td>\n",
       "      <td>-86.7516</td>\n",
       "      <td>36.1778</td>\n",
       "      <td>-86.7514</td>\n",
       "      <td>[[36.177438,-86.751861],[36.177425,-86.751987]...</td>\n",
       "      <td>2019-07-02 05:30:18.333000</td>\n",
       "    </tr>\n",
       "    <tr>\n",
       "      <th>1</th>\n",
       "      <td>2019-07-01 00:02:52.213000</td>\n",
       "      <td>Bird</td>\n",
       "      <td>BRD5177</td>\n",
       "      <td>Powered22JF6</td>\n",
       "      <td>0.0</td>\n",
       "      <td>0.0</td>\n",
       "      <td>2019-07-01 00:00:00</td>\n",
       "      <td>00:02:38.640000</td>\n",
       "      <td>2019-07-01 00:00:00</td>\n",
       "      <td>00:02:54.406666</td>\n",
       "      <td>36.1627</td>\n",
       "      <td>-86.7711</td>\n",
       "      <td>36.1627</td>\n",
       "      <td>-86.7711</td>\n",
       "      <td>[[36.162718,-86.771102],[36.162718,-86.771102]]</td>\n",
       "      <td>2019-07-02 05:30:18.273000</td>\n",
       "    </tr>\n",
       "    <tr>\n",
       "      <th>2</th>\n",
       "      <td>2019-07-01 00:02:52.213000</td>\n",
       "      <td>Bird</td>\n",
       "      <td>BRD5176</td>\n",
       "      <td>Powered22JF6</td>\n",
       "      <td>1.0</td>\n",
       "      <td>0.0</td>\n",
       "      <td>2019-07-01 00:00:00</td>\n",
       "      <td>00:03:04.333333</td>\n",
       "      <td>2019-07-01 00:00:00</td>\n",
       "      <td>00:03:37.680000</td>\n",
       "      <td>36.1627</td>\n",
       "      <td>-86.7713</td>\n",
       "      <td>36.1627</td>\n",
       "      <td>-86.7713</td>\n",
       "      <td>[[36.162734,-86.77122],[36.162706,-86.771325],...</td>\n",
       "      <td>2019-07-02 05:30:18.243000</td>\n",
       "    </tr>\n",
       "    <tr>\n",
       "      <th>3</th>\n",
       "      <td>2019-07-01 00:02:52.213000</td>\n",
       "      <td>Bird</td>\n",
       "      <td>BRD5178</td>\n",
       "      <td>PoweredIB2CC</td>\n",
       "      <td>1.0</td>\n",
       "      <td>0.0</td>\n",
       "      <td>2019-07-01 00:00:00</td>\n",
       "      <td>00:02:06.963333</td>\n",
       "      <td>2019-07-01 00:00:00</td>\n",
       "      <td>00:03:25.766666</td>\n",
       "      <td>36.1525</td>\n",
       "      <td>-86.7988</td>\n",
       "      <td>36.1525</td>\n",
       "      <td>-86.7988</td>\n",
       "      <td>[[36.152499,-86.798708]]</td>\n",
       "      <td>2019-07-02 05:30:18.303000</td>\n",
       "    </tr>\n",
       "    <tr>\n",
       "      <th>4</th>\n",
       "      <td>2019-07-01 00:02:52.213000</td>\n",
       "      <td>Bird</td>\n",
       "      <td>BRD5180</td>\n",
       "      <td>PoweredW4G7R</td>\n",
       "      <td>2.0</td>\n",
       "      <td>0.0</td>\n",
       "      <td>2019-07-01 00:00:00</td>\n",
       "      <td>00:01:19.843333</td>\n",
       "      <td>2019-07-01 00:00:00</td>\n",
       "      <td>00:02:53.976666</td>\n",
       "      <td>36.1578</td>\n",
       "      <td>-86.7760</td>\n",
       "      <td>36.1575</td>\n",
       "      <td>-86.7758</td>\n",
       "      <td>[[36.157523,-86.775794]]</td>\n",
       "      <td>2019-07-02 05:30:18.363000</td>\n",
       "    </tr>\n",
       "  </tbody>\n",
       "</table>\n",
       "</div>"
      ],
      "text/plain": [
       "                 pubTimeStamp companyName tripRecordNum        sumdID  \\\n",
       "0  2019-07-01 00:02:52.213000        Bird       BRD5179  PoweredZSHKJ   \n",
       "1  2019-07-01 00:02:52.213000        Bird       BRD5177  Powered22JF6   \n",
       "2  2019-07-01 00:02:52.213000        Bird       BRD5176  Powered22JF6   \n",
       "3  2019-07-01 00:02:52.213000        Bird       BRD5178  PoweredIB2CC   \n",
       "4  2019-07-01 00:02:52.213000        Bird       BRD5180  PoweredW4G7R   \n",
       "\n",
       "   tripDuration  tripDistance            startDate        startTime  \\\n",
       "0           2.0           0.0  2019-07-01 00:00:00  00:01:32.290000   \n",
       "1           0.0           0.0  2019-07-01 00:00:00  00:02:38.640000   \n",
       "2           1.0           0.0  2019-07-01 00:00:00  00:03:04.333333   \n",
       "3           1.0           0.0  2019-07-01 00:00:00  00:02:06.963333   \n",
       "4           2.0           0.0  2019-07-01 00:00:00  00:01:19.843333   \n",
       "\n",
       "               endDate          endTime  startLatitude  startLongitude  \\\n",
       "0  2019-07-01 00:00:00  00:03:55.966666        36.1775        -86.7516   \n",
       "1  2019-07-01 00:00:00  00:02:54.406666        36.1627        -86.7711   \n",
       "2  2019-07-01 00:00:00  00:03:37.680000        36.1627        -86.7713   \n",
       "3  2019-07-01 00:00:00  00:03:25.766666        36.1525        -86.7988   \n",
       "4  2019-07-01 00:00:00  00:02:53.976666        36.1578        -86.7760   \n",
       "\n",
       "   endLatitude  endLongitude  \\\n",
       "0      36.1778      -86.7514   \n",
       "1      36.1627      -86.7711   \n",
       "2      36.1627      -86.7713   \n",
       "3      36.1525      -86.7988   \n",
       "4      36.1575      -86.7758   \n",
       "\n",
       "                                           tripRoute  \\\n",
       "0  [[36.177438,-86.751861],[36.177425,-86.751987]...   \n",
       "1    [[36.162718,-86.771102],[36.162718,-86.771102]]   \n",
       "2  [[36.162734,-86.77122],[36.162706,-86.771325],...   \n",
       "3                           [[36.152499,-86.798708]]   \n",
       "4                           [[36.157523,-86.775794]]   \n",
       "\n",
       "                    create_dt  \n",
       "0  2019-07-02 05:30:18.333000  \n",
       "1  2019-07-02 05:30:18.273000  \n",
       "2  2019-07-02 05:30:18.243000  \n",
       "3  2019-07-02 05:30:18.303000  \n",
       "4  2019-07-02 05:30:18.363000  "
      ]
     },
     "execution_count": 2,
     "metadata": {},
     "output_type": "execute_result"
    }
   ],
   "source": [
    "july_trip = pd.read_csv('../data/july_trip.csv')\n",
    "july_trip.head()"
   ]
  },
  {
   "cell_type": "code",
   "execution_count": 3,
   "id": "50068059",
   "metadata": {},
   "outputs": [],
   "source": [
    "zipcodes= gpd.read_file('../data/zipcodes.geojson')"
   ]
  },
  {
   "cell_type": "markdown",
   "id": "51832064",
   "metadata": {},
   "source": [
    "#Make starTime a datetime format"
   ]
  },
  {
   "cell_type": "code",
   "execution_count": 5,
   "id": "a8edd0e5",
   "metadata": {},
   "outputs": [],
   "source": [
    "july_trip['startTime'] =  pd.to_datetime(july_trip['startTime'])"
   ]
  },
  {
   "cell_type": "markdown",
   "id": "e4d17767",
   "metadata": {},
   "source": [
    "#Create an hour column"
   ]
  },
  {
   "cell_type": "code",
   "execution_count": 6,
   "id": "d5faad34",
   "metadata": {},
   "outputs": [],
   "source": [
    "july_trip['hour'] = july_trip['startTime'].dt.hour"
   ]
  },
  {
   "cell_type": "code",
   "execution_count": 8,
   "id": "2b59ef28",
   "metadata": {},
   "outputs": [
    {
     "data": {
      "text/plain": [
       "19    13152\n",
       "17    12732\n",
       "0     12330\n",
       "18    12248\n",
       "21    12092\n",
       "20    11961\n",
       "22    11843\n",
       "23    11358\n",
       "16    10581\n",
       "15     7948\n",
       "1      5291\n",
       "14     4995\n",
       "13     3160\n",
       "12     2037\n",
       "2      1530\n",
       "11      917\n",
       "3       341\n",
       "4       227\n",
       "10      157\n",
       "9        26\n",
       "Name: hour, dtype: int64"
      ]
     },
     "execution_count": 8,
     "metadata": {},
     "output_type": "execute_result"
    }
   ],
   "source": [
    "july_trip.hour.value_counts()"
   ]
  },
  {
   "cell_type": "markdown",
   "id": "baeb747e",
   "metadata": {},
   "source": [
    "#Group the morning rush hour rides together"
   ]
  },
  {
   "cell_type": "code",
   "execution_count": 9,
   "id": "e76dce33",
   "metadata": {},
   "outputs": [],
   "source": [
    "rush_hour_morning = july_trip.loc[(july_trip['hour'] == 7)\n",
    "                                 | (july_trip['hour'] == 8)\n",
    "                                 | (july_trip['hour'] == 9)]"
   ]
  },
  {
   "cell_type": "code",
   "execution_count": 10,
   "id": "57745f47",
   "metadata": {},
   "outputs": [
    {
     "data": {
      "text/plain": [
       "9    26\n",
       "Name: hour, dtype: int64"
      ]
     },
     "execution_count": 10,
     "metadata": {},
     "output_type": "execute_result"
    }
   ],
   "source": [
    "rush_hour_morning.hour.value_counts()"
   ]
  },
  {
   "cell_type": "markdown",
   "id": "d99fba07",
   "metadata": {},
   "source": [
    "#Group the afternoon rush hour times together"
   ]
  },
  {
   "cell_type": "code",
   "execution_count": 33,
   "id": "019624e8",
   "metadata": {},
   "outputs": [],
   "source": [
    "rush_hour_afternoon = july_trip.loc[(july_trip['hour'] == 16) \n",
    "                                   |(july_trip['hour'] == 17)\n",
    "                                   |(july_trip['hour'] == 180)]"
   ]
  },
  {
   "cell_type": "code",
   "execution_count": 13,
   "id": "969a3d00",
   "metadata": {},
   "outputs": [
    {
     "data": {
      "text/plain": [
       "17    12732\n",
       "18    12248\n",
       "16    10581\n",
       "Name: hour, dtype: int64"
      ]
     },
     "execution_count": 13,
     "metadata": {},
     "output_type": "execute_result"
    }
   ],
   "source": [
    "rush_hour_afternoon.hour.value_counts()"
   ]
  },
  {
   "cell_type": "markdown",
   "id": "d575cf9a",
   "metadata": {},
   "source": [
    "#Total rides during afternoon rush is 35561"
   ]
  },
  {
   "cell_type": "code",
   "execution_count": 121,
   "id": "2dce172b",
   "metadata": {},
   "outputs": [
    {
     "data": {
      "text/plain": [
       "35561"
      ]
     },
     "execution_count": 121,
     "metadata": {},
     "output_type": "execute_result"
    }
   ],
   "source": [
    "12732 + 12248 + 10581"
   ]
  },
  {
   "cell_type": "markdown",
   "id": "7298229a",
   "metadata": {},
   "source": [
    "#Convert the pubTimeStamp column to datetime"
   ]
  },
  {
   "cell_type": "code",
   "execution_count": 14,
   "id": "771a43d5",
   "metadata": {},
   "outputs": [],
   "source": [
    "july_trip['pubTimeStamp'] =  pd.to_datetime(july_trip['pubTimeStamp'])"
   ]
  },
  {
   "cell_type": "markdown",
   "id": "0ada3c98",
   "metadata": {},
   "source": [
    "#Pull the weekday name from the pubTimeStamp column"
   ]
  },
  {
   "cell_type": "code",
   "execution_count": 15,
   "id": "abdcc56f",
   "metadata": {},
   "outputs": [],
   "source": [
    "july_trip['weekday'] = july_trip['pubTimeStamp'].dt.day_name()"
   ]
  },
  {
   "cell_type": "code",
   "execution_count": 16,
   "id": "4ba3ac61",
   "metadata": {},
   "outputs": [
    {
     "data": {
      "text/plain": [
       "Saturday     30074\n",
       "Friday       22224\n",
       "Sunday       20900\n",
       "Monday       17080\n",
       "Thursday     15309\n",
       "Wednesday    14716\n",
       "Tuesday      14623\n",
       "Name: weekday, dtype: int64"
      ]
     },
     "execution_count": 16,
     "metadata": {},
     "output_type": "execute_result"
    }
   ],
   "source": [
    "july_trip.weekday.value_counts()"
   ]
  },
  {
   "cell_type": "markdown",
   "id": "6f62d18c",
   "metadata": {},
   "source": [
    "#Group the rides by the day of the week"
   ]
  },
  {
   "cell_type": "code",
   "execution_count": 17,
   "id": "617e375e",
   "metadata": {},
   "outputs": [],
   "source": [
    "sat_df = july_trip[july_trip['weekday'] == 'Saturday']\n",
    "sun_df = july_trip[july_trip['weekday'] == 'Sunday']"
   ]
  },
  {
   "cell_type": "code",
   "execution_count": 18,
   "id": "d7fcc3ec",
   "metadata": {},
   "outputs": [],
   "source": [
    "mon_df = july_trip[july_trip['weekday'] == 'Monday']\n",
    "tues_df = july_trip[july_trip['weekday'] == 'Tuesday']\n",
    "wed_df = july_trip[july_trip['weekday'] == 'Wednesday']\n",
    "thurs_df = july_trip[july_trip['weekday'] == 'Thursday']\n",
    "fri_df = july_trip[july_trip['weekday'] == 'Friday']"
   ]
  },
  {
   "cell_type": "markdown",
   "id": "72365586",
   "metadata": {},
   "source": [
    "#Plots!"
   ]
  },
  {
   "cell_type": "code",
   "execution_count": 120,
   "id": "a45e5fc9",
   "metadata": {},
   "outputs": [
    {
     "data": {
      "image/png": "[encoded data removed]",
      "text/plain": [
       "<Figure size 432x288 with 1 Axes>"
      ]
     },
     "metadata": {
      "needs_background": "light"
     },
     "output_type": "display_data"
    },
    {
     "data": {
      "text/plain": [
       "<Figure size 432x720 with 0 Axes>"
      ]
     },
     "metadata": {},
     "output_type": "display_data"
    },
    {
     "data": {
      "text/plain": [
       "<Figure size 432x288 with 0 Axes>"
      ]
     },
     "metadata": {},
     "output_type": "display_data"
    }
   ],
   "source": [
    "#Line plot for days of the week\n",
    "plt.hist(july_trip.weekday, bins = 20, color = 'green', edgecolor = 'black')\n",
    "plt.xlabel('Day of the Week')\n",
    "plt.ylabel('Number of Rides')\n",
    "plt.title('Rides Per Day')\n",
    "plt.figure(figsize=(6, 10))\n",
    "\n",
    "plt.show()\n",
    "plt.savefig('rides_per_day.jpg')"
   ]
  },
  {
   "cell_type": "code",
   "execution_count": 47,
   "id": "442c66dd",
   "metadata": {},
   "outputs": [
    {
     "data": {
      "image/png": "[encoded data removed]",
      "text/plain": [
       "<Figure size 432x288 with 1 Axes>"
      ]
     },
     "metadata": {
      "needs_background": "light"
     },
     "output_type": "display_data"
    }
   ],
   "source": [
    "plt.hist(mon_df.hour, bins = 30, color='green', edgecolor = 'black')\n",
    "plt.xlabel('Hours of the Day')\n",
    "plt.ylabel('Rides')\n",
    "plt.title('Monday')\n",
    "plt.ylim([0, 3500])\n",
    "plt.show()"
   ]
  },
  {
   "cell_type": "code",
   "execution_count": 46,
   "id": "6d952599",
   "metadata": {},
   "outputs": [
    {
     "data": {
      "image/png": "[encoded data removed]",
      "text/plain": [
       "<Figure size 432x288 with 1 Axes>"
      ]
     },
     "metadata": {
      "needs_background": "light"
     },
     "output_type": "display_data"
    }
   ],
   "source": [
    "plt.hist(tues_df.hour, bins = 30, color='green', edgecolor = 'black')\n",
    "plt.xlabel('Hours of the Day')\n",
    "plt.ylabel('Rides')\n",
    "plt.title('Tuesday')\n",
    "plt.ylim([0, 3500])\n",
    "plt.show()"
   ]
  },
  {
   "cell_type": "code",
   "execution_count": 45,
   "id": "0c11b7eb",
   "metadata": {},
   "outputs": [
    {
     "data": {
      "image/png": "[encoded data removed]",
      "text/plain": [
       "<Figure size 432x288 with 1 Axes>"
      ]
     },
     "metadata": {
      "needs_background": "light"
     },
     "output_type": "display_data"
    }
   ],
   "source": [
    "plt.hist(wed_df.hour, bins = 30, color='green', edgecolor = 'black')\n",
    "plt.xlabel('Hours of the Day')\n",
    "plt.ylabel('Rides')\n",
    "plt.title('Wednesday')\n",
    "plt.ylim([0, 3500])\n",
    "plt.show()"
   ]
  },
  {
   "cell_type": "code",
   "execution_count": 57,
   "id": "0a61e6ed",
   "metadata": {},
   "outputs": [
    {
     "data": {
      "text/plain": [
       "(0.0, 3500.0)"
      ]
     },
     "execution_count": 57,
     "metadata": {},
     "output_type": "execute_result"
    },
    {
     "data": {
      "image/png": "[encoded data removed]",
      "text/plain": [
       "<Figure size 432x288 with 1 Axes>"
      ]
     },
     "metadata": {
      "needs_background": "light"
     },
     "output_type": "display_data"
    }
   ],
   "source": [
    "plt.hist(thurs_df.hour, bins = 30, color='green', edgecolor = 'black')\n",
    "plt.xlabel('Hours of the Day')\n",
    "plt.ylabel('Rides')\n",
    "plt.title('Thursday')\n",
    "plt.ylim([0, 3500])"
   ]
  },
  {
   "cell_type": "code",
   "execution_count": 43,
   "id": "c97a3bff",
   "metadata": {},
   "outputs": [
    {
     "data": {
      "image/png": "[encoded data removed]",
      "text/plain": [
       "<Figure size 432x288 with 1 Axes>"
      ]
     },
     "metadata": {
      "needs_background": "light"
     },
     "output_type": "display_data"
    }
   ],
   "source": [
    "plt.hist(fri_df.hour, bins = 30, color='green', edgecolor = 'black')\n",
    "plt.xlabel('Hours of the Day')\n",
    "plt.ylabel('Rides')\n",
    "plt.title('Friday')\n",
    "plt.ylim([0, 3500])\n",
    "plt.show()"
   ]
  },
  {
   "cell_type": "code",
   "execution_count": 42,
   "id": "d5167c78",
   "metadata": {},
   "outputs": [
    {
     "data": {
      "image/png": "[encoded data removed]",
      "text/plain": [
       "<Figure size 432x288 with 1 Axes>"
      ]
     },
     "metadata": {
      "needs_background": "light"
     },
     "output_type": "display_data"
    }
   ],
   "source": [
    "plt.hist(sat_df.hour, bins = 30, color='green', edgecolor = 'black')\n",
    "plt.xlabel('Hours of the Day')\n",
    "plt.ylabel('Rides')\n",
    "plt.title('Saturday')\n",
    "plt.ylim([0, 3500])\n",
    "plt.show()"
   ]
  },
  {
   "cell_type": "code",
   "execution_count": 41,
   "id": "212e724b",
   "metadata": {},
   "outputs": [
    {
     "data": {
      "image/png": "[encoded data removed]",
      "text/plain": [
       "<Figure size 432x288 with 1 Axes>"
      ]
     },
     "metadata": {
      "needs_background": "light"
     },
     "output_type": "display_data"
    }
   ],
   "source": [
    "plt.hist(sun_df.hour, bins = 30, color='green', edgecolor = 'black')\n",
    "plt.xlabel('Hours of the Day')\n",
    "plt.ylabel('Rides')\n",
    "plt.title('Sunday')\n",
    "plt.ylim([0, 3500])\n",
    "plt.show()"
   ]
  },
  {
   "cell_type": "code",
   "execution_count": 50,
   "id": "9ab02218",
   "metadata": {},
   "outputs": [
    {
     "data": {
      "text/html": [
       "<div>\n",
       "<style scoped>\n",
       "    .dataframe tbody tr th:only-of-type {\n",
       "        vertical-align: middle;\n",
       "    }\n",
       "\n",
       "    .dataframe tbody tr th {\n",
       "        vertical-align: top;\n",
       "    }\n",
       "\n",
       "    .dataframe thead th {\n",
       "        text-align: right;\n",
       "    }\n",
       "</style>\n",
       "<table border=\"1\" class=\"dataframe\">\n",
       "  <thead>\n",
       "    <tr style=\"text-align: right;\">\n",
       "      <th></th>\n",
       "      <th>pubTimeStamp</th>\n",
       "      <th>companyName</th>\n",
       "      <th>tripRecordNum</th>\n",
       "      <th>sumdID</th>\n",
       "      <th>tripDuration</th>\n",
       "      <th>tripDistance</th>\n",
       "      <th>startDate</th>\n",
       "      <th>startTime</th>\n",
       "      <th>endDate</th>\n",
       "      <th>endTime</th>\n",
       "      <th>startLatitude</th>\n",
       "      <th>startLongitude</th>\n",
       "      <th>endLatitude</th>\n",
       "      <th>endLongitude</th>\n",
       "      <th>tripRoute</th>\n",
       "      <th>create_dt</th>\n",
       "      <th>hour</th>\n",
       "      <th>weekday</th>\n",
       "    </tr>\n",
       "  </thead>\n",
       "  <tbody>\n",
       "    <tr>\n",
       "      <th>0</th>\n",
       "      <td>2019-07-01 00:02:52.213</td>\n",
       "      <td>Bird</td>\n",
       "      <td>BRD5179</td>\n",
       "      <td>PoweredZSHKJ</td>\n",
       "      <td>2.0</td>\n",
       "      <td>0.0</td>\n",
       "      <td>2019-07-01 00:00:00</td>\n",
       "      <td>2021-10-26 00:01:32.290000</td>\n",
       "      <td>2019-07-01 00:00:00</td>\n",
       "      <td>00:03:55.966666</td>\n",
       "      <td>36.1775</td>\n",
       "      <td>-86.7516</td>\n",
       "      <td>36.1778</td>\n",
       "      <td>-86.7514</td>\n",
       "      <td>[[36.177438,-86.751861],[36.177425,-86.751987]...</td>\n",
       "      <td>2019-07-02 05:30:18.333000</td>\n",
       "      <td>0</td>\n",
       "      <td>Monday</td>\n",
       "    </tr>\n",
       "    <tr>\n",
       "      <th>1</th>\n",
       "      <td>2019-07-01 00:02:52.213</td>\n",
       "      <td>Bird</td>\n",
       "      <td>BRD5177</td>\n",
       "      <td>Powered22JF6</td>\n",
       "      <td>0.0</td>\n",
       "      <td>0.0</td>\n",
       "      <td>2019-07-01 00:00:00</td>\n",
       "      <td>2021-10-26 00:02:38.640000</td>\n",
       "      <td>2019-07-01 00:00:00</td>\n",
       "      <td>00:02:54.406666</td>\n",
       "      <td>36.1627</td>\n",
       "      <td>-86.7711</td>\n",
       "      <td>36.1627</td>\n",
       "      <td>-86.7711</td>\n",
       "      <td>[[36.162718,-86.771102],[36.162718,-86.771102]]</td>\n",
       "      <td>2019-07-02 05:30:18.273000</td>\n",
       "      <td>0</td>\n",
       "      <td>Monday</td>\n",
       "    </tr>\n",
       "    <tr>\n",
       "      <th>2</th>\n",
       "      <td>2019-07-01 00:02:52.213</td>\n",
       "      <td>Bird</td>\n",
       "      <td>BRD5176</td>\n",
       "      <td>Powered22JF6</td>\n",
       "      <td>1.0</td>\n",
       "      <td>0.0</td>\n",
       "      <td>2019-07-01 00:00:00</td>\n",
       "      <td>2021-10-26 00:03:04.333333</td>\n",
       "      <td>2019-07-01 00:00:00</td>\n",
       "      <td>00:03:37.680000</td>\n",
       "      <td>36.1627</td>\n",
       "      <td>-86.7713</td>\n",
       "      <td>36.1627</td>\n",
       "      <td>-86.7713</td>\n",
       "      <td>[[36.162734,-86.77122],[36.162706,-86.771325],...</td>\n",
       "      <td>2019-07-02 05:30:18.243000</td>\n",
       "      <td>0</td>\n",
       "      <td>Monday</td>\n",
       "    </tr>\n",
       "    <tr>\n",
       "      <th>3</th>\n",
       "      <td>2019-07-01 00:02:52.213</td>\n",
       "      <td>Bird</td>\n",
       "      <td>BRD5178</td>\n",
       "      <td>PoweredIB2CC</td>\n",
       "      <td>1.0</td>\n",
       "      <td>0.0</td>\n",
       "      <td>2019-07-01 00:00:00</td>\n",
       "      <td>2021-10-26 00:02:06.963333</td>\n",
       "      <td>2019-07-01 00:00:00</td>\n",
       "      <td>00:03:25.766666</td>\n",
       "      <td>36.1525</td>\n",
       "      <td>-86.7988</td>\n",
       "      <td>36.1525</td>\n",
       "      <td>-86.7988</td>\n",
       "      <td>[[36.152499,-86.798708]]</td>\n",
       "      <td>2019-07-02 05:30:18.303000</td>\n",
       "      <td>0</td>\n",
       "      <td>Monday</td>\n",
       "    </tr>\n",
       "    <tr>\n",
       "      <th>4</th>\n",
       "      <td>2019-07-01 00:02:52.213</td>\n",
       "      <td>Bird</td>\n",
       "      <td>BRD5180</td>\n",
       "      <td>PoweredW4G7R</td>\n",
       "      <td>2.0</td>\n",
       "      <td>0.0</td>\n",
       "      <td>2019-07-01 00:00:00</td>\n",
       "      <td>2021-10-26 00:01:19.843333</td>\n",
       "      <td>2019-07-01 00:00:00</td>\n",
       "      <td>00:02:53.976666</td>\n",
       "      <td>36.1578</td>\n",
       "      <td>-86.7760</td>\n",
       "      <td>36.1575</td>\n",
       "      <td>-86.7758</td>\n",
       "      <td>[[36.157523,-86.775794]]</td>\n",
       "      <td>2019-07-02 05:30:18.363000</td>\n",
       "      <td>0</td>\n",
       "      <td>Monday</td>\n",
       "    </tr>\n",
       "  </tbody>\n",
       "</table>\n",
       "</div>"
      ],
      "text/plain": [
       "             pubTimeStamp companyName tripRecordNum        sumdID  \\\n",
       "0 2019-07-01 00:02:52.213        Bird       BRD5179  PoweredZSHKJ   \n",
       "1 2019-07-01 00:02:52.213        Bird       BRD5177  Powered22JF6   \n",
       "2 2019-07-01 00:02:52.213        Bird       BRD5176  Powered22JF6   \n",
       "3 2019-07-01 00:02:52.213        Bird       BRD5178  PoweredIB2CC   \n",
       "4 2019-07-01 00:02:52.213        Bird       BRD5180  PoweredW4G7R   \n",
       "\n",
       "   tripDuration  tripDistance            startDate                  startTime  \\\n",
       "0           2.0           0.0  2019-07-01 00:00:00 2021-10-26 00:01:32.290000   \n",
       "1           0.0           0.0  2019-07-01 00:00:00 2021-10-26 00:02:38.640000   \n",
       "2           1.0           0.0  2019-07-01 00:00:00 2021-10-26 00:03:04.333333   \n",
       "3           1.0           0.0  2019-07-01 00:00:00 2021-10-26 00:02:06.963333   \n",
       "4           2.0           0.0  2019-07-01 00:00:00 2021-10-26 00:01:19.843333   \n",
       "\n",
       "               endDate          endTime  startLatitude  startLongitude  \\\n",
       "0  2019-07-01 00:00:00  00:03:55.966666        36.1775        -86.7516   \n",
       "1  2019-07-01 00:00:00  00:02:54.406666        36.1627        -86.7711   \n",
       "2  2019-07-01 00:00:00  00:03:37.680000        36.1627        -86.7713   \n",
       "3  2019-07-01 00:00:00  00:03:25.766666        36.1525        -86.7988   \n",
       "4  2019-07-01 00:00:00  00:02:53.976666        36.1578        -86.7760   \n",
       "\n",
       "   endLatitude  endLongitude  \\\n",
       "0      36.1778      -86.7514   \n",
       "1      36.1627      -86.7711   \n",
       "2      36.1627      -86.7713   \n",
       "3      36.1525      -86.7988   \n",
       "4      36.1575      -86.7758   \n",
       "\n",
       "                                           tripRoute  \\\n",
       "0  [[36.177438,-86.751861],[36.177425,-86.751987]...   \n",
       "1    [[36.162718,-86.771102],[36.162718,-86.771102]]   \n",
       "2  [[36.162734,-86.77122],[36.162706,-86.771325],...   \n",
       "3                           [[36.152499,-86.798708]]   \n",
       "4                           [[36.157523,-86.775794]]   \n",
       "\n",
       "                    create_dt  hour weekday  \n",
       "0  2019-07-02 05:30:18.333000     0  Monday  \n",
       "1  2019-07-02 05:30:18.273000     0  Monday  \n",
       "2  2019-07-02 05:30:18.243000     0  Monday  \n",
       "3  2019-07-02 05:30:18.303000     0  Monday  \n",
       "4  2019-07-02 05:30:18.363000     0  Monday  "
      ]
     },
     "execution_count": 50,
     "metadata": {},
     "output_type": "execute_result"
    }
   ],
   "source": [
    "july_trip.head()"
   ]
  },
  {
   "cell_type": "markdown",
   "id": "7ff29d4a",
   "metadata": {},
   "source": [
    "#Make geometry column for july_trip"
   ]
  },
  {
   "cell_type": "code",
   "execution_count": 67,
   "id": "7e8b838e",
   "metadata": {},
   "outputs": [
    {
     "data": {
      "text/html": [
       "<div>\n",
       "<style scoped>\n",
       "    .dataframe tbody tr th:only-of-type {\n",
       "        vertical-align: middle;\n",
       "    }\n",
       "\n",
       "    .dataframe tbody tr th {\n",
       "        vertical-align: top;\n",
       "    }\n",
       "\n",
       "    .dataframe thead th {\n",
       "        text-align: right;\n",
       "    }\n",
       "</style>\n",
       "<table border=\"1\" class=\"dataframe\">\n",
       "  <thead>\n",
       "    <tr style=\"text-align: right;\">\n",
       "      <th></th>\n",
       "      <th>pubTimeStamp</th>\n",
       "      <th>companyName</th>\n",
       "      <th>tripRecordNum</th>\n",
       "      <th>sumdID</th>\n",
       "      <th>tripDuration</th>\n",
       "      <th>tripDistance</th>\n",
       "      <th>startDate</th>\n",
       "      <th>startTime</th>\n",
       "      <th>endDate</th>\n",
       "      <th>endTime</th>\n",
       "      <th>startLatitude</th>\n",
       "      <th>startLongitude</th>\n",
       "      <th>endLatitude</th>\n",
       "      <th>endLongitude</th>\n",
       "      <th>tripRoute</th>\n",
       "      <th>create_dt</th>\n",
       "      <th>hour</th>\n",
       "      <th>weekday</th>\n",
       "      <th>geometry</th>\n",
       "    </tr>\n",
       "  </thead>\n",
       "  <tbody>\n",
       "    <tr>\n",
       "      <th>0</th>\n",
       "      <td>2019-07-01 00:02:52.213</td>\n",
       "      <td>Bird</td>\n",
       "      <td>BRD5179</td>\n",
       "      <td>PoweredZSHKJ</td>\n",
       "      <td>2.0</td>\n",
       "      <td>0.0</td>\n",
       "      <td>2019-07-01 00:00:00</td>\n",
       "      <td>2021-10-26 00:01:32.290000</td>\n",
       "      <td>2019-07-01 00:00:00</td>\n",
       "      <td>00:03:55.966666</td>\n",
       "      <td>36.1775</td>\n",
       "      <td>-86.7516</td>\n",
       "      <td>36.1778</td>\n",
       "      <td>-86.7514</td>\n",
       "      <td>[[36.177438,-86.751861],[36.177425,-86.751987]...</td>\n",
       "      <td>2019-07-02 05:30:18.333000</td>\n",
       "      <td>0</td>\n",
       "      <td>Monday</td>\n",
       "      <td>POINT (-86.7516 36.1775)</td>\n",
       "    </tr>\n",
       "    <tr>\n",
       "      <th>1</th>\n",
       "      <td>2019-07-01 00:02:52.213</td>\n",
       "      <td>Bird</td>\n",
       "      <td>BRD5177</td>\n",
       "      <td>Powered22JF6</td>\n",
       "      <td>0.0</td>\n",
       "      <td>0.0</td>\n",
       "      <td>2019-07-01 00:00:00</td>\n",
       "      <td>2021-10-26 00:02:38.640000</td>\n",
       "      <td>2019-07-01 00:00:00</td>\n",
       "      <td>00:02:54.406666</td>\n",
       "      <td>36.1627</td>\n",
       "      <td>-86.7711</td>\n",
       "      <td>36.1627</td>\n",
       "      <td>-86.7711</td>\n",
       "      <td>[[36.162718,-86.771102],[36.162718,-86.771102]]</td>\n",
       "      <td>2019-07-02 05:30:18.273000</td>\n",
       "      <td>0</td>\n",
       "      <td>Monday</td>\n",
       "      <td>POINT (-86.7711 36.1627)</td>\n",
       "    </tr>\n",
       "    <tr>\n",
       "      <th>2</th>\n",
       "      <td>2019-07-01 00:02:52.213</td>\n",
       "      <td>Bird</td>\n",
       "      <td>BRD5176</td>\n",
       "      <td>Powered22JF6</td>\n",
       "      <td>1.0</td>\n",
       "      <td>0.0</td>\n",
       "      <td>2019-07-01 00:00:00</td>\n",
       "      <td>2021-10-26 00:03:04.333333</td>\n",
       "      <td>2019-07-01 00:00:00</td>\n",
       "      <td>00:03:37.680000</td>\n",
       "      <td>36.1627</td>\n",
       "      <td>-86.7713</td>\n",
       "      <td>36.1627</td>\n",
       "      <td>-86.7713</td>\n",
       "      <td>[[36.162734,-86.77122],[36.162706,-86.771325],...</td>\n",
       "      <td>2019-07-02 05:30:18.243000</td>\n",
       "      <td>0</td>\n",
       "      <td>Monday</td>\n",
       "      <td>POINT (-86.7713 36.1627)</td>\n",
       "    </tr>\n",
       "  </tbody>\n",
       "</table>\n",
       "</div>"
      ],
      "text/plain": [
       "             pubTimeStamp companyName tripRecordNum        sumdID  \\\n",
       "0 2019-07-01 00:02:52.213        Bird       BRD5179  PoweredZSHKJ   \n",
       "1 2019-07-01 00:02:52.213        Bird       BRD5177  Powered22JF6   \n",
       "2 2019-07-01 00:02:52.213        Bird       BRD5176  Powered22JF6   \n",
       "\n",
       "   tripDuration  tripDistance            startDate                  startTime  \\\n",
       "0           2.0           0.0  2019-07-01 00:00:00 2021-10-26 00:01:32.290000   \n",
       "1           0.0           0.0  2019-07-01 00:00:00 2021-10-26 00:02:38.640000   \n",
       "2           1.0           0.0  2019-07-01 00:00:00 2021-10-26 00:03:04.333333   \n",
       "\n",
       "               endDate          endTime  startLatitude  startLongitude  \\\n",
       "0  2019-07-01 00:00:00  00:03:55.966666        36.1775        -86.7516   \n",
       "1  2019-07-01 00:00:00  00:02:54.406666        36.1627        -86.7711   \n",
       "2  2019-07-01 00:00:00  00:03:37.680000        36.1627        -86.7713   \n",
       "\n",
       "   endLatitude  endLongitude  \\\n",
       "0      36.1778      -86.7514   \n",
       "1      36.1627      -86.7711   \n",
       "2      36.1627      -86.7713   \n",
       "\n",
       "                                           tripRoute  \\\n",
       "0  [[36.177438,-86.751861],[36.177425,-86.751987]...   \n",
       "1    [[36.162718,-86.771102],[36.162718,-86.771102]]   \n",
       "2  [[36.162734,-86.77122],[36.162706,-86.771325],...   \n",
       "\n",
       "                    create_dt  hour weekday                  geometry  \n",
       "0  2019-07-02 05:30:18.333000     0  Monday  POINT (-86.7516 36.1775)  \n",
       "1  2019-07-02 05:30:18.273000     0  Monday  POINT (-86.7711 36.1627)  \n",
       "2  2019-07-02 05:30:18.243000     0  Monday  POINT (-86.7713 36.1627)  "
      ]
     },
     "execution_count": 67,
     "metadata": {},
     "output_type": "execute_result"
    }
   ],
   "source": [
    "july_trip['geometry'] = july_trip.apply(lambda x: Point((x.startLongitude, \n",
    "                                                         x.startLatitude)), \n",
    "                                        axis=1)\n",
    "july_trip.head(3)"
   ]
  },
  {
   "cell_type": "markdown",
   "id": "3c2ccef8",
   "metadata": {},
   "source": [
    "#Bring in zipcodes df and merge with july_trips to create july_trip_geo"
   ]
  },
  {
   "cell_type": "code",
   "execution_count": 68,
   "id": "6e7b902c",
   "metadata": {},
   "outputs": [],
   "source": [
    "zipcodes = zipcodes[['zip', 'po_name', 'geometry']]"
   ]
  },
  {
   "cell_type": "code",
   "execution_count": 71,
   "id": "4a8e2248",
   "metadata": {},
   "outputs": [],
   "source": [
    "july_trip_geo = gpd.GeoDataFrame(july_trip, \n",
    "                           crs = zipcodes.crs, \n",
    "                           geometry = july_trip['geometry'])"
   ]
  },
  {
   "cell_type": "code",
   "execution_count": 73,
   "id": "ecd58ef8",
   "metadata": {},
   "outputs": [],
   "source": [
    "rides_by_zip = gpd.sjoin(july_trip_geo, zipcodes, op = 'within')"
   ]
  },
  {
   "cell_type": "code",
   "execution_count": 74,
   "id": "c73dec86",
   "metadata": {},
   "outputs": [
    {
     "data": {
      "text/html": [
       "<div>\n",
       "<style scoped>\n",
       "    .dataframe tbody tr th:only-of-type {\n",
       "        vertical-align: middle;\n",
       "    }\n",
       "\n",
       "    .dataframe tbody tr th {\n",
       "        vertical-align: top;\n",
       "    }\n",
       "\n",
       "    .dataframe thead th {\n",
       "        text-align: right;\n",
       "    }\n",
       "</style>\n",
       "<table border=\"1\" class=\"dataframe\">\n",
       "  <thead>\n",
       "    <tr style=\"text-align: right;\">\n",
       "      <th></th>\n",
       "      <th>pubTimeStamp</th>\n",
       "      <th>companyName</th>\n",
       "      <th>tripRecordNum</th>\n",
       "      <th>sumdID</th>\n",
       "      <th>tripDuration</th>\n",
       "      <th>tripDistance</th>\n",
       "      <th>startDate</th>\n",
       "      <th>startTime</th>\n",
       "      <th>endDate</th>\n",
       "      <th>endTime</th>\n",
       "      <th>...</th>\n",
       "      <th>endLatitude</th>\n",
       "      <th>endLongitude</th>\n",
       "      <th>tripRoute</th>\n",
       "      <th>create_dt</th>\n",
       "      <th>hour</th>\n",
       "      <th>weekday</th>\n",
       "      <th>geometry</th>\n",
       "      <th>index_right</th>\n",
       "      <th>zip</th>\n",
       "      <th>po_name</th>\n",
       "    </tr>\n",
       "  </thead>\n",
       "  <tbody>\n",
       "    <tr>\n",
       "      <th>0</th>\n",
       "      <td>2019-07-01 00:02:52.213</td>\n",
       "      <td>Bird</td>\n",
       "      <td>BRD5179</td>\n",
       "      <td>PoweredZSHKJ</td>\n",
       "      <td>2.00000</td>\n",
       "      <td>0.00000</td>\n",
       "      <td>2019-07-01 00:00:00</td>\n",
       "      <td>2021-10-26 00:01:32.290000</td>\n",
       "      <td>2019-07-01 00:00:00</td>\n",
       "      <td>00:03:55.966666</td>\n",
       "      <td>...</td>\n",
       "      <td>36.17780</td>\n",
       "      <td>-86.75140</td>\n",
       "      <td>[[36.177438,-86.751861],[36.177425,-86.751987]...</td>\n",
       "      <td>2019-07-02 05:30:18.333000</td>\n",
       "      <td>0</td>\n",
       "      <td>Monday</td>\n",
       "      <td>POINT (-86.75160 36.17750)</td>\n",
       "      <td>46</td>\n",
       "      <td>37206</td>\n",
       "      <td>NASHVILLE</td>\n",
       "    </tr>\n",
       "    <tr>\n",
       "      <th>26</th>\n",
       "      <td>2019-07-01 00:12:52.437</td>\n",
       "      <td>Bird</td>\n",
       "      <td>BRD5282</td>\n",
       "      <td>PoweredU1QWL</td>\n",
       "      <td>9.00000</td>\n",
       "      <td>0.00000</td>\n",
       "      <td>2019-07-01 00:00:00</td>\n",
       "      <td>2021-10-26 00:04:29.616666</td>\n",
       "      <td>2019-07-01 00:00:00</td>\n",
       "      <td>00:13:11.600000</td>\n",
       "      <td>...</td>\n",
       "      <td>36.17590</td>\n",
       "      <td>-86.76090</td>\n",
       "      <td>[[36.176038,-86.76081],[36.175959,-86.760837],...</td>\n",
       "      <td>2019-07-02 05:30:19.340000</td>\n",
       "      <td>0</td>\n",
       "      <td>Monday</td>\n",
       "      <td>POINT (-86.76090 36.17600)</td>\n",
       "      <td>46</td>\n",
       "      <td>37206</td>\n",
       "      <td>NASHVILLE</td>\n",
       "    </tr>\n",
       "    <tr>\n",
       "      <th>118</th>\n",
       "      <td>2019-07-01 00:32:53.757</td>\n",
       "      <td>Bird</td>\n",
       "      <td>BRD5463</td>\n",
       "      <td>Powered3HZZV</td>\n",
       "      <td>4.00000</td>\n",
       "      <td>0.00000</td>\n",
       "      <td>2019-07-01 00:00:00</td>\n",
       "      <td>2021-10-26 00:28:50.746666</td>\n",
       "      <td>2019-07-01 00:00:00</td>\n",
       "      <td>00:33:13.110000</td>\n",
       "      <td>...</td>\n",
       "      <td>36.17810</td>\n",
       "      <td>-86.75580</td>\n",
       "      <td>[[36.178056,-86.755718],[36.177984,-86.75558],...</td>\n",
       "      <td>2019-07-02 05:30:22.107000</td>\n",
       "      <td>0</td>\n",
       "      <td>Monday</td>\n",
       "      <td>POINT (-86.75580 36.17800)</td>\n",
       "      <td>46</td>\n",
       "      <td>37206</td>\n",
       "      <td>NASHVILLE</td>\n",
       "    </tr>\n",
       "    <tr>\n",
       "      <th>170</th>\n",
       "      <td>2019-07-01 00:43:26.033</td>\n",
       "      <td>Lyft</td>\n",
       "      <td>LFT62</td>\n",
       "      <td>Powered536423</td>\n",
       "      <td>6.95655</td>\n",
       "      <td>1633.85832</td>\n",
       "      <td>2019-07-01 00:00:00</td>\n",
       "      <td>2021-10-26 00:36:28.533333</td>\n",
       "      <td>2019-07-01 00:00:00</td>\n",
       "      <td>00:43:25.926666</td>\n",
       "      <td>...</td>\n",
       "      <td>36.17404</td>\n",
       "      <td>-86.75187</td>\n",
       "      <td>[[36.1774,-86.74989],[36.17743,-86.74994],[36....</td>\n",
       "      <td>2019-07-02 09:34:38.727000</td>\n",
       "      <td>0</td>\n",
       "      <td>Monday</td>\n",
       "      <td>POINT (-86.74989 36.17740)</td>\n",
       "      <td>46</td>\n",
       "      <td>37206</td>\n",
       "      <td>NASHVILLE</td>\n",
       "    </tr>\n",
       "    <tr>\n",
       "      <th>211</th>\n",
       "      <td>2019-07-01 00:52:54.660</td>\n",
       "      <td>Bird</td>\n",
       "      <td>BRD5629</td>\n",
       "      <td>PoweredTLSDM</td>\n",
       "      <td>10.00000</td>\n",
       "      <td>0.00000</td>\n",
       "      <td>2019-07-01 00:00:00</td>\n",
       "      <td>2021-10-26 00:42:58.593333</td>\n",
       "      <td>2019-07-01 00:00:00</td>\n",
       "      <td>00:53:08.036666</td>\n",
       "      <td>...</td>\n",
       "      <td>36.17920</td>\n",
       "      <td>-86.74680</td>\n",
       "      <td>[[36.179298,-86.746625],[36.177447,-86.745683]]</td>\n",
       "      <td>2019-07-02 05:30:23.740000</td>\n",
       "      <td>0</td>\n",
       "      <td>Monday</td>\n",
       "      <td>POINT (-86.74670 36.17920)</td>\n",
       "      <td>46</td>\n",
       "      <td>37206</td>\n",
       "      <td>NASHVILLE</td>\n",
       "    </tr>\n",
       "  </tbody>\n",
       "</table>\n",
       "<p>5 rows × 22 columns</p>\n",
       "</div>"
      ],
      "text/plain": [
       "               pubTimeStamp companyName tripRecordNum         sumdID  \\\n",
       "0   2019-07-01 00:02:52.213        Bird       BRD5179   PoweredZSHKJ   \n",
       "26  2019-07-01 00:12:52.437        Bird       BRD5282   PoweredU1QWL   \n",
       "118 2019-07-01 00:32:53.757        Bird       BRD5463   Powered3HZZV   \n",
       "170 2019-07-01 00:43:26.033        Lyft         LFT62  Powered536423   \n",
       "211 2019-07-01 00:52:54.660        Bird       BRD5629   PoweredTLSDM   \n",
       "\n",
       "     tripDuration  tripDistance            startDate  \\\n",
       "0         2.00000       0.00000  2019-07-01 00:00:00   \n",
       "26        9.00000       0.00000  2019-07-01 00:00:00   \n",
       "118       4.00000       0.00000  2019-07-01 00:00:00   \n",
       "170       6.95655    1633.85832  2019-07-01 00:00:00   \n",
       "211      10.00000       0.00000  2019-07-01 00:00:00   \n",
       "\n",
       "                     startTime              endDate          endTime  ...  \\\n",
       "0   2021-10-26 00:01:32.290000  2019-07-01 00:00:00  00:03:55.966666  ...   \n",
       "26  2021-10-26 00:04:29.616666  2019-07-01 00:00:00  00:13:11.600000  ...   \n",
       "118 2021-10-26 00:28:50.746666  2019-07-01 00:00:00  00:33:13.110000  ...   \n",
       "170 2021-10-26 00:36:28.533333  2019-07-01 00:00:00  00:43:25.926666  ...   \n",
       "211 2021-10-26 00:42:58.593333  2019-07-01 00:00:00  00:53:08.036666  ...   \n",
       "\n",
       "     endLatitude  endLongitude  \\\n",
       "0       36.17780     -86.75140   \n",
       "26      36.17590     -86.76090   \n",
       "118     36.17810     -86.75580   \n",
       "170     36.17404     -86.75187   \n",
       "211     36.17920     -86.74680   \n",
       "\n",
       "                                             tripRoute  \\\n",
       "0    [[36.177438,-86.751861],[36.177425,-86.751987]...   \n",
       "26   [[36.176038,-86.76081],[36.175959,-86.760837],...   \n",
       "118  [[36.178056,-86.755718],[36.177984,-86.75558],...   \n",
       "170  [[36.1774,-86.74989],[36.17743,-86.74994],[36....   \n",
       "211    [[36.179298,-86.746625],[36.177447,-86.745683]]   \n",
       "\n",
       "                      create_dt hour weekday                    geometry  \\\n",
       "0    2019-07-02 05:30:18.333000    0  Monday  POINT (-86.75160 36.17750)   \n",
       "26   2019-07-02 05:30:19.340000    0  Monday  POINT (-86.76090 36.17600)   \n",
       "118  2019-07-02 05:30:22.107000    0  Monday  POINT (-86.75580 36.17800)   \n",
       "170  2019-07-02 09:34:38.727000    0  Monday  POINT (-86.74989 36.17740)   \n",
       "211  2019-07-02 05:30:23.740000    0  Monday  POINT (-86.74670 36.17920)   \n",
       "\n",
       "    index_right    zip    po_name  \n",
       "0            46  37206  NASHVILLE  \n",
       "26           46  37206  NASHVILLE  \n",
       "118          46  37206  NASHVILLE  \n",
       "170          46  37206  NASHVILLE  \n",
       "211          46  37206  NASHVILLE  \n",
       "\n",
       "[5 rows x 22 columns]"
      ]
     },
     "execution_count": 74,
     "metadata": {},
     "output_type": "execute_result"
    }
   ],
   "source": [
    "rides_by_zip.head()"
   ]
  },
  {
   "cell_type": "code",
   "execution_count": 96,
   "id": "e7488f01",
   "metadata": {},
   "outputs": [
    {
     "ename": "AttributeError",
     "evalue": "'str' object has no attribute 'intersection'",
     "output_type": "error",
     "traceback": [
      "\u001b[1;31m---------------------------------------------------------------------------\u001b[0m",
      "\u001b[1;31mAttributeError\u001b[0m                            Traceback (most recent call last)",
      "\u001b[1;32m~\\AppData\\Local\\Temp/ipykernel_10584/2150843255.py\u001b[0m in \u001b[0;36m<module>\u001b[1;34m\u001b[0m\n\u001b[1;32m----> 1\u001b[1;33m \u001b[0mscooters_in_37201\u001b[0m \u001b[1;33m=\u001b[0m \u001b[0mrides_by_zip\u001b[0m\u001b[1;33m[\u001b[0m\u001b[1;34m'zip'\u001b[0m\u001b[1;33m]\u001b[0m \u001b[1;33m==\u001b[0m \u001b[1;34m'37201'\u001b[0m\u001b[1;33m.\u001b[0m\u001b[0mintersection\u001b[0m\u001b[1;33m(\u001b[0m\u001b[0mrides_by_zip\u001b[0m\u001b[1;33m[\u001b[0m\u001b[1;34m'hour'\u001b[0m\u001b[1;33m]\u001b[0m \u001b[1;33m==\u001b[0m \u001b[1;34m'7'\u001b[0m\u001b[1;33m)\u001b[0m\u001b[1;33m\u001b[0m\u001b[1;33m\u001b[0m\u001b[0m\n\u001b[0m\u001b[0;32m      2\u001b[0m \u001b[0mscooters_in_37201\u001b[0m\u001b[1;33m.\u001b[0m\u001b[0mshape\u001b[0m\u001b[1;33m\u001b[0m\u001b[1;33m\u001b[0m\u001b[0m\n",
      "\u001b[1;31mAttributeError\u001b[0m: 'str' object has no attribute 'intersection'"
     ]
    }
   ],
   "source": [
    "scooters_in_37201 = rides_by_zip['zip'] == '37201'.intersection(rides_by_zip['hour'] == '7')\n",
    "scooters_in_37201.shape"
   ]
  },
  {
   "cell_type": "code",
   "execution_count": 104,
   "id": "6d35bb0e",
   "metadata": {},
   "outputs": [
    {
     "data": {
      "text/html": [
       "<div>\n",
       "<style scoped>\n",
       "    .dataframe tbody tr th:only-of-type {\n",
       "        vertical-align: middle;\n",
       "    }\n",
       "\n",
       "    .dataframe tbody tr th {\n",
       "        vertical-align: top;\n",
       "    }\n",
       "\n",
       "    .dataframe thead th {\n",
       "        text-align: right;\n",
       "    }\n",
       "</style>\n",
       "<table border=\"1\" class=\"dataframe\">\n",
       "  <thead>\n",
       "    <tr style=\"text-align: right;\">\n",
       "      <th></th>\n",
       "      <th>pubTimeStamp</th>\n",
       "      <th>companyName</th>\n",
       "      <th>tripRecordNum</th>\n",
       "      <th>sumdID</th>\n",
       "      <th>tripDuration</th>\n",
       "      <th>tripDistance</th>\n",
       "      <th>startDate</th>\n",
       "      <th>startTime</th>\n",
       "      <th>endDate</th>\n",
       "      <th>endTime</th>\n",
       "      <th>...</th>\n",
       "      <th>endLatitude</th>\n",
       "      <th>endLongitude</th>\n",
       "      <th>tripRoute</th>\n",
       "      <th>create_dt</th>\n",
       "      <th>hour</th>\n",
       "      <th>weekday</th>\n",
       "      <th>geometry</th>\n",
       "      <th>index_right</th>\n",
       "      <th>zip</th>\n",
       "      <th>po_name</th>\n",
       "    </tr>\n",
       "  </thead>\n",
       "  <tbody>\n",
       "    <tr>\n",
       "      <th>104308</th>\n",
       "      <td>2019-07-25 09:29:23.597</td>\n",
       "      <td>Bird</td>\n",
       "      <td>BRD2</td>\n",
       "      <td>Powered9Q272</td>\n",
       "      <td>4.0</td>\n",
       "      <td>0.0</td>\n",
       "      <td>2019-07-25 00:00:00</td>\n",
       "      <td>2021-10-26 09:25:36.450000</td>\n",
       "      <td>2019-07-25 00:00:00</td>\n",
       "      <td>09:29:33.696666</td>\n",
       "      <td>...</td>\n",
       "      <td>36.1622</td>\n",
       "      <td>-86.7762</td>\n",
       "      <td>[[36.162095,-86.776111],[36.162231,-86.776123]...</td>\n",
       "      <td>2019-07-26 05:30:54.480000</td>\n",
       "      <td>9</td>\n",
       "      <td>Thursday</td>\n",
       "      <td>POINT (-86.77600 36.16270)</td>\n",
       "      <td>24</td>\n",
       "      <td>37201</td>\n",
       "      <td>NASHVILLE</td>\n",
       "    </tr>\n",
       "    <tr>\n",
       "      <th>112902</th>\n",
       "      <td>2019-07-27 09:56:12.193</td>\n",
       "      <td>Bird</td>\n",
       "      <td>BRD5</td>\n",
       "      <td>Powered1BJ5N</td>\n",
       "      <td>2.0</td>\n",
       "      <td>0.0</td>\n",
       "      <td>2019-07-27 00:00:00</td>\n",
       "      <td>2021-10-26 09:55:06.833333</td>\n",
       "      <td>2019-07-27 00:00:00</td>\n",
       "      <td>09:57:34.520000</td>\n",
       "      <td>...</td>\n",
       "      <td>36.1584</td>\n",
       "      <td>-86.7770</td>\n",
       "      <td>[[36.159353,-86.775517],[36.159656,-86.775519]...</td>\n",
       "      <td>2019-07-28 05:30:55.787000</td>\n",
       "      <td>9</td>\n",
       "      <td>Saturday</td>\n",
       "      <td>POINT (-86.77560 36.15960)</td>\n",
       "      <td>24</td>\n",
       "      <td>37201</td>\n",
       "      <td>NASHVILLE</td>\n",
       "    </tr>\n",
       "  </tbody>\n",
       "</table>\n",
       "<p>2 rows × 22 columns</p>\n",
       "</div>"
      ],
      "text/plain": [
       "                  pubTimeStamp companyName tripRecordNum        sumdID  \\\n",
       "104308 2019-07-25 09:29:23.597        Bird          BRD2  Powered9Q272   \n",
       "112902 2019-07-27 09:56:12.193        Bird          BRD5  Powered1BJ5N   \n",
       "\n",
       "        tripDuration  tripDistance            startDate  \\\n",
       "104308           4.0           0.0  2019-07-25 00:00:00   \n",
       "112902           2.0           0.0  2019-07-27 00:00:00   \n",
       "\n",
       "                        startTime              endDate          endTime  ...  \\\n",
       "104308 2021-10-26 09:25:36.450000  2019-07-25 00:00:00  09:29:33.696666  ...   \n",
       "112902 2021-10-26 09:55:06.833333  2019-07-27 00:00:00  09:57:34.520000  ...   \n",
       "\n",
       "        endLatitude  endLongitude  \\\n",
       "104308      36.1622      -86.7762   \n",
       "112902      36.1584      -86.7770   \n",
       "\n",
       "                                                tripRoute  \\\n",
       "104308  [[36.162095,-86.776111],[36.162231,-86.776123]...   \n",
       "112902  [[36.159353,-86.775517],[36.159656,-86.775519]...   \n",
       "\n",
       "                         create_dt hour   weekday                    geometry  \\\n",
       "104308  2019-07-26 05:30:54.480000    9  Thursday  POINT (-86.77600 36.16270)   \n",
       "112902  2019-07-28 05:30:55.787000    9  Saturday  POINT (-86.77560 36.15960)   \n",
       "\n",
       "       index_right    zip    po_name  \n",
       "104308          24  37201  NASHVILLE  \n",
       "112902          24  37201  NASHVILLE  \n",
       "\n",
       "[2 rows x 22 columns]"
      ]
     },
     "execution_count": 104,
     "metadata": {},
     "output_type": "execute_result"
    }
   ],
   "source": [
    "rides_by_zip.loc[(rides_by_zip['zip'] == '37201') & (rides_by_zip['hour'] == 9)]"
   ]
  },
  {
   "cell_type": "code",
   "execution_count": 101,
   "id": "e67a04c6",
   "metadata": {},
   "outputs": [
    {
     "name": "stdout",
     "output_type": "stream",
     "text": [
      "<class 'geopandas.geodataframe.GeoDataFrame'>\n",
      "Int64Index: 134924 entries, 0 to 133904\n",
      "Data columns (total 22 columns):\n",
      " #   Column          Non-Null Count   Dtype         \n",
      "---  ------          --------------   -----         \n",
      " 0   pubTimeStamp    134924 non-null  datetime64[ns]\n",
      " 1   companyName     134924 non-null  object        \n",
      " 2   tripRecordNum   134924 non-null  object        \n",
      " 3   sumdID          134924 non-null  object        \n",
      " 4   tripDuration    134924 non-null  float64       \n",
      " 5   tripDistance    134924 non-null  float64       \n",
      " 6   startDate       134924 non-null  object        \n",
      " 7   startTime       134924 non-null  datetime64[ns]\n",
      " 8   endDate         134924 non-null  object        \n",
      " 9   endTime         134924 non-null  object        \n",
      " 10  startLatitude   134924 non-null  float64       \n",
      " 11  startLongitude  134924 non-null  float64       \n",
      " 12  endLatitude     134924 non-null  float64       \n",
      " 13  endLongitude    134924 non-null  float64       \n",
      " 14  tripRoute       134924 non-null  object        \n",
      " 15  create_dt       134924 non-null  object        \n",
      " 16  hour            134924 non-null  int64         \n",
      " 17  weekday         134924 non-null  object        \n",
      " 18  geometry        134924 non-null  geometry      \n",
      " 19  index_right     134924 non-null  int64         \n",
      " 20  zip             134924 non-null  object        \n",
      " 21  po_name         134924 non-null  object        \n",
      "dtypes: datetime64[ns](2), float64(6), geometry(1), int64(2), object(11)\n",
      "memory usage: 23.7+ MB\n"
     ]
    }
   ],
   "source": [
    "rides_by_zip.info()"
   ]
  },
  {
   "cell_type": "code",
   "execution_count": 116,
   "id": "b0d2b40a",
   "metadata": {},
   "outputs": [
    {
     "ename": "IndexError",
     "evalue": "too many indices for array: array is 1-dimensional, but 2 were indexed",
     "output_type": "error",
     "traceback": [
      "\u001b[1;31m---------------------------------------------------------------------------\u001b[0m",
      "\u001b[1;31mIndexError\u001b[0m                                Traceback (most recent call last)",
      "\u001b[1;32m~\\AppData\\Local\\Temp/ipykernel_10584/995294510.py\u001b[0m in \u001b[0;36m<module>\u001b[1;34m\u001b[0m\n\u001b[0;32m      1\u001b[0m \u001b[0mfigure\u001b[0m\u001b[1;33m,\u001b[0m \u001b[0maxis\u001b[0m \u001b[1;33m=\u001b[0m \u001b[0mplt\u001b[0m\u001b[1;33m.\u001b[0m\u001b[0msubplots\u001b[0m\u001b[1;33m(\u001b[0m\u001b[1;36m1\u001b[0m\u001b[1;33m,\u001b[0m\u001b[1;36m5\u001b[0m\u001b[1;33m)\u001b[0m\u001b[1;33m\u001b[0m\u001b[1;33m\u001b[0m\u001b[0m\n\u001b[0;32m      2\u001b[0m \u001b[1;33m\u001b[0m\u001b[0m\n\u001b[1;32m----> 3\u001b[1;33m \u001b[0maxis\u001b[0m\u001b[1;33m[\u001b[0m\u001b[1;36m0\u001b[0m\u001b[1;33m,\u001b[0m\u001b[1;36m0\u001b[0m\u001b[1;33m]\u001b[0m\u001b[1;33m.\u001b[0m\u001b[0mhist\u001b[0m\u001b[1;33m(\u001b[0m\u001b[0mmon_df\u001b[0m\u001b[1;33m.\u001b[0m\u001b[0mhour\u001b[0m\u001b[1;33m,\u001b[0m \u001b[0mbins\u001b[0m \u001b[1;33m=\u001b[0m \u001b[1;36m30\u001b[0m\u001b[1;33m,\u001b[0m \u001b[0mcolor\u001b[0m\u001b[1;33m=\u001b[0m\u001b[1;34m'green'\u001b[0m\u001b[1;33m,\u001b[0m \u001b[0medgecolor\u001b[0m \u001b[1;33m=\u001b[0m \u001b[1;34m'black'\u001b[0m\u001b[1;33m)\u001b[0m\u001b[1;33m\u001b[0m\u001b[1;33m\u001b[0m\u001b[0m\n\u001b[0m\u001b[0;32m      4\u001b[0m \u001b[0mplt\u001b[0m\u001b[1;33m.\u001b[0m\u001b[0mxlabel\u001b[0m\u001b[1;33m(\u001b[0m\u001b[1;34m'Hours of the Day'\u001b[0m\u001b[1;33m)\u001b[0m\u001b[1;33m\u001b[0m\u001b[1;33m\u001b[0m\u001b[0m\n\u001b[0;32m      5\u001b[0m \u001b[0mplt\u001b[0m\u001b[1;33m.\u001b[0m\u001b[0mylabel\u001b[0m\u001b[1;33m(\u001b[0m\u001b[1;34m'Rides'\u001b[0m\u001b[1;33m)\u001b[0m\u001b[1;33m\u001b[0m\u001b[1;33m\u001b[0m\u001b[0m\n",
      "\u001b[1;31mIndexError\u001b[0m: too many indices for array: array is 1-dimensional, but 2 were indexed"
     ]
    },
    {
     "data": {
      "image/png": "[encoded data removed]",
      "text/plain": [
       "<Figure size 432x288 with 5 Axes>"
      ]
     },
     "metadata": {
      "needs_background": "light"
     },
     "output_type": "display_data"
    }
   ],
   "source": [
    "figure, axis = plt.subplots(1,5)\n",
    "\n",
    "axis[0,0].hist(mon_df.hour, bins = 30, color='green', edgecolor = 'black')\n",
    "plt.xlabel('Hours of the Day')\n",
    "plt.ylabel('Rides')\n",
    "axis[0,0].title('Monday')\n",
    "plt.ylim([0, 3500])\n",
    "\n",
    "axis[0,1].hist(tues_df.hour, bins = 30, color='green', edgecolor = 'black')\n",
    "plt.xlabel('Hours of the Day')\n",
    "plt.ylabel('Rides')\n",
    "axis[0,1].title('Tuesday')\n",
    "plt.ylim([0, 3500])"
   ]
  },
  {
   "cell_type": "code",
   "execution_count": null,
   "id": "58b60127",
   "metadata": {},
   "outputs": [],
   "source": []
  }
 ],
 "metadata": {
  "kernelspec": {
   "display_name": "Python 3 (ipykernel)",
   "language": "python",
   "name": "python3"
  },
  "language_info": {
   "codemirror_mode": {
    "name": "ipython",
    "version": 3
   },
   "file_extension": ".py",
   "mimetype": "text/x-python",
   "name": "python",
   "nbconvert_exporter": "python",
   "pygments_lexer": "ipython3",
   "version": "3.8.5"
  }
 },
 "nbformat": 4,
 "nbformat_minor": 5
}
