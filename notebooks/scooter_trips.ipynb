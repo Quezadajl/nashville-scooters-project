{
 "cells": [
  {
   "cell_type": "code",
   "execution_count": 110,
   "id": "ea9ff3d6",
   "metadata": {},
   "outputs": [],
   "source": [
    "import pandas as pd\n",
    "import pickle\n",
    "from shapely.geometry import Point\n",
    "import geopandas as gpd\n",
    "import matplotlib.pyplot as plt\n",
    "import folium\n",
    "from folium.plugins import MarkerCluster\n",
    "from folium.plugins import FastMarkerCluster\n"
   ]
  },
  {
   "cell_type": "code",
   "execution_count": 167,
   "id": "347d31bc",
   "metadata": {
    "scrolled": true
   },
   "outputs": [
    {
     "name": "stdout",
     "output_type": "stream",
     "text": [
      "Requirement already satisfied: seaborn in c:\\users\\tomle\\anaconda3\\envs\\geospatial\\lib\\site-packages (0.11.2)\n",
      "Note: you may need to restart the kernel to use updated packages.\n"
     ]
    },
    {
     "name": "stderr",
     "output_type": "stream",
     "text": [
      "ERROR: Could not find a version that satisfies the requirement as (from versions: none)\n",
      "ERROR: No matching distribution found for as\n"
     ]
    }
   ],
   "source": [
    "pip install seaborn as sns"
   ]
  },
  {
   "cell_type": "code",
   "execution_count": 168,
   "id": "7474c4d8",
   "metadata": {},
   "outputs": [],
   "source": [
    "import seaborn as sns"
   ]
  },
  {
   "cell_type": "code",
   "execution_count": 2,
   "id": "8d23b54e",
   "metadata": {},
   "outputs": [
    {
     "data": {
      "text/html": [
       "<div>\n",
       "<style scoped>\n",
       "    .dataframe tbody tr th:only-of-type {\n",
       "        vertical-align: middle;\n",
       "    }\n",
       "\n",
       "    .dataframe tbody tr th {\n",
       "        vertical-align: top;\n",
       "    }\n",
       "\n",
       "    .dataframe thead th {\n",
       "        text-align: right;\n",
       "    }\n",
       "</style>\n",
       "<table border=\"1\" class=\"dataframe\">\n",
       "  <thead>\n",
       "    <tr style=\"text-align: right;\">\n",
       "      <th></th>\n",
       "      <th>pubTimeStamp</th>\n",
       "      <th>companyName</th>\n",
       "      <th>tripRecordNum</th>\n",
       "      <th>sumdID</th>\n",
       "      <th>tripDuration</th>\n",
       "      <th>tripDistance</th>\n",
       "      <th>startDate</th>\n",
       "      <th>startTime</th>\n",
       "      <th>endDate</th>\n",
       "      <th>endTime</th>\n",
       "      <th>startLatitude</th>\n",
       "      <th>startLongitude</th>\n",
       "      <th>endLatitude</th>\n",
       "      <th>endLongitude</th>\n",
       "      <th>tripRoute</th>\n",
       "      <th>create_dt</th>\n",
       "    </tr>\n",
       "  </thead>\n",
       "  <tbody>\n",
       "    <tr>\n",
       "      <th>0</th>\n",
       "      <td>2019-07-01 00:02:52.213000</td>\n",
       "      <td>Bird</td>\n",
       "      <td>BRD5179</td>\n",
       "      <td>PoweredZSHKJ</td>\n",
       "      <td>2.0</td>\n",
       "      <td>0.0</td>\n",
       "      <td>2019-07-01 00:00:00</td>\n",
       "      <td>00:01:32.290000</td>\n",
       "      <td>2019-07-01 00:00:00</td>\n",
       "      <td>00:03:55.966666</td>\n",
       "      <td>36.1775</td>\n",
       "      <td>-86.7516</td>\n",
       "      <td>36.1778</td>\n",
       "      <td>-86.7514</td>\n",
       "      <td>[[36.177438,-86.751861],[36.177425,-86.751987]...</td>\n",
       "      <td>2019-07-02 05:30:18.333000</td>\n",
       "    </tr>\n",
       "    <tr>\n",
       "      <th>1</th>\n",
       "      <td>2019-07-01 00:02:52.213000</td>\n",
       "      <td>Bird</td>\n",
       "      <td>BRD5177</td>\n",
       "      <td>Powered22JF6</td>\n",
       "      <td>0.0</td>\n",
       "      <td>0.0</td>\n",
       "      <td>2019-07-01 00:00:00</td>\n",
       "      <td>00:02:38.640000</td>\n",
       "      <td>2019-07-01 00:00:00</td>\n",
       "      <td>00:02:54.406666</td>\n",
       "      <td>36.1627</td>\n",
       "      <td>-86.7711</td>\n",
       "      <td>36.1627</td>\n",
       "      <td>-86.7711</td>\n",
       "      <td>[[36.162718,-86.771102],[36.162718,-86.771102]]</td>\n",
       "      <td>2019-07-02 05:30:18.273000</td>\n",
       "    </tr>\n",
       "    <tr>\n",
       "      <th>2</th>\n",
       "      <td>2019-07-01 00:02:52.213000</td>\n",
       "      <td>Bird</td>\n",
       "      <td>BRD5176</td>\n",
       "      <td>Powered22JF6</td>\n",
       "      <td>1.0</td>\n",
       "      <td>0.0</td>\n",
       "      <td>2019-07-01 00:00:00</td>\n",
       "      <td>00:03:04.333333</td>\n",
       "      <td>2019-07-01 00:00:00</td>\n",
       "      <td>00:03:37.680000</td>\n",
       "      <td>36.1627</td>\n",
       "      <td>-86.7713</td>\n",
       "      <td>36.1627</td>\n",
       "      <td>-86.7713</td>\n",
       "      <td>[[36.162734,-86.77122],[36.162706,-86.771325],...</td>\n",
       "      <td>2019-07-02 05:30:18.243000</td>\n",
       "    </tr>\n",
       "    <tr>\n",
       "      <th>3</th>\n",
       "      <td>2019-07-01 00:02:52.213000</td>\n",
       "      <td>Bird</td>\n",
       "      <td>BRD5178</td>\n",
       "      <td>PoweredIB2CC</td>\n",
       "      <td>1.0</td>\n",
       "      <td>0.0</td>\n",
       "      <td>2019-07-01 00:00:00</td>\n",
       "      <td>00:02:06.963333</td>\n",
       "      <td>2019-07-01 00:00:00</td>\n",
       "      <td>00:03:25.766666</td>\n",
       "      <td>36.1525</td>\n",
       "      <td>-86.7988</td>\n",
       "      <td>36.1525</td>\n",
       "      <td>-86.7988</td>\n",
       "      <td>[[36.152499,-86.798708]]</td>\n",
       "      <td>2019-07-02 05:30:18.303000</td>\n",
       "    </tr>\n",
       "    <tr>\n",
       "      <th>4</th>\n",
       "      <td>2019-07-01 00:02:52.213000</td>\n",
       "      <td>Bird</td>\n",
       "      <td>BRD5180</td>\n",
       "      <td>PoweredW4G7R</td>\n",
       "      <td>2.0</td>\n",
       "      <td>0.0</td>\n",
       "      <td>2019-07-01 00:00:00</td>\n",
       "      <td>00:01:19.843333</td>\n",
       "      <td>2019-07-01 00:00:00</td>\n",
       "      <td>00:02:53.976666</td>\n",
       "      <td>36.1578</td>\n",
       "      <td>-86.7760</td>\n",
       "      <td>36.1575</td>\n",
       "      <td>-86.7758</td>\n",
       "      <td>[[36.157523,-86.775794]]</td>\n",
       "      <td>2019-07-02 05:30:18.363000</td>\n",
       "    </tr>\n",
       "  </tbody>\n",
       "</table>\n",
       "</div>"
      ],
      "text/plain": [
       "                 pubTimeStamp companyName tripRecordNum        sumdID  \\\n",
       "0  2019-07-01 00:02:52.213000        Bird       BRD5179  PoweredZSHKJ   \n",
       "1  2019-07-01 00:02:52.213000        Bird       BRD5177  Powered22JF6   \n",
       "2  2019-07-01 00:02:52.213000        Bird       BRD5176  Powered22JF6   \n",
       "3  2019-07-01 00:02:52.213000        Bird       BRD5178  PoweredIB2CC   \n",
       "4  2019-07-01 00:02:52.213000        Bird       BRD5180  PoweredW4G7R   \n",
       "\n",
       "   tripDuration  tripDistance            startDate        startTime  \\\n",
       "0           2.0           0.0  2019-07-01 00:00:00  00:01:32.290000   \n",
       "1           0.0           0.0  2019-07-01 00:00:00  00:02:38.640000   \n",
       "2           1.0           0.0  2019-07-01 00:00:00  00:03:04.333333   \n",
       "3           1.0           0.0  2019-07-01 00:00:00  00:02:06.963333   \n",
       "4           2.0           0.0  2019-07-01 00:00:00  00:01:19.843333   \n",
       "\n",
       "               endDate          endTime  startLatitude  startLongitude  \\\n",
       "0  2019-07-01 00:00:00  00:03:55.966666        36.1775        -86.7516   \n",
       "1  2019-07-01 00:00:00  00:02:54.406666        36.1627        -86.7711   \n",
       "2  2019-07-01 00:00:00  00:03:37.680000        36.1627        -86.7713   \n",
       "3  2019-07-01 00:00:00  00:03:25.766666        36.1525        -86.7988   \n",
       "4  2019-07-01 00:00:00  00:02:53.976666        36.1578        -86.7760   \n",
       "\n",
       "   endLatitude  endLongitude  \\\n",
       "0      36.1778      -86.7514   \n",
       "1      36.1627      -86.7711   \n",
       "2      36.1627      -86.7713   \n",
       "3      36.1525      -86.7988   \n",
       "4      36.1575      -86.7758   \n",
       "\n",
       "                                           tripRoute  \\\n",
       "0  [[36.177438,-86.751861],[36.177425,-86.751987]...   \n",
       "1    [[36.162718,-86.771102],[36.162718,-86.771102]]   \n",
       "2  [[36.162734,-86.77122],[36.162706,-86.771325],...   \n",
       "3                           [[36.152499,-86.798708]]   \n",
       "4                           [[36.157523,-86.775794]]   \n",
       "\n",
       "                    create_dt  \n",
       "0  2019-07-02 05:30:18.333000  \n",
       "1  2019-07-02 05:30:18.273000  \n",
       "2  2019-07-02 05:30:18.243000  \n",
       "3  2019-07-02 05:30:18.303000  \n",
       "4  2019-07-02 05:30:18.363000  "
      ]
     },
     "execution_count": 2,
     "metadata": {},
     "output_type": "execute_result"
    }
   ],
   "source": [
    "july_trip = pd.read_csv('../data/july_trip.csv')\n",
    "july_trip.head()"
   ]
  },
  {
   "cell_type": "code",
   "execution_count": 3,
   "id": "29e65987",
   "metadata": {},
   "outputs": [],
   "source": [
    "zipcodes= gpd.read_file('../data/zipcodes.geojson')"
   ]
  },
  {
   "cell_type": "markdown",
   "id": "ddb9cf22",
   "metadata": {},
   "source": [
    "#Make starTime a datetime format"
   ]
  },
  {
   "cell_type": "code",
   "execution_count": 5,
   "id": "8b198ecd",
   "metadata": {},
   "outputs": [],
   "source": [
    "july_trip['startTime'] =  pd.to_datetime(july_trip['startTime'])"
   ]
  },
  {
   "cell_type": "markdown",
   "id": "c9c3a98d",
   "metadata": {},
   "source": [
    "#Create an hour column"
   ]
  },
  {
   "cell_type": "code",
   "execution_count": 6,
   "id": "2e6e9bf0",
   "metadata": {},
   "outputs": [],
   "source": [
    "july_trip['hour'] = july_trip['startTime'].dt.hour"
   ]
  },
  {
   "cell_type": "code",
   "execution_count": 8,
   "id": "817fc141",
   "metadata": {},
   "outputs": [
    {
     "data": {
      "text/plain": [
       "19    13152\n",
       "17    12732\n",
       "0     12330\n",
       "18    12248\n",
       "21    12092\n",
       "20    11961\n",
       "22    11843\n",
       "23    11358\n",
       "16    10581\n",
       "15     7948\n",
       "1      5291\n",
       "14     4995\n",
       "13     3160\n",
       "12     2037\n",
       "2      1530\n",
       "11      917\n",
       "3       341\n",
       "4       227\n",
       "10      157\n",
       "9        26\n",
       "Name: hour, dtype: int64"
      ]
     },
     "execution_count": 8,
     "metadata": {},
     "output_type": "execute_result"
    }
   ],
   "source": [
    "july_trip.hour.value_counts()"
   ]
  },
  {
   "cell_type": "markdown",
   "id": "050ca631",
   "metadata": {},
   "source": [
    "#Group the morning rush hour rides together"
   ]
  },
  {
   "cell_type": "code",
   "execution_count": 9,
   "id": "1d8abc84",
   "metadata": {},
   "outputs": [],
   "source": [
    "rush_hour_morning = july_trip.loc[(july_trip['hour'] == 7)\n",
    "                                 | (july_trip['hour'] == 8)\n",
    "                                 | (july_trip['hour'] == 9)]"
   ]
  },
  {
   "cell_type": "code",
   "execution_count": 10,
   "id": "f89aa3f8",
   "metadata": {},
   "outputs": [
    {
     "data": {
      "text/plain": [
       "9    26\n",
       "Name: hour, dtype: int64"
      ]
     },
     "execution_count": 10,
     "metadata": {},
     "output_type": "execute_result"
    }
   ],
   "source": [
    "rush_hour_morning.hour.value_counts()"
   ]
  },
  {
   "cell_type": "markdown",
   "id": "06cbca44",
   "metadata": {},
   "source": [
    "#Group the afternoon rush hour times together"
   ]
  },
  {
   "cell_type": "code",
   "execution_count": 130,
   "id": "a3d7af3d",
   "metadata": {},
   "outputs": [],
   "source": [
    "rush_hour_afternoon = july_trip.loc[(july_trip['hour'] == 16) \n",
    "                                   |(july_trip['hour'] == 17)\n",
    "                                   |(july_trip['hour'] == 18)]"
   ]
  },
  {
   "cell_type": "code",
   "execution_count": 131,
   "id": "65b8c466",
   "metadata": {},
   "outputs": [
    {
     "data": {
      "text/plain": [
       "17    12732\n",
       "18    12248\n",
       "16    10581\n",
       "Name: hour, dtype: int64"
      ]
     },
     "execution_count": 131,
     "metadata": {},
     "output_type": "execute_result"
    }
   ],
   "source": [
    "rush_hour_afternoon.hour.value_counts()"
   ]
  },
  {
   "cell_type": "markdown",
   "id": "b754b422",
   "metadata": {},
   "source": [
    "#Total rides during afternoon rush is 35561"
   ]
  },
  {
   "cell_type": "code",
   "execution_count": 121,
   "id": "661e5e01",
   "metadata": {},
   "outputs": [
    {
     "data": {
      "text/plain": [
       "35561"
      ]
     },
     "execution_count": 121,
     "metadata": {},
     "output_type": "execute_result"
    }
   ],
   "source": [
    "12732 + 12248 + 10581"
   ]
  },
  {
   "cell_type": "markdown",
   "id": "da20f3c4",
   "metadata": {},
   "source": [
    "#Convert the pubTimeStamp column to datetime"
   ]
  },
  {
   "cell_type": "code",
   "execution_count": 14,
   "id": "caace18a",
   "metadata": {},
   "outputs": [],
   "source": [
    "july_trip['pubTimeStamp'] =  pd.to_datetime(july_trip['pubTimeStamp'])"
   ]
  },
  {
   "cell_type": "markdown",
   "id": "0004b0c4",
   "metadata": {},
   "source": [
    "#Pull the weekday name from the pubTimeStamp column"
   ]
  },
  {
   "cell_type": "code",
   "execution_count": 15,
   "id": "3e9f8601",
   "metadata": {},
   "outputs": [],
   "source": [
    "july_trip['weekday'] = july_trip['pubTimeStamp'].dt.day_name()"
   ]
  },
  {
   "cell_type": "code",
   "execution_count": 16,
   "id": "6dc987cf",
   "metadata": {},
   "outputs": [
    {
     "data": {
      "text/plain": [
       "Saturday     30074\n",
       "Friday       22224\n",
       "Sunday       20900\n",
       "Monday       17080\n",
       "Thursday     15309\n",
       "Wednesday    14716\n",
       "Tuesday      14623\n",
       "Name: weekday, dtype: int64"
      ]
     },
     "execution_count": 16,
     "metadata": {},
     "output_type": "execute_result"
    }
   ],
   "source": [
    "july_trip.weekday.value_counts()"
   ]
  },
  {
   "cell_type": "markdown",
   "id": "6f8c90be",
   "metadata": {},
   "source": [
    "#Group the rides by the day of the week"
   ]
  },
  {
   "cell_type": "code",
   "execution_count": 17,
   "id": "5c3613ab",
   "metadata": {},
   "outputs": [],
   "source": [
    "sat_df = july_trip[july_trip['weekday'] == 'Saturday']\n",
    "sun_df = july_trip[july_trip['weekday'] == 'Sunday']"
   ]
  },
  {
   "cell_type": "code",
   "execution_count": 18,
   "id": "bcce85e3",
   "metadata": {},
   "outputs": [],
   "source": [
    "mon_df = july_trip[july_trip['weekday'] == 'Monday']\n",
    "tues_df = july_trip[july_trip['weekday'] == 'Tuesday']\n",
    "wed_df = july_trip[july_trip['weekday'] == 'Wednesday']\n",
    "thurs_df = july_trip[july_trip['weekday'] == 'Thursday']\n",
    "fri_df = july_trip[july_trip['weekday'] == 'Friday']"
   ]
  },
  {
   "cell_type": "markdown",
   "id": "9efc1007",
   "metadata": {},
   "source": [
    "#Plots!"
   ]
  },
  {
   "cell_type": "code",
   "execution_count": 202,
   "id": "b0f0abb2",
   "metadata": {},
   "outputs": [
    {
     "data": {
      "image/png": "[encoded data removed]",
      "text/plain": [
       "<Figure size 432x288 with 1 Axes>"
      ]
     },
     "metadata": {
      "needs_background": "light"
     },
     "output_type": "display_data"
    },
    {
     "data": {
      "text/plain": [
       "<Figure size 432x720 with 0 Axes>"
      ]
     },
     "metadata": {},
     "output_type": "display_data"
    },
    {
     "data": {
      "text/plain": [
       "<Figure size 432x288 with 0 Axes>"
      ]
     },
     "metadata": {},
     "output_type": "display_data"
    }
   ],
   "source": [
    "#Line plot for days of the week\n",
    "plt.hist(july_trip.weekday, bins = 20, edgecolor = 'black')\n",
    "plt.xlabel('Day of the Week')\n",
    "plt.ylabel('Number of Rides')\n",
    "plt.title('Rides Per Day', fontsize = 70)\n",
    "plt.figure(figsize=(6, 10))\n",
    "\n",
    "plt.show()\n",
    "plt.savefig('rides_per_day.jpg')"
   ]
  },
  {
   "cell_type": "code",
   "execution_count": 140,
   "id": "56583922",
   "metadata": {},
   "outputs": [
    {
     "data": {
      "image/png": "[encoded data removed]",
      "text/plain": [
       "<Figure size 432x288 with 1 Axes>"
      ]
     },
     "metadata": {
      "needs_background": "light"
     },
     "output_type": "display_data"
    }
   ],
   "source": [
    "plt.hist(mon_df.hour, bins = 30, edgecolor = 'black')\n",
    "plt.xlabel('Hours of the Day')\n",
    "plt.ylabel('Rides')\n",
    "plt.title('Monday')\n",
    "plt.ylim([0, 3500])\n",
    "plt.show()"
   ]
  },
  {
   "cell_type": "code",
   "execution_count": 141,
   "id": "24937b88",
   "metadata": {},
   "outputs": [
    {
     "data": {
      "image/png": "[encoded data removed]",
      "text/plain": [
       "<Figure size 432x288 with 1 Axes>"
      ]
     },
     "metadata": {
      "needs_background": "light"
     },
     "output_type": "display_data"
    }
   ],
   "source": [
    "plt.hist(tues_df.hour, bins = 30, edgecolor = 'black')\n",
    "plt.xlabel('Hours of the Day')\n",
    "plt.ylabel('Rides')\n",
    "plt.title('Tuesday')\n",
    "plt.ylim([0, 3500])\n",
    "plt.show()"
   ]
  },
  {
   "cell_type": "code",
   "execution_count": 142,
   "id": "4857e589",
   "metadata": {},
   "outputs": [
    {
     "data": {
      "image/png": "[encoded data removed]",
      "text/plain": [
       "<Figure size 432x288 with 1 Axes>"
      ]
     },
     "metadata": {
      "needs_background": "light"
     },
     "output_type": "display_data"
    }
   ],
   "source": [
    "plt.hist(wed_df.hour, bins = 30, edgecolor = 'black')\n",
    "plt.xlabel('Hours of the Day')\n",
    "plt.ylabel('Rides')\n",
    "plt.title('Wednesday')\n",
    "plt.ylim([0, 3500])\n",
    "plt.show()"
   ]
  },
  {
   "cell_type": "code",
   "execution_count": 143,
   "id": "0fb438f7",
   "metadata": {},
   "outputs": [
    {
     "data": {
      "text/plain": [
       "(0.0, 3500.0)"
      ]
     },
     "execution_count": 143,
     "metadata": {},
     "output_type": "execute_result"
    },
    {
     "data": {
      "image/png": "[encoded data removed]",
      "text/plain": [
       "<Figure size 432x288 with 1 Axes>"
      ]
     },
     "metadata": {
      "needs_background": "light"
     },
     "output_type": "display_data"
    }
   ],
   "source": [
    "plt.hist(thurs_df.hour, bins = 30, edgecolor = 'black')\n",
    "plt.xlabel('Hours of the Day')\n",
    "plt.ylabel('Rides')\n",
    "plt.title('Thursday')\n",
    "plt.ylim([0, 3500])"
   ]
  },
  {
   "cell_type": "code",
   "execution_count": 144,
   "id": "45521883",
   "metadata": {},
   "outputs": [
    {
     "data": {
      "image/png": "[encoded data removed]",
      "text/plain": [
       "<Figure size 432x288 with 1 Axes>"
      ]
     },
     "metadata": {
      "needs_background": "light"
     },
     "output_type": "display_data"
    }
   ],
   "source": [
    "plt.hist(fri_df.hour, bins = 30, edgecolor = 'black')\n",
    "plt.xlabel('Hours of the Day')\n",
    "plt.ylabel('Rides')\n",
    "plt.title('Friday')\n",
    "plt.ylim([0, 3500])\n",
    "plt.show()"
   ]
  },
  {
   "cell_type": "code",
   "execution_count": 145,
   "id": "4c793aad",
   "metadata": {},
   "outputs": [
    {
     "data": {
      "image/png": "[encoded data removed]",
      "text/plain": [
       "<Figure size 432x288 with 1 Axes>"
      ]
     },
     "metadata": {
      "needs_background": "light"
     },
     "output_type": "display_data"
    }
   ],
   "source": [
    "plt.hist(sat_df.hour, bins = 30, edgecolor = 'black')\n",
    "plt.xlabel('Hours of the Day')\n",
    "plt.ylabel('Rides')\n",
    "plt.title('Saturday')\n",
    "plt.ylim([0, 3500])\n",
    "plt.show()"
   ]
  },
  {
   "cell_type": "code",
   "execution_count": 146,
   "id": "a2f5aacc",
   "metadata": {},
   "outputs": [
    {
     "data": {
      "image/png": "[encoded data removed]",
      "text/plain": [
       "<Figure size 432x288 with 1 Axes>"
      ]
     },
     "metadata": {
      "needs_background": "light"
     },
     "output_type": "display_data"
    }
   ],
   "source": [
    "plt.hist(sun_df.hour, bins = 30, edgecolor = 'black')\n",
    "plt.xlabel('Hours of the Day')\n",
    "plt.ylabel('Rides')\n",
    "plt.title('Sunday')\n",
    "plt.ylim([0, 3500])\n",
    "plt.show()"
   ]
  },
  {
   "cell_type": "code",
   "execution_count": 50,
   "id": "e6f8085d",
   "metadata": {},
   "outputs": [
    {
     "data": {
      "text/html": [
       "<div>\n",
       "<style scoped>\n",
       "    .dataframe tbody tr th:only-of-type {\n",
       "        vertical-align: middle;\n",
       "    }\n",
       "\n",
       "    .dataframe tbody tr th {\n",
       "        vertical-align: top;\n",
       "    }\n",
       "\n",
       "    .dataframe thead th {\n",
       "        text-align: right;\n",
       "    }\n",
       "</style>\n",
       "<table border=\"1\" class=\"dataframe\">\n",
       "  <thead>\n",
       "    <tr style=\"text-align: right;\">\n",
       "      <th></th>\n",
       "      <th>pubTimeStamp</th>\n",
       "      <th>companyName</th>\n",
       "      <th>tripRecordNum</th>\n",
       "      <th>sumdID</th>\n",
       "      <th>tripDuration</th>\n",
       "      <th>tripDistance</th>\n",
       "      <th>startDate</th>\n",
       "      <th>startTime</th>\n",
       "      <th>endDate</th>\n",
       "      <th>endTime</th>\n",
       "      <th>startLatitude</th>\n",
       "      <th>startLongitude</th>\n",
       "      <th>endLatitude</th>\n",
       "      <th>endLongitude</th>\n",
       "      <th>tripRoute</th>\n",
       "      <th>create_dt</th>\n",
       "      <th>hour</th>\n",
       "      <th>weekday</th>\n",
       "    </tr>\n",
       "  </thead>\n",
       "  <tbody>\n",
       "    <tr>\n",
       "      <th>0</th>\n",
       "      <td>2019-07-01 00:02:52.213</td>\n",
       "      <td>Bird</td>\n",
       "      <td>BRD5179</td>\n",
       "      <td>PoweredZSHKJ</td>\n",
       "      <td>2.0</td>\n",
       "      <td>0.0</td>\n",
       "      <td>2019-07-01 00:00:00</td>\n",
       "      <td>2021-10-26 00:01:32.290000</td>\n",
       "      <td>2019-07-01 00:00:00</td>\n",
       "      <td>00:03:55.966666</td>\n",
       "      <td>36.1775</td>\n",
       "      <td>-86.7516</td>\n",
       "      <td>36.1778</td>\n",
       "      <td>-86.7514</td>\n",
       "      <td>[[36.177438,-86.751861],[36.177425,-86.751987]...</td>\n",
       "      <td>2019-07-02 05:30:18.333000</td>\n",
       "      <td>0</td>\n",
       "      <td>Monday</td>\n",
       "    </tr>\n",
       "    <tr>\n",
       "      <th>1</th>\n",
       "      <td>2019-07-01 00:02:52.213</td>\n",
       "      <td>Bird</td>\n",
       "      <td>BRD5177</td>\n",
       "      <td>Powered22JF6</td>\n",
       "      <td>0.0</td>\n",
       "      <td>0.0</td>\n",
       "      <td>2019-07-01 00:00:00</td>\n",
       "      <td>2021-10-26 00:02:38.640000</td>\n",
       "      <td>2019-07-01 00:00:00</td>\n",
       "      <td>00:02:54.406666</td>\n",
       "      <td>36.1627</td>\n",
       "      <td>-86.7711</td>\n",
       "      <td>36.1627</td>\n",
       "      <td>-86.7711</td>\n",
       "      <td>[[36.162718,-86.771102],[36.162718,-86.771102]]</td>\n",
       "      <td>2019-07-02 05:30:18.273000</td>\n",
       "      <td>0</td>\n",
       "      <td>Monday</td>\n",
       "    </tr>\n",
       "    <tr>\n",
       "      <th>2</th>\n",
       "      <td>2019-07-01 00:02:52.213</td>\n",
       "      <td>Bird</td>\n",
       "      <td>BRD5176</td>\n",
       "      <td>Powered22JF6</td>\n",
       "      <td>1.0</td>\n",
       "      <td>0.0</td>\n",
       "      <td>2019-07-01 00:00:00</td>\n",
       "      <td>2021-10-26 00:03:04.333333</td>\n",
       "      <td>2019-07-01 00:00:00</td>\n",
       "      <td>00:03:37.680000</td>\n",
       "      <td>36.1627</td>\n",
       "      <td>-86.7713</td>\n",
       "      <td>36.1627</td>\n",
       "      <td>-86.7713</td>\n",
       "      <td>[[36.162734,-86.77122],[36.162706,-86.771325],...</td>\n",
       "      <td>2019-07-02 05:30:18.243000</td>\n",
       "      <td>0</td>\n",
       "      <td>Monday</td>\n",
       "    </tr>\n",
       "    <tr>\n",
       "      <th>3</th>\n",
       "      <td>2019-07-01 00:02:52.213</td>\n",
       "      <td>Bird</td>\n",
       "      <td>BRD5178</td>\n",
       "      <td>PoweredIB2CC</td>\n",
       "      <td>1.0</td>\n",
       "      <td>0.0</td>\n",
       "      <td>2019-07-01 00:00:00</td>\n",
       "      <td>2021-10-26 00:02:06.963333</td>\n",
       "      <td>2019-07-01 00:00:00</td>\n",
       "      <td>00:03:25.766666</td>\n",
       "      <td>36.1525</td>\n",
       "      <td>-86.7988</td>\n",
       "      <td>36.1525</td>\n",
       "      <td>-86.7988</td>\n",
       "      <td>[[36.152499,-86.798708]]</td>\n",
       "      <td>2019-07-02 05:30:18.303000</td>\n",
       "      <td>0</td>\n",
       "      <td>Monday</td>\n",
       "    </tr>\n",
       "    <tr>\n",
       "      <th>4</th>\n",
       "      <td>2019-07-01 00:02:52.213</td>\n",
       "      <td>Bird</td>\n",
       "      <td>BRD5180</td>\n",
       "      <td>PoweredW4G7R</td>\n",
       "      <td>2.0</td>\n",
       "      <td>0.0</td>\n",
       "      <td>2019-07-01 00:00:00</td>\n",
       "      <td>2021-10-26 00:01:19.843333</td>\n",
       "      <td>2019-07-01 00:00:00</td>\n",
       "      <td>00:02:53.976666</td>\n",
       "      <td>36.1578</td>\n",
       "      <td>-86.7760</td>\n",
       "      <td>36.1575</td>\n",
       "      <td>-86.7758</td>\n",
       "      <td>[[36.157523,-86.775794]]</td>\n",
       "      <td>2019-07-02 05:30:18.363000</td>\n",
       "      <td>0</td>\n",
       "      <td>Monday</td>\n",
       "    </tr>\n",
       "  </tbody>\n",
       "</table>\n",
       "</div>"
      ],
      "text/plain": [
       "             pubTimeStamp companyName tripRecordNum        sumdID  \\\n",
       "0 2019-07-01 00:02:52.213        Bird       BRD5179  PoweredZSHKJ   \n",
       "1 2019-07-01 00:02:52.213        Bird       BRD5177  Powered22JF6   \n",
       "2 2019-07-01 00:02:52.213        Bird       BRD5176  Powered22JF6   \n",
       "3 2019-07-01 00:02:52.213        Bird       BRD5178  PoweredIB2CC   \n",
       "4 2019-07-01 00:02:52.213        Bird       BRD5180  PoweredW4G7R   \n",
       "\n",
       "   tripDuration  tripDistance            startDate                  startTime  \\\n",
       "0           2.0           0.0  2019-07-01 00:00:00 2021-10-26 00:01:32.290000   \n",
       "1           0.0           0.0  2019-07-01 00:00:00 2021-10-26 00:02:38.640000   \n",
       "2           1.0           0.0  2019-07-01 00:00:00 2021-10-26 00:03:04.333333   \n",
       "3           1.0           0.0  2019-07-01 00:00:00 2021-10-26 00:02:06.963333   \n",
       "4           2.0           0.0  2019-07-01 00:00:00 2021-10-26 00:01:19.843333   \n",
       "\n",
       "               endDate          endTime  startLatitude  startLongitude  \\\n",
       "0  2019-07-01 00:00:00  00:03:55.966666        36.1775        -86.7516   \n",
       "1  2019-07-01 00:00:00  00:02:54.406666        36.1627        -86.7711   \n",
       "2  2019-07-01 00:00:00  00:03:37.680000        36.1627        -86.7713   \n",
       "3  2019-07-01 00:00:00  00:03:25.766666        36.1525        -86.7988   \n",
       "4  2019-07-01 00:00:00  00:02:53.976666        36.1578        -86.7760   \n",
       "\n",
       "   endLatitude  endLongitude  \\\n",
       "0      36.1778      -86.7514   \n",
       "1      36.1627      -86.7711   \n",
       "2      36.1627      -86.7713   \n",
       "3      36.1525      -86.7988   \n",
       "4      36.1575      -86.7758   \n",
       "\n",
       "                                           tripRoute  \\\n",
       "0  [[36.177438,-86.751861],[36.177425,-86.751987]...   \n",
       "1    [[36.162718,-86.771102],[36.162718,-86.771102]]   \n",
       "2  [[36.162734,-86.77122],[36.162706,-86.771325],...   \n",
       "3                           [[36.152499,-86.798708]]   \n",
       "4                           [[36.157523,-86.775794]]   \n",
       "\n",
       "                    create_dt  hour weekday  \n",
       "0  2019-07-02 05:30:18.333000     0  Monday  \n",
       "1  2019-07-02 05:30:18.273000     0  Monday  \n",
       "2  2019-07-02 05:30:18.243000     0  Monday  \n",
       "3  2019-07-02 05:30:18.303000     0  Monday  \n",
       "4  2019-07-02 05:30:18.363000     0  Monday  "
      ]
     },
     "execution_count": 50,
     "metadata": {},
     "output_type": "execute_result"
    }
   ],
   "source": [
    "july_trip.head()"
   ]
  },
  {
   "cell_type": "markdown",
   "id": "3fd07cc9",
   "metadata": {},
   "source": [
    "#Make geometry column for july_trip"
   ]
  },
  {
   "cell_type": "code",
   "execution_count": 67,
   "id": "e2665a35",
   "metadata": {},
   "outputs": [
    {
     "data": {
      "text/html": [
       "<div>\n",
       "<style scoped>\n",
       "    .dataframe tbody tr th:only-of-type {\n",
       "        vertical-align: middle;\n",
       "    }\n",
       "\n",
       "    .dataframe tbody tr th {\n",
       "        vertical-align: top;\n",
       "    }\n",
       "\n",
       "    .dataframe thead th {\n",
       "        text-align: right;\n",
       "    }\n",
       "</style>\n",
       "<table border=\"1\" class=\"dataframe\">\n",
       "  <thead>\n",
       "    <tr style=\"text-align: right;\">\n",
       "      <th></th>\n",
       "      <th>pubTimeStamp</th>\n",
       "      <th>companyName</th>\n",
       "      <th>tripRecordNum</th>\n",
       "      <th>sumdID</th>\n",
       "      <th>tripDuration</th>\n",
       "      <th>tripDistance</th>\n",
       "      <th>startDate</th>\n",
       "      <th>startTime</th>\n",
       "      <th>endDate</th>\n",
       "      <th>endTime</th>\n",
       "      <th>startLatitude</th>\n",
       "      <th>startLongitude</th>\n",
       "      <th>endLatitude</th>\n",
       "      <th>endLongitude</th>\n",
       "      <th>tripRoute</th>\n",
       "      <th>create_dt</th>\n",
       "      <th>hour</th>\n",
       "      <th>weekday</th>\n",
       "      <th>geometry</th>\n",
       "    </tr>\n",
       "  </thead>\n",
       "  <tbody>\n",
       "    <tr>\n",
       "      <th>0</th>\n",
       "      <td>2019-07-01 00:02:52.213</td>\n",
       "      <td>Bird</td>\n",
       "      <td>BRD5179</td>\n",
       "      <td>PoweredZSHKJ</td>\n",
       "      <td>2.0</td>\n",
       "      <td>0.0</td>\n",
       "      <td>2019-07-01 00:00:00</td>\n",
       "      <td>2021-10-26 00:01:32.290000</td>\n",
       "      <td>2019-07-01 00:00:00</td>\n",
       "      <td>00:03:55.966666</td>\n",
       "      <td>36.1775</td>\n",
       "      <td>-86.7516</td>\n",
       "      <td>36.1778</td>\n",
       "      <td>-86.7514</td>\n",
       "      <td>[[36.177438,-86.751861],[36.177425,-86.751987]...</td>\n",
       "      <td>2019-07-02 05:30:18.333000</td>\n",
       "      <td>0</td>\n",
       "      <td>Monday</td>\n",
       "      <td>POINT (-86.7516 36.1775)</td>\n",
       "    </tr>\n",
       "    <tr>\n",
       "      <th>1</th>\n",
       "      <td>2019-07-01 00:02:52.213</td>\n",
       "      <td>Bird</td>\n",
       "      <td>BRD5177</td>\n",
       "      <td>Powered22JF6</td>\n",
       "      <td>0.0</td>\n",
       "      <td>0.0</td>\n",
       "      <td>2019-07-01 00:00:00</td>\n",
       "      <td>2021-10-26 00:02:38.640000</td>\n",
       "      <td>2019-07-01 00:00:00</td>\n",
       "      <td>00:02:54.406666</td>\n",
       "      <td>36.1627</td>\n",
       "      <td>-86.7711</td>\n",
       "      <td>36.1627</td>\n",
       "      <td>-86.7711</td>\n",
       "      <td>[[36.162718,-86.771102],[36.162718,-86.771102]]</td>\n",
       "      <td>2019-07-02 05:30:18.273000</td>\n",
       "      <td>0</td>\n",
       "      <td>Monday</td>\n",
       "      <td>POINT (-86.7711 36.1627)</td>\n",
       "    </tr>\n",
       "    <tr>\n",
       "      <th>2</th>\n",
       "      <td>2019-07-01 00:02:52.213</td>\n",
       "      <td>Bird</td>\n",
       "      <td>BRD5176</td>\n",
       "      <td>Powered22JF6</td>\n",
       "      <td>1.0</td>\n",
       "      <td>0.0</td>\n",
       "      <td>2019-07-01 00:00:00</td>\n",
       "      <td>2021-10-26 00:03:04.333333</td>\n",
       "      <td>2019-07-01 00:00:00</td>\n",
       "      <td>00:03:37.680000</td>\n",
       "      <td>36.1627</td>\n",
       "      <td>-86.7713</td>\n",
       "      <td>36.1627</td>\n",
       "      <td>-86.7713</td>\n",
       "      <td>[[36.162734,-86.77122],[36.162706,-86.771325],...</td>\n",
       "      <td>2019-07-02 05:30:18.243000</td>\n",
       "      <td>0</td>\n",
       "      <td>Monday</td>\n",
       "      <td>POINT (-86.7713 36.1627)</td>\n",
       "    </tr>\n",
       "  </tbody>\n",
       "</table>\n",
       "</div>"
      ],
      "text/plain": [
       "             pubTimeStamp companyName tripRecordNum        sumdID  \\\n",
       "0 2019-07-01 00:02:52.213        Bird       BRD5179  PoweredZSHKJ   \n",
       "1 2019-07-01 00:02:52.213        Bird       BRD5177  Powered22JF6   \n",
       "2 2019-07-01 00:02:52.213        Bird       BRD5176  Powered22JF6   \n",
       "\n",
       "   tripDuration  tripDistance            startDate                  startTime  \\\n",
       "0           2.0           0.0  2019-07-01 00:00:00 2021-10-26 00:01:32.290000   \n",
       "1           0.0           0.0  2019-07-01 00:00:00 2021-10-26 00:02:38.640000   \n",
       "2           1.0           0.0  2019-07-01 00:00:00 2021-10-26 00:03:04.333333   \n",
       "\n",
       "               endDate          endTime  startLatitude  startLongitude  \\\n",
       "0  2019-07-01 00:00:00  00:03:55.966666        36.1775        -86.7516   \n",
       "1  2019-07-01 00:00:00  00:02:54.406666        36.1627        -86.7711   \n",
       "2  2019-07-01 00:00:00  00:03:37.680000        36.1627        -86.7713   \n",
       "\n",
       "   endLatitude  endLongitude  \\\n",
       "0      36.1778      -86.7514   \n",
       "1      36.1627      -86.7711   \n",
       "2      36.1627      -86.7713   \n",
       "\n",
       "                                           tripRoute  \\\n",
       "0  [[36.177438,-86.751861],[36.177425,-86.751987]...   \n",
       "1    [[36.162718,-86.771102],[36.162718,-86.771102]]   \n",
       "2  [[36.162734,-86.77122],[36.162706,-86.771325],...   \n",
       "\n",
       "                    create_dt  hour weekday                  geometry  \n",
       "0  2019-07-02 05:30:18.333000     0  Monday  POINT (-86.7516 36.1775)  \n",
       "1  2019-07-02 05:30:18.273000     0  Monday  POINT (-86.7711 36.1627)  \n",
       "2  2019-07-02 05:30:18.243000     0  Monday  POINT (-86.7713 36.1627)  "
      ]
     },
     "execution_count": 67,
     "metadata": {},
     "output_type": "execute_result"
    }
   ],
   "source": [
    "july_trip['geometry'] = july_trip.apply(lambda x: Point((x.startLongitude, \n",
    "                                                         x.startLatitude)), \n",
    "                                        axis=1)\n",
    "july_trip.head(3)"
   ]
  },
  {
   "cell_type": "markdown",
   "id": "92fb9402",
   "metadata": {},
   "source": [
    "#Bring in zipcodes df and merge with july_trips to create july_trip_geo"
   ]
  },
  {
   "cell_type": "code",
   "execution_count": 68,
   "id": "3bd93177",
   "metadata": {},
   "outputs": [],
   "source": [
    "zipcodes = zipcodes[['zip', 'po_name', 'geometry']]"
   ]
  },
  {
   "cell_type": "code",
   "execution_count": 71,
   "id": "d9213f0c",
   "metadata": {},
   "outputs": [],
   "source": [
    "july_trip_geo = gpd.GeoDataFrame(july_trip, \n",
    "                           crs = zipcodes.crs, \n",
    "                           geometry = july_trip['geometry'])"
   ]
  },
  {
   "cell_type": "code",
   "execution_count": 73,
   "id": "822000e4",
   "metadata": {},
   "outputs": [],
   "source": [
    "rides_by_zip = gpd.sjoin(july_trip_geo, zipcodes, op = 'within')"
   ]
  },
  {
   "cell_type": "code",
   "execution_count": 74,
   "id": "4e8ef5ab",
   "metadata": {},
   "outputs": [
    {
     "data": {
      "text/html": [
       "<div>\n",
       "<style scoped>\n",
       "    .dataframe tbody tr th:only-of-type {\n",
       "        vertical-align: middle;\n",
       "    }\n",
       "\n",
       "    .dataframe tbody tr th {\n",
       "        vertical-align: top;\n",
       "    }\n",
       "\n",
       "    .dataframe thead th {\n",
       "        text-align: right;\n",
       "    }\n",
       "</style>\n",
       "<table border=\"1\" class=\"dataframe\">\n",
       "  <thead>\n",
       "    <tr style=\"text-align: right;\">\n",
       "      <th></th>\n",
       "      <th>pubTimeStamp</th>\n",
       "      <th>companyName</th>\n",
       "      <th>tripRecordNum</th>\n",
       "      <th>sumdID</th>\n",
       "      <th>tripDuration</th>\n",
       "      <th>tripDistance</th>\n",
       "      <th>startDate</th>\n",
       "      <th>startTime</th>\n",
       "      <th>endDate</th>\n",
       "      <th>endTime</th>\n",
       "      <th>...</th>\n",
       "      <th>endLatitude</th>\n",
       "      <th>endLongitude</th>\n",
       "      <th>tripRoute</th>\n",
       "      <th>create_dt</th>\n",
       "      <th>hour</th>\n",
       "      <th>weekday</th>\n",
       "      <th>geometry</th>\n",
       "      <th>index_right</th>\n",
       "      <th>zip</th>\n",
       "      <th>po_name</th>\n",
       "    </tr>\n",
       "  </thead>\n",
       "  <tbody>\n",
       "    <tr>\n",
       "      <th>0</th>\n",
       "      <td>2019-07-01 00:02:52.213</td>\n",
       "      <td>Bird</td>\n",
       "      <td>BRD5179</td>\n",
       "      <td>PoweredZSHKJ</td>\n",
       "      <td>2.00000</td>\n",
       "      <td>0.00000</td>\n",
       "      <td>2019-07-01 00:00:00</td>\n",
       "      <td>2021-10-26 00:01:32.290000</td>\n",
       "      <td>2019-07-01 00:00:00</td>\n",
       "      <td>00:03:55.966666</td>\n",
       "      <td>...</td>\n",
       "      <td>36.17780</td>\n",
       "      <td>-86.75140</td>\n",
       "      <td>[[36.177438,-86.751861],[36.177425,-86.751987]...</td>\n",
       "      <td>2019-07-02 05:30:18.333000</td>\n",
       "      <td>0</td>\n",
       "      <td>Monday</td>\n",
       "      <td>POINT (-86.75160 36.17750)</td>\n",
       "      <td>46</td>\n",
       "      <td>37206</td>\n",
       "      <td>NASHVILLE</td>\n",
       "    </tr>\n",
       "    <tr>\n",
       "      <th>26</th>\n",
       "      <td>2019-07-01 00:12:52.437</td>\n",
       "      <td>Bird</td>\n",
       "      <td>BRD5282</td>\n",
       "      <td>PoweredU1QWL</td>\n",
       "      <td>9.00000</td>\n",
       "      <td>0.00000</td>\n",
       "      <td>2019-07-01 00:00:00</td>\n",
       "      <td>2021-10-26 00:04:29.616666</td>\n",
       "      <td>2019-07-01 00:00:00</td>\n",
       "      <td>00:13:11.600000</td>\n",
       "      <td>...</td>\n",
       "      <td>36.17590</td>\n",
       "      <td>-86.76090</td>\n",
       "      <td>[[36.176038,-86.76081],[36.175959,-86.760837],...</td>\n",
       "      <td>2019-07-02 05:30:19.340000</td>\n",
       "      <td>0</td>\n",
       "      <td>Monday</td>\n",
       "      <td>POINT (-86.76090 36.17600)</td>\n",
       "      <td>46</td>\n",
       "      <td>37206</td>\n",
       "      <td>NASHVILLE</td>\n",
       "    </tr>\n",
       "    <tr>\n",
       "      <th>118</th>\n",
       "      <td>2019-07-01 00:32:53.757</td>\n",
       "      <td>Bird</td>\n",
       "      <td>BRD5463</td>\n",
       "      <td>Powered3HZZV</td>\n",
       "      <td>4.00000</td>\n",
       "      <td>0.00000</td>\n",
       "      <td>2019-07-01 00:00:00</td>\n",
       "      <td>2021-10-26 00:28:50.746666</td>\n",
       "      <td>2019-07-01 00:00:00</td>\n",
       "      <td>00:33:13.110000</td>\n",
       "      <td>...</td>\n",
       "      <td>36.17810</td>\n",
       "      <td>-86.75580</td>\n",
       "      <td>[[36.178056,-86.755718],[36.177984,-86.75558],...</td>\n",
       "      <td>2019-07-02 05:30:22.107000</td>\n",
       "      <td>0</td>\n",
       "      <td>Monday</td>\n",
       "      <td>POINT (-86.75580 36.17800)</td>\n",
       "      <td>46</td>\n",
       "      <td>37206</td>\n",
       "      <td>NASHVILLE</td>\n",
       "    </tr>\n",
       "    <tr>\n",
       "      <th>170</th>\n",
       "      <td>2019-07-01 00:43:26.033</td>\n",
       "      <td>Lyft</td>\n",
       "      <td>LFT62</td>\n",
       "      <td>Powered536423</td>\n",
       "      <td>6.95655</td>\n",
       "      <td>1633.85832</td>\n",
       "      <td>2019-07-01 00:00:00</td>\n",
       "      <td>2021-10-26 00:36:28.533333</td>\n",
       "      <td>2019-07-01 00:00:00</td>\n",
       "      <td>00:43:25.926666</td>\n",
       "      <td>...</td>\n",
       "      <td>36.17404</td>\n",
       "      <td>-86.75187</td>\n",
       "      <td>[[36.1774,-86.74989],[36.17743,-86.74994],[36....</td>\n",
       "      <td>2019-07-02 09:34:38.727000</td>\n",
       "      <td>0</td>\n",
       "      <td>Monday</td>\n",
       "      <td>POINT (-86.74989 36.17740)</td>\n",
       "      <td>46</td>\n",
       "      <td>37206</td>\n",
       "      <td>NASHVILLE</td>\n",
       "    </tr>\n",
       "    <tr>\n",
       "      <th>211</th>\n",
       "      <td>2019-07-01 00:52:54.660</td>\n",
       "      <td>Bird</td>\n",
       "      <td>BRD5629</td>\n",
       "      <td>PoweredTLSDM</td>\n",
       "      <td>10.00000</td>\n",
       "      <td>0.00000</td>\n",
       "      <td>2019-07-01 00:00:00</td>\n",
       "      <td>2021-10-26 00:42:58.593333</td>\n",
       "      <td>2019-07-01 00:00:00</td>\n",
       "      <td>00:53:08.036666</td>\n",
       "      <td>...</td>\n",
       "      <td>36.17920</td>\n",
       "      <td>-86.74680</td>\n",
       "      <td>[[36.179298,-86.746625],[36.177447,-86.745683]]</td>\n",
       "      <td>2019-07-02 05:30:23.740000</td>\n",
       "      <td>0</td>\n",
       "      <td>Monday</td>\n",
       "      <td>POINT (-86.74670 36.17920)</td>\n",
       "      <td>46</td>\n",
       "      <td>37206</td>\n",
       "      <td>NASHVILLE</td>\n",
       "    </tr>\n",
       "  </tbody>\n",
       "</table>\n",
       "<p>5 rows × 22 columns</p>\n",
       "</div>"
      ],
      "text/plain": [
       "               pubTimeStamp companyName tripRecordNum         sumdID  \\\n",
       "0   2019-07-01 00:02:52.213        Bird       BRD5179   PoweredZSHKJ   \n",
       "26  2019-07-01 00:12:52.437        Bird       BRD5282   PoweredU1QWL   \n",
       "118 2019-07-01 00:32:53.757        Bird       BRD5463   Powered3HZZV   \n",
       "170 2019-07-01 00:43:26.033        Lyft         LFT62  Powered536423   \n",
       "211 2019-07-01 00:52:54.660        Bird       BRD5629   PoweredTLSDM   \n",
       "\n",
       "     tripDuration  tripDistance            startDate  \\\n",
       "0         2.00000       0.00000  2019-07-01 00:00:00   \n",
       "26        9.00000       0.00000  2019-07-01 00:00:00   \n",
       "118       4.00000       0.00000  2019-07-01 00:00:00   \n",
       "170       6.95655    1633.85832  2019-07-01 00:00:00   \n",
       "211      10.00000       0.00000  2019-07-01 00:00:00   \n",
       "\n",
       "                     startTime              endDate          endTime  ...  \\\n",
       "0   2021-10-26 00:01:32.290000  2019-07-01 00:00:00  00:03:55.966666  ...   \n",
       "26  2021-10-26 00:04:29.616666  2019-07-01 00:00:00  00:13:11.600000  ...   \n",
       "118 2021-10-26 00:28:50.746666  2019-07-01 00:00:00  00:33:13.110000  ...   \n",
       "170 2021-10-26 00:36:28.533333  2019-07-01 00:00:00  00:43:25.926666  ...   \n",
       "211 2021-10-26 00:42:58.593333  2019-07-01 00:00:00  00:53:08.036666  ...   \n",
       "\n",
       "     endLatitude  endLongitude  \\\n",
       "0       36.17780     -86.75140   \n",
       "26      36.17590     -86.76090   \n",
       "118     36.17810     -86.75580   \n",
       "170     36.17404     -86.75187   \n",
       "211     36.17920     -86.74680   \n",
       "\n",
       "                                             tripRoute  \\\n",
       "0    [[36.177438,-86.751861],[36.177425,-86.751987]...   \n",
       "26   [[36.176038,-86.76081],[36.175959,-86.760837],...   \n",
       "118  [[36.178056,-86.755718],[36.177984,-86.75558],...   \n",
       "170  [[36.1774,-86.74989],[36.17743,-86.74994],[36....   \n",
       "211    [[36.179298,-86.746625],[36.177447,-86.745683]]   \n",
       "\n",
       "                      create_dt hour weekday                    geometry  \\\n",
       "0    2019-07-02 05:30:18.333000    0  Monday  POINT (-86.75160 36.17750)   \n",
       "26   2019-07-02 05:30:19.340000    0  Monday  POINT (-86.76090 36.17600)   \n",
       "118  2019-07-02 05:30:22.107000    0  Monday  POINT (-86.75580 36.17800)   \n",
       "170  2019-07-02 09:34:38.727000    0  Monday  POINT (-86.74989 36.17740)   \n",
       "211  2019-07-02 05:30:23.740000    0  Monday  POINT (-86.74670 36.17920)   \n",
       "\n",
       "    index_right    zip    po_name  \n",
       "0            46  37206  NASHVILLE  \n",
       "26           46  37206  NASHVILLE  \n",
       "118          46  37206  NASHVILLE  \n",
       "170          46  37206  NASHVILLE  \n",
       "211          46  37206  NASHVILLE  \n",
       "\n",
       "[5 rows x 22 columns]"
      ]
     },
     "execution_count": 74,
     "metadata": {},
     "output_type": "execute_result"
    }
   ],
   "source": [
    "rides_by_zip.head()"
   ]
  },
  {
   "cell_type": "code",
   "execution_count": 201,
   "id": "ddd0d6f9",
   "metadata": {},
   "outputs": [
    {
     "data": {
      "text/html": [
       "<div>\n",
       "<style scoped>\n",
       "    .dataframe tbody tr th:only-of-type {\n",
       "        vertical-align: middle;\n",
       "    }\n",
       "\n",
       "    .dataframe tbody tr th {\n",
       "        vertical-align: top;\n",
       "    }\n",
       "\n",
       "    .dataframe thead th {\n",
       "        text-align: right;\n",
       "    }\n",
       "</style>\n",
       "<table border=\"1\" class=\"dataframe\">\n",
       "  <thead>\n",
       "    <tr style=\"text-align: right;\">\n",
       "      <th></th>\n",
       "      <th>pubTimeStamp</th>\n",
       "      <th>companyName</th>\n",
       "      <th>tripRecordNum</th>\n",
       "      <th>sumdID</th>\n",
       "      <th>tripDuration</th>\n",
       "      <th>tripDistance</th>\n",
       "      <th>startDate</th>\n",
       "      <th>startTime</th>\n",
       "      <th>endDate</th>\n",
       "      <th>endTime</th>\n",
       "      <th>...</th>\n",
       "      <th>endLatitude</th>\n",
       "      <th>endLongitude</th>\n",
       "      <th>tripRoute</th>\n",
       "      <th>create_dt</th>\n",
       "      <th>hour</th>\n",
       "      <th>weekday</th>\n",
       "      <th>geometry</th>\n",
       "      <th>index_right</th>\n",
       "      <th>zip</th>\n",
       "      <th>po_name</th>\n",
       "    </tr>\n",
       "  </thead>\n",
       "  <tbody>\n",
       "    <tr>\n",
       "      <th>2072</th>\n",
       "      <td>2019-07-01 17:03:38.650</td>\n",
       "      <td>Bird</td>\n",
       "      <td>BRD952</td>\n",
       "      <td>PoweredR1256</td>\n",
       "      <td>0.000000</td>\n",
       "      <td>0.000000</td>\n",
       "      <td>2019-07-01 00:00:00</td>\n",
       "      <td>2021-10-26 17:03:29.650000</td>\n",
       "      <td>2019-07-01 00:00:00</td>\n",
       "      <td>17:03:39.550000</td>\n",
       "      <td>...</td>\n",
       "      <td>36.152800</td>\n",
       "      <td>-86.783600</td>\n",
       "      <td>[[36.152881,-86.7836]]</td>\n",
       "      <td>2019-07-02 05:31:05.790000</td>\n",
       "      <td>17</td>\n",
       "      <td>Monday</td>\n",
       "      <td>POINT (-86.78360 36.15280)</td>\n",
       "      <td>1</td>\n",
       "      <td>37203</td>\n",
       "      <td>NASHVILLE</td>\n",
       "    </tr>\n",
       "    <tr>\n",
       "      <th>2082</th>\n",
       "      <td>2019-07-01 17:06:03.097</td>\n",
       "      <td>Lyft</td>\n",
       "      <td>LFT302</td>\n",
       "      <td>Powered302903</td>\n",
       "      <td>5.867833</td>\n",
       "      <td>3589.238960</td>\n",
       "      <td>2019-07-01 00:00:00</td>\n",
       "      <td>2021-10-26 17:00:10.836666</td>\n",
       "      <td>2019-07-01 00:00:00</td>\n",
       "      <td>17:06:02.906666</td>\n",
       "      <td>...</td>\n",
       "      <td>36.159960</td>\n",
       "      <td>-86.773190</td>\n",
       "      <td>[[36.15513,-86.78216],[36.15521,-86.78215],[36...</td>\n",
       "      <td>2019-07-02 09:35:19.773000</td>\n",
       "      <td>17</td>\n",
       "      <td>Monday</td>\n",
       "      <td>POINT (-86.78216 36.15513)</td>\n",
       "      <td>1</td>\n",
       "      <td>37203</td>\n",
       "      <td>NASHVILLE</td>\n",
       "    </tr>\n",
       "    <tr>\n",
       "      <th>2087</th>\n",
       "      <td>2019-07-01 17:08:38.703</td>\n",
       "      <td>Bird</td>\n",
       "      <td>BRD983</td>\n",
       "      <td>PoweredML3PC</td>\n",
       "      <td>0.000000</td>\n",
       "      <td>0.000000</td>\n",
       "      <td>2019-07-01 00:00:00</td>\n",
       "      <td>2021-10-26 17:08:18.593333</td>\n",
       "      <td>2019-07-01 00:00:00</td>\n",
       "      <td>17:08:47.106666</td>\n",
       "      <td>...</td>\n",
       "      <td>36.153800</td>\n",
       "      <td>-86.774200</td>\n",
       "      <td>[[36.15377,-86.77417]]</td>\n",
       "      <td>2019-07-02 05:31:06.087000</td>\n",
       "      <td>17</td>\n",
       "      <td>Monday</td>\n",
       "      <td>POINT (-86.77420 36.15380)</td>\n",
       "      <td>1</td>\n",
       "      <td>37203</td>\n",
       "      <td>NASHVILLE</td>\n",
       "    </tr>\n",
       "    <tr>\n",
       "      <th>2091</th>\n",
       "      <td>2019-07-01 17:08:38.703</td>\n",
       "      <td>Bird</td>\n",
       "      <td>BRD986</td>\n",
       "      <td>PoweredMGR88</td>\n",
       "      <td>5.000000</td>\n",
       "      <td>656.168000</td>\n",
       "      <td>2019-07-01 00:00:00</td>\n",
       "      <td>2021-10-26 17:04:48.046666</td>\n",
       "      <td>2019-07-01 00:00:00</td>\n",
       "      <td>17:09:24.150000</td>\n",
       "      <td>...</td>\n",
       "      <td>36.159000</td>\n",
       "      <td>-86.782200</td>\n",
       "      <td>[[36.157791,-86.781725],[36.158969,-86.782047]...</td>\n",
       "      <td>2019-07-02 05:31:06.180000</td>\n",
       "      <td>17</td>\n",
       "      <td>Monday</td>\n",
       "      <td>POINT (-86.78100 36.15760)</td>\n",
       "      <td>1</td>\n",
       "      <td>37203</td>\n",
       "      <td>NASHVILLE</td>\n",
       "    </tr>\n",
       "    <tr>\n",
       "      <th>2098</th>\n",
       "      <td>2019-07-01 17:13:24.000</td>\n",
       "      <td>Bolt Mobility</td>\n",
       "      <td>BOL00123</td>\n",
       "      <td>Powered-14f91c47-4059-a674-13a6-4a7b2ece2cbd</td>\n",
       "      <td>375.000000</td>\n",
       "      <td>1863.520000</td>\n",
       "      <td>2019-07-01 00:00:00</td>\n",
       "      <td>2021-10-26 17:04:04.000000</td>\n",
       "      <td>2019-07-01 00:00:00</td>\n",
       "      <td>17:10:19</td>\n",
       "      <td>...</td>\n",
       "      <td>36.161669</td>\n",
       "      <td>-86.779102</td>\n",
       "      <td>[[\"36.158594\",\"-86.776720\"],[\"36.158587\",\"-86....</td>\n",
       "      <td>2019-07-02 06:17:11.383000</td>\n",
       "      <td>17</td>\n",
       "      <td>Monday</td>\n",
       "      <td>POINT (-86.77672 36.15859)</td>\n",
       "      <td>1</td>\n",
       "      <td>37203</td>\n",
       "      <td>NASHVILLE</td>\n",
       "    </tr>\n",
       "    <tr>\n",
       "      <th>...</th>\n",
       "      <td>...</td>\n",
       "      <td>...</td>\n",
       "      <td>...</td>\n",
       "      <td>...</td>\n",
       "      <td>...</td>\n",
       "      <td>...</td>\n",
       "      <td>...</td>\n",
       "      <td>...</td>\n",
       "      <td>...</td>\n",
       "      <td>...</td>\n",
       "      <td>...</td>\n",
       "      <td>...</td>\n",
       "      <td>...</td>\n",
       "      <td>...</td>\n",
       "      <td>...</td>\n",
       "      <td>...</td>\n",
       "      <td>...</td>\n",
       "      <td>...</td>\n",
       "      <td>...</td>\n",
       "      <td>...</td>\n",
       "      <td>...</td>\n",
       "    </tr>\n",
       "    <tr>\n",
       "      <th>133493</th>\n",
       "      <td>2019-07-31 19:37:18.310</td>\n",
       "      <td>Lyft</td>\n",
       "      <td>LFT459</td>\n",
       "      <td>Powered147794</td>\n",
       "      <td>49.291467</td>\n",
       "      <td>23494.095240</td>\n",
       "      <td>2019-07-31 00:00:00</td>\n",
       "      <td>2021-10-26 18:48:00.670000</td>\n",
       "      <td>2019-07-31 00:00:00</td>\n",
       "      <td>19:37:18.160000</td>\n",
       "      <td>...</td>\n",
       "      <td>36.149110</td>\n",
       "      <td>-86.811750</td>\n",
       "      <td>[[36.16772,-86.7832],[36.16776,-86.78321],[36....</td>\n",
       "      <td>2019-08-01 10:35:24.400000</td>\n",
       "      <td>18</td>\n",
       "      <td>Wednesday</td>\n",
       "      <td>POINT (-86.78320 36.16772)</td>\n",
       "      <td>15</td>\n",
       "      <td>37219</td>\n",
       "      <td>NASHVILLE</td>\n",
       "    </tr>\n",
       "    <tr>\n",
       "      <th>133548</th>\n",
       "      <td>2019-07-31 19:59:28.170</td>\n",
       "      <td>Lime</td>\n",
       "      <td>LIM823542</td>\n",
       "      <td>Powered32W3O4U3TKJRM</td>\n",
       "      <td>46.000000</td>\n",
       "      <td>1867.447598</td>\n",
       "      <td>2019-07-31 00:00:00</td>\n",
       "      <td>2021-10-26 18:05:07.000000</td>\n",
       "      <td>2019-07-31 00:00:00</td>\n",
       "      <td>18:51:36</td>\n",
       "      <td>...</td>\n",
       "      <td>36.164647</td>\n",
       "      <td>-86.779570</td>\n",
       "      <td>[[36.16351,-86.77936],[36.16337,-86.7794799999...</td>\n",
       "      <td>2019-08-01 09:31:41.490000</td>\n",
       "      <td>18</td>\n",
       "      <td>Wednesday</td>\n",
       "      <td>POINT (-86.77942 36.16396)</td>\n",
       "      <td>15</td>\n",
       "      <td>37219</td>\n",
       "      <td>NASHVILLE</td>\n",
       "    </tr>\n",
       "    <tr>\n",
       "      <th>133603</th>\n",
       "      <td>2019-07-31 19:59:28.443</td>\n",
       "      <td>Lime</td>\n",
       "      <td>LIM823596</td>\n",
       "      <td>PoweredTJILFG5KOQ7KN</td>\n",
       "      <td>40.000000</td>\n",
       "      <td>18432.729631</td>\n",
       "      <td>2019-07-31 00:00:00</td>\n",
       "      <td>2021-10-26 18:43:39.000000</td>\n",
       "      <td>2019-07-31 00:00:00</td>\n",
       "      <td>19:23:02</td>\n",
       "      <td>...</td>\n",
       "      <td>36.133433</td>\n",
       "      <td>-86.778529</td>\n",
       "      <td>[[36.16236,-86.77925],[36.16304,-86.77863],[36...</td>\n",
       "      <td>2019-08-01 09:31:45.570000</td>\n",
       "      <td>18</td>\n",
       "      <td>Wednesday</td>\n",
       "      <td>POINT (-86.77919 36.16186)</td>\n",
       "      <td>15</td>\n",
       "      <td>37219</td>\n",
       "      <td>NASHVILLE</td>\n",
       "    </tr>\n",
       "    <tr>\n",
       "      <th>133607</th>\n",
       "      <td>2019-07-31 19:59:28.473</td>\n",
       "      <td>Lime</td>\n",
       "      <td>LIM823600</td>\n",
       "      <td>PoweredSQWMJWTIGM6DS</td>\n",
       "      <td>41.000000</td>\n",
       "      <td>0.000000</td>\n",
       "      <td>2019-07-31 00:00:00</td>\n",
       "      <td>2021-10-26 18:43:21.000000</td>\n",
       "      <td>2019-07-31 00:00:00</td>\n",
       "      <td>19:24:06</td>\n",
       "      <td>...</td>\n",
       "      <td>36.133462</td>\n",
       "      <td>-86.778418</td>\n",
       "      <td>[[36.16204,-86.7792]]</td>\n",
       "      <td>2019-08-01 09:31:45.690000</td>\n",
       "      <td>18</td>\n",
       "      <td>Wednesday</td>\n",
       "      <td>POINT (-86.77920 36.16204)</td>\n",
       "      <td>15</td>\n",
       "      <td>37219</td>\n",
       "      <td>NASHVILLE</td>\n",
       "    </tr>\n",
       "    <tr>\n",
       "      <th>133637</th>\n",
       "      <td>2019-07-31 19:59:28.633</td>\n",
       "      <td>Lime</td>\n",
       "      <td>LIM823630</td>\n",
       "      <td>PoweredJCTIQ6FPT6PGY</td>\n",
       "      <td>40.000000</td>\n",
       "      <td>23781.002596</td>\n",
       "      <td>2019-07-31 00:00:00</td>\n",
       "      <td>2021-10-26 18:57:45.000000</td>\n",
       "      <td>2019-07-31 00:00:00</td>\n",
       "      <td>19:37:49</td>\n",
       "      <td>...</td>\n",
       "      <td>36.149083</td>\n",
       "      <td>-86.811737</td>\n",
       "      <td>[[36.16782,-86.78298],[36.16775,-86.7829599999...</td>\n",
       "      <td>2019-08-01 09:31:46.607000</td>\n",
       "      <td>18</td>\n",
       "      <td>Wednesday</td>\n",
       "      <td>POINT (-86.78298 36.16782)</td>\n",
       "      <td>15</td>\n",
       "      <td>37219</td>\n",
       "      <td>NASHVILLE</td>\n",
       "    </tr>\n",
       "  </tbody>\n",
       "</table>\n",
       "<p>11244 rows × 22 columns</p>\n",
       "</div>"
      ],
      "text/plain": [
       "                  pubTimeStamp    companyName tripRecordNum  \\\n",
       "2072   2019-07-01 17:03:38.650           Bird        BRD952   \n",
       "2082   2019-07-01 17:06:03.097           Lyft        LFT302   \n",
       "2087   2019-07-01 17:08:38.703           Bird        BRD983   \n",
       "2091   2019-07-01 17:08:38.703           Bird        BRD986   \n",
       "2098   2019-07-01 17:13:24.000  Bolt Mobility      BOL00123   \n",
       "...                        ...            ...           ...   \n",
       "133493 2019-07-31 19:37:18.310           Lyft        LFT459   \n",
       "133548 2019-07-31 19:59:28.170           Lime     LIM823542   \n",
       "133603 2019-07-31 19:59:28.443           Lime     LIM823596   \n",
       "133607 2019-07-31 19:59:28.473           Lime     LIM823600   \n",
       "133637 2019-07-31 19:59:28.633           Lime     LIM823630   \n",
       "\n",
       "                                              sumdID  tripDuration  \\\n",
       "2072                                    PoweredR1256      0.000000   \n",
       "2082                                   Powered302903      5.867833   \n",
       "2087                                    PoweredML3PC      0.000000   \n",
       "2091                                    PoweredMGR88      5.000000   \n",
       "2098    Powered-14f91c47-4059-a674-13a6-4a7b2ece2cbd    375.000000   \n",
       "...                                              ...           ...   \n",
       "133493                                 Powered147794     49.291467   \n",
       "133548                          Powered32W3O4U3TKJRM     46.000000   \n",
       "133603                          PoweredTJILFG5KOQ7KN     40.000000   \n",
       "133607                          PoweredSQWMJWTIGM6DS     41.000000   \n",
       "133637                          PoweredJCTIQ6FPT6PGY     40.000000   \n",
       "\n",
       "        tripDistance            startDate                  startTime  \\\n",
       "2072        0.000000  2019-07-01 00:00:00 2021-10-26 17:03:29.650000   \n",
       "2082     3589.238960  2019-07-01 00:00:00 2021-10-26 17:00:10.836666   \n",
       "2087        0.000000  2019-07-01 00:00:00 2021-10-26 17:08:18.593333   \n",
       "2091      656.168000  2019-07-01 00:00:00 2021-10-26 17:04:48.046666   \n",
       "2098     1863.520000  2019-07-01 00:00:00 2021-10-26 17:04:04.000000   \n",
       "...              ...                  ...                        ...   \n",
       "133493  23494.095240  2019-07-31 00:00:00 2021-10-26 18:48:00.670000   \n",
       "133548   1867.447598  2019-07-31 00:00:00 2021-10-26 18:05:07.000000   \n",
       "133603  18432.729631  2019-07-31 00:00:00 2021-10-26 18:43:39.000000   \n",
       "133607      0.000000  2019-07-31 00:00:00 2021-10-26 18:43:21.000000   \n",
       "133637  23781.002596  2019-07-31 00:00:00 2021-10-26 18:57:45.000000   \n",
       "\n",
       "                    endDate          endTime  ...  endLatitude  endLongitude  \\\n",
       "2072    2019-07-01 00:00:00  17:03:39.550000  ...    36.152800    -86.783600   \n",
       "2082    2019-07-01 00:00:00  17:06:02.906666  ...    36.159960    -86.773190   \n",
       "2087    2019-07-01 00:00:00  17:08:47.106666  ...    36.153800    -86.774200   \n",
       "2091    2019-07-01 00:00:00  17:09:24.150000  ...    36.159000    -86.782200   \n",
       "2098    2019-07-01 00:00:00         17:10:19  ...    36.161669    -86.779102   \n",
       "...                     ...              ...  ...          ...           ...   \n",
       "133493  2019-07-31 00:00:00  19:37:18.160000  ...    36.149110    -86.811750   \n",
       "133548  2019-07-31 00:00:00         18:51:36  ...    36.164647    -86.779570   \n",
       "133603  2019-07-31 00:00:00         19:23:02  ...    36.133433    -86.778529   \n",
       "133607  2019-07-31 00:00:00         19:24:06  ...    36.133462    -86.778418   \n",
       "133637  2019-07-31 00:00:00         19:37:49  ...    36.149083    -86.811737   \n",
       "\n",
       "                                                tripRoute  \\\n",
       "2072                               [[36.152881,-86.7836]]   \n",
       "2082    [[36.15513,-86.78216],[36.15521,-86.78215],[36...   \n",
       "2087                               [[36.15377,-86.77417]]   \n",
       "2091    [[36.157791,-86.781725],[36.158969,-86.782047]...   \n",
       "2098    [[\"36.158594\",\"-86.776720\"],[\"36.158587\",\"-86....   \n",
       "...                                                   ...   \n",
       "133493  [[36.16772,-86.7832],[36.16776,-86.78321],[36....   \n",
       "133548  [[36.16351,-86.77936],[36.16337,-86.7794799999...   \n",
       "133603  [[36.16236,-86.77925],[36.16304,-86.77863],[36...   \n",
       "133607                              [[36.16204,-86.7792]]   \n",
       "133637  [[36.16782,-86.78298],[36.16775,-86.7829599999...   \n",
       "\n",
       "                         create_dt hour    weekday  \\\n",
       "2072    2019-07-02 05:31:05.790000   17     Monday   \n",
       "2082    2019-07-02 09:35:19.773000   17     Monday   \n",
       "2087    2019-07-02 05:31:06.087000   17     Monday   \n",
       "2091    2019-07-02 05:31:06.180000   17     Monday   \n",
       "2098    2019-07-02 06:17:11.383000   17     Monday   \n",
       "...                            ...  ...        ...   \n",
       "133493  2019-08-01 10:35:24.400000   18  Wednesday   \n",
       "133548  2019-08-01 09:31:41.490000   18  Wednesday   \n",
       "133603  2019-08-01 09:31:45.570000   18  Wednesday   \n",
       "133607  2019-08-01 09:31:45.690000   18  Wednesday   \n",
       "133637  2019-08-01 09:31:46.607000   18  Wednesday   \n",
       "\n",
       "                          geometry index_right    zip    po_name  \n",
       "2072    POINT (-86.78360 36.15280)           1  37203  NASHVILLE  \n",
       "2082    POINT (-86.78216 36.15513)           1  37203  NASHVILLE  \n",
       "2087    POINT (-86.77420 36.15380)           1  37203  NASHVILLE  \n",
       "2091    POINT (-86.78100 36.15760)           1  37203  NASHVILLE  \n",
       "2098    POINT (-86.77672 36.15859)           1  37203  NASHVILLE  \n",
       "...                            ...         ...    ...        ...  \n",
       "133493  POINT (-86.78320 36.16772)          15  37219  NASHVILLE  \n",
       "133548  POINT (-86.77942 36.16396)          15  37219  NASHVILLE  \n",
       "133603  POINT (-86.77919 36.16186)          15  37219  NASHVILLE  \n",
       "133607  POINT (-86.77920 36.16204)          15  37219  NASHVILLE  \n",
       "133637  POINT (-86.78298 36.16782)          15  37219  NASHVILLE  \n",
       "\n",
       "[11244 rows x 22 columns]"
      ]
     },
     "execution_count": 201,
     "metadata": {},
     "output_type": "execute_result"
    }
   ],
   "source": [
    "rides_by_zip.loc[(rides_by_zip['zip'] == '37201') & (rides_by_zip['hour'] == 18) & (rides_by_zip['weekday'] == 'Monday')\n",
    "                 |(rides_by_zip['zip'] == '37201') & (rides_by_zip['hour'] == 18) & (rides_by_zip['weekday'] == 'Tuesday')\n",
    "                 |(rides_by_zip['zip'] == '37201') & (rides_by_zip['hour'] == 18) & (rides_by_zip['weekday'] == 'Wednesday')\n",
    "                 |(rides_by_zip['zip'] == '37201') & (rides_by_zip['hour'] == 18) & (rides_by_zip['weekday'] == 'Thursday')\n",
    "                 |(rides_by_zip['zip'] == '37201') & (rides_by_zip['hour'] == 18) & (rides_by_zip['weekday'] == 'Friday')\n",
    "                 |(rides_by_zip['zip'] == '37219') & (rides_by_zip['hour'] == 18) & (rides_by_zip['weekday'] == 'Monday')\n",
    "                 |(rides_by_zip['zip'] == '37219') & (rides_by_zip['hour'] == 18) & (rides_by_zip['weekday'] == 'Tuesday')\n",
    "                 |(rides_by_zip['zip'] == '37219') & (rides_by_zip['hour'] == 18) & (rides_by_zip['weekday'] == 'Wednesday')\n",
    "                 |(rides_by_zip['zip'] == '37219') & (rides_by_zip['hour'] == 18) & (rides_by_zip['weekday'] == 'Thursday')\n",
    "                 |(rides_by_zip['zip'] == '37219') & (rides_by_zip['hour'] == 18) & (rides_by_zip['weekday'] == 'Friday')\n",
    "                 |(rides_by_zip['zip'] == '37203') & (rides_by_zip['hour'] == 18) & (rides_by_zip['weekday'] == 'Monday')\n",
    "                 |(rides_by_zip['zip'] == '37203') & (rides_by_zip['hour'] == 18) & (rides_by_zip['weekday'] == 'Tuesday')\n",
    "                 |(rides_by_zip['zip'] == '37203') & (rides_by_zip['hour'] == 18) & (rides_by_zip['weekday'] == 'Wednesday')\n",
    "                 |(rides_by_zip['zip'] == '37203') & (rides_by_zip['hour'] == 18) & (rides_by_zip['weekday'] == 'Thursday')\n",
    "                 |(rides_by_zip['zip'] == '37203') & (rides_by_zip['hour'] == 18) & (rides_by_zip['weekday'] == 'Friday')\n",
    "                 |(rides_by_zip['zip'] == '37203') & (rides_by_zip['hour'] == 17) & (rides_by_zip['weekday'] == 'Monday')\n",
    "                 |(rides_by_zip['zip'] == '37203') & (rides_by_zip['hour'] == 17) & (rides_by_zip['weekday'] == 'Tuesday')\n",
    "                 |(rides_by_zip['zip'] == '37203') & (rides_by_zip['hour'] == 17) & (rides_by_zip['weekday'] == 'Wednesday')\n",
    "                 |(rides_by_zip['zip'] == '37203') & (rides_by_zip['hour'] == 17) & (rides_by_zip['weekday'] == 'Thursday')\n",
    "                 |(rides_by_zip['zip'] == '37203') & (rides_by_zip['hour'] == 17) & (rides_by_zip['weekday'] == 'Friday')\n",
    "                 |(rides_by_zip['zip'] == '37201') & (rides_by_zip['hour'] == 17) & (rides_by_zip['weekday'] == 'Monday')\n",
    "                 |(rides_by_zip['zip'] == '37201') & (rides_by_zip['hour'] == 17) & (rides_by_zip['weekday'] == 'Tuesday')\n",
    "                 |(rides_by_zip['zip'] == '37201') & (rides_by_zip['hour'] == 17) & (rides_by_zip['weekday'] == 'Wednesday')\n",
    "                 |(rides_by_zip['zip'] == '37201') & (rides_by_zip['hour'] == 17) & (rides_by_zip['weekday'] == 'Thursday')\n",
    "                 |(rides_by_zip['zip'] == '37201') & (rides_by_zip['hour'] == 17) & (rides_by_zip['weekday'] == 'Friday')\n",
    "                 |(rides_by_zip['zip'] == '37219') & (rides_by_zip['hour'] == 17) & (rides_by_zip['weekday'] == 'Monday')\n",
    "                 |(rides_by_zip['zip'] == '37219') & (rides_by_zip['hour'] == 17) & (rides_by_zip['weekday'] == 'Tuesday')\n",
    "                 |(rides_by_zip['zip'] == '37219') & (rides_by_zip['hour'] == 17) & (rides_by_zip['weekday'] == 'Wednesday')\n",
    "                 |(rides_by_zip['zip'] == '37219') & (rides_by_zip['hour'] == 17) & (rides_by_zip['weekday'] == 'Thursday')\n",
    "                 |(rides_by_zip['zip'] == '37219') & (rides_by_zip['hour'] == 17) & (rides_by_zip['weekday'] == 'Friday')\n",
    "                 |(rides_by_zip['zip'] == '37203') & (rides_by_zip['hour'] == 7) & (rides_by_zip['weekday'] == 'Monday')\n",
    "                 |(rides_by_zip['zip'] == '37203') & (rides_by_zip['hour'] == 7) & (rides_by_zip['weekday'] == 'Tuesday')\n",
    "                 |(rides_by_zip['zip'] == '37203') & (rides_by_zip['hour'] == 7) & (rides_by_zip['weekday'] == 'Wednesday')\n",
    "                 |(rides_by_zip['zip'] == '37203') & (rides_by_zip['hour'] == 7) & (rides_by_zip['weekday'] == 'Thursday')\n",
    "                 |(rides_by_zip['zip'] == '37203') & (rides_by_zip['hour'] == 7) & (rides_by_zip['weekday'] == 'Friday')\n",
    "                 |(rides_by_zip['zip'] == '37203') & (rides_by_zip['hour'] == 8) & (rides_by_zip['weekday'] == 'Monday')\n",
    "                 |(rides_by_zip['zip'] == '37203') & (rides_by_zip['hour'] == 8) & (rides_by_zip['weekday'] == 'Monday')\n",
    "                 |(rides_by_zip['zip'] == '37203') & (rides_by_zip['hour'] == 8) & (rides_by_zip['weekday'] == 'Tuesday')\n",
    "                 |(rides_by_zip['zip'] == '37203') & (rides_by_zip['hour'] == 8) & (rides_by_zip['weekday'] == 'Wednesday')\n",
    "                 |(rides_by_zip['zip'] == '37203') & (rides_by_zip['hour'] == 8) & (rides_by_zip['weekday'] == 'Thursday')\n",
    "                 |(rides_by_zip['zip'] == '37203') & (rides_by_zip['hour'] == 8) & (rides_by_zip['weekday'] == 'Friday')\n",
    "                 |(rides_by_zip['zip'] == '37201') & (rides_by_zip['hour'] == 7) & (rides_by_zip['weekday'] == 'Monday')\n",
    "                 |(rides_by_zip['zip'] == '37201') & (rides_by_zip['hour'] == 7) & (rides_by_zip['weekday'] == 'Tuesday')\n",
    "                 |(rides_by_zip['zip'] == '37201') & (rides_by_zip['hour'] == 7) & (rides_by_zip['weekday'] == 'Wednesday')\n",
    "                 |(rides_by_zip['zip'] == '37201') & (rides_by_zip['hour'] == 7) & (rides_by_zip['weekday'] == 'Thursday')\n",
    "                 |(rides_by_zip['zip'] == '37201') & (rides_by_zip['hour'] == 7) & (rides_by_zip['weekday'] == 'Friday')\n",
    "                 |(rides_by_zip['zip'] == '37201') & (rides_by_zip['hour'] == 8) & (rides_by_zip['weekday'] == 'Monday')\n",
    "                 |(rides_by_zip['zip'] == '37201') & (rides_by_zip['hour'] == 8) & (rides_by_zip['weekday'] == 'Tuesday')\n",
    "                 |(rides_by_zip['zip'] == '37201') & (rides_by_zip['hour'] == 8) & (rides_by_zip['weekday'] == 'Wednesday')\n",
    "                 |(rides_by_zip['zip'] == '37201') & (rides_by_zip['hour'] == 8) & (rides_by_zip['weekday'] == 'Thursday')\n",
    "                 |(rides_by_zip['zip'] == '37201') & (rides_by_zip['hour'] == 8) & (rides_by_zip['weekday'] == 'Friday')\n",
    "                 |(rides_by_zip['zip'] == '37219') & (rides_by_zip['hour'] == 7) & (rides_by_zip['weekday'] == 'Monday')\n",
    "                 |(rides_by_zip['zip'] == '37219') & (rides_by_zip['hour'] == 7) & (rides_by_zip['weekday'] == 'Tuesday')\n",
    "                 |(rides_by_zip['zip'] == '37219') & (rides_by_zip['hour'] == 7) & (rides_by_zip['weekday'] == 'Wednesday')\n",
    "                 |(rides_by_zip['zip'] == '37219') & (rides_by_zip['hour'] == 7) & (rides_by_zip['weekday'] == 'Thursday')\n",
    "                 |(rides_by_zip['zip'] == '37219') & (rides_by_zip['hour'] == 7) & (rides_by_zip['weekday'] == 'Friday')\n",
    "                 |(rides_by_zip['zip'] == '37219') & (rides_by_zip['hour'] == 8) & (rides_by_zip['weekday'] == 'Monday')\n",
    "                 |(rides_by_zip['zip'] == '37219') & (rides_by_zip['hour'] == 8) & (rides_by_zip['weekday'] == 'Tuesday')\n",
    "                 |(rides_by_zip['zip'] == '37219') & (rides_by_zip['hour'] == 8) & (rides_by_zip['weekday'] == 'Wednesday')\n",
    "                 |(rides_by_zip['zip'] == '37219') & (rides_by_zip['hour'] == 8) & (rides_by_zip['weekday'] == 'Thursday')\n",
    "                 |(rides_by_zip['zip'] == '37219') & (rides_by_zip['hour'] == 8) & (rides_by_zip['weekday'] == 'Friday')]\n",
    "\n",
    "           \n",
    "                "
   ]
  },
  {
   "cell_type": "markdown",
   "id": "2d92b641",
   "metadata": {},
   "source": [
    "#In the top 3 zipcodes for scooter counts, 11244 rides were taken during rush hour out of 103,154 total rides."
   ]
  },
  {
   "cell_type": "code",
   "execution_count": null,
   "id": "a17d8209",
   "metadata": {},
   "outputs": [],
   "source": []
  },
  {
   "cell_type": "code",
   "execution_count": 200,
   "id": "6b1bda6e",
   "metadata": {},
   "outputs": [
    {
     "data": {
      "text/plain": [
       "37203    65089\n",
       "37201    26237\n",
       "37219    11828\n",
       "37212     6572\n",
       "37208     5719\n",
       "37213     4567\n",
       "37206     4275\n",
       "37204     3692\n",
       "37210     3237\n",
       "37240     1680\n",
       "37207      588\n",
       "37232      571\n",
       "37209      524\n",
       "37228       92\n",
       "37216       62\n",
       "37205       49\n",
       "37246       46\n",
       "37215       34\n",
       "37211       30\n",
       "37013       14\n",
       "37217        5\n",
       "37218        3\n",
       "37221        3\n",
       "37214        3\n",
       "37220        2\n",
       "37115        2\n",
       "Name: zip, dtype: int64"
      ]
     },
     "execution_count": 200,
     "metadata": {},
     "output_type": "execute_result"
    }
   ],
   "source": [
    "rides_by_zip['zip'].value_counts()"
   ]
  },
  {
   "cell_type": "code",
   "execution_count": 188,
   "id": "83bb814b",
   "metadata": {},
   "outputs": [
    {
     "name": "stderr",
     "output_type": "stream",
     "text": [
      "C:\\Users\\tomle\\AppData\\Local\\Temp/ipykernel_10584/3112590286.py:40: MatplotlibDeprecationWarning: Passing the pad parameter of tight_layout() positionally is deprecated since Matplotlib 3.3; the parameter will become keyword-only two minor releases later.\n",
      "  plt.tight_layout(1)\n"
     ]
    },
    {
     "data": {
      "image/png": "[encoded data removed]",
      "text/plain": [
       "<Figure size 1440x792 with 5 Axes>"
      ]
     },
     "metadata": {
      "needs_background": "light"
     },
     "output_type": "display_data"
    }
   ],
   "source": [
    "plt.figure(figsize=(20,11))\n",
    "plt.suptitle('Scooter Rides By the Hour-Weekday', fontsize = 70)\n",
    "\n",
    "\n",
    "plt.subplot(3,3,1)\n",
    "plt.hist(mon_df.hour, bins = 30, edgecolor = 'black')\n",
    "plt.xlabel('Hours of the Day')\n",
    "plt.ylabel('Rides')\n",
    "plt.title('Monday')\n",
    "plt.ylim([0, 3500])\n",
    "\n",
    "plt.subplot(3,3,2)\n",
    "plt.hist(tues_df.hour, bins = 30, edgecolor = 'black')\n",
    "plt.xlabel('Hours of the Day')\n",
    "plt.ylabel('Rides')\n",
    "plt.title('Tuesday')\n",
    "plt.ylim([0, 3500])\n",
    "\n",
    "plt.subplot(3,3,3)\n",
    "plt.hist(wed_df.hour, bins = 30, edgecolor = 'black')\n",
    "plt.xlabel('Hours of the Day')\n",
    "plt.ylabel('Rides')\n",
    "plt.title('Wednesday')\n",
    "plt.ylim([0, 3500])\n",
    "\n",
    "plt.subplot(3,3,4)\n",
    "plt.hist(thurs_df.hour, bins = 30, edgecolor = 'black')\n",
    "plt.xlabel('Hours of the Day')\n",
    "plt.ylabel('Rides')\n",
    "plt.title('Thursday')\n",
    "plt.ylim([0, 3500])\n",
    "\n",
    "plt.subplot(3,3,5)\n",
    "plt.hist(fri_df.hour, bins = 30, edgecolor = 'black')\n",
    "plt.xlabel('Hours of the Day')\n",
    "plt.ylabel('Rides')\n",
    "plt.title('Friday')\n",
    "plt.ylim([0, 3500])\n",
    "\n",
    "plt.tight_layout(1)\n",
    "\n",
    "\n"
   ]
  },
  {
   "cell_type": "code",
   "execution_count": 189,
   "id": "a97edfee",
   "metadata": {},
   "outputs": [
    {
     "name": "stderr",
     "output_type": "stream",
     "text": [
      "C:\\Users\\tomle\\AppData\\Local\\Temp/ipykernel_10584/1242170153.py:19: MatplotlibDeprecationWarning: Passing the pad parameter of tight_layout() positionally is deprecated since Matplotlib 3.3; the parameter will become keyword-only two minor releases later.\n",
      "  plt.tight_layout(1)\n"
     ]
    },
    {
     "data": {
      "image/png": "[encoded data removed]",
      "text/plain": [
       "<Figure size 1440x792 with 2 Axes>"
      ]
     },
     "metadata": {
      "needs_background": "light"
     },
     "output_type": "display_data"
    }
   ],
   "source": [
    "plt.figure(figsize=(20,11))\n",
    "plt.suptitle('Scooter Rides By the Hour-Weekend', fontsize = 70)\n",
    "\n",
    "\n",
    "plt.subplot(3,3,1)\n",
    "plt.hist(sat_df.hour, bins = 30, edgecolor = 'black')\n",
    "plt.xlabel('Hours of the Day')\n",
    "plt.ylabel('Rides')\n",
    "plt.title('Saturday')\n",
    "plt.ylim([0, 3500])\n",
    "\n",
    "plt.subplot(3,3,2)\n",
    "plt.hist(sun_df.hour, bins = 30, edgecolor = 'black')\n",
    "plt.xlabel('Hours of the Day')\n",
    "plt.ylabel('Rides')\n",
    "plt.title('Sunday')\n",
    "plt.ylim([0, 3500])\n",
    "\n",
    "plt.tight_layout(1)\n"
   ]
  },
  {
   "cell_type": "code",
   "execution_count": null,
   "id": "6cb87cfb",
   "metadata": {},
   "outputs": [],
   "source": []
  }
 ],
 "metadata": {
  "kernelspec": {
   "display_name": "Python 3 (ipykernel)",
   "language": "python",
   "name": "python3"
  },
  "language_info": {
   "codemirror_mode": {
    "name": "ipython",
    "version": 3
   },
   "file_extension": ".py",
   "mimetype": "text/x-python",
   "name": "python",
   "nbconvert_exporter": "python",
   "pygments_lexer": "ipython3",
   "version": "3.8.5"
  }
 },
 "nbformat": 4,
 "nbformat_minor": 5
}
