{
 "cells": [
  {
   "cell_type": "code",
   "execution_count": 110,
   "id": "529895a9",
   "metadata": {},
   "outputs": [],
   "source": [
    "import pandas as pd\n",
    "import pickle\n",
    "from shapely.geometry import Point\n",
    "import geopandas as gpd\n",
    "import matplotlib.pyplot as plt\n",
    "import folium\n",
    "from folium.plugins import MarkerCluster\n",
    "from folium.plugins import FastMarkerCluster\n"
   ]
  },
  {
   "cell_type": "code",
   "execution_count": 167,
   "id": "7a25d4ed",
   "metadata": {
    "scrolled": true
   },
   "outputs": [
    {
     "name": "stdout",
     "output_type": "stream",
     "text": [
      "Requirement already satisfied: seaborn in c:\\users\\tomle\\anaconda3\\envs\\geospatial\\lib\\site-packages (0.11.2)\n",
      "Note: you may need to restart the kernel to use updated packages.\n"
     ]
    },
    {
     "name": "stderr",
     "output_type": "stream",
     "text": [
      "ERROR: Could not find a version that satisfies the requirement as (from versions: none)\n",
      "ERROR: No matching distribution found for as\n"
     ]
    }
   ],
   "source": [
    "pip install seaborn as sns"
   ]
  },
  {
   "cell_type": "code",
   "execution_count": 168,
   "id": "0a750593",
   "metadata": {},
   "outputs": [],
   "source": [
    "import seaborn as sns"
   ]
  },
  {
   "cell_type": "code",
   "execution_count": 2,
   "id": "124d6bc9",
   "metadata": {},
   "outputs": [
    {
     "data": {
      "text/html": [
       "<div>\n",
       "<style scoped>\n",
       "    .dataframe tbody tr th:only-of-type {\n",
       "        vertical-align: middle;\n",
       "    }\n",
       "\n",
       "    .dataframe tbody tr th {\n",
       "        vertical-align: top;\n",
       "    }\n",
       "\n",
       "    .dataframe thead th {\n",
       "        text-align: right;\n",
       "    }\n",
       "</style>\n",
       "<table border=\"1\" class=\"dataframe\">\n",
       "  <thead>\n",
       "    <tr style=\"text-align: right;\">\n",
       "      <th></th>\n",
       "      <th>pubTimeStamp</th>\n",
       "      <th>companyName</th>\n",
       "      <th>tripRecordNum</th>\n",
       "      <th>sumdID</th>\n",
       "      <th>tripDuration</th>\n",
       "      <th>tripDistance</th>\n",
       "      <th>startDate</th>\n",
       "      <th>startTime</th>\n",
       "      <th>endDate</th>\n",
       "      <th>endTime</th>\n",
       "      <th>startLatitude</th>\n",
       "      <th>startLongitude</th>\n",
       "      <th>endLatitude</th>\n",
       "      <th>endLongitude</th>\n",
       "      <th>tripRoute</th>\n",
       "      <th>create_dt</th>\n",
       "    </tr>\n",
       "  </thead>\n",
       "  <tbody>\n",
       "    <tr>\n",
       "      <th>0</th>\n",
       "      <td>2019-07-01 00:02:52.213000</td>\n",
       "      <td>Bird</td>\n",
       "      <td>BRD5179</td>\n",
       "      <td>PoweredZSHKJ</td>\n",
       "      <td>2.0</td>\n",
       "      <td>0.0</td>\n",
       "      <td>2019-07-01 00:00:00</td>\n",
       "      <td>00:01:32.290000</td>\n",
       "      <td>2019-07-01 00:00:00</td>\n",
       "      <td>00:03:55.966666</td>\n",
       "      <td>36.1775</td>\n",
       "      <td>-86.7516</td>\n",
       "      <td>36.1778</td>\n",
       "      <td>-86.7514</td>\n",
       "      <td>[[36.177438,-86.751861],[36.177425,-86.751987]...</td>\n",
       "      <td>2019-07-02 05:30:18.333000</td>\n",
       "    </tr>\n",
       "    <tr>\n",
       "      <th>1</th>\n",
       "      <td>2019-07-01 00:02:52.213000</td>\n",
       "      <td>Bird</td>\n",
       "      <td>BRD5177</td>\n",
       "      <td>Powered22JF6</td>\n",
       "      <td>0.0</td>\n",
       "      <td>0.0</td>\n",
       "      <td>2019-07-01 00:00:00</td>\n",
       "      <td>00:02:38.640000</td>\n",
       "      <td>2019-07-01 00:00:00</td>\n",
       "      <td>00:02:54.406666</td>\n",
       "      <td>36.1627</td>\n",
       "      <td>-86.7711</td>\n",
       "      <td>36.1627</td>\n",
       "      <td>-86.7711</td>\n",
       "      <td>[[36.162718,-86.771102],[36.162718,-86.771102]]</td>\n",
       "      <td>2019-07-02 05:30:18.273000</td>\n",
       "    </tr>\n",
       "    <tr>\n",
       "      <th>2</th>\n",
       "      <td>2019-07-01 00:02:52.213000</td>\n",
       "      <td>Bird</td>\n",
       "      <td>BRD5176</td>\n",
       "      <td>Powered22JF6</td>\n",
       "      <td>1.0</td>\n",
       "      <td>0.0</td>\n",
       "      <td>2019-07-01 00:00:00</td>\n",
       "      <td>00:03:04.333333</td>\n",
       "      <td>2019-07-01 00:00:00</td>\n",
       "      <td>00:03:37.680000</td>\n",
       "      <td>36.1627</td>\n",
       "      <td>-86.7713</td>\n",
       "      <td>36.1627</td>\n",
       "      <td>-86.7713</td>\n",
       "      <td>[[36.162734,-86.77122],[36.162706,-86.771325],...</td>\n",
       "      <td>2019-07-02 05:30:18.243000</td>\n",
       "    </tr>\n",
       "    <tr>\n",
       "      <th>3</th>\n",
       "      <td>2019-07-01 00:02:52.213000</td>\n",
       "      <td>Bird</td>\n",
       "      <td>BRD5178</td>\n",
       "      <td>PoweredIB2CC</td>\n",
       "      <td>1.0</td>\n",
       "      <td>0.0</td>\n",
       "      <td>2019-07-01 00:00:00</td>\n",
       "      <td>00:02:06.963333</td>\n",
       "      <td>2019-07-01 00:00:00</td>\n",
       "      <td>00:03:25.766666</td>\n",
       "      <td>36.1525</td>\n",
       "      <td>-86.7988</td>\n",
       "      <td>36.1525</td>\n",
       "      <td>-86.7988</td>\n",
       "      <td>[[36.152499,-86.798708]]</td>\n",
       "      <td>2019-07-02 05:30:18.303000</td>\n",
       "    </tr>\n",
       "    <tr>\n",
       "      <th>4</th>\n",
       "      <td>2019-07-01 00:02:52.213000</td>\n",
       "      <td>Bird</td>\n",
       "      <td>BRD5180</td>\n",
       "      <td>PoweredW4G7R</td>\n",
       "      <td>2.0</td>\n",
       "      <td>0.0</td>\n",
       "      <td>2019-07-01 00:00:00</td>\n",
       "      <td>00:01:19.843333</td>\n",
       "      <td>2019-07-01 00:00:00</td>\n",
       "      <td>00:02:53.976666</td>\n",
       "      <td>36.1578</td>\n",
       "      <td>-86.7760</td>\n",
       "      <td>36.1575</td>\n",
       "      <td>-86.7758</td>\n",
       "      <td>[[36.157523,-86.775794]]</td>\n",
       "      <td>2019-07-02 05:30:18.363000</td>\n",
       "    </tr>\n",
       "  </tbody>\n",
       "</table>\n",
       "</div>"
      ],
      "text/plain": [
       "                 pubTimeStamp companyName tripRecordNum        sumdID  \\\n",
       "0  2019-07-01 00:02:52.213000        Bird       BRD5179  PoweredZSHKJ   \n",
       "1  2019-07-01 00:02:52.213000        Bird       BRD5177  Powered22JF6   \n",
       "2  2019-07-01 00:02:52.213000        Bird       BRD5176  Powered22JF6   \n",
       "3  2019-07-01 00:02:52.213000        Bird       BRD5178  PoweredIB2CC   \n",
       "4  2019-07-01 00:02:52.213000        Bird       BRD5180  PoweredW4G7R   \n",
       "\n",
       "   tripDuration  tripDistance            startDate        startTime  \\\n",
       "0           2.0           0.0  2019-07-01 00:00:00  00:01:32.290000   \n",
       "1           0.0           0.0  2019-07-01 00:00:00  00:02:38.640000   \n",
       "2           1.0           0.0  2019-07-01 00:00:00  00:03:04.333333   \n",
       "3           1.0           0.0  2019-07-01 00:00:00  00:02:06.963333   \n",
       "4           2.0           0.0  2019-07-01 00:00:00  00:01:19.843333   \n",
       "\n",
       "               endDate          endTime  startLatitude  startLongitude  \\\n",
       "0  2019-07-01 00:00:00  00:03:55.966666        36.1775        -86.7516   \n",
       "1  2019-07-01 00:00:00  00:02:54.406666        36.1627        -86.7711   \n",
       "2  2019-07-01 00:00:00  00:03:37.680000        36.1627        -86.7713   \n",
       "3  2019-07-01 00:00:00  00:03:25.766666        36.1525        -86.7988   \n",
       "4  2019-07-01 00:00:00  00:02:53.976666        36.1578        -86.7760   \n",
       "\n",
       "   endLatitude  endLongitude  \\\n",
       "0      36.1778      -86.7514   \n",
       "1      36.1627      -86.7711   \n",
       "2      36.1627      -86.7713   \n",
       "3      36.1525      -86.7988   \n",
       "4      36.1575      -86.7758   \n",
       "\n",
       "                                           tripRoute  \\\n",
       "0  [[36.177438,-86.751861],[36.177425,-86.751987]...   \n",
       "1    [[36.162718,-86.771102],[36.162718,-86.771102]]   \n",
       "2  [[36.162734,-86.77122],[36.162706,-86.771325],...   \n",
       "3                           [[36.152499,-86.798708]]   \n",
       "4                           [[36.157523,-86.775794]]   \n",
       "\n",
       "                    create_dt  \n",
       "0  2019-07-02 05:30:18.333000  \n",
       "1  2019-07-02 05:30:18.273000  \n",
       "2  2019-07-02 05:30:18.243000  \n",
       "3  2019-07-02 05:30:18.303000  \n",
       "4  2019-07-02 05:30:18.363000  "
      ]
     },
     "execution_count": 2,
     "metadata": {},
     "output_type": "execute_result"
    }
   ],
   "source": [
    "july_trip = pd.read_csv('../data/july_trip.csv')\n",
    "july_trip.head()"
   ]
  },
  {
   "cell_type": "code",
   "execution_count": 3,
   "id": "8c3a76b2",
   "metadata": {},
   "outputs": [],
   "source": [
    "zipcodes= gpd.read_file('../data/zipcodes.geojson')"
   ]
  },
  {
   "cell_type": "markdown",
   "id": "378a974d",
   "metadata": {},
   "source": [
    "#Make starTime a datetime format"
   ]
  },
  {
   "cell_type": "code",
   "execution_count": 5,
   "id": "146a81b3",
   "metadata": {},
   "outputs": [],
   "source": [
    "july_trip['startTime'] =  pd.to_datetime(july_trip['startTime'])"
   ]
  },
  {
   "cell_type": "markdown",
   "id": "a053c1b8",
   "metadata": {},
   "source": [
    "#Create an hour column"
   ]
  },
  {
   "cell_type": "code",
   "execution_count": 6,
   "id": "700bba3c",
   "metadata": {},
   "outputs": [],
   "source": [
    "july_trip['hour'] = july_trip['startTime'].dt.hour"
   ]
  },
  {
   "cell_type": "code",
   "execution_count": 8,
   "id": "bb58d65f",
   "metadata": {},
   "outputs": [
    {
     "data": {
      "text/plain": [
       "19    13152\n",
       "17    12732\n",
       "0     12330\n",
       "18    12248\n",
       "21    12092\n",
       "20    11961\n",
       "22    11843\n",
       "23    11358\n",
       "16    10581\n",
       "15     7948\n",
       "1      5291\n",
       "14     4995\n",
       "13     3160\n",
       "12     2037\n",
       "2      1530\n",
       "11      917\n",
       "3       341\n",
       "4       227\n",
       "10      157\n",
       "9        26\n",
       "Name: hour, dtype: int64"
      ]
     },
     "execution_count": 8,
     "metadata": {},
     "output_type": "execute_result"
    }
   ],
   "source": [
    "july_trip.hour.value_counts()"
   ]
  },
  {
   "cell_type": "markdown",
   "id": "a3b98c94",
   "metadata": {},
   "source": [
    "#Group the morning rush hour rides together"
   ]
  },
  {
   "cell_type": "code",
   "execution_count": 9,
   "id": "e31498df",
   "metadata": {},
   "outputs": [],
   "source": [
    "rush_hour_morning = july_trip.loc[(july_trip['hour'] == 7)\n",
    "                                 | (july_trip['hour'] == 8)\n",
    "                                 | (july_trip['hour'] == 9)]"
   ]
  },
  {
   "cell_type": "code",
   "execution_count": 10,
   "id": "5fd4ea0e",
   "metadata": {},
   "outputs": [
    {
     "data": {
      "text/plain": [
       "9    26\n",
       "Name: hour, dtype: int64"
      ]
     },
     "execution_count": 10,
     "metadata": {},
     "output_type": "execute_result"
    }
   ],
   "source": [
    "rush_hour_morning.hour.value_counts()"
   ]
  },
  {
   "cell_type": "markdown",
   "id": "c7f3a1f9",
   "metadata": {},
   "source": [
    "#Group the afternoon rush hour times together"
   ]
  },
  {
   "cell_type": "code",
   "execution_count": 130,
   "id": "ab671194",
   "metadata": {},
   "outputs": [],
   "source": [
    "rush_hour_afternoon = july_trip.loc[(july_trip['hour'] == 16) \n",
    "                                   |(july_trip['hour'] == 17)\n",
    "                                   |(july_trip['hour'] == 18)]"
   ]
  },
  {
   "cell_type": "code",
   "execution_count": 131,
   "id": "5b44885b",
   "metadata": {},
   "outputs": [
    {
     "data": {
      "text/plain": [
       "17    12732\n",
       "18    12248\n",
       "16    10581\n",
       "Name: hour, dtype: int64"
      ]
     },
     "execution_count": 131,
     "metadata": {},
     "output_type": "execute_result"
    }
   ],
   "source": [
    "rush_hour_afternoon.hour.value_counts()"
   ]
  },
  {
   "cell_type": "markdown",
   "id": "e2a3c1ea",
   "metadata": {},
   "source": [
    "#Total rides during afternoon rush is 35561"
   ]
  },
  {
   "cell_type": "code",
   "execution_count": 121,
   "id": "888cdf8b",
   "metadata": {},
   "outputs": [
    {
     "data": {
      "text/plain": [
       "35561"
      ]
     },
     "execution_count": 121,
     "metadata": {},
     "output_type": "execute_result"
    }
   ],
   "source": [
    "12732 + 12248 + 10581"
   ]
  },
  {
   "cell_type": "markdown",
   "id": "8c2a64f6",
   "metadata": {},
   "source": [
    "#Convert the pubTimeStamp column to datetime"
   ]
  },
  {
   "cell_type": "code",
   "execution_count": 14,
   "id": "579aa836",
   "metadata": {},
   "outputs": [],
   "source": [
    "july_trip['pubTimeStamp'] =  pd.to_datetime(july_trip['pubTimeStamp'])"
   ]
  },
  {
   "cell_type": "markdown",
   "id": "b9889e64",
   "metadata": {},
   "source": [
    "#Pull the weekday name from the pubTimeStamp column"
   ]
  },
  {
   "cell_type": "code",
   "execution_count": 15,
   "id": "a3179f50",
   "metadata": {},
   "outputs": [],
   "source": [
    "july_trip['weekday'] = july_trip['pubTimeStamp'].dt.day_name()"
   ]
  },
  {
   "cell_type": "code",
   "execution_count": 16,
   "id": "af0754e6",
   "metadata": {},
   "outputs": [
    {
     "data": {
      "text/plain": [
       "Saturday     30074\n",
       "Friday       22224\n",
       "Sunday       20900\n",
       "Monday       17080\n",
       "Thursday     15309\n",
       "Wednesday    14716\n",
       "Tuesday      14623\n",
       "Name: weekday, dtype: int64"
      ]
     },
     "execution_count": 16,
     "metadata": {},
     "output_type": "execute_result"
    }
   ],
   "source": [
    "july_trip.weekday.value_counts()"
   ]
  },
  {
   "cell_type": "markdown",
   "id": "d22d4a37",
   "metadata": {},
   "source": [
    "#Group the rides by the day of the week"
   ]
  },
  {
   "cell_type": "code",
   "execution_count": 17,
   "id": "cd8e7229",
   "metadata": {},
   "outputs": [],
   "source": [
    "sat_df = july_trip[july_trip['weekday'] == 'Saturday']\n",
    "sun_df = july_trip[july_trip['weekday'] == 'Sunday']"
   ]
  },
  {
   "cell_type": "code",
   "execution_count": 18,
   "id": "d2162c25",
   "metadata": {},
   "outputs": [],
   "source": [
    "mon_df = july_trip[july_trip['weekday'] == 'Monday']\n",
    "tues_df = july_trip[july_trip['weekday'] == 'Tuesday']\n",
    "wed_df = july_trip[july_trip['weekday'] == 'Wednesday']\n",
    "thurs_df = july_trip[july_trip['weekday'] == 'Thursday']\n",
    "fri_df = july_trip[july_trip['weekday'] == 'Friday']"
   ]
  },
  {
   "cell_type": "markdown",
   "id": "712f022b",
   "metadata": {},
   "source": [
    "#Plots!"
   ]
  },
  {
   "cell_type": "code",
   "execution_count": 139,
   "id": "64727629",
   "metadata": {},
   "outputs": [
    {
     "data": {
      "image/png": "[encoded data removed]",
      "text/plain": [
       "<Figure size 432x288 with 1 Axes>"
      ]
     },
     "metadata": {
      "needs_background": "light"
     },
     "output_type": "display_data"
    },
    {
     "data": {
      "text/plain": [
       "<Figure size 432x720 with 0 Axes>"
      ]
     },
     "metadata": {},
     "output_type": "display_data"
    },
    {
     "data": {
      "text/plain": [
       "<Figure size 432x288 with 0 Axes>"
      ]
     },
     "metadata": {},
     "output_type": "display_data"
    }
   ],
   "source": [
    "#Line plot for days of the week\n",
    "plt.hist(july_trip.weekday, bins = 20, edgecolor = 'black')\n",
    "plt.xlabel('Day of the Week')\n",
    "plt.ylabel('Number of Rides')\n",
    "plt.title('Rides Per Day')\n",
    "plt.figure(figsize=(6, 10))\n",
    "\n",
    "plt.show()\n",
    "plt.savefig('rides_per_day.jpg')"
   ]
  },
  {
   "cell_type": "code",
   "execution_count": 140,
   "id": "bc300ef0",
   "metadata": {},
   "outputs": [
    {
     "data": {
      "image/png": "[encoded data removed]",
      "text/plain": [
       "<Figure size 432x288 with 1 Axes>"
      ]
     },
     "metadata": {
      "needs_background": "light"
     },
     "output_type": "display_data"
    }
   ],
   "source": [
    "plt.hist(mon_df.hour, bins = 30, edgecolor = 'black')\n",
    "plt.xlabel('Hours of the Day')\n",
    "plt.ylabel('Rides')\n",
    "plt.title('Monday')\n",
    "plt.ylim([0, 3500])\n",
    "plt.show()"
   ]
  },
  {
   "cell_type": "code",
   "execution_count": 141,
   "id": "350deb75",
   "metadata": {},
   "outputs": [
    {
     "data": {
      "image/png": "[encoded data removed]",
      "text/plain": [
       "<Figure size 432x288 with 1 Axes>"
      ]
     },
     "metadata": {
      "needs_background": "light"
     },
     "output_type": "display_data"
    }
   ],
   "source": [
    "plt.hist(tues_df.hour, bins = 30, edgecolor = 'black')\n",
    "plt.xlabel('Hours of the Day')\n",
    "plt.ylabel('Rides')\n",
    "plt.title('Tuesday')\n",
    "plt.ylim([0, 3500])\n",
    "plt.show()"
   ]
  },
  {
   "cell_type": "code",
   "execution_count": 142,
   "id": "19ee9835",
   "metadata": {},
   "outputs": [
    {
     "data": {
      "image/png": "[encoded data removed]",
      "text/plain": [
       "<Figure size 432x288 with 1 Axes>"
      ]
     },
     "metadata": {
      "needs_background": "light"
     },
     "output_type": "display_data"
    }
   ],
   "source": [
    "plt.hist(wed_df.hour, bins = 30, edgecolor = 'black')\n",
    "plt.xlabel('Hours of the Day')\n",
    "plt.ylabel('Rides')\n",
    "plt.title('Wednesday')\n",
    "plt.ylim([0, 3500])\n",
    "plt.show()"
   ]
  },
  {
   "cell_type": "code",
   "execution_count": 143,
   "id": "34e368f0",
   "metadata": {},
   "outputs": [
    {
     "data": {
      "text/plain": [
       "(0.0, 3500.0)"
      ]
     },
     "execution_count": 143,
     "metadata": {},
     "output_type": "execute_result"
    },
    {
     "data": {
      "image/png": "[encoded data removed]",
      "text/plain": [
       "<Figure size 432x288 with 1 Axes>"
      ]
     },
     "metadata": {
      "needs_background": "light"
     },
     "output_type": "display_data"
    }
   ],
   "source": [
    "plt.hist(thurs_df.hour, bins = 30, edgecolor = 'black')\n",
    "plt.xlabel('Hours of the Day')\n",
    "plt.ylabel('Rides')\n",
    "plt.title('Thursday')\n",
    "plt.ylim([0, 3500])"
   ]
  },
  {
   "cell_type": "code",
   "execution_count": 144,
   "id": "5369b57a",
   "metadata": {},
   "outputs": [
    {
     "data": {
      "image/png": "[encoded data removed]",
      "text/plain": [
       "<Figure size 432x288 with 1 Axes>"
      ]
     },
     "metadata": {
      "needs_background": "light"
     },
     "output_type": "display_data"
    }
   ],
   "source": [
    "plt.hist(fri_df.hour, bins = 30, edgecolor = 'black')\n",
    "plt.xlabel('Hours of the Day')\n",
    "plt.ylabel('Rides')\n",
    "plt.title('Friday')\n",
    "plt.ylim([0, 3500])\n",
    "plt.show()"
   ]
  },
  {
   "cell_type": "code",
   "execution_count": 145,
   "id": "1420defe",
   "metadata": {},
   "outputs": [
    {
     "data": {
      "image/png": "[encoded data removed]",
      "text/plain": [
       "<Figure size 432x288 with 1 Axes>"
      ]
     },
     "metadata": {
      "needs_background": "light"
     },
     "output_type": "display_data"
    }
   ],
   "source": [
    "plt.hist(sat_df.hour, bins = 30, edgecolor = 'black')\n",
    "plt.xlabel('Hours of the Day')\n",
    "plt.ylabel('Rides')\n",
    "plt.title('Saturday')\n",
    "plt.ylim([0, 3500])\n",
    "plt.show()"
   ]
  },
  {
   "cell_type": "code",
   "execution_count": 146,
   "id": "aa68c015",
   "metadata": {},
   "outputs": [
    {
     "data": {
      "image/png": "[encoded data removed]",
      "text/plain": [
       "<Figure size 432x288 with 1 Axes>"
      ]
     },
     "metadata": {
      "needs_background": "light"
     },
     "output_type": "display_data"
    }
   ],
   "source": [
    "plt.hist(sun_df.hour, bins = 30, edgecolor = 'black')\n",
    "plt.xlabel('Hours of the Day')\n",
    "plt.ylabel('Rides')\n",
    "plt.title('Sunday')\n",
    "plt.ylim([0, 3500])\n",
    "plt.show()"
   ]
  },
  {
   "cell_type": "code",
   "execution_count": 50,
   "id": "345cf7bc",
   "metadata": {},
   "outputs": [
    {
     "data": {
      "text/html": [
       "<div>\n",
       "<style scoped>\n",
       "    .dataframe tbody tr th:only-of-type {\n",
       "        vertical-align: middle;\n",
       "    }\n",
       "\n",
       "    .dataframe tbody tr th {\n",
       "        vertical-align: top;\n",
       "    }\n",
       "\n",
       "    .dataframe thead th {\n",
       "        text-align: right;\n",
       "    }\n",
       "</style>\n",
       "<table border=\"1\" class=\"dataframe\">\n",
       "  <thead>\n",
       "    <tr style=\"text-align: right;\">\n",
       "      <th></th>\n",
       "      <th>pubTimeStamp</th>\n",
       "      <th>companyName</th>\n",
       "      <th>tripRecordNum</th>\n",
       "      <th>sumdID</th>\n",
       "      <th>tripDuration</th>\n",
       "      <th>tripDistance</th>\n",
       "      <th>startDate</th>\n",
       "      <th>startTime</th>\n",
       "      <th>endDate</th>\n",
       "      <th>endTime</th>\n",
       "      <th>startLatitude</th>\n",
       "      <th>startLongitude</th>\n",
       "      <th>endLatitude</th>\n",
       "      <th>endLongitude</th>\n",
       "      <th>tripRoute</th>\n",
       "      <th>create_dt</th>\n",
       "      <th>hour</th>\n",
       "      <th>weekday</th>\n",
       "    </tr>\n",
       "  </thead>\n",
       "  <tbody>\n",
       "    <tr>\n",
       "      <th>0</th>\n",
       "      <td>2019-07-01 00:02:52.213</td>\n",
       "      <td>Bird</td>\n",
       "      <td>BRD5179</td>\n",
       "      <td>PoweredZSHKJ</td>\n",
       "      <td>2.0</td>\n",
       "      <td>0.0</td>\n",
       "      <td>2019-07-01 00:00:00</td>\n",
       "      <td>2021-10-26 00:01:32.290000</td>\n",
       "      <td>2019-07-01 00:00:00</td>\n",
       "      <td>00:03:55.966666</td>\n",
       "      <td>36.1775</td>\n",
       "      <td>-86.7516</td>\n",
       "      <td>36.1778</td>\n",
       "      <td>-86.7514</td>\n",
       "      <td>[[36.177438,-86.751861],[36.177425,-86.751987]...</td>\n",
       "      <td>2019-07-02 05:30:18.333000</td>\n",
       "      <td>0</td>\n",
       "      <td>Monday</td>\n",
       "    </tr>\n",
       "    <tr>\n",
       "      <th>1</th>\n",
       "      <td>2019-07-01 00:02:52.213</td>\n",
       "      <td>Bird</td>\n",
       "      <td>BRD5177</td>\n",
       "      <td>Powered22JF6</td>\n",
       "      <td>0.0</td>\n",
       "      <td>0.0</td>\n",
       "      <td>2019-07-01 00:00:00</td>\n",
       "      <td>2021-10-26 00:02:38.640000</td>\n",
       "      <td>2019-07-01 00:00:00</td>\n",
       "      <td>00:02:54.406666</td>\n",
       "      <td>36.1627</td>\n",
       "      <td>-86.7711</td>\n",
       "      <td>36.1627</td>\n",
       "      <td>-86.7711</td>\n",
       "      <td>[[36.162718,-86.771102],[36.162718,-86.771102]]</td>\n",
       "      <td>2019-07-02 05:30:18.273000</td>\n",
       "      <td>0</td>\n",
       "      <td>Monday</td>\n",
       "    </tr>\n",
       "    <tr>\n",
       "      <th>2</th>\n",
       "      <td>2019-07-01 00:02:52.213</td>\n",
       "      <td>Bird</td>\n",
       "      <td>BRD5176</td>\n",
       "      <td>Powered22JF6</td>\n",
       "      <td>1.0</td>\n",
       "      <td>0.0</td>\n",
       "      <td>2019-07-01 00:00:00</td>\n",
       "      <td>2021-10-26 00:03:04.333333</td>\n",
       "      <td>2019-07-01 00:00:00</td>\n",
       "      <td>00:03:37.680000</td>\n",
       "      <td>36.1627</td>\n",
       "      <td>-86.7713</td>\n",
       "      <td>36.1627</td>\n",
       "      <td>-86.7713</td>\n",
       "      <td>[[36.162734,-86.77122],[36.162706,-86.771325],...</td>\n",
       "      <td>2019-07-02 05:30:18.243000</td>\n",
       "      <td>0</td>\n",
       "      <td>Monday</td>\n",
       "    </tr>\n",
       "    <tr>\n",
       "      <th>3</th>\n",
       "      <td>2019-07-01 00:02:52.213</td>\n",
       "      <td>Bird</td>\n",
       "      <td>BRD5178</td>\n",
       "      <td>PoweredIB2CC</td>\n",
       "      <td>1.0</td>\n",
       "      <td>0.0</td>\n",
       "      <td>2019-07-01 00:00:00</td>\n",
       "      <td>2021-10-26 00:02:06.963333</td>\n",
       "      <td>2019-07-01 00:00:00</td>\n",
       "      <td>00:03:25.766666</td>\n",
       "      <td>36.1525</td>\n",
       "      <td>-86.7988</td>\n",
       "      <td>36.1525</td>\n",
       "      <td>-86.7988</td>\n",
       "      <td>[[36.152499,-86.798708]]</td>\n",
       "      <td>2019-07-02 05:30:18.303000</td>\n",
       "      <td>0</td>\n",
       "      <td>Monday</td>\n",
       "    </tr>\n",
       "    <tr>\n",
       "      <th>4</th>\n",
       "      <td>2019-07-01 00:02:52.213</td>\n",
       "      <td>Bird</td>\n",
       "      <td>BRD5180</td>\n",
       "      <td>PoweredW4G7R</td>\n",
       "      <td>2.0</td>\n",
       "      <td>0.0</td>\n",
       "      <td>2019-07-01 00:00:00</td>\n",
       "      <td>2021-10-26 00:01:19.843333</td>\n",
       "      <td>2019-07-01 00:00:00</td>\n",
       "      <td>00:02:53.976666</td>\n",
       "      <td>36.1578</td>\n",
       "      <td>-86.7760</td>\n",
       "      <td>36.1575</td>\n",
       "      <td>-86.7758</td>\n",
       "      <td>[[36.157523,-86.775794]]</td>\n",
       "      <td>2019-07-02 05:30:18.363000</td>\n",
       "      <td>0</td>\n",
       "      <td>Monday</td>\n",
       "    </tr>\n",
       "  </tbody>\n",
       "</table>\n",
       "</div>"
      ],
      "text/plain": [
       "             pubTimeStamp companyName tripRecordNum        sumdID  \\\n",
       "0 2019-07-01 00:02:52.213        Bird       BRD5179  PoweredZSHKJ   \n",
       "1 2019-07-01 00:02:52.213        Bird       BRD5177  Powered22JF6   \n",
       "2 2019-07-01 00:02:52.213        Bird       BRD5176  Powered22JF6   \n",
       "3 2019-07-01 00:02:52.213        Bird       BRD5178  PoweredIB2CC   \n",
       "4 2019-07-01 00:02:52.213        Bird       BRD5180  PoweredW4G7R   \n",
       "\n",
       "   tripDuration  tripDistance            startDate                  startTime  \\\n",
       "0           2.0           0.0  2019-07-01 00:00:00 2021-10-26 00:01:32.290000   \n",
       "1           0.0           0.0  2019-07-01 00:00:00 2021-10-26 00:02:38.640000   \n",
       "2           1.0           0.0  2019-07-01 00:00:00 2021-10-26 00:03:04.333333   \n",
       "3           1.0           0.0  2019-07-01 00:00:00 2021-10-26 00:02:06.963333   \n",
       "4           2.0           0.0  2019-07-01 00:00:00 2021-10-26 00:01:19.843333   \n",
       "\n",
       "               endDate          endTime  startLatitude  startLongitude  \\\n",
       "0  2019-07-01 00:00:00  00:03:55.966666        36.1775        -86.7516   \n",
       "1  2019-07-01 00:00:00  00:02:54.406666        36.1627        -86.7711   \n",
       "2  2019-07-01 00:00:00  00:03:37.680000        36.1627        -86.7713   \n",
       "3  2019-07-01 00:00:00  00:03:25.766666        36.1525        -86.7988   \n",
       "4  2019-07-01 00:00:00  00:02:53.976666        36.1578        -86.7760   \n",
       "\n",
       "   endLatitude  endLongitude  \\\n",
       "0      36.1778      -86.7514   \n",
       "1      36.1627      -86.7711   \n",
       "2      36.1627      -86.7713   \n",
       "3      36.1525      -86.7988   \n",
       "4      36.1575      -86.7758   \n",
       "\n",
       "                                           tripRoute  \\\n",
       "0  [[36.177438,-86.751861],[36.177425,-86.751987]...   \n",
       "1    [[36.162718,-86.771102],[36.162718,-86.771102]]   \n",
       "2  [[36.162734,-86.77122],[36.162706,-86.771325],...   \n",
       "3                           [[36.152499,-86.798708]]   \n",
       "4                           [[36.157523,-86.775794]]   \n",
       "\n",
       "                    create_dt  hour weekday  \n",
       "0  2019-07-02 05:30:18.333000     0  Monday  \n",
       "1  2019-07-02 05:30:18.273000     0  Monday  \n",
       "2  2019-07-02 05:30:18.243000     0  Monday  \n",
       "3  2019-07-02 05:30:18.303000     0  Monday  \n",
       "4  2019-07-02 05:30:18.363000     0  Monday  "
      ]
     },
     "execution_count": 50,
     "metadata": {},
     "output_type": "execute_result"
    }
   ],
   "source": [
    "july_trip.head()"
   ]
  },
  {
   "cell_type": "markdown",
   "id": "9f2faa98",
   "metadata": {},
   "source": [
    "#Make geometry column for july_trip"
   ]
  },
  {
   "cell_type": "code",
   "execution_count": 67,
   "id": "cb3ab5e8",
   "metadata": {},
   "outputs": [
    {
     "data": {
      "text/html": [
       "<div>\n",
       "<style scoped>\n",
       "    .dataframe tbody tr th:only-of-type {\n",
       "        vertical-align: middle;\n",
       "    }\n",
       "\n",
       "    .dataframe tbody tr th {\n",
       "        vertical-align: top;\n",
       "    }\n",
       "\n",
       "    .dataframe thead th {\n",
       "        text-align: right;\n",
       "    }\n",
       "</style>\n",
       "<table border=\"1\" class=\"dataframe\">\n",
       "  <thead>\n",
       "    <tr style=\"text-align: right;\">\n",
       "      <th></th>\n",
       "      <th>pubTimeStamp</th>\n",
       "      <th>companyName</th>\n",
       "      <th>tripRecordNum</th>\n",
       "      <th>sumdID</th>\n",
       "      <th>tripDuration</th>\n",
       "      <th>tripDistance</th>\n",
       "      <th>startDate</th>\n",
       "      <th>startTime</th>\n",
       "      <th>endDate</th>\n",
       "      <th>endTime</th>\n",
       "      <th>startLatitude</th>\n",
       "      <th>startLongitude</th>\n",
       "      <th>endLatitude</th>\n",
       "      <th>endLongitude</th>\n",
       "      <th>tripRoute</th>\n",
       "      <th>create_dt</th>\n",
       "      <th>hour</th>\n",
       "      <th>weekday</th>\n",
       "      <th>geometry</th>\n",
       "    </tr>\n",
       "  </thead>\n",
       "  <tbody>\n",
       "    <tr>\n",
       "      <th>0</th>\n",
       "      <td>2019-07-01 00:02:52.213</td>\n",
       "      <td>Bird</td>\n",
       "      <td>BRD5179</td>\n",
       "      <td>PoweredZSHKJ</td>\n",
       "      <td>2.0</td>\n",
       "      <td>0.0</td>\n",
       "      <td>2019-07-01 00:00:00</td>\n",
       "      <td>2021-10-26 00:01:32.290000</td>\n",
       "      <td>2019-07-01 00:00:00</td>\n",
       "      <td>00:03:55.966666</td>\n",
       "      <td>36.1775</td>\n",
       "      <td>-86.7516</td>\n",
       "      <td>36.1778</td>\n",
       "      <td>-86.7514</td>\n",
       "      <td>[[36.177438,-86.751861],[36.177425,-86.751987]...</td>\n",
       "      <td>2019-07-02 05:30:18.333000</td>\n",
       "      <td>0</td>\n",
       "      <td>Monday</td>\n",
       "      <td>POINT (-86.7516 36.1775)</td>\n",
       "    </tr>\n",
       "    <tr>\n",
       "      <th>1</th>\n",
       "      <td>2019-07-01 00:02:52.213</td>\n",
       "      <td>Bird</td>\n",
       "      <td>BRD5177</td>\n",
       "      <td>Powered22JF6</td>\n",
       "      <td>0.0</td>\n",
       "      <td>0.0</td>\n",
       "      <td>2019-07-01 00:00:00</td>\n",
       "      <td>2021-10-26 00:02:38.640000</td>\n",
       "      <td>2019-07-01 00:00:00</td>\n",
       "      <td>00:02:54.406666</td>\n",
       "      <td>36.1627</td>\n",
       "      <td>-86.7711</td>\n",
       "      <td>36.1627</td>\n",
       "      <td>-86.7711</td>\n",
       "      <td>[[36.162718,-86.771102],[36.162718,-86.771102]]</td>\n",
       "      <td>2019-07-02 05:30:18.273000</td>\n",
       "      <td>0</td>\n",
       "      <td>Monday</td>\n",
       "      <td>POINT (-86.7711 36.1627)</td>\n",
       "    </tr>\n",
       "    <tr>\n",
       "      <th>2</th>\n",
       "      <td>2019-07-01 00:02:52.213</td>\n",
       "      <td>Bird</td>\n",
       "      <td>BRD5176</td>\n",
       "      <td>Powered22JF6</td>\n",
       "      <td>1.0</td>\n",
       "      <td>0.0</td>\n",
       "      <td>2019-07-01 00:00:00</td>\n",
       "      <td>2021-10-26 00:03:04.333333</td>\n",
       "      <td>2019-07-01 00:00:00</td>\n",
       "      <td>00:03:37.680000</td>\n",
       "      <td>36.1627</td>\n",
       "      <td>-86.7713</td>\n",
       "      <td>36.1627</td>\n",
       "      <td>-86.7713</td>\n",
       "      <td>[[36.162734,-86.77122],[36.162706,-86.771325],...</td>\n",
       "      <td>2019-07-02 05:30:18.243000</td>\n",
       "      <td>0</td>\n",
       "      <td>Monday</td>\n",
       "      <td>POINT (-86.7713 36.1627)</td>\n",
       "    </tr>\n",
       "  </tbody>\n",
       "</table>\n",
       "</div>"
      ],
      "text/plain": [
       "             pubTimeStamp companyName tripRecordNum        sumdID  \\\n",
       "0 2019-07-01 00:02:52.213        Bird       BRD5179  PoweredZSHKJ   \n",
       "1 2019-07-01 00:02:52.213        Bird       BRD5177  Powered22JF6   \n",
       "2 2019-07-01 00:02:52.213        Bird       BRD5176  Powered22JF6   \n",
       "\n",
       "   tripDuration  tripDistance            startDate                  startTime  \\\n",
       "0           2.0           0.0  2019-07-01 00:00:00 2021-10-26 00:01:32.290000   \n",
       "1           0.0           0.0  2019-07-01 00:00:00 2021-10-26 00:02:38.640000   \n",
       "2           1.0           0.0  2019-07-01 00:00:00 2021-10-26 00:03:04.333333   \n",
       "\n",
       "               endDate          endTime  startLatitude  startLongitude  \\\n",
       "0  2019-07-01 00:00:00  00:03:55.966666        36.1775        -86.7516   \n",
       "1  2019-07-01 00:00:00  00:02:54.406666        36.1627        -86.7711   \n",
       "2  2019-07-01 00:00:00  00:03:37.680000        36.1627        -86.7713   \n",
       "\n",
       "   endLatitude  endLongitude  \\\n",
       "0      36.1778      -86.7514   \n",
       "1      36.1627      -86.7711   \n",
       "2      36.1627      -86.7713   \n",
       "\n",
       "                                           tripRoute  \\\n",
       "0  [[36.177438,-86.751861],[36.177425,-86.751987]...   \n",
       "1    [[36.162718,-86.771102],[36.162718,-86.771102]]   \n",
       "2  [[36.162734,-86.77122],[36.162706,-86.771325],...   \n",
       "\n",
       "                    create_dt  hour weekday                  geometry  \n",
       "0  2019-07-02 05:30:18.333000     0  Monday  POINT (-86.7516 36.1775)  \n",
       "1  2019-07-02 05:30:18.273000     0  Monday  POINT (-86.7711 36.1627)  \n",
       "2  2019-07-02 05:30:18.243000     0  Monday  POINT (-86.7713 36.1627)  "
      ]
     },
     "execution_count": 67,
     "metadata": {},
     "output_type": "execute_result"
    }
   ],
   "source": [
    "july_trip['geometry'] = july_trip.apply(lambda x: Point((x.startLongitude, \n",
    "                                                         x.startLatitude)), \n",
    "                                        axis=1)\n",
    "july_trip.head(3)"
   ]
  },
  {
   "cell_type": "markdown",
   "id": "b0292532",
   "metadata": {},
   "source": [
    "#Bring in zipcodes df and merge with july_trips to create july_trip_geo"
   ]
  },
  {
   "cell_type": "code",
   "execution_count": 68,
   "id": "1a6c6cb1",
   "metadata": {},
   "outputs": [],
   "source": [
    "zipcodes = zipcodes[['zip', 'po_name', 'geometry']]"
   ]
  },
  {
   "cell_type": "code",
   "execution_count": 71,
   "id": "801a8774",
   "metadata": {},
   "outputs": [],
   "source": [
    "july_trip_geo = gpd.GeoDataFrame(july_trip, \n",
    "                           crs = zipcodes.crs, \n",
    "                           geometry = july_trip['geometry'])"
   ]
  },
  {
   "cell_type": "code",
   "execution_count": 73,
   "id": "028b4062",
   "metadata": {},
   "outputs": [],
   "source": [
    "rides_by_zip = gpd.sjoin(july_trip_geo, zipcodes, op = 'within')"
   ]
  },
  {
   "cell_type": "code",
   "execution_count": 74,
   "id": "39692bc9",
   "metadata": {},
   "outputs": [
    {
     "data": {
      "text/html": [
       "<div>\n",
       "<style scoped>\n",
       "    .dataframe tbody tr th:only-of-type {\n",
       "        vertical-align: middle;\n",
       "    }\n",
       "\n",
       "    .dataframe tbody tr th {\n",
       "        vertical-align: top;\n",
       "    }\n",
       "\n",
       "    .dataframe thead th {\n",
       "        text-align: right;\n",
       "    }\n",
       "</style>\n",
       "<table border=\"1\" class=\"dataframe\">\n",
       "  <thead>\n",
       "    <tr style=\"text-align: right;\">\n",
       "      <th></th>\n",
       "      <th>pubTimeStamp</th>\n",
       "      <th>companyName</th>\n",
       "      <th>tripRecordNum</th>\n",
       "      <th>sumdID</th>\n",
       "      <th>tripDuration</th>\n",
       "      <th>tripDistance</th>\n",
       "      <th>startDate</th>\n",
       "      <th>startTime</th>\n",
       "      <th>endDate</th>\n",
       "      <th>endTime</th>\n",
       "      <th>...</th>\n",
       "      <th>endLatitude</th>\n",
       "      <th>endLongitude</th>\n",
       "      <th>tripRoute</th>\n",
       "      <th>create_dt</th>\n",
       "      <th>hour</th>\n",
       "      <th>weekday</th>\n",
       "      <th>geometry</th>\n",
       "      <th>index_right</th>\n",
       "      <th>zip</th>\n",
       "      <th>po_name</th>\n",
       "    </tr>\n",
       "  </thead>\n",
       "  <tbody>\n",
       "    <tr>\n",
       "      <th>0</th>\n",
       "      <td>2019-07-01 00:02:52.213</td>\n",
       "      <td>Bird</td>\n",
       "      <td>BRD5179</td>\n",
       "      <td>PoweredZSHKJ</td>\n",
       "      <td>2.00000</td>\n",
       "      <td>0.00000</td>\n",
       "      <td>2019-07-01 00:00:00</td>\n",
       "      <td>2021-10-26 00:01:32.290000</td>\n",
       "      <td>2019-07-01 00:00:00</td>\n",
       "      <td>00:03:55.966666</td>\n",
       "      <td>...</td>\n",
       "      <td>36.17780</td>\n",
       "      <td>-86.75140</td>\n",
       "      <td>[[36.177438,-86.751861],[36.177425,-86.751987]...</td>\n",
       "      <td>2019-07-02 05:30:18.333000</td>\n",
       "      <td>0</td>\n",
       "      <td>Monday</td>\n",
       "      <td>POINT (-86.75160 36.17750)</td>\n",
       "      <td>46</td>\n",
       "      <td>37206</td>\n",
       "      <td>NASHVILLE</td>\n",
       "    </tr>\n",
       "    <tr>\n",
       "      <th>26</th>\n",
       "      <td>2019-07-01 00:12:52.437</td>\n",
       "      <td>Bird</td>\n",
       "      <td>BRD5282</td>\n",
       "      <td>PoweredU1QWL</td>\n",
       "      <td>9.00000</td>\n",
       "      <td>0.00000</td>\n",
       "      <td>2019-07-01 00:00:00</td>\n",
       "      <td>2021-10-26 00:04:29.616666</td>\n",
       "      <td>2019-07-01 00:00:00</td>\n",
       "      <td>00:13:11.600000</td>\n",
       "      <td>...</td>\n",
       "      <td>36.17590</td>\n",
       "      <td>-86.76090</td>\n",
       "      <td>[[36.176038,-86.76081],[36.175959,-86.760837],...</td>\n",
       "      <td>2019-07-02 05:30:19.340000</td>\n",
       "      <td>0</td>\n",
       "      <td>Monday</td>\n",
       "      <td>POINT (-86.76090 36.17600)</td>\n",
       "      <td>46</td>\n",
       "      <td>37206</td>\n",
       "      <td>NASHVILLE</td>\n",
       "    </tr>\n",
       "    <tr>\n",
       "      <th>118</th>\n",
       "      <td>2019-07-01 00:32:53.757</td>\n",
       "      <td>Bird</td>\n",
       "      <td>BRD5463</td>\n",
       "      <td>Powered3HZZV</td>\n",
       "      <td>4.00000</td>\n",
       "      <td>0.00000</td>\n",
       "      <td>2019-07-01 00:00:00</td>\n",
       "      <td>2021-10-26 00:28:50.746666</td>\n",
       "      <td>2019-07-01 00:00:00</td>\n",
       "      <td>00:33:13.110000</td>\n",
       "      <td>...</td>\n",
       "      <td>36.17810</td>\n",
       "      <td>-86.75580</td>\n",
       "      <td>[[36.178056,-86.755718],[36.177984,-86.75558],...</td>\n",
       "      <td>2019-07-02 05:30:22.107000</td>\n",
       "      <td>0</td>\n",
       "      <td>Monday</td>\n",
       "      <td>POINT (-86.75580 36.17800)</td>\n",
       "      <td>46</td>\n",
       "      <td>37206</td>\n",
       "      <td>NASHVILLE</td>\n",
       "    </tr>\n",
       "    <tr>\n",
       "      <th>170</th>\n",
       "      <td>2019-07-01 00:43:26.033</td>\n",
       "      <td>Lyft</td>\n",
       "      <td>LFT62</td>\n",
       "      <td>Powered536423</td>\n",
       "      <td>6.95655</td>\n",
       "      <td>1633.85832</td>\n",
       "      <td>2019-07-01 00:00:00</td>\n",
       "      <td>2021-10-26 00:36:28.533333</td>\n",
       "      <td>2019-07-01 00:00:00</td>\n",
       "      <td>00:43:25.926666</td>\n",
       "      <td>...</td>\n",
       "      <td>36.17404</td>\n",
       "      <td>-86.75187</td>\n",
       "      <td>[[36.1774,-86.74989],[36.17743,-86.74994],[36....</td>\n",
       "      <td>2019-07-02 09:34:38.727000</td>\n",
       "      <td>0</td>\n",
       "      <td>Monday</td>\n",
       "      <td>POINT (-86.74989 36.17740)</td>\n",
       "      <td>46</td>\n",
       "      <td>37206</td>\n",
       "      <td>NASHVILLE</td>\n",
       "    </tr>\n",
       "    <tr>\n",
       "      <th>211</th>\n",
       "      <td>2019-07-01 00:52:54.660</td>\n",
       "      <td>Bird</td>\n",
       "      <td>BRD5629</td>\n",
       "      <td>PoweredTLSDM</td>\n",
       "      <td>10.00000</td>\n",
       "      <td>0.00000</td>\n",
       "      <td>2019-07-01 00:00:00</td>\n",
       "      <td>2021-10-26 00:42:58.593333</td>\n",
       "      <td>2019-07-01 00:00:00</td>\n",
       "      <td>00:53:08.036666</td>\n",
       "      <td>...</td>\n",
       "      <td>36.17920</td>\n",
       "      <td>-86.74680</td>\n",
       "      <td>[[36.179298,-86.746625],[36.177447,-86.745683]]</td>\n",
       "      <td>2019-07-02 05:30:23.740000</td>\n",
       "      <td>0</td>\n",
       "      <td>Monday</td>\n",
       "      <td>POINT (-86.74670 36.17920)</td>\n",
       "      <td>46</td>\n",
       "      <td>37206</td>\n",
       "      <td>NASHVILLE</td>\n",
       "    </tr>\n",
       "  </tbody>\n",
       "</table>\n",
       "<p>5 rows × 22 columns</p>\n",
       "</div>"
      ],
      "text/plain": [
       "               pubTimeStamp companyName tripRecordNum         sumdID  \\\n",
       "0   2019-07-01 00:02:52.213        Bird       BRD5179   PoweredZSHKJ   \n",
       "26  2019-07-01 00:12:52.437        Bird       BRD5282   PoweredU1QWL   \n",
       "118 2019-07-01 00:32:53.757        Bird       BRD5463   Powered3HZZV   \n",
       "170 2019-07-01 00:43:26.033        Lyft         LFT62  Powered536423   \n",
       "211 2019-07-01 00:52:54.660        Bird       BRD5629   PoweredTLSDM   \n",
       "\n",
       "     tripDuration  tripDistance            startDate  \\\n",
       "0         2.00000       0.00000  2019-07-01 00:00:00   \n",
       "26        9.00000       0.00000  2019-07-01 00:00:00   \n",
       "118       4.00000       0.00000  2019-07-01 00:00:00   \n",
       "170       6.95655    1633.85832  2019-07-01 00:00:00   \n",
       "211      10.00000       0.00000  2019-07-01 00:00:00   \n",
       "\n",
       "                     startTime              endDate          endTime  ...  \\\n",
       "0   2021-10-26 00:01:32.290000  2019-07-01 00:00:00  00:03:55.966666  ...   \n",
       "26  2021-10-26 00:04:29.616666  2019-07-01 00:00:00  00:13:11.600000  ...   \n",
       "118 2021-10-26 00:28:50.746666  2019-07-01 00:00:00  00:33:13.110000  ...   \n",
       "170 2021-10-26 00:36:28.533333  2019-07-01 00:00:00  00:43:25.926666  ...   \n",
       "211 2021-10-26 00:42:58.593333  2019-07-01 00:00:00  00:53:08.036666  ...   \n",
       "\n",
       "     endLatitude  endLongitude  \\\n",
       "0       36.17780     -86.75140   \n",
       "26      36.17590     -86.76090   \n",
       "118     36.17810     -86.75580   \n",
       "170     36.17404     -86.75187   \n",
       "211     36.17920     -86.74680   \n",
       "\n",
       "                                             tripRoute  \\\n",
       "0    [[36.177438,-86.751861],[36.177425,-86.751987]...   \n",
       "26   [[36.176038,-86.76081],[36.175959,-86.760837],...   \n",
       "118  [[36.178056,-86.755718],[36.177984,-86.75558],...   \n",
       "170  [[36.1774,-86.74989],[36.17743,-86.74994],[36....   \n",
       "211    [[36.179298,-86.746625],[36.177447,-86.745683]]   \n",
       "\n",
       "                      create_dt hour weekday                    geometry  \\\n",
       "0    2019-07-02 05:30:18.333000    0  Monday  POINT (-86.75160 36.17750)   \n",
       "26   2019-07-02 05:30:19.340000    0  Monday  POINT (-86.76090 36.17600)   \n",
       "118  2019-07-02 05:30:22.107000    0  Monday  POINT (-86.75580 36.17800)   \n",
       "170  2019-07-02 09:34:38.727000    0  Monday  POINT (-86.74989 36.17740)   \n",
       "211  2019-07-02 05:30:23.740000    0  Monday  POINT (-86.74670 36.17920)   \n",
       "\n",
       "    index_right    zip    po_name  \n",
       "0            46  37206  NASHVILLE  \n",
       "26           46  37206  NASHVILLE  \n",
       "118          46  37206  NASHVILLE  \n",
       "170          46  37206  NASHVILLE  \n",
       "211          46  37206  NASHVILLE  \n",
       "\n",
       "[5 rows x 22 columns]"
      ]
     },
     "execution_count": 74,
     "metadata": {},
     "output_type": "execute_result"
    }
   ],
   "source": [
    "rides_by_zip.head()"
   ]
  },
  {
   "cell_type": "code",
   "execution_count": 135,
   "id": "ecf8d113",
   "metadata": {},
   "outputs": [
    {
     "data": {
      "text/html": [
       "<div>\n",
       "<style scoped>\n",
       "    .dataframe tbody tr th:only-of-type {\n",
       "        vertical-align: middle;\n",
       "    }\n",
       "\n",
       "    .dataframe tbody tr th {\n",
       "        vertical-align: top;\n",
       "    }\n",
       "\n",
       "    .dataframe thead th {\n",
       "        text-align: right;\n",
       "    }\n",
       "</style>\n",
       "<table border=\"1\" class=\"dataframe\">\n",
       "  <thead>\n",
       "    <tr style=\"text-align: right;\">\n",
       "      <th></th>\n",
       "      <th>pubTimeStamp</th>\n",
       "      <th>companyName</th>\n",
       "      <th>tripRecordNum</th>\n",
       "      <th>sumdID</th>\n",
       "      <th>tripDuration</th>\n",
       "      <th>tripDistance</th>\n",
       "      <th>startDate</th>\n",
       "      <th>startTime</th>\n",
       "      <th>endDate</th>\n",
       "      <th>endTime</th>\n",
       "      <th>...</th>\n",
       "      <th>endLatitude</th>\n",
       "      <th>endLongitude</th>\n",
       "      <th>tripRoute</th>\n",
       "      <th>create_dt</th>\n",
       "      <th>hour</th>\n",
       "      <th>weekday</th>\n",
       "      <th>geometry</th>\n",
       "      <th>index_right</th>\n",
       "      <th>zip</th>\n",
       "      <th>po_name</th>\n",
       "    </tr>\n",
       "  </thead>\n",
       "  <tbody>\n",
       "    <tr>\n",
       "      <th>2410</th>\n",
       "      <td>2019-07-01 18:00:35.163</td>\n",
       "      <td>Lyft</td>\n",
       "      <td>LFT364</td>\n",
       "      <td>Powered487049</td>\n",
       "      <td>0.281383</td>\n",
       "      <td>0.000000</td>\n",
       "      <td>2019-07-01 00:00:00</td>\n",
       "      <td>2021-10-26 18:00:18.166666</td>\n",
       "      <td>2019-07-01 00:00:00</td>\n",
       "      <td>18:00:35.050000</td>\n",
       "      <td>...</td>\n",
       "      <td>36.146420</td>\n",
       "      <td>-86.810010</td>\n",
       "      <td>[[36.14641,-86.81001],[36.14642,-86.81001]]</td>\n",
       "      <td>2019-07-02 09:35:21.700000</td>\n",
       "      <td>18</td>\n",
       "      <td>Monday</td>\n",
       "      <td>POINT (-86.81001 36.14641)</td>\n",
       "      <td>1</td>\n",
       "      <td>37203</td>\n",
       "      <td>NASHVILLE</td>\n",
       "    </tr>\n",
       "    <tr>\n",
       "      <th>2422</th>\n",
       "      <td>2019-07-01 18:03:41.030</td>\n",
       "      <td>Bird</td>\n",
       "      <td>BRD1312</td>\n",
       "      <td>PoweredI53L5</td>\n",
       "      <td>4.000000</td>\n",
       "      <td>0.000000</td>\n",
       "      <td>2019-07-01 00:00:00</td>\n",
       "      <td>2021-10-26 18:00:17.993333</td>\n",
       "      <td>2019-07-01 00:00:00</td>\n",
       "      <td>18:04:21.176666</td>\n",
       "      <td>...</td>\n",
       "      <td>36.158500</td>\n",
       "      <td>-86.776900</td>\n",
       "      <td>[[36.156868,-86.780204],[36.156906,-86.780313]...</td>\n",
       "      <td>2019-07-02 05:31:11.057000</td>\n",
       "      <td>18</td>\n",
       "      <td>Monday</td>\n",
       "      <td>POINT (-86.78020 36.15680)</td>\n",
       "      <td>1</td>\n",
       "      <td>37203</td>\n",
       "      <td>NASHVILLE</td>\n",
       "    </tr>\n",
       "    <tr>\n",
       "      <th>2424</th>\n",
       "      <td>2019-07-01 18:03:41.030</td>\n",
       "      <td>Bird</td>\n",
       "      <td>BRD1310</td>\n",
       "      <td>PoweredALPMX</td>\n",
       "      <td>1.000000</td>\n",
       "      <td>0.000000</td>\n",
       "      <td>2019-07-01 00:00:00</td>\n",
       "      <td>2021-10-26 18:02:51.043333</td>\n",
       "      <td>2019-07-01 00:00:00</td>\n",
       "      <td>18:03:44.100000</td>\n",
       "      <td>...</td>\n",
       "      <td>36.143000</td>\n",
       "      <td>-86.768600</td>\n",
       "      <td>[[36.143003,-86.768578],[36.142949,-86.768647]...</td>\n",
       "      <td>2019-07-02 05:31:10.983000</td>\n",
       "      <td>18</td>\n",
       "      <td>Monday</td>\n",
       "      <td>POINT (-86.76850 36.14280)</td>\n",
       "      <td>1</td>\n",
       "      <td>37203</td>\n",
       "      <td>NASHVILLE</td>\n",
       "    </tr>\n",
       "    <tr>\n",
       "      <th>2429</th>\n",
       "      <td>2019-07-01 18:03:41.030</td>\n",
       "      <td>Bird</td>\n",
       "      <td>BRD1311</td>\n",
       "      <td>Powered4DVH5</td>\n",
       "      <td>4.000000</td>\n",
       "      <td>656.168000</td>\n",
       "      <td>2019-07-01 00:00:00</td>\n",
       "      <td>2021-10-26 18:00:39.000000</td>\n",
       "      <td>2019-07-01 00:00:00</td>\n",
       "      <td>18:04:56.383333</td>\n",
       "      <td>...</td>\n",
       "      <td>36.148900</td>\n",
       "      <td>-86.804600</td>\n",
       "      <td>[[36.150686,-86.804516],[36.150537,-86.804302]...</td>\n",
       "      <td>2019-07-02 05:31:11.027000</td>\n",
       "      <td>18</td>\n",
       "      <td>Monday</td>\n",
       "      <td>POINT (-86.80450 36.15060)</td>\n",
       "      <td>1</td>\n",
       "      <td>37203</td>\n",
       "      <td>NASHVILLE</td>\n",
       "    </tr>\n",
       "    <tr>\n",
       "      <th>2434</th>\n",
       "      <td>2019-07-01 18:06:10.763</td>\n",
       "      <td>Lyft</td>\n",
       "      <td>LFT370</td>\n",
       "      <td>Powered779308</td>\n",
       "      <td>3.795317</td>\n",
       "      <td>1686.351760</td>\n",
       "      <td>2019-07-01 00:00:00</td>\n",
       "      <td>2021-10-26 18:02:22.920000</td>\n",
       "      <td>2019-07-01 00:00:00</td>\n",
       "      <td>18:06:10.640000</td>\n",
       "      <td>...</td>\n",
       "      <td>36.159550</td>\n",
       "      <td>-86.788580</td>\n",
       "      <td>[[36.15599,-86.78587],[36.15606,-86.78579],[36...</td>\n",
       "      <td>2019-07-02 09:35:21.890000</td>\n",
       "      <td>18</td>\n",
       "      <td>Monday</td>\n",
       "      <td>POINT (-86.78587 36.15599)</td>\n",
       "      <td>1</td>\n",
       "      <td>37203</td>\n",
       "      <td>NASHVILLE</td>\n",
       "    </tr>\n",
       "    <tr>\n",
       "      <th>...</th>\n",
       "      <td>...</td>\n",
       "      <td>...</td>\n",
       "      <td>...</td>\n",
       "      <td>...</td>\n",
       "      <td>...</td>\n",
       "      <td>...</td>\n",
       "      <td>...</td>\n",
       "      <td>...</td>\n",
       "      <td>...</td>\n",
       "      <td>...</td>\n",
       "      <td>...</td>\n",
       "      <td>...</td>\n",
       "      <td>...</td>\n",
       "      <td>...</td>\n",
       "      <td>...</td>\n",
       "      <td>...</td>\n",
       "      <td>...</td>\n",
       "      <td>...</td>\n",
       "      <td>...</td>\n",
       "      <td>...</td>\n",
       "      <td>...</td>\n",
       "    </tr>\n",
       "    <tr>\n",
       "      <th>127250</th>\n",
       "      <td>2019-07-29 19:59:11.150</td>\n",
       "      <td>Lime</td>\n",
       "      <td>LIM821418</td>\n",
       "      <td>PoweredEJ7BPDG6IZ3Z6</td>\n",
       "      <td>39.000000</td>\n",
       "      <td>12889.933955</td>\n",
       "      <td>2019-07-29 00:00:00</td>\n",
       "      <td>2021-10-26 18:39:28.000000</td>\n",
       "      <td>2019-07-29 00:00:00</td>\n",
       "      <td>19:18:17</td>\n",
       "      <td>...</td>\n",
       "      <td>36.160095</td>\n",
       "      <td>-86.779269</td>\n",
       "      <td>[[36.14949,-86.81457],[36.14848,-86.81363],[36...</td>\n",
       "      <td>2019-07-30 09:34:03.410000</td>\n",
       "      <td>18</td>\n",
       "      <td>Monday</td>\n",
       "      <td>POINT (-86.81409 36.14935)</td>\n",
       "      <td>1</td>\n",
       "      <td>37203</td>\n",
       "      <td>NASHVILLE</td>\n",
       "    </tr>\n",
       "    <tr>\n",
       "      <th>127258</th>\n",
       "      <td>2019-07-29 19:59:11.163</td>\n",
       "      <td>Lime</td>\n",
       "      <td>LIM821426</td>\n",
       "      <td>PoweredXYF25YKNYLHGX</td>\n",
       "      <td>54.000000</td>\n",
       "      <td>724.058136</td>\n",
       "      <td>2019-07-29 00:00:00</td>\n",
       "      <td>2021-10-26 18:27:15.000000</td>\n",
       "      <td>2019-07-29 00:00:00</td>\n",
       "      <td>19:21:06</td>\n",
       "      <td>...</td>\n",
       "      <td>36.158545</td>\n",
       "      <td>-86.776502</td>\n",
       "      <td>[[36.15854,-86.77646],[36.15854,-86.7764],[36....</td>\n",
       "      <td>2019-07-30 09:34:03.657000</td>\n",
       "      <td>18</td>\n",
       "      <td>Monday</td>\n",
       "      <td>POINT (-86.77647 36.15864)</td>\n",
       "      <td>1</td>\n",
       "      <td>37203</td>\n",
       "      <td>NASHVILLE</td>\n",
       "    </tr>\n",
       "    <tr>\n",
       "      <th>127271</th>\n",
       "      <td>2019-07-29 19:59:11.203</td>\n",
       "      <td>Lime</td>\n",
       "      <td>LIM821439</td>\n",
       "      <td>PoweredVR4YLOE6SAY5T</td>\n",
       "      <td>86.000000</td>\n",
       "      <td>22549.402518</td>\n",
       "      <td>2019-07-29 00:00:00</td>\n",
       "      <td>2021-10-26 18:01:16.000000</td>\n",
       "      <td>2019-07-29 00:00:00</td>\n",
       "      <td>19:27:11</td>\n",
       "      <td>...</td>\n",
       "      <td>36.158924</td>\n",
       "      <td>-86.782391</td>\n",
       "      <td>[[36.14814,-86.7991],[36.14891,-86.79871999999...</td>\n",
       "      <td>2019-07-30 09:34:04.060000</td>\n",
       "      <td>18</td>\n",
       "      <td>Monday</td>\n",
       "      <td>POINT (-86.79933 36.14686)</td>\n",
       "      <td>1</td>\n",
       "      <td>37203</td>\n",
       "      <td>NASHVILLE</td>\n",
       "    </tr>\n",
       "    <tr>\n",
       "      <th>127278</th>\n",
       "      <td>2019-07-29 19:59:11.220</td>\n",
       "      <td>Lime</td>\n",
       "      <td>LIM821448</td>\n",
       "      <td>PoweredMJYTSRKL7J3UW</td>\n",
       "      <td>50.000000</td>\n",
       "      <td>3750.214418</td>\n",
       "      <td>2019-07-29 00:00:00</td>\n",
       "      <td>2021-10-26 18:41:12.000000</td>\n",
       "      <td>2019-07-29 00:00:00</td>\n",
       "      <td>19:31:08</td>\n",
       "      <td>...</td>\n",
       "      <td>36.151532</td>\n",
       "      <td>-86.799381</td>\n",
       "      <td>[[36.15386,-86.79854],[36.15489,-86.79752],[36...</td>\n",
       "      <td>2019-07-30 09:34:04.337000</td>\n",
       "      <td>18</td>\n",
       "      <td>Monday</td>\n",
       "      <td>POINT (-86.79777 36.15267)</td>\n",
       "      <td>1</td>\n",
       "      <td>37203</td>\n",
       "      <td>NASHVILLE</td>\n",
       "    </tr>\n",
       "    <tr>\n",
       "      <th>127336</th>\n",
       "      <td>2019-07-29 20:03:17.587</td>\n",
       "      <td>Bird</td>\n",
       "      <td>BRD1244</td>\n",
       "      <td>PoweredDWYF9</td>\n",
       "      <td>67.000000</td>\n",
       "      <td>23622.048000</td>\n",
       "      <td>2019-07-29 00:00:00</td>\n",
       "      <td>2021-10-26 18:57:27.290000</td>\n",
       "      <td>2019-07-29 00:00:00</td>\n",
       "      <td>20:04:26.246666</td>\n",
       "      <td>...</td>\n",
       "      <td>36.156100</td>\n",
       "      <td>-86.781300</td>\n",
       "      <td>[[36.155041,-86.782089],[36.155114,-86.782155]...</td>\n",
       "      <td>2019-07-30 05:31:15.260000</td>\n",
       "      <td>18</td>\n",
       "      <td>Monday</td>\n",
       "      <td>POINT (-86.78210 36.15500)</td>\n",
       "      <td>1</td>\n",
       "      <td>37203</td>\n",
       "      <td>NASHVILLE</td>\n",
       "    </tr>\n",
       "  </tbody>\n",
       "</table>\n",
       "<p>696 rows × 22 columns</p>\n",
       "</div>"
      ],
      "text/plain": [
       "                  pubTimeStamp companyName tripRecordNum  \\\n",
       "2410   2019-07-01 18:00:35.163        Lyft        LFT364   \n",
       "2422   2019-07-01 18:03:41.030        Bird       BRD1312   \n",
       "2424   2019-07-01 18:03:41.030        Bird       BRD1310   \n",
       "2429   2019-07-01 18:03:41.030        Bird       BRD1311   \n",
       "2434   2019-07-01 18:06:10.763        Lyft        LFT370   \n",
       "...                        ...         ...           ...   \n",
       "127250 2019-07-29 19:59:11.150        Lime     LIM821418   \n",
       "127258 2019-07-29 19:59:11.163        Lime     LIM821426   \n",
       "127271 2019-07-29 19:59:11.203        Lime     LIM821439   \n",
       "127278 2019-07-29 19:59:11.220        Lime     LIM821448   \n",
       "127336 2019-07-29 20:03:17.587        Bird       BRD1244   \n",
       "\n",
       "                      sumdID  tripDuration  tripDistance            startDate  \\\n",
       "2410           Powered487049      0.281383      0.000000  2019-07-01 00:00:00   \n",
       "2422            PoweredI53L5      4.000000      0.000000  2019-07-01 00:00:00   \n",
       "2424            PoweredALPMX      1.000000      0.000000  2019-07-01 00:00:00   \n",
       "2429            Powered4DVH5      4.000000    656.168000  2019-07-01 00:00:00   \n",
       "2434           Powered779308      3.795317   1686.351760  2019-07-01 00:00:00   \n",
       "...                      ...           ...           ...                  ...   \n",
       "127250  PoweredEJ7BPDG6IZ3Z6     39.000000  12889.933955  2019-07-29 00:00:00   \n",
       "127258  PoweredXYF25YKNYLHGX     54.000000    724.058136  2019-07-29 00:00:00   \n",
       "127271  PoweredVR4YLOE6SAY5T     86.000000  22549.402518  2019-07-29 00:00:00   \n",
       "127278  PoweredMJYTSRKL7J3UW     50.000000   3750.214418  2019-07-29 00:00:00   \n",
       "127336          PoweredDWYF9     67.000000  23622.048000  2019-07-29 00:00:00   \n",
       "\n",
       "                        startTime              endDate          endTime  ...  \\\n",
       "2410   2021-10-26 18:00:18.166666  2019-07-01 00:00:00  18:00:35.050000  ...   \n",
       "2422   2021-10-26 18:00:17.993333  2019-07-01 00:00:00  18:04:21.176666  ...   \n",
       "2424   2021-10-26 18:02:51.043333  2019-07-01 00:00:00  18:03:44.100000  ...   \n",
       "2429   2021-10-26 18:00:39.000000  2019-07-01 00:00:00  18:04:56.383333  ...   \n",
       "2434   2021-10-26 18:02:22.920000  2019-07-01 00:00:00  18:06:10.640000  ...   \n",
       "...                           ...                  ...              ...  ...   \n",
       "127250 2021-10-26 18:39:28.000000  2019-07-29 00:00:00         19:18:17  ...   \n",
       "127258 2021-10-26 18:27:15.000000  2019-07-29 00:00:00         19:21:06  ...   \n",
       "127271 2021-10-26 18:01:16.000000  2019-07-29 00:00:00         19:27:11  ...   \n",
       "127278 2021-10-26 18:41:12.000000  2019-07-29 00:00:00         19:31:08  ...   \n",
       "127336 2021-10-26 18:57:27.290000  2019-07-29 00:00:00  20:04:26.246666  ...   \n",
       "\n",
       "        endLatitude  endLongitude  \\\n",
       "2410      36.146420    -86.810010   \n",
       "2422      36.158500    -86.776900   \n",
       "2424      36.143000    -86.768600   \n",
       "2429      36.148900    -86.804600   \n",
       "2434      36.159550    -86.788580   \n",
       "...             ...           ...   \n",
       "127250    36.160095    -86.779269   \n",
       "127258    36.158545    -86.776502   \n",
       "127271    36.158924    -86.782391   \n",
       "127278    36.151532    -86.799381   \n",
       "127336    36.156100    -86.781300   \n",
       "\n",
       "                                                tripRoute  \\\n",
       "2410          [[36.14641,-86.81001],[36.14642,-86.81001]]   \n",
       "2422    [[36.156868,-86.780204],[36.156906,-86.780313]...   \n",
       "2424    [[36.143003,-86.768578],[36.142949,-86.768647]...   \n",
       "2429    [[36.150686,-86.804516],[36.150537,-86.804302]...   \n",
       "2434    [[36.15599,-86.78587],[36.15606,-86.78579],[36...   \n",
       "...                                                   ...   \n",
       "127250  [[36.14949,-86.81457],[36.14848,-86.81363],[36...   \n",
       "127258  [[36.15854,-86.77646],[36.15854,-86.7764],[36....   \n",
       "127271  [[36.14814,-86.7991],[36.14891,-86.79871999999...   \n",
       "127278  [[36.15386,-86.79854],[36.15489,-86.79752],[36...   \n",
       "127336  [[36.155041,-86.782089],[36.155114,-86.782155]...   \n",
       "\n",
       "                         create_dt hour weekday                    geometry  \\\n",
       "2410    2019-07-02 09:35:21.700000   18  Monday  POINT (-86.81001 36.14641)   \n",
       "2422    2019-07-02 05:31:11.057000   18  Monday  POINT (-86.78020 36.15680)   \n",
       "2424    2019-07-02 05:31:10.983000   18  Monday  POINT (-86.76850 36.14280)   \n",
       "2429    2019-07-02 05:31:11.027000   18  Monday  POINT (-86.80450 36.15060)   \n",
       "2434    2019-07-02 09:35:21.890000   18  Monday  POINT (-86.78587 36.15599)   \n",
       "...                            ...  ...     ...                         ...   \n",
       "127250  2019-07-30 09:34:03.410000   18  Monday  POINT (-86.81409 36.14935)   \n",
       "127258  2019-07-30 09:34:03.657000   18  Monday  POINT (-86.77647 36.15864)   \n",
       "127271  2019-07-30 09:34:04.060000   18  Monday  POINT (-86.79933 36.14686)   \n",
       "127278  2019-07-30 09:34:04.337000   18  Monday  POINT (-86.79777 36.15267)   \n",
       "127336  2019-07-30 05:31:15.260000   18  Monday  POINT (-86.78210 36.15500)   \n",
       "\n",
       "       index_right    zip    po_name  \n",
       "2410             1  37203  NASHVILLE  \n",
       "2422             1  37203  NASHVILLE  \n",
       "2424             1  37203  NASHVILLE  \n",
       "2429             1  37203  NASHVILLE  \n",
       "2434             1  37203  NASHVILLE  \n",
       "...            ...    ...        ...  \n",
       "127250           1  37203  NASHVILLE  \n",
       "127258           1  37203  NASHVILLE  \n",
       "127271           1  37203  NASHVILLE  \n",
       "127278           1  37203  NASHVILLE  \n",
       "127336           1  37203  NASHVILLE  \n",
       "\n",
       "[696 rows x 22 columns]"
      ]
     },
     "execution_count": 135,
     "metadata": {},
     "output_type": "execute_result"
    }
   ],
   "source": [
    "rides_by_zip.loc[(rides_by_zip['zip'] == '37203') & (rides_by_zip['hour'] == 18) & (rides_by_zip['weekday'] == 'Monday')]"
   ]
  },
  {
   "cell_type": "code",
   "execution_count": 184,
   "id": "92b53108",
   "metadata": {},
   "outputs": [
    {
     "name": "stderr",
     "output_type": "stream",
     "text": [
      "C:\\Users\\tomle\\AppData\\Local\\Temp/ipykernel_10584/3398288726.py:38: MatplotlibDeprecationWarning: Passing the pad parameter of tight_layout() positionally is deprecated since Matplotlib 3.3; the parameter will become keyword-only two minor releases later.\n",
      "  plt.tight_layout(1)\n"
     ]
    },
    {
     "data": {
      "image/png": "[encoded data removed]",
      "text/plain": [
       "<Figure size 1440x720 with 5 Axes>"
      ]
     },
     "metadata": {
      "needs_background": "light"
     },
     "output_type": "display_data"
    }
   ],
   "source": [
    "plt.figure(figsize=(20,10))\n",
    "\n",
    "plt.subplot(3,3,1)\n",
    "plt.hist(mon_df.hour, bins = 30, edgecolor = 'black')\n",
    "plt.xlabel('Hours of the Day')\n",
    "plt.ylabel('Rides')\n",
    "plt.title('Monday')\n",
    "plt.ylim([0, 3500])\n",
    "\n",
    "plt.subplot(3,3,2)\n",
    "plt.hist(tues_df.hour, bins = 30, edgecolor = 'black')\n",
    "plt.xlabel('Hours of the Day')\n",
    "plt.ylabel('Rides')\n",
    "plt.title('Tuesday')\n",
    "plt.ylim([0, 3500])\n",
    "\n",
    "plt.subplot(3,3,3)\n",
    "plt.hist(wed_df.hour, bins = 30, edgecolor = 'black')\n",
    "plt.xlabel('Hours of the Day')\n",
    "plt.ylabel('Rides')\n",
    "plt.title('Wednesday')\n",
    "plt.ylim([0, 3500])\n",
    "\n",
    "plt.subplot(3,3,4)\n",
    "plt.hist(thurs_df.hour, bins = 30, edgecolor = 'black')\n",
    "plt.xlabel('Hours of the Day')\n",
    "plt.ylabel('Rides')\n",
    "plt.title('Thursday')\n",
    "plt.ylim([0, 3500])\n",
    "\n",
    "plt.subplot(3,3,5)\n",
    "plt.hist(fri_df.hour, bins = 30, edgecolor = 'black')\n",
    "plt.xlabel('Hours of the Day')\n",
    "plt.ylabel('Rides')\n",
    "plt.title('Friday')\n",
    "plt.ylim([0, 3500])\n",
    "\n",
    "plt.tight_layout(1)\n",
    "\n",
    "\n"
   ]
  },
  {
   "cell_type": "code",
   "execution_count": null,
   "id": "92358a9d",
   "metadata": {},
   "outputs": [],
   "source": []
  }
 ],
 "metadata": {
  "kernelspec": {
   "display_name": "Python 3 (ipykernel)",
   "language": "python",
   "name": "python3"
  },
  "language_info": {
   "codemirror_mode": {
    "name": "ipython",
    "version": 3
   },
   "file_extension": ".py",
   "mimetype": "text/x-python",
   "name": "python",
   "nbconvert_exporter": "python",
   "pygments_lexer": "ipython3",
   "version": "3.8.5"
  }
 },
 "nbformat": 4,
 "nbformat_minor": 5
}
