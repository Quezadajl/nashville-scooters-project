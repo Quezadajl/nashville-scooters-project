{
 "cells": [
  {
   "cell_type": "code",
   "execution_count": 1,
   "id": "19fe757e",
   "metadata": {},
   "outputs": [],
   "source": [
    "import numpy as np\n",
    "import pandas as pd\n",
    "import geopandas as gpd\n",
    "import folium\n",
    "import datetime\n",
    "import pickle\n",
    "from shapely.geometry import Point"
   ]
  },
  {
   "cell_type": "code",
   "execution_count": 2,
   "id": "02fb296a",
   "metadata": {},
   "outputs": [
    {
     "name": "stdout",
     "output_type": "stream",
     "text": [
      "epsg:2274\n"
     ]
    }
   ],
   "source": [
    "promise_zone = gpd.read_file('../data/MDHA_Promise_Zones/Export_Output_5.shp')\n",
    "print(promise_zone.crs)"
   ]
  },
  {
   "cell_type": "code",
   "execution_count": 3,
   "id": "8b58d89f",
   "metadata": {},
   "outputs": [],
   "source": [
    "promise_zone = promise_zone.to_crs(epsg = 4326)"
   ]
  },
  {
   "cell_type": "code",
   "execution_count": 4,
   "id": "75d0e1bf",
   "metadata": {},
   "outputs": [],
   "source": [
    "# Import the file as a Pandas DataFrame\n",
    "fp = '../data/july.csv'\n",
    "july = pd.read_csv(fp)"
   ]
  },
  {
   "cell_type": "code",
   "execution_count": 5,
   "id": "ec5c4218",
   "metadata": {},
   "outputs": [],
   "source": [
    "company_dict = {'Bird':0, 'Lyft': 1, 'Gotcha': 2, 'Lime': 3, 'Spin': 4, 'Jump': 5, 'Bolt': 6}\n",
    "july.companyname = july.companyname.replace(company_dict)"
   ]
  },
  {
   "cell_type": "code",
   "execution_count": 6,
   "id": "3cf74411",
   "metadata": {},
   "outputs": [],
   "source": [
    "july.pubdatetime = pd.to_datetime(july['pubdatetime'])"
   ]
  },
  {
   "cell_type": "code",
   "execution_count": 7,
   "id": "e527383b",
   "metadata": {},
   "outputs": [],
   "source": [
    "july.to_pickle(\"../data/july.pkl\")"
   ]
  },
  {
   "cell_type": "code",
   "execution_count": 8,
   "id": "4fc15c5b",
   "metadata": {},
   "outputs": [],
   "source": [
    "july_scooters = july[['pubdatetime', 'latitude', 'longitude', 'sumdid', 'chargelevel', 'companyname']]"
   ]
  },
  {
   "cell_type": "code",
   "execution_count": 23,
   "id": "77e58faa",
   "metadata": {},
   "outputs": [
    {
     "ename": "AttributeError",
     "evalue": "'Series' object has no attribute 'strftime'",
     "output_type": "error",
     "traceback": [
      "\u001b[1;31m---------------------------------------------------------------------------\u001b[0m",
      "\u001b[1;31mAttributeError\u001b[0m                            Traceback (most recent call last)",
      "\u001b[1;32m~\\AppData\\Local\\Temp/ipykernel_12936/2164922207.py\u001b[0m in \u001b[0;36m<module>\u001b[1;34m\u001b[0m\n\u001b[1;32m----> 1\u001b[1;33m \u001b[0mjuly_scooters\u001b[0m\u001b[1;33m[\u001b[0m\u001b[1;34m'day_specific'\u001b[0m\u001b[1;33m]\u001b[0m \u001b[1;33m=\u001b[0m \u001b[0mjuly_scooters\u001b[0m\u001b[1;33m.\u001b[0m\u001b[0mpubdatetime\u001b[0m\u001b[1;33m.\u001b[0m\u001b[0mstrftime\u001b[0m\u001b[1;33m(\u001b[0m\u001b[1;34m'%d'\u001b[0m\u001b[1;33m)\u001b[0m\u001b[1;33m\u001b[0m\u001b[1;33m\u001b[0m\u001b[0m\n\u001b[0m",
      "\u001b[1;32m~\\anaconda3\\envs\\geo_env\\lib\\site-packages\\pandas\\core\\generic.py\u001b[0m in \u001b[0;36m__getattr__\u001b[1;34m(self, name)\u001b[0m\n\u001b[0;32m   5485\u001b[0m         ):\n\u001b[0;32m   5486\u001b[0m             \u001b[1;32mreturn\u001b[0m \u001b[0mself\u001b[0m\u001b[1;33m[\u001b[0m\u001b[0mname\u001b[0m\u001b[1;33m]\u001b[0m\u001b[1;33m\u001b[0m\u001b[1;33m\u001b[0m\u001b[0m\n\u001b[1;32m-> 5487\u001b[1;33m         \u001b[1;32mreturn\u001b[0m \u001b[0mobject\u001b[0m\u001b[1;33m.\u001b[0m\u001b[0m__getattribute__\u001b[0m\u001b[1;33m(\u001b[0m\u001b[0mself\u001b[0m\u001b[1;33m,\u001b[0m \u001b[0mname\u001b[0m\u001b[1;33m)\u001b[0m\u001b[1;33m\u001b[0m\u001b[1;33m\u001b[0m\u001b[0m\n\u001b[0m\u001b[0;32m   5488\u001b[0m \u001b[1;33m\u001b[0m\u001b[0m\n\u001b[0;32m   5489\u001b[0m     \u001b[1;32mdef\u001b[0m \u001b[0m__setattr__\u001b[0m\u001b[1;33m(\u001b[0m\u001b[0mself\u001b[0m\u001b[1;33m,\u001b[0m \u001b[0mname\u001b[0m\u001b[1;33m:\u001b[0m \u001b[0mstr\u001b[0m\u001b[1;33m,\u001b[0m \u001b[0mvalue\u001b[0m\u001b[1;33m)\u001b[0m \u001b[1;33m->\u001b[0m \u001b[1;32mNone\u001b[0m\u001b[1;33m:\u001b[0m\u001b[1;33m\u001b[0m\u001b[1;33m\u001b[0m\u001b[0m\n",
      "\u001b[1;31mAttributeError\u001b[0m: 'Series' object has no attribute 'strftime'"
     ]
    }
   ],
   "source": [
    "july_scooters['day_specific'] = july_scooters.pubdatetime.strftime('%d')"
   ]
  },
  {
   "cell_type": "code",
   "execution_count": 24,
   "id": "db9bd674",
   "metadata": {},
   "outputs": [
    {
     "name": "stderr",
     "output_type": "stream",
     "text": [
      "C:\\Users\\RMAUR\\AppData\\Local\\Temp/ipykernel_12936/2140293322.py:1: SettingWithCopyWarning: \n",
      "A value is trying to be set on a copy of a slice from a DataFrame.\n",
      "Try using .loc[row_indexer,col_indexer] = value instead\n",
      "\n",
      "See the caveats in the documentation: https://pandas.pydata.org/pandas-docs/stable/user_guide/indexing.html#returning-a-view-versus-a-copy\n",
      "  july_scooters['day'] = july_scooters['pubdatetime'].dt.day\n"
     ]
    }
   ],
   "source": [
    "july_scooters['day'] = july_scooters['pubdatetime'].dt.day\n"
   ]
  },
  {
   "cell_type": "code",
   "execution_count": 26,
   "id": "96d635ea",
   "metadata": {},
   "outputs": [
    {
     "data": {
      "text/html": [
       "<div>\n",
       "<style scoped>\n",
       "    .dataframe tbody tr th:only-of-type {\n",
       "        vertical-align: middle;\n",
       "    }\n",
       "\n",
       "    .dataframe tbody tr th {\n",
       "        vertical-align: top;\n",
       "    }\n",
       "\n",
       "    .dataframe thead th {\n",
       "        text-align: right;\n",
       "    }\n",
       "</style>\n",
       "<table border=\"1\" class=\"dataframe\">\n",
       "  <thead>\n",
       "    <tr style=\"text-align: right;\">\n",
       "      <th></th>\n",
       "      <th>pubdatetime</th>\n",
       "      <th>latitude</th>\n",
       "      <th>longitude</th>\n",
       "      <th>sumdid</th>\n",
       "      <th>chargelevel</th>\n",
       "      <th>companyname</th>\n",
       "      <th>splice</th>\n",
       "      <th>day</th>\n",
       "    </tr>\n",
       "  </thead>\n",
       "  <tbody>\n",
       "    <tr>\n",
       "      <th>25075440</th>\n",
       "      <td>2019-07-31 23:59:57</td>\n",
       "      <td>36.162420</td>\n",
       "      <td>-86.779314</td>\n",
       "      <td>Powered-1a8321d0-5c21-04a4-bd7d-7b96ba51f17b</td>\n",
       "      <td>100.00</td>\n",
       "      <td>6</td>\n",
       "      <td>0          2019-07-01 00:00:33.550\\n1         ...</td>\n",
       "      <td>31</td>\n",
       "    </tr>\n",
       "    <tr>\n",
       "      <th>25075441</th>\n",
       "      <td>2019-07-31 23:59:57</td>\n",
       "      <td>36.146010</td>\n",
       "      <td>-86.810197</td>\n",
       "      <td>Powered-bd4ba83b-513f-ed5c-3c51-b4f51e7fdc51</td>\n",
       "      <td>100.00</td>\n",
       "      <td>6</td>\n",
       "      <td>0          2019-07-01 00:00:33.550\\n1         ...</td>\n",
       "      <td>31</td>\n",
       "    </tr>\n",
       "    <tr>\n",
       "      <th>25075442</th>\n",
       "      <td>2019-07-31 23:59:57</td>\n",
       "      <td>36.165837</td>\n",
       "      <td>-86.777765</td>\n",
       "      <td>Powered-cc9c0b7e-2b9e-def9-e48b-1a8a489c4daf</td>\n",
       "      <td>71.68</td>\n",
       "      <td>6</td>\n",
       "      <td>0          2019-07-01 00:00:33.550\\n1         ...</td>\n",
       "      <td>31</td>\n",
       "    </tr>\n",
       "    <tr>\n",
       "      <th>25075443</th>\n",
       "      <td>2019-07-31 23:59:57</td>\n",
       "      <td>36.149792</td>\n",
       "      <td>-86.806818</td>\n",
       "      <td>Powered-55a7ac02-7e17-bb3b-130d-b160d9776405</td>\n",
       "      <td>0.00</td>\n",
       "      <td>6</td>\n",
       "      <td>0          2019-07-01 00:00:33.550\\n1         ...</td>\n",
       "      <td>31</td>\n",
       "    </tr>\n",
       "    <tr>\n",
       "      <th>25075444</th>\n",
       "      <td>2019-07-31 23:59:57</td>\n",
       "      <td>36.162644</td>\n",
       "      <td>-86.779345</td>\n",
       "      <td>Powered-03be23ca-d43b-222f-be54-e44b5b4690df</td>\n",
       "      <td>100.00</td>\n",
       "      <td>6</td>\n",
       "      <td>0          2019-07-01 00:00:33.550\\n1         ...</td>\n",
       "      <td>31</td>\n",
       "    </tr>\n",
       "  </tbody>\n",
       "</table>\n",
       "</div>"
      ],
      "text/plain": [
       "                 pubdatetime   latitude  longitude  \\\n",
       "25075440 2019-07-31 23:59:57  36.162420 -86.779314   \n",
       "25075441 2019-07-31 23:59:57  36.146010 -86.810197   \n",
       "25075442 2019-07-31 23:59:57  36.165837 -86.777765   \n",
       "25075443 2019-07-31 23:59:57  36.149792 -86.806818   \n",
       "25075444 2019-07-31 23:59:57  36.162644 -86.779345   \n",
       "\n",
       "                                                sumdid  chargelevel  \\\n",
       "25075440  Powered-1a8321d0-5c21-04a4-bd7d-7b96ba51f17b       100.00   \n",
       "25075441  Powered-bd4ba83b-513f-ed5c-3c51-b4f51e7fdc51       100.00   \n",
       "25075442  Powered-cc9c0b7e-2b9e-def9-e48b-1a8a489c4daf        71.68   \n",
       "25075443  Powered-55a7ac02-7e17-bb3b-130d-b160d9776405         0.00   \n",
       "25075444  Powered-03be23ca-d43b-222f-be54-e44b5b4690df       100.00   \n",
       "\n",
       "          companyname                                             splice  day  \n",
       "25075440            6  0          2019-07-01 00:00:33.550\\n1         ...   31  \n",
       "25075441            6  0          2019-07-01 00:00:33.550\\n1         ...   31  \n",
       "25075442            6  0          2019-07-01 00:00:33.550\\n1         ...   31  \n",
       "25075443            6  0          2019-07-01 00:00:33.550\\n1         ...   31  \n",
       "25075444            6  0          2019-07-01 00:00:33.550\\n1         ...   31  "
      ]
     },
     "execution_count": 26,
     "metadata": {},
     "output_type": "execute_result"
    }
   ],
   "source": [
    "july_scooters.tail()"
   ]
  },
  {
   "cell_type": "code",
   "execution_count": null,
   "id": "cc2b625b",
   "metadata": {},
   "outputs": [],
   "source": []
  }
 ],
 "metadata": {
  "kernelspec": {
   "display_name": "Python 3 (ipykernel)",
   "language": "python",
   "name": "python3"
  },
  "language_info": {
   "codemirror_mode": {
    "name": "ipython",
    "version": 3
   },
   "file_extension": ".py",
   "mimetype": "text/x-python",
   "name": "python",
   "nbconvert_exporter": "python",
   "pygments_lexer": "ipython3",
   "version": "3.9.7"
  }
 },
 "nbformat": 4,
 "nbformat_minor": 5
}
