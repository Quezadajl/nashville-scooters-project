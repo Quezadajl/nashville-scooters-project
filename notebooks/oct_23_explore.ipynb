{
 "cells": [
  {
   "cell_type": "code",
   "execution_count": 42,
   "id": "fa538bd5",
   "metadata": {},
   "outputs": [],
   "source": [
    "import numpy as np\n",
    "import pandas as pd\n",
    "import geopandas as gpd\n",
    "import folium\n",
    "import datetime\n",
    "import pickle\n",
    "from shapely.geometry import Point\n",
    "from shapely.geometry import Polygon\n",
    "import matplotlib as plt"
   ]
  },
  {
   "cell_type": "code",
   "execution_count": 2,
   "id": "95873876",
   "metadata": {},
   "outputs": [
    {
     "name": "stdout",
     "output_type": "stream",
     "text": [
      "epsg:2274\n"
     ]
    }
   ],
   "source": [
    "promise_zone = gpd.read_file('../data/MDHA_Promise_Zones/Export_Output_5.shp')\n",
    "print(promise_zone.crs)"
   ]
  },
  {
   "cell_type": "code",
   "execution_count": 3,
   "id": "0f21371a",
   "metadata": {},
   "outputs": [],
   "source": [
    "promise_zone = promise_zone.to_crs(epsg = 4326)"
   ]
  },
  {
   "cell_type": "code",
   "execution_count": 4,
   "id": "533bcb6b",
   "metadata": {},
   "outputs": [],
   "source": [
    "# Import the file as a Pandas DataFrame\n",
    "fp = '../data/july.csv'\n",
    "july = pd.read_csv(fp)"
   ]
  },
  {
   "cell_type": "code",
   "execution_count": 5,
   "id": "abe2f57c",
   "metadata": {},
   "outputs": [],
   "source": [
    "company_dict = {'Bird':0, 'Lyft': 1, 'Gotcha': 2, 'Lime': 3, 'Spin': 4, 'Jump': 5, 'Bolt': 6}\n",
    "july.companyname = july.companyname.replace(company_dict)"
   ]
  },
  {
   "cell_type": "code",
   "execution_count": 6,
   "id": "091c152a",
   "metadata": {},
   "outputs": [],
   "source": [
    "july.pubdatetime = pd.to_datetime(july['pubdatetime'])"
   ]
  },
  {
   "cell_type": "code",
   "execution_count": 7,
   "id": "86661adc",
   "metadata": {},
   "outputs": [],
   "source": [
    "july.to_pickle(\"../data/july.pkl\")"
   ]
  },
  {
   "cell_type": "code",
   "execution_count": 8,
   "id": "7f402917",
   "metadata": {},
   "outputs": [],
   "source": [
    "july_scooters = july[['pubdatetime', 'latitude', 'longitude', 'sumdid', 'chargelevel', 'companyname']]"
   ]
  },
  {
   "cell_type": "code",
   "execution_count": 9,
   "id": "6122d71d",
   "metadata": {},
   "outputs": [
    {
     "data": {
      "text/html": [
       "<div>\n",
       "<style scoped>\n",
       "    .dataframe tbody tr th:only-of-type {\n",
       "        vertical-align: middle;\n",
       "    }\n",
       "\n",
       "    .dataframe tbody tr th {\n",
       "        vertical-align: top;\n",
       "    }\n",
       "\n",
       "    .dataframe thead th {\n",
       "        text-align: right;\n",
       "    }\n",
       "</style>\n",
       "<table border=\"1\" class=\"dataframe\">\n",
       "  <thead>\n",
       "    <tr style=\"text-align: right;\">\n",
       "      <th></th>\n",
       "      <th>pubdatetime</th>\n",
       "      <th>latitude</th>\n",
       "      <th>longitude</th>\n",
       "      <th>sumdid</th>\n",
       "      <th>chargelevel</th>\n",
       "      <th>companyname</th>\n",
       "    </tr>\n",
       "  </thead>\n",
       "  <tbody>\n",
       "    <tr>\n",
       "      <th>25075440</th>\n",
       "      <td>2019-07-31 23:59:57</td>\n",
       "      <td>36.162420</td>\n",
       "      <td>-86.779314</td>\n",
       "      <td>Powered-1a8321d0-5c21-04a4-bd7d-7b96ba51f17b</td>\n",
       "      <td>100.00</td>\n",
       "      <td>6</td>\n",
       "    </tr>\n",
       "    <tr>\n",
       "      <th>25075441</th>\n",
       "      <td>2019-07-31 23:59:57</td>\n",
       "      <td>36.146010</td>\n",
       "      <td>-86.810197</td>\n",
       "      <td>Powered-bd4ba83b-513f-ed5c-3c51-b4f51e7fdc51</td>\n",
       "      <td>100.00</td>\n",
       "      <td>6</td>\n",
       "    </tr>\n",
       "    <tr>\n",
       "      <th>25075442</th>\n",
       "      <td>2019-07-31 23:59:57</td>\n",
       "      <td>36.165837</td>\n",
       "      <td>-86.777765</td>\n",
       "      <td>Powered-cc9c0b7e-2b9e-def9-e48b-1a8a489c4daf</td>\n",
       "      <td>71.68</td>\n",
       "      <td>6</td>\n",
       "    </tr>\n",
       "    <tr>\n",
       "      <th>25075443</th>\n",
       "      <td>2019-07-31 23:59:57</td>\n",
       "      <td>36.149792</td>\n",
       "      <td>-86.806818</td>\n",
       "      <td>Powered-55a7ac02-7e17-bb3b-130d-b160d9776405</td>\n",
       "      <td>0.00</td>\n",
       "      <td>6</td>\n",
       "    </tr>\n",
       "    <tr>\n",
       "      <th>25075444</th>\n",
       "      <td>2019-07-31 23:59:57</td>\n",
       "      <td>36.162644</td>\n",
       "      <td>-86.779345</td>\n",
       "      <td>Powered-03be23ca-d43b-222f-be54-e44b5b4690df</td>\n",
       "      <td>100.00</td>\n",
       "      <td>6</td>\n",
       "    </tr>\n",
       "  </tbody>\n",
       "</table>\n",
       "</div>"
      ],
      "text/plain": [
       "                 pubdatetime   latitude  longitude  \\\n",
       "25075440 2019-07-31 23:59:57  36.162420 -86.779314   \n",
       "25075441 2019-07-31 23:59:57  36.146010 -86.810197   \n",
       "25075442 2019-07-31 23:59:57  36.165837 -86.777765   \n",
       "25075443 2019-07-31 23:59:57  36.149792 -86.806818   \n",
       "25075444 2019-07-31 23:59:57  36.162644 -86.779345   \n",
       "\n",
       "                                                sumdid  chargelevel  \\\n",
       "25075440  Powered-1a8321d0-5c21-04a4-bd7d-7b96ba51f17b       100.00   \n",
       "25075441  Powered-bd4ba83b-513f-ed5c-3c51-b4f51e7fdc51       100.00   \n",
       "25075442  Powered-cc9c0b7e-2b9e-def9-e48b-1a8a489c4daf        71.68   \n",
       "25075443  Powered-55a7ac02-7e17-bb3b-130d-b160d9776405         0.00   \n",
       "25075444  Powered-03be23ca-d43b-222f-be54-e44b5b4690df       100.00   \n",
       "\n",
       "          companyname  \n",
       "25075440            6  \n",
       "25075441            6  \n",
       "25075442            6  \n",
       "25075443            6  \n",
       "25075444            6  "
      ]
     },
     "execution_count": 9,
     "metadata": {},
     "output_type": "execute_result"
    }
   ],
   "source": [
    "july_scooters.tail()"
   ]
  },
  {
   "cell_type": "code",
   "execution_count": 10,
   "id": "14c774e3",
   "metadata": {},
   "outputs": [
    {
     "name": "stderr",
     "output_type": "stream",
     "text": [
      "C:\\Users\\RMAUR\\AppData\\Local\\Temp/ipykernel_4336/1348184122.py:1: SettingWithCopyWarning: \n",
      "A value is trying to be set on a copy of a slice from a DataFrame.\n",
      "Try using .loc[row_indexer,col_indexer] = value instead\n",
      "\n",
      "See the caveats in the documentation: https://pandas.pydata.org/pandas-docs/stable/user_guide/indexing.html#returning-a-view-versus-a-copy\n",
      "  july_scooters['geometry'] = july_scooters.apply(lambda x: Point((x.longitude,x.latitude)),\n"
     ]
    }
   ],
   "source": [
    "july_scooters['geometry'] = july_scooters.apply(lambda x: Point((x.longitude,x.latitude)),\n",
    "                                        axis=1)"
   ]
  },
  {
   "cell_type": "code",
   "execution_count": 11,
   "id": "60e9128a",
   "metadata": {
    "scrolled": true
   },
   "outputs": [
    {
     "name": "stderr",
     "output_type": "stream",
     "text": [
      "C:\\Users\\RMAUR\\AppData\\Local\\Temp/ipykernel_4336/2140293322.py:1: SettingWithCopyWarning: \n",
      "A value is trying to be set on a copy of a slice from a DataFrame.\n",
      "Try using .loc[row_indexer,col_indexer] = value instead\n",
      "\n",
      "See the caveats in the documentation: https://pandas.pydata.org/pandas-docs/stable/user_guide/indexing.html#returning-a-view-versus-a-copy\n",
      "  july_scooters['day'] = july_scooters['pubdatetime'].dt.day\n"
     ]
    }
   ],
   "source": [
    "july_scooters['day'] = july_scooters['pubdatetime'].dt.day\n"
   ]
  },
  {
   "cell_type": "code",
   "execution_count": 13,
   "id": "7b79b23d",
   "metadata": {},
   "outputs": [
    {
     "data": {
      "text/html": [
       "<div>\n",
       "<style scoped>\n",
       "    .dataframe tbody tr th:only-of-type {\n",
       "        vertical-align: middle;\n",
       "    }\n",
       "\n",
       "    .dataframe tbody tr th {\n",
       "        vertical-align: top;\n",
       "    }\n",
       "\n",
       "    .dataframe thead th {\n",
       "        text-align: right;\n",
       "    }\n",
       "</style>\n",
       "<table border=\"1\" class=\"dataframe\">\n",
       "  <thead>\n",
       "    <tr style=\"text-align: right;\">\n",
       "      <th></th>\n",
       "      <th>pubdatetime</th>\n",
       "      <th>latitude</th>\n",
       "      <th>longitude</th>\n",
       "      <th>sumdid</th>\n",
       "      <th>chargelevel</th>\n",
       "      <th>companyname</th>\n",
       "      <th>geometry</th>\n",
       "      <th>day</th>\n",
       "    </tr>\n",
       "  </thead>\n",
       "  <tbody>\n",
       "    <tr>\n",
       "      <th>0</th>\n",
       "      <td>2019-07-01 00:00:33.550</td>\n",
       "      <td>36.156678</td>\n",
       "      <td>-86.809004</td>\n",
       "      <td>Powered635135</td>\n",
       "      <td>22.0</td>\n",
       "      <td>1</td>\n",
       "      <td>POINT (-86.809004 36.156678)</td>\n",
       "      <td>1</td>\n",
       "    </tr>\n",
       "    <tr>\n",
       "      <th>1</th>\n",
       "      <td>2019-07-01 00:00:34.973</td>\n",
       "      <td>36.145674</td>\n",
       "      <td>-86.794138</td>\n",
       "      <td>Powered790946</td>\n",
       "      <td>33.0</td>\n",
       "      <td>1</td>\n",
       "      <td>POINT (-86.794138 36.145674)</td>\n",
       "      <td>1</td>\n",
       "    </tr>\n",
       "    <tr>\n",
       "      <th>2</th>\n",
       "      <td>2019-07-01 00:00:41.183</td>\n",
       "      <td>36.179319</td>\n",
       "      <td>-86.751538</td>\n",
       "      <td>Powered570380</td>\n",
       "      <td>76.0</td>\n",
       "      <td>1</td>\n",
       "      <td>POINT (-86.751538 36.179319)</td>\n",
       "      <td>1</td>\n",
       "    </tr>\n",
       "    <tr>\n",
       "      <th>3</th>\n",
       "      <td>2019-07-01 00:00:41.620</td>\n",
       "      <td>36.152111</td>\n",
       "      <td>-86.803821</td>\n",
       "      <td>Powered240631</td>\n",
       "      <td>43.0</td>\n",
       "      <td>1</td>\n",
       "      <td>POINT (-86.803821 36.152111)</td>\n",
       "      <td>1</td>\n",
       "    </tr>\n",
       "    <tr>\n",
       "      <th>4</th>\n",
       "      <td>2019-07-01 00:00:45.087</td>\n",
       "      <td>36.149355</td>\n",
       "      <td>-86.797550</td>\n",
       "      <td>Powered970404</td>\n",
       "      <td>52.0</td>\n",
       "      <td>1</td>\n",
       "      <td>POINT (-86.79755 36.149355)</td>\n",
       "      <td>1</td>\n",
       "    </tr>\n",
       "  </tbody>\n",
       "</table>\n",
       "</div>"
      ],
      "text/plain": [
       "              pubdatetime   latitude  longitude         sumdid  chargelevel  \\\n",
       "0 2019-07-01 00:00:33.550  36.156678 -86.809004  Powered635135         22.0   \n",
       "1 2019-07-01 00:00:34.973  36.145674 -86.794138  Powered790946         33.0   \n",
       "2 2019-07-01 00:00:41.183  36.179319 -86.751538  Powered570380         76.0   \n",
       "3 2019-07-01 00:00:41.620  36.152111 -86.803821  Powered240631         43.0   \n",
       "4 2019-07-01 00:00:45.087  36.149355 -86.797550  Powered970404         52.0   \n",
       "\n",
       "   companyname                      geometry  day  \n",
       "0            1  POINT (-86.809004 36.156678)    1  \n",
       "1            1  POINT (-86.794138 36.145674)    1  \n",
       "2            1  POINT (-86.751538 36.179319)    1  \n",
       "3            1  POINT (-86.803821 36.152111)    1  \n",
       "4            1   POINT (-86.79755 36.149355)    1  "
      ]
     },
     "execution_count": 13,
     "metadata": {},
     "output_type": "execute_result"
    }
   ],
   "source": [
    "  july_scooters.head()"
   ]
  },
  {
   "cell_type": "code",
   "execution_count": 15,
   "id": "5ea44551",
   "metadata": {},
   "outputs": [],
   "source": [
    "july_scooters = gpd.GeoDataFrame(july_scooters,crs=promise_zone.crs,geometry=july_scooters.geometry)"
   ]
  },
  {
   "cell_type": "code",
   "execution_count": 16,
   "id": "fc3e97f4",
   "metadata": {},
   "outputs": [],
   "source": [
    "xmin, ymin, xmax, ymax = july_scooters.total_bounds"
   ]
  },
  {
   "cell_type": "code",
   "execution_count": 17,
   "id": "0334377d",
   "metadata": {},
   "outputs": [],
   "source": [
    "july_scooters = july_scooters[['pubdatetime', 'latitude', 'longitude', 'sumdid', 'geometry','day']]"
   ]
  },
  {
   "cell_type": "code",
   "execution_count": 18,
   "id": "8721bc6f",
   "metadata": {},
   "outputs": [
    {
     "data": {
      "text/html": [
       "<div>\n",
       "<style scoped>\n",
       "    .dataframe tbody tr th:only-of-type {\n",
       "        vertical-align: middle;\n",
       "    }\n",
       "\n",
       "    .dataframe tbody tr th {\n",
       "        vertical-align: top;\n",
       "    }\n",
       "\n",
       "    .dataframe thead th {\n",
       "        text-align: right;\n",
       "    }\n",
       "</style>\n",
       "<table border=\"1\" class=\"dataframe\">\n",
       "  <thead>\n",
       "    <tr style=\"text-align: right;\">\n",
       "      <th></th>\n",
       "      <th>pubdatetime</th>\n",
       "      <th>latitude</th>\n",
       "      <th>longitude</th>\n",
       "      <th>sumdid</th>\n",
       "      <th>geometry</th>\n",
       "      <th>day</th>\n",
       "    </tr>\n",
       "  </thead>\n",
       "  <tbody>\n",
       "    <tr>\n",
       "      <th>0</th>\n",
       "      <td>2019-07-01 00:00:33.550</td>\n",
       "      <td>36.156678</td>\n",
       "      <td>-86.809004</td>\n",
       "      <td>Powered635135</td>\n",
       "      <td>POINT (-86.80900 36.15668)</td>\n",
       "      <td>1</td>\n",
       "    </tr>\n",
       "    <tr>\n",
       "      <th>1</th>\n",
       "      <td>2019-07-01 00:00:34.973</td>\n",
       "      <td>36.145674</td>\n",
       "      <td>-86.794138</td>\n",
       "      <td>Powered790946</td>\n",
       "      <td>POINT (-86.79414 36.14567)</td>\n",
       "      <td>1</td>\n",
       "    </tr>\n",
       "    <tr>\n",
       "      <th>2</th>\n",
       "      <td>2019-07-01 00:00:41.183</td>\n",
       "      <td>36.179319</td>\n",
       "      <td>-86.751538</td>\n",
       "      <td>Powered570380</td>\n",
       "      <td>POINT (-86.75154 36.17932)</td>\n",
       "      <td>1</td>\n",
       "    </tr>\n",
       "    <tr>\n",
       "      <th>3</th>\n",
       "      <td>2019-07-01 00:00:41.620</td>\n",
       "      <td>36.152111</td>\n",
       "      <td>-86.803821</td>\n",
       "      <td>Powered240631</td>\n",
       "      <td>POINT (-86.80382 36.15211)</td>\n",
       "      <td>1</td>\n",
       "    </tr>\n",
       "    <tr>\n",
       "      <th>4</th>\n",
       "      <td>2019-07-01 00:00:45.087</td>\n",
       "      <td>36.149355</td>\n",
       "      <td>-86.797550</td>\n",
       "      <td>Powered970404</td>\n",
       "      <td>POINT (-86.79755 36.14935)</td>\n",
       "      <td>1</td>\n",
       "    </tr>\n",
       "  </tbody>\n",
       "</table>\n",
       "</div>"
      ],
      "text/plain": [
       "              pubdatetime   latitude  longitude         sumdid  \\\n",
       "0 2019-07-01 00:00:33.550  36.156678 -86.809004  Powered635135   \n",
       "1 2019-07-01 00:00:34.973  36.145674 -86.794138  Powered790946   \n",
       "2 2019-07-01 00:00:41.183  36.179319 -86.751538  Powered570380   \n",
       "3 2019-07-01 00:00:41.620  36.152111 -86.803821  Powered240631   \n",
       "4 2019-07-01 00:00:45.087  36.149355 -86.797550  Powered970404   \n",
       "\n",
       "                     geometry  day  \n",
       "0  POINT (-86.80900 36.15668)    1  \n",
       "1  POINT (-86.79414 36.14567)    1  \n",
       "2  POINT (-86.75154 36.17932)    1  \n",
       "3  POINT (-86.80382 36.15211)    1  \n",
       "4  POINT (-86.79755 36.14935)    1  "
      ]
     },
     "execution_count": 18,
     "metadata": {},
     "output_type": "execute_result"
    }
   ],
   "source": [
    "july_scooters.head()"
   ]
  },
  {
   "cell_type": "code",
   "execution_count": 27,
   "id": "e7e9d433",
   "metadata": {},
   "outputs": [],
   "source": [
    "##creating grid shape\n",
    "\n",
    "xmin, ymin, xmax, ymax = july_scooters.total_bounds\n",
    "\n",
    "length = 1000\n",
    "wide = 1200\n",
    "\n",
    "cols = list(np.arange(xmin, xmax + wide, wide))\n",
    "rows = list(np.arange(ymin, ymax + length, length))\n",
    "\n",
    "polygons = []\n",
    "for x in cols[:-1]:\n",
    "    for y in rows[:-1]:\n",
    "        polygons.append(Polygon([(x,y), (x+wide, y), (x+wide, y+length), (x, y+length)]))\n",
    "\n",
    "grid = gpd.GeoDataFrame({'geometry':polygons})\n",
    "grid.to_file(\"grid.shp\")"
   ]
  },
  {
   "cell_type": "code",
   "execution_count": 26,
   "id": "f90e2b28",
   "metadata": {},
   "outputs": [
    {
     "data": {
      "text/html": [
       "<div>\n",
       "<style scoped>\n",
       "    .dataframe tbody tr th:only-of-type {\n",
       "        vertical-align: middle;\n",
       "    }\n",
       "\n",
       "    .dataframe tbody tr th {\n",
       "        vertical-align: top;\n",
       "    }\n",
       "\n",
       "    .dataframe thead th {\n",
       "        text-align: right;\n",
       "    }\n",
       "</style>\n",
       "<table border=\"1\" class=\"dataframe\">\n",
       "  <thead>\n",
       "    <tr style=\"text-align: right;\">\n",
       "      <th></th>\n",
       "      <th>geometry</th>\n",
       "    </tr>\n",
       "  </thead>\n",
       "  <tbody>\n",
       "    <tr>\n",
       "      <th>0</th>\n",
       "      <td>POLYGON ((-97.444 0.000, 1102.556 0.000, 1102....</td>\n",
       "    </tr>\n",
       "    <tr>\n",
       "      <th>1</th>\n",
       "      <td>POLYGON ((-97.444 1000.000, 1102.556 1000.000,...</td>\n",
       "    </tr>\n",
       "    <tr>\n",
       "      <th>2</th>\n",
       "      <td>POLYGON ((-97.444 2000.000, 1102.556 2000.000,...</td>\n",
       "    </tr>\n",
       "    <tr>\n",
       "      <th>3</th>\n",
       "      <td>POLYGON ((-97.444 3000.000, 1102.556 3000.000,...</td>\n",
       "    </tr>\n",
       "    <tr>\n",
       "      <th>4</th>\n",
       "      <td>POLYGON ((-97.444 4000.000, 1102.556 4000.000,...</td>\n",
       "    </tr>\n",
       "  </tbody>\n",
       "</table>\n",
       "</div>"
      ],
      "text/plain": [
       "                                            geometry\n",
       "0  POLYGON ((-97.444 0.000, 1102.556 0.000, 1102....\n",
       "1  POLYGON ((-97.444 1000.000, 1102.556 1000.000,...\n",
       "2  POLYGON ((-97.444 2000.000, 1102.556 2000.000,...\n",
       "3  POLYGON ((-97.444 3000.000, 1102.556 3000.000,...\n",
       "4  POLYGON ((-97.444 4000.000, 1102.556 4000.000,..."
      ]
     },
     "execution_count": 26,
     "metadata": {},
     "output_type": "execute_result"
    }
   ],
   "source": [
    "grid.head()"
   ]
  },
  {
   "cell_type": "code",
   "execution_count": 29,
   "id": "f2794bbd",
   "metadata": {},
   "outputs": [],
   "source": [
    "promise_zone = promise_zone.to_crs(epsg = 3857)"
   ]
  },
  {
   "cell_type": "code",
   "execution_count": 54,
   "id": "a44bd82b",
   "metadata": {},
   "outputs": [],
   "source": [
    "polygon_zone_5 = promise_zone.loc[promise_zone['ZONE_ID']==5]"
   ]
  },
  {
   "cell_type": "code",
   "execution_count": 30,
   "id": "806f283d",
   "metadata": {},
   "outputs": [],
   "source": [
    "july_scooters = july_scooters.to_crs(epsg = 3857)"
   ]
  },
  {
   "cell_type": "code",
   "execution_count": 130,
   "id": "2cb751f5",
   "metadata": {},
   "outputs": [
    {
     "name": "stderr",
     "output_type": "stream",
     "text": [
      "C:\\Users\\RMAUR\\anaconda3\\envs\\geo_env\\lib\\site-packages\\IPython\\core\\interactiveshell.py:3364: FutureWarning: The `op` parameter is deprecated and will be removed in a future release. Please use the `predicate` parameter instead.\n",
      "  if (await self.run_code(code, result,  async_=asy)):\n"
     ]
    }
   ],
   "source": [
    "scooters_by_zone = gpd.sjoin( july_scooters,promise_zone, op = 'within')"
   ]
  },
  {
   "cell_type": "code",
   "execution_count": 131,
   "id": "570a326c",
   "metadata": {},
   "outputs": [
    {
     "data": {
      "text/html": [
       "<div>\n",
       "<style scoped>\n",
       "    .dataframe tbody tr th:only-of-type {\n",
       "        vertical-align: middle;\n",
       "    }\n",
       "\n",
       "    .dataframe tbody tr th {\n",
       "        vertical-align: top;\n",
       "    }\n",
       "\n",
       "    .dataframe thead th {\n",
       "        text-align: right;\n",
       "    }\n",
       "</style>\n",
       "<table border=\"1\" class=\"dataframe\">\n",
       "  <thead>\n",
       "    <tr style=\"text-align: right;\">\n",
       "      <th></th>\n",
       "      <th>pubdatetime</th>\n",
       "      <th>latitude</th>\n",
       "      <th>longitude</th>\n",
       "      <th>sumdid</th>\n",
       "      <th>geometry</th>\n",
       "      <th>day</th>\n",
       "      <th>index_right</th>\n",
       "      <th>OBJECTID</th>\n",
       "      <th>ZONE_ID</th>\n",
       "      <th>SHAPE_STAr</th>\n",
       "      <th>SHAPE_STLe</th>\n",
       "    </tr>\n",
       "  </thead>\n",
       "  <tbody>\n",
       "    <tr>\n",
       "      <th>0</th>\n",
       "      <td>2019-07-01 00:00:33.550</td>\n",
       "      <td>36.156678</td>\n",
       "      <td>-86.809004</td>\n",
       "      <td>Powered635135</td>\n",
       "      <td>POINT (-9663534.122 4322201.495)</td>\n",
       "      <td>1</td>\n",
       "      <td>4</td>\n",
       "      <td>5</td>\n",
       "      <td>5</td>\n",
       "      <td>3.928178e+08</td>\n",
       "      <td>106661.712102</td>\n",
       "    </tr>\n",
       "    <tr>\n",
       "      <th>27</th>\n",
       "      <td>2019-07-01 00:00:59.040</td>\n",
       "      <td>36.171141</td>\n",
       "      <td>-86.790294</td>\n",
       "      <td>Powered162956</td>\n",
       "      <td>POINT (-9661451.334 4324195.734)</td>\n",
       "      <td>1</td>\n",
       "      <td>4</td>\n",
       "      <td>5</td>\n",
       "      <td>5</td>\n",
       "      <td>3.928178e+08</td>\n",
       "      <td>106661.712102</td>\n",
       "    </tr>\n",
       "    <tr>\n",
       "      <th>83</th>\n",
       "      <td>2019-07-01 00:01:03.413</td>\n",
       "      <td>36.177049</td>\n",
       "      <td>-86.787551</td>\n",
       "      <td>Powered667863</td>\n",
       "      <td>POINT (-9661145.985 4325010.468)</td>\n",
       "      <td>1</td>\n",
       "      <td>4</td>\n",
       "      <td>5</td>\n",
       "      <td>5</td>\n",
       "      <td>3.928178e+08</td>\n",
       "      <td>106661.712102</td>\n",
       "    </tr>\n",
       "    <tr>\n",
       "      <th>85</th>\n",
       "      <td>2019-07-01 00:01:03.723</td>\n",
       "      <td>36.174458</td>\n",
       "      <td>-86.785272</td>\n",
       "      <td>Powered084995</td>\n",
       "      <td>POINT (-9660892.287 4324653.153)</td>\n",
       "      <td>1</td>\n",
       "      <td>4</td>\n",
       "      <td>5</td>\n",
       "      <td>5</td>\n",
       "      <td>3.928178e+08</td>\n",
       "      <td>106661.712102</td>\n",
       "    </tr>\n",
       "    <tr>\n",
       "      <th>126</th>\n",
       "      <td>2019-07-01 00:01:06.793</td>\n",
       "      <td>36.175679</td>\n",
       "      <td>-86.786034</td>\n",
       "      <td>Powered493869</td>\n",
       "      <td>POINT (-9660977.113 4324821.535)</td>\n",
       "      <td>1</td>\n",
       "      <td>4</td>\n",
       "      <td>5</td>\n",
       "      <td>5</td>\n",
       "      <td>3.928178e+08</td>\n",
       "      <td>106661.712102</td>\n",
       "    </tr>\n",
       "  </tbody>\n",
       "</table>\n",
       "</div>"
      ],
      "text/plain": [
       "                pubdatetime   latitude  longitude         sumdid  \\\n",
       "0   2019-07-01 00:00:33.550  36.156678 -86.809004  Powered635135   \n",
       "27  2019-07-01 00:00:59.040  36.171141 -86.790294  Powered162956   \n",
       "83  2019-07-01 00:01:03.413  36.177049 -86.787551  Powered667863   \n",
       "85  2019-07-01 00:01:03.723  36.174458 -86.785272  Powered084995   \n",
       "126 2019-07-01 00:01:06.793  36.175679 -86.786034  Powered493869   \n",
       "\n",
       "                             geometry  day  index_right  OBJECTID  ZONE_ID  \\\n",
       "0    POINT (-9663534.122 4322201.495)    1            4         5        5   \n",
       "27   POINT (-9661451.334 4324195.734)    1            4         5        5   \n",
       "83   POINT (-9661145.985 4325010.468)    1            4         5        5   \n",
       "85   POINT (-9660892.287 4324653.153)    1            4         5        5   \n",
       "126  POINT (-9660977.113 4324821.535)    1            4         5        5   \n",
       "\n",
       "       SHAPE_STAr     SHAPE_STLe  \n",
       "0    3.928178e+08  106661.712102  \n",
       "27   3.928178e+08  106661.712102  \n",
       "83   3.928178e+08  106661.712102  \n",
       "85   3.928178e+08  106661.712102  \n",
       "126  3.928178e+08  106661.712102  "
      ]
     },
     "execution_count": 131,
     "metadata": {},
     "output_type": "execute_result"
    }
   ],
   "source": [
    "scooters_by_zone.head()"
   ]
  },
  {
   "cell_type": "code",
   "execution_count": 34,
   "id": "52fd7111",
   "metadata": {},
   "outputs": [],
   "source": [
    "scoots_in_zone5 = scooters_by_zone.loc[scooters_by_zone['ZONE_ID']==5]"
   ]
  },
  {
   "cell_type": "code",
   "execution_count": 37,
   "id": "a04ddb92",
   "metadata": {},
   "outputs": [],
   "source": [
    "scoots_in_zone5 = scoots_in_zone5[['pubdatetime','sumdid','geometry','day','ZONE_ID']]"
   ]
  },
  {
   "cell_type": "code",
   "execution_count": 60,
   "id": "48da3a19",
   "metadata": {},
   "outputs": [
    {
     "name": "stdout",
     "output_type": "stream",
     "text": [
      "                     pubdatetime         sumdid  \\\n",
      "83       2019-07-01 00:01:03.413  Powered667863   \n",
      "2659     2019-07-01 00:06:18.040  Powered667863   \n",
      "5894     2019-07-01 00:11:05.823  Powered667863   \n",
      "9434     2019-07-01 00:16:19.587  Powered667863   \n",
      "12633    2019-07-01 00:21:07.667  Powered667863   \n",
      "...                          ...            ...   \n",
      "10675462 2019-07-13 12:18:58.720  Powered667863   \n",
      "10678478 2019-07-13 12:24:13.123  Powered667863   \n",
      "10681174 2019-07-13 12:29:00.963  Powered667863   \n",
      "10684227 2019-07-13 12:34:16.010  Powered667863   \n",
      "10686937 2019-07-13 12:39:02.740  Powered667863   \n",
      "\n",
      "                                  geometry  day  ZONE_ID  \n",
      "83        POINT (-9661145.985 4325010.468)    1        5  \n",
      "2659      POINT (-9661147.432 4325012.675)    1        5  \n",
      "5894      POINT (-9661148.434 4325010.606)    1        5  \n",
      "9434      POINT (-9661148.656 4325014.881)    1        5  \n",
      "12633     POINT (-9661146.652 4325011.709)    1        5  \n",
      "...                                    ...  ...      ...  \n",
      "10675462  POINT (-9662815.220 4325479.230)   13        5  \n",
      "10678478  POINT (-9662816.890 4325478.127)   13        5  \n",
      "10681174  POINT (-9662811.547 4325482.126)   13        5  \n",
      "10684227  POINT (-9662813.662 4325478.265)   13        5  \n",
      "10686937  POINT (-9662813.662 4325480.334)   13        5  \n",
      "\n",
      "[1540 rows x 5 columns]\n"
     ]
    }
   ],
   "source": [
    "print(scoots_in_zone5.loc[scoots_in_zone5['sumdid'] == 'Powered667863'])"
   ]
  },
  {
   "cell_type": "code",
   "execution_count": 119,
   "id": "aa593bf5",
   "metadata": {},
   "outputs": [],
   "source": [
    "\n",
    "xmin, ymin, xmax, ymax = scoots_in_zone5.total_bounds\n",
    "\n",
    "length = 400\n",
    "wide = 400\n",
    "\n",
    "cols = list(np.arange(xmin, xmax + wide, wide))\n",
    "rows = list(np.arange(ymin, ymax + length, length))\n",
    "\n",
    "polygons = []\n",
    "for x in cols[:-1]:\n",
    "    for y in rows[:-1]:\n",
    "        polygons.append(Polygon([(x,y), (x+wide, y), (x+wide, y+length), (x, y+length)]))\n",
    "\n",
    "cell = gpd.GeoDataFrame(polygons, columns=['geometry'], \n",
    "                                 crs=promise_zone.crs)\n",
    "grid.to_file(\"grid.shp\")"
   ]
  },
  {
   "cell_type": "code",
   "execution_count": 120,
   "id": "c5def4b2",
   "metadata": {},
   "outputs": [
    {
     "data": {
      "text/plain": [
       "(-9667399.200849514, -9659039.200849514, 4319894.199868959, 4333534.199868959)"
      ]
     },
     "execution_count": 120,
     "metadata": {},
     "output_type": "execute_result"
    },
    {
     "data": {
      "image/png": "[encoded data removed]",
      "text/plain": [
       "<Figure size 864x576 with 1 Axes>"
      ]
     },
     "metadata": {
      "needs_background": "light"
     },
     "output_type": "display_data"
    },
    {
     "data": {
      "image/png": "[encoded data removed]",
      "text/plain": [
       "<Figure size 864x576 with 1 Axes>"
      ]
     },
     "metadata": {
      "needs_background": "light"
     },
     "output_type": "display_data"
    }
   ],
   "source": [
    "ax = scoots_in_zone5.plot(markersize=.1, figsize=(12, 8), column='day', cmap='jet')\n",
    "\n",
    "polygon_zone_5.plot(column = 'ZONE_ID', figsize=(12, 8),\n",
    "              edgecolor = 'black',\n",
    "              cmap = 'Set2')\n",
    "\n",
    "cell.plot(ax=ax, facecolor=\"none\", edgecolor='grey')\n",
    "ax.axis(\"off\")"
   ]
  },
  {
   "cell_type": "code",
   "execution_count": 121,
   "id": "0102d5a5",
   "metadata": {},
   "outputs": [
    {
     "name": "stderr",
     "output_type": "stream",
     "text": [
      "C:\\Users\\RMAUR\\anaconda3\\envs\\geo_env\\lib\\site-packages\\IPython\\core\\interactiveshell.py:3364: FutureWarning: The `op` parameter is deprecated and will be removed in a future release. Please use the `predicate` parameter instead.\n",
      "  if (await self.run_code(code, result,  async_=asy)):\n"
     ]
    }
   ],
   "source": [
    "zone_5_grid = gpd.sjoin( cell,polygon_zone_5, op = 'within')"
   ]
  },
  {
   "cell_type": "code",
   "execution_count": 122,
   "id": "fdd56528",
   "metadata": {},
   "outputs": [
    {
     "data": {
      "text/plain": [
       "(-9667381.106080059, -9659419.191008098, 4319906.89216885, 4333267.661571258)"
      ]
     },
     "execution_count": 122,
     "metadata": {},
     "output_type": "execute_result"
    },
    {
     "data": {
      "image/png": "[encoded data removed]",
      "text/plain": [
       "<Figure size 864x576 with 1 Axes>"
      ]
     },
     "metadata": {
      "needs_background": "light"
     },
     "output_type": "display_data"
    }
   ],
   "source": [
    "ax = scoots_in_zone5.plot(markersize=.1, figsize=(12, 8), column='day', cmap='jet')\n",
    "\n",
    "zone_5_grid.plot(ax=ax, facecolor=\"none\", edgecolor='grey')\n",
    "ax.axis(\"off\")"
   ]
  },
  {
   "cell_type": "code",
   "execution_count": 123,
   "id": "d6a9e0b9",
   "metadata": {},
   "outputs": [
    {
     "name": "stderr",
     "output_type": "stream",
     "text": [
      "C:\\Users\\RMAUR\\anaconda3\\envs\\geo_env\\lib\\site-packages\\IPython\\core\\interactiveshell.py:3364: FutureWarning: The `op` parameter is deprecated and will be removed in a future release. Please use the `predicate` parameter instead.\n",
      "  if (await self.run_code(code, result,  async_=asy)):\n"
     ]
    }
   ],
   "source": [
    "merged = gpd.sjoin(scoots_in_zone5, cell, how='left', op='within')"
   ]
  },
  {
   "cell_type": "code",
   "execution_count": 124,
   "id": "5832813f",
   "metadata": {},
   "outputs": [],
   "source": [
    "# make a simple count variable that we can sum\n",
    "merged['avg_scoots']=1\n",
    "# Compute stats per grid cell -- aggregate fires to grid cells with dissolve\n",
    "dissolve = merged.dissolve(by=\"index_right\", aggfunc=\"mean\")\n"
   ]
  },
  {
   "cell_type": "code",
   "execution_count": 126,
   "id": "cf8d966f",
   "metadata": {},
   "outputs": [
    {
     "data": {
      "text/html": [
       "<div>\n",
       "<style scoped>\n",
       "    .dataframe tbody tr th:only-of-type {\n",
       "        vertical-align: middle;\n",
       "    }\n",
       "\n",
       "    .dataframe tbody tr th {\n",
       "        vertical-align: top;\n",
       "    }\n",
       "\n",
       "    .dataframe thead th {\n",
       "        text-align: right;\n",
       "    }\n",
       "</style>\n",
       "<table border=\"1\" class=\"dataframe\">\n",
       "  <thead>\n",
       "    <tr style=\"text-align: right;\">\n",
       "      <th></th>\n",
       "      <th>pubdatetime</th>\n",
       "      <th>sumdid</th>\n",
       "      <th>geometry</th>\n",
       "      <th>day</th>\n",
       "      <th>ZONE_ID</th>\n",
       "      <th>index_right</th>\n",
       "      <th>avg_scoots</th>\n",
       "    </tr>\n",
       "  </thead>\n",
       "  <tbody>\n",
       "    <tr>\n",
       "      <th>0</th>\n",
       "      <td>2019-07-01 00:00:33.550</td>\n",
       "      <td>Powered635135</td>\n",
       "      <td>POINT (-9663534.122 4322201.495)</td>\n",
       "      <td>1</td>\n",
       "      <td>5</td>\n",
       "      <td>252.0</td>\n",
       "      <td>1</td>\n",
       "    </tr>\n",
       "    <tr>\n",
       "      <th>27</th>\n",
       "      <td>2019-07-01 00:00:59.040</td>\n",
       "      <td>Powered162956</td>\n",
       "      <td>POINT (-9661451.334 4324195.734)</td>\n",
       "      <td>1</td>\n",
       "      <td>5</td>\n",
       "      <td>412.0</td>\n",
       "      <td>1</td>\n",
       "    </tr>\n",
       "    <tr>\n",
       "      <th>83</th>\n",
       "      <td>2019-07-01 00:01:03.413</td>\n",
       "      <td>Powered667863</td>\n",
       "      <td>POINT (-9661145.985 4325010.468)</td>\n",
       "      <td>1</td>\n",
       "      <td>5</td>\n",
       "      <td>445.0</td>\n",
       "      <td>1</td>\n",
       "    </tr>\n",
       "    <tr>\n",
       "      <th>85</th>\n",
       "      <td>2019-07-01 00:01:03.723</td>\n",
       "      <td>Powered084995</td>\n",
       "      <td>POINT (-9660892.287 4324653.153)</td>\n",
       "      <td>1</td>\n",
       "      <td>5</td>\n",
       "      <td>475.0</td>\n",
       "      <td>1</td>\n",
       "    </tr>\n",
       "    <tr>\n",
       "      <th>126</th>\n",
       "      <td>2019-07-01 00:01:06.793</td>\n",
       "      <td>Powered493869</td>\n",
       "      <td>POINT (-9660977.113 4324821.535)</td>\n",
       "      <td>1</td>\n",
       "      <td>5</td>\n",
       "      <td>475.0</td>\n",
       "      <td>1</td>\n",
       "    </tr>\n",
       "  </tbody>\n",
       "</table>\n",
       "</div>"
      ],
      "text/plain": [
       "                pubdatetime         sumdid                          geometry  \\\n",
       "0   2019-07-01 00:00:33.550  Powered635135  POINT (-9663534.122 4322201.495)   \n",
       "27  2019-07-01 00:00:59.040  Powered162956  POINT (-9661451.334 4324195.734)   \n",
       "83  2019-07-01 00:01:03.413  Powered667863  POINT (-9661145.985 4325010.468)   \n",
       "85  2019-07-01 00:01:03.723  Powered084995  POINT (-9660892.287 4324653.153)   \n",
       "126 2019-07-01 00:01:06.793  Powered493869  POINT (-9660977.113 4324821.535)   \n",
       "\n",
       "     day  ZONE_ID  index_right  avg_scoots  \n",
       "0      1        5        252.0           1  \n",
       "27     1        5        412.0           1  \n",
       "83     1        5        445.0           1  \n",
       "85     1        5        475.0           1  \n",
       "126    1        5        475.0           1  "
      ]
     },
     "execution_count": 126,
     "metadata": {},
     "output_type": "execute_result"
    }
   ],
   "source": [
    "merged.head()"
   ]
  },
  {
   "cell_type": "code",
   "execution_count": 144,
   "id": "182371a1",
   "metadata": {},
   "outputs": [],
   "source": [
    "by_sumdid = merged.groupby('sumdid')"
   ]
  },
  {
   "cell_type": "code",
   "execution_count": 145,
   "id": "438aba46",
   "metadata": {},
   "outputs": [
    {
     "data": {
      "text/html": [
       "<div>\n",
       "<style scoped>\n",
       "    .dataframe tbody tr th:only-of-type {\n",
       "        vertical-align: middle;\n",
       "    }\n",
       "\n",
       "    .dataframe tbody tr th {\n",
       "        vertical-align: top;\n",
       "    }\n",
       "\n",
       "    .dataframe thead th {\n",
       "        text-align: right;\n",
       "    }\n",
       "</style>\n",
       "<table border=\"1\" class=\"dataframe\">\n",
       "  <thead>\n",
       "    <tr style=\"text-align: right;\">\n",
       "      <th></th>\n",
       "      <th>pubdatetime</th>\n",
       "      <th>sumdid</th>\n",
       "      <th>geometry</th>\n",
       "      <th>day</th>\n",
       "      <th>ZONE_ID</th>\n",
       "      <th>index_right</th>\n",
       "      <th>avg_scoots</th>\n",
       "    </tr>\n",
       "  </thead>\n",
       "  <tbody>\n",
       "    <tr>\n",
       "      <th>0</th>\n",
       "      <td>2019-07-01 00:00:33.550</td>\n",
       "      <td>Powered635135</td>\n",
       "      <td>POINT (-9663534.122 4322201.495)</td>\n",
       "      <td>1</td>\n",
       "      <td>5</td>\n",
       "      <td>252.0</td>\n",
       "      <td>1</td>\n",
       "    </tr>\n",
       "    <tr>\n",
       "      <th>27</th>\n",
       "      <td>2019-07-01 00:00:59.040</td>\n",
       "      <td>Powered162956</td>\n",
       "      <td>POINT (-9661451.334 4324195.734)</td>\n",
       "      <td>1</td>\n",
       "      <td>5</td>\n",
       "      <td>412.0</td>\n",
       "      <td>1</td>\n",
       "    </tr>\n",
       "    <tr>\n",
       "      <th>83</th>\n",
       "      <td>2019-07-01 00:01:03.413</td>\n",
       "      <td>Powered667863</td>\n",
       "      <td>POINT (-9661145.985 4325010.468)</td>\n",
       "      <td>1</td>\n",
       "      <td>5</td>\n",
       "      <td>445.0</td>\n",
       "      <td>1</td>\n",
       "    </tr>\n",
       "    <tr>\n",
       "      <th>85</th>\n",
       "      <td>2019-07-01 00:01:03.723</td>\n",
       "      <td>Powered084995</td>\n",
       "      <td>POINT (-9660892.287 4324653.153)</td>\n",
       "      <td>1</td>\n",
       "      <td>5</td>\n",
       "      <td>475.0</td>\n",
       "      <td>1</td>\n",
       "    </tr>\n",
       "    <tr>\n",
       "      <th>126</th>\n",
       "      <td>2019-07-01 00:01:06.793</td>\n",
       "      <td>Powered493869</td>\n",
       "      <td>POINT (-9660977.113 4324821.535)</td>\n",
       "      <td>1</td>\n",
       "      <td>5</td>\n",
       "      <td>475.0</td>\n",
       "      <td>1</td>\n",
       "    </tr>\n",
       "    <tr>\n",
       "      <th>...</th>\n",
       "      <td>...</td>\n",
       "      <td>...</td>\n",
       "      <td>...</td>\n",
       "      <td>...</td>\n",
       "      <td>...</td>\n",
       "      <td>...</td>\n",
       "      <td>...</td>\n",
       "    </tr>\n",
       "    <tr>\n",
       "      <th>25063527</th>\n",
       "      <td>2019-07-31 23:41:07.513</td>\n",
       "      <td>Powered3AMP6Z5DHO5B4</td>\n",
       "      <td>POINT (-9660881.935 4324134.507)</td>\n",
       "      <td>31</td>\n",
       "      <td>5</td>\n",
       "      <td>NaN</td>\n",
       "      <td>1</td>\n",
       "    </tr>\n",
       "    <tr>\n",
       "      <th>25066722</th>\n",
       "      <td>2019-07-31 23:46:07.860</td>\n",
       "      <td>Powered3AMP6Z5DHO5B4</td>\n",
       "      <td>POINT (-9660888.280 4324164.155)</td>\n",
       "      <td>31</td>\n",
       "      <td>5</td>\n",
       "      <td>NaN</td>\n",
       "      <td>1</td>\n",
       "    </tr>\n",
       "    <tr>\n",
       "      <th>25069793</th>\n",
       "      <td>2019-07-31 23:51:07.953</td>\n",
       "      <td>Powered3AMP6Z5DHO5B4</td>\n",
       "      <td>POINT (-9660894.848 4324161.122)</td>\n",
       "      <td>31</td>\n",
       "      <td>5</td>\n",
       "      <td>NaN</td>\n",
       "      <td>1</td>\n",
       "    </tr>\n",
       "    <tr>\n",
       "      <th>25072904</th>\n",
       "      <td>2019-07-31 23:56:08.057</td>\n",
       "      <td>Powered3AMP6Z5DHO5B4</td>\n",
       "      <td>POINT (-9660882.269 4324162.225)</td>\n",
       "      <td>31</td>\n",
       "      <td>5</td>\n",
       "      <td>NaN</td>\n",
       "      <td>1</td>\n",
       "    </tr>\n",
       "    <tr>\n",
       "      <th>25073564</th>\n",
       "      <td>2019-07-31 23:58:18.267</td>\n",
       "      <td>PoweredEVMVL</td>\n",
       "      <td>POINT (-9661038.005 4325579.357)</td>\n",
       "      <td>31</td>\n",
       "      <td>5</td>\n",
       "      <td>NaN</td>\n",
       "      <td>1</td>\n",
       "    </tr>\n",
       "  </tbody>\n",
       "</table>\n",
       "<p>21964 rows × 7 columns</p>\n",
       "</div>"
      ],
      "text/plain": [
       "                     pubdatetime                sumdid  \\\n",
       "0        2019-07-01 00:00:33.550         Powered635135   \n",
       "27       2019-07-01 00:00:59.040         Powered162956   \n",
       "83       2019-07-01 00:01:03.413         Powered667863   \n",
       "85       2019-07-01 00:01:03.723         Powered084995   \n",
       "126      2019-07-01 00:01:06.793         Powered493869   \n",
       "...                          ...                   ...   \n",
       "25063527 2019-07-31 23:41:07.513  Powered3AMP6Z5DHO5B4   \n",
       "25066722 2019-07-31 23:46:07.860  Powered3AMP6Z5DHO5B4   \n",
       "25069793 2019-07-31 23:51:07.953  Powered3AMP6Z5DHO5B4   \n",
       "25072904 2019-07-31 23:56:08.057  Powered3AMP6Z5DHO5B4   \n",
       "25073564 2019-07-31 23:58:18.267          PoweredEVMVL   \n",
       "\n",
       "                                  geometry  day  ZONE_ID  index_right  \\\n",
       "0         POINT (-9663534.122 4322201.495)    1        5        252.0   \n",
       "27        POINT (-9661451.334 4324195.734)    1        5        412.0   \n",
       "83        POINT (-9661145.985 4325010.468)    1        5        445.0   \n",
       "85        POINT (-9660892.287 4324653.153)    1        5        475.0   \n",
       "126       POINT (-9660977.113 4324821.535)    1        5        475.0   \n",
       "...                                    ...  ...      ...          ...   \n",
       "25063527  POINT (-9660881.935 4324134.507)   31        5          NaN   \n",
       "25066722  POINT (-9660888.280 4324164.155)   31        5          NaN   \n",
       "25069793  POINT (-9660894.848 4324161.122)   31        5          NaN   \n",
       "25072904  POINT (-9660882.269 4324162.225)   31        5          NaN   \n",
       "25073564  POINT (-9661038.005 4325579.357)   31        5          NaN   \n",
       "\n",
       "          avg_scoots  \n",
       "0                  1  \n",
       "27                 1  \n",
       "83                 1  \n",
       "85                 1  \n",
       "126                1  \n",
       "...              ...  \n",
       "25063527           1  \n",
       "25066722           1  \n",
       "25069793           1  \n",
       "25072904           1  \n",
       "25073564           1  \n",
       "\n",
       "[21964 rows x 7 columns]"
      ]
     },
     "execution_count": 145,
     "metadata": {},
     "output_type": "execute_result"
    }
   ],
   "source": [
    "by_sumdid.head()"
   ]
  },
  {
   "cell_type": "code",
   "execution_count": null,
   "id": "ae4f3ddf",
   "metadata": {},
   "outputs": [],
   "source": [
    "for day in merged['day']:\n",
    "    for loc in merged['geometry']:\n",
    "            merged.groupby('sumdid')"
   ]
  },
  {
   "cell_type": "code",
   "execution_count": 82,
   "id": "9e2812c3",
   "metadata": {},
   "outputs": [
    {
     "data": {
      "text/plain": [
       "(-9667399.200849514, -9659039.200849514, 4319894.199868959, 4333534.199868959)"
      ]
     },
     "execution_count": 82,
     "metadata": {},
     "output_type": "execute_result"
    },
    {
     "data": {
      "image/png": "[encoded data removed]",
      "text/plain": [
       "<Figure size 864x576 with 1 Axes>"
      ]
     },
     "metadata": {
      "needs_background": "light"
     },
     "output_type": "display_data"
    }
   ],
   "source": [
    "##Then finally let’s plot the grid and the avg scooters in each grid cell with geopandas:\n",
    "ax = cell.plot(column='avg_scoots', figsize=(12, 8), cmap='viridis', vmax=5000, edgecolor=\"grey\")\n",
    "\n",
    "zone_5_grid.plot(ax=ax, facecolor=\"none\", edgecolor='grey')\n",
    "ax.axis(\"off\")\n"
   ]
  },
  {
   "cell_type": "code",
   "execution_count": 142,
   "id": "dd0bca3e",
   "metadata": {},
   "outputs": [
    {
     "name": "stdout",
     "output_type": "stream",
     "text": [
      "<class 'geopandas.geodataframe.GeoDataFrame'>\n",
      "Int64Index: 13188527 entries, 0 to 25075222\n",
      "Data columns (total 6 columns):\n",
      " #   Column       Dtype         \n",
      "---  ------       -----         \n",
      " 0   pubdatetime  datetime64[ns]\n",
      " 1   latitude     float64       \n",
      " 2   longitude    float64       \n",
      " 3   sumdid       object        \n",
      " 4   geometry     geometry      \n",
      " 5   day          int64         \n",
      "dtypes: datetime64[ns](1), float64(2), geometry(1), int64(1), object(1)\n",
      "memory usage: 704.3+ MB\n"
     ]
    }
   ],
   "source": [
    "scooters_by_zone.info()"
   ]
  },
  {
   "cell_type": "code",
   "execution_count": 143,
   "id": "3f21de9f",
   "metadata": {},
   "outputs": [
    {
     "ename": "AttributeError",
     "evalue": "'GeoDataFrame' object has no attribute 'pd'",
     "output_type": "error",
     "traceback": [
      "\u001b[1;31m---------------------------------------------------------------------------\u001b[0m",
      "\u001b[1;31mAttributeError\u001b[0m                            Traceback (most recent call last)",
      "\u001b[1;32m~\\AppData\\Local\\Temp/ipykernel_4336/3889332268.py\u001b[0m in \u001b[0;36m<module>\u001b[1;34m\u001b[0m\n\u001b[1;32m----> 1\u001b[1;33m \u001b[0mscooters_by_zone\u001b[0m\u001b[1;33m[\u001b[0m\u001b[1;34m'lat_long'\u001b[0m\u001b[1;33m]\u001b[0m \u001b[1;33m=\u001b[0m \u001b[0mscooters_by_zone\u001b[0m\u001b[1;33m.\u001b[0m\u001b[0mpd\u001b[0m\u001b[1;33m.\u001b[0m\u001b[0mconcat\u001b[0m\u001b[1;33m(\u001b[0m\u001b[1;33m[\u001b[0m\u001b[0mlatitude\u001b[0m\u001b[1;33m,\u001b[0m\u001b[0mlongitude\u001b[0m\u001b[1;33m]\u001b[0m\u001b[1;33m,\u001b[0m\u001b[0maxis\u001b[0m\u001b[1;33m=\u001b[0m\u001b[1;36m1\u001b[0m\u001b[1;33m)\u001b[0m\u001b[1;33m\u001b[0m\u001b[1;33m\u001b[0m\u001b[0m\n\u001b[0m",
      "\u001b[1;32m~\\anaconda3\\envs\\geo_env\\lib\\site-packages\\pandas\\core\\generic.py\u001b[0m in \u001b[0;36m__getattr__\u001b[1;34m(self, name)\u001b[0m\n\u001b[0;32m   5485\u001b[0m         ):\n\u001b[0;32m   5486\u001b[0m             \u001b[1;32mreturn\u001b[0m \u001b[0mself\u001b[0m\u001b[1;33m[\u001b[0m\u001b[0mname\u001b[0m\u001b[1;33m]\u001b[0m\u001b[1;33m\u001b[0m\u001b[1;33m\u001b[0m\u001b[0m\n\u001b[1;32m-> 5487\u001b[1;33m         \u001b[1;32mreturn\u001b[0m \u001b[0mobject\u001b[0m\u001b[1;33m.\u001b[0m\u001b[0m__getattribute__\u001b[0m\u001b[1;33m(\u001b[0m\u001b[0mself\u001b[0m\u001b[1;33m,\u001b[0m \u001b[0mname\u001b[0m\u001b[1;33m)\u001b[0m\u001b[1;33m\u001b[0m\u001b[1;33m\u001b[0m\u001b[0m\n\u001b[0m\u001b[0;32m   5488\u001b[0m \u001b[1;33m\u001b[0m\u001b[0m\n\u001b[0;32m   5489\u001b[0m     \u001b[1;32mdef\u001b[0m \u001b[0m__setattr__\u001b[0m\u001b[1;33m(\u001b[0m\u001b[0mself\u001b[0m\u001b[1;33m,\u001b[0m \u001b[0mname\u001b[0m\u001b[1;33m:\u001b[0m \u001b[0mstr\u001b[0m\u001b[1;33m,\u001b[0m \u001b[0mvalue\u001b[0m\u001b[1;33m)\u001b[0m \u001b[1;33m->\u001b[0m \u001b[1;32mNone\u001b[0m\u001b[1;33m:\u001b[0m\u001b[1;33m\u001b[0m\u001b[1;33m\u001b[0m\u001b[0m\n",
      "\u001b[1;31mAttributeError\u001b[0m: 'GeoDataFrame' object has no attribute 'pd'"
     ]
    }
   ],
   "source": [
    "scooters_by_zone['lat_long'] = scooters_by_zone.pd.concat([latitude,longitude],axis=1)"
   ]
  },
  {
   "cell_type": "code",
   "execution_count": null,
   "id": "d73b2935",
   "metadata": {},
   "outputs": [],
   "source": []
  }
 ],
 "metadata": {
  "kernelspec": {
   "display_name": "Python 3 (ipykernel)",
   "language": "python",
   "name": "python3"
  },
  "language_info": {
   "codemirror_mode": {
    "name": "ipython",
    "version": 3
   },
   "file_extension": ".py",
   "mimetype": "text/x-python",
   "name": "python",
   "nbconvert_exporter": "python",
   "pygments_lexer": "ipython3",
   "version": "3.8.5"
  }
 },
 "nbformat": 4,
 "nbformat_minor": 5
}
