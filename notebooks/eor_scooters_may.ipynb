{
 "cells": [
  {
   "cell_type": "code",
   "execution_count": 4,
   "id": "d4655e2f",
   "metadata": {},
   "outputs": [],
   "source": [
    "import pandas as pd\n",
    "import pickle\n",
    "import matplotlib.pyplot as plt\n",
    "\n",
    "%matplotlib inline"
   ]
  },
  {
   "cell_type": "code",
   "execution_count": 5,
   "id": "acb4d59a",
   "metadata": {},
   "outputs": [
    {
     "data": {
      "text/html": [
       "<div>\n",
       "<style scoped>\n",
       "    .dataframe tbody tr th:only-of-type {\n",
       "        vertical-align: middle;\n",
       "    }\n",
       "\n",
       "    .dataframe tbody tr th {\n",
       "        vertical-align: top;\n",
       "    }\n",
       "\n",
       "    .dataframe thead th {\n",
       "        text-align: right;\n",
       "    }\n",
       "</style>\n",
       "<table border=\"1\" class=\"dataframe\">\n",
       "  <thead>\n",
       "    <tr style=\"text-align: right;\">\n",
       "      <th></th>\n",
       "      <th>pubdatetime</th>\n",
       "      <th>latitude</th>\n",
       "      <th>longitude</th>\n",
       "      <th>sumdid</th>\n",
       "      <th>chargelevel</th>\n",
       "      <th>companyname</th>\n",
       "    </tr>\n",
       "  </thead>\n",
       "  <tbody>\n",
       "    <tr>\n",
       "      <th>0</th>\n",
       "      <td>2019-05-01 00:01:41.247</td>\n",
       "      <td>36.136822</td>\n",
       "      <td>-86.799877</td>\n",
       "      <td>PoweredLIRL1</td>\n",
       "      <td>93.0</td>\n",
       "      <td>0</td>\n",
       "    </tr>\n",
       "    <tr>\n",
       "      <th>1</th>\n",
       "      <td>2019-05-01 00:01:41.247</td>\n",
       "      <td>36.191252</td>\n",
       "      <td>-86.772945</td>\n",
       "      <td>PoweredXWRWC</td>\n",
       "      <td>35.0</td>\n",
       "      <td>0</td>\n",
       "    </tr>\n",
       "    <tr>\n",
       "      <th>2</th>\n",
       "      <td>2019-05-01 00:01:41.247</td>\n",
       "      <td>36.144752</td>\n",
       "      <td>-86.806293</td>\n",
       "      <td>PoweredMEJEH</td>\n",
       "      <td>90.0</td>\n",
       "      <td>0</td>\n",
       "    </tr>\n",
       "    <tr>\n",
       "      <th>3</th>\n",
       "      <td>2019-05-01 00:01:41.247</td>\n",
       "      <td>36.162056</td>\n",
       "      <td>-86.774688</td>\n",
       "      <td>Powered1A7TC</td>\n",
       "      <td>88.0</td>\n",
       "      <td>0</td>\n",
       "    </tr>\n",
       "    <tr>\n",
       "      <th>4</th>\n",
       "      <td>2019-05-01 00:01:41.247</td>\n",
       "      <td>36.150973</td>\n",
       "      <td>-86.783109</td>\n",
       "      <td>Powered2TYEF</td>\n",
       "      <td>98.0</td>\n",
       "      <td>0</td>\n",
       "    </tr>\n",
       "    <tr>\n",
       "      <th>5</th>\n",
       "      <td>2019-05-01 00:01:41.247</td>\n",
       "      <td>36.157188</td>\n",
       "      <td>-86.769978</td>\n",
       "      <td>Powered3F3VK</td>\n",
       "      <td>82.0</td>\n",
       "      <td>0</td>\n",
       "    </tr>\n",
       "    <tr>\n",
       "      <th>6</th>\n",
       "      <td>2019-05-01 00:01:41.247</td>\n",
       "      <td>36.154348</td>\n",
       "      <td>-86.784765</td>\n",
       "      <td>PoweredVL7YG</td>\n",
       "      <td>56.0</td>\n",
       "      <td>0</td>\n",
       "    </tr>\n",
       "    <tr>\n",
       "      <th>7</th>\n",
       "      <td>2019-05-01 00:01:41.247</td>\n",
       "      <td>36.158930</td>\n",
       "      <td>-86.775987</td>\n",
       "      <td>Powered5LNUG</td>\n",
       "      <td>100.0</td>\n",
       "      <td>0</td>\n",
       "    </tr>\n",
       "    <tr>\n",
       "      <th>8</th>\n",
       "      <td>2019-05-01 00:01:41.247</td>\n",
       "      <td>36.135993</td>\n",
       "      <td>-86.804226</td>\n",
       "      <td>Powered7SPQQ</td>\n",
       "      <td>85.0</td>\n",
       "      <td>0</td>\n",
       "    </tr>\n",
       "    <tr>\n",
       "      <th>9</th>\n",
       "      <td>2019-05-01 00:01:41.247</td>\n",
       "      <td>36.148938</td>\n",
       "      <td>-86.811256</td>\n",
       "      <td>PoweredBV1DT</td>\n",
       "      <td>65.0</td>\n",
       "      <td>0</td>\n",
       "    </tr>\n",
       "  </tbody>\n",
       "</table>\n",
       "</div>"
      ],
      "text/plain": [
       "              pubdatetime   latitude  longitude        sumdid  chargelevel  \\\n",
       "0 2019-05-01 00:01:41.247  36.136822 -86.799877  PoweredLIRL1         93.0   \n",
       "1 2019-05-01 00:01:41.247  36.191252 -86.772945  PoweredXWRWC         35.0   \n",
       "2 2019-05-01 00:01:41.247  36.144752 -86.806293  PoweredMEJEH         90.0   \n",
       "3 2019-05-01 00:01:41.247  36.162056 -86.774688  Powered1A7TC         88.0   \n",
       "4 2019-05-01 00:01:41.247  36.150973 -86.783109  Powered2TYEF         98.0   \n",
       "5 2019-05-01 00:01:41.247  36.157188 -86.769978  Powered3F3VK         82.0   \n",
       "6 2019-05-01 00:01:41.247  36.154348 -86.784765  PoweredVL7YG         56.0   \n",
       "7 2019-05-01 00:01:41.247  36.158930 -86.775987  Powered5LNUG        100.0   \n",
       "8 2019-05-01 00:01:41.247  36.135993 -86.804226  Powered7SPQQ         85.0   \n",
       "9 2019-05-01 00:01:41.247  36.148938 -86.811256  PoweredBV1DT         65.0   \n",
       "\n",
       "   companyname  \n",
       "0            0  \n",
       "1            0  \n",
       "2            0  \n",
       "3            0  \n",
       "4            0  \n",
       "5            0  \n",
       "6            0  \n",
       "7            0  \n",
       "8            0  \n",
       "9            0  "
      ]
     },
     "execution_count": 5,
     "metadata": {},
     "output_type": "execute_result"
    }
   ],
   "source": [
    "may = pd.read_pickle(\"../data/may.pkl\")\n",
    "may.head(10)"
   ]
  },
  {
   "cell_type": "code",
   "execution_count": 6,
   "id": "057a093d",
   "metadata": {},
   "outputs": [
    {
     "data": {
      "text/plain": [
       "PoweredIE7H5RIN474PE    8921\n",
       "PoweredUK65LOU3K5N7G    8748\n",
       "PoweredIOHG2G3XKATUL    8576\n",
       "PoweredJCKMQCAL2SSNJ    8521\n",
       "Powered4NYK5PWADVIAU    8439\n",
       "                        ... \n",
       "Powered1PKP7               1\n",
       "PoweredN4YI2A7RXZQLY       1\n",
       "Powered3361332             1\n",
       "Powered523737              1\n",
       "PoweredCI6VKIK2KOFMC       1\n",
       "Name: sumdid, Length: 8303, dtype: int64"
      ]
     },
     "execution_count": 6,
     "metadata": {},
     "output_type": "execute_result"
    }
   ],
   "source": [
    "may['sumdid'].value_counts()"
   ]
  },
  {
   "cell_type": "code",
   "execution_count": 7,
   "id": "6b761094",
   "metadata": {},
   "outputs": [
    {
     "data": {
      "text/plain": [
       "100.00    2364422\n",
       "0.00      1025190\n",
       "98.00      456863\n",
       "99.00      417371\n",
       "96.00      398695\n",
       "           ...   \n",
       "13.35           1\n",
       "27.26           1\n",
       "21.15           1\n",
       "17.04           1\n",
       "58.90           1\n",
       "Name: chargelevel, Length: 885, dtype: int64"
      ]
     },
     "execution_count": 7,
     "metadata": {},
     "output_type": "execute_result"
    }
   ],
   "source": [
    "may['chargelevel'].value_counts()"
   ]
  },
  {
   "cell_type": "code",
   "execution_count": 4,
   "id": "2ed387bc",
   "metadata": {},
   "outputs": [],
   "source": [
    "## Does \"length: 8303\" denote the number of scooters in the list?"
   ]
  },
  {
   "cell_type": "code",
   "execution_count": 9,
   "id": "4f21c784",
   "metadata": {},
   "outputs": [
    {
     "data": {
      "text/plain": [
       "pubdatetime    datetime64[ns]\n",
       "latitude              float64\n",
       "longitude             float64\n",
       "sumdid                 object\n",
       "chargelevel           float64\n",
       "companyname             int64\n",
       "dtype: object"
      ]
     },
     "execution_count": 9,
     "metadata": {},
     "output_type": "execute_result"
    }
   ],
   "source": [
    "may.dtypes"
   ]
  },
  {
   "cell_type": "code",
   "execution_count": 10,
   "id": "5b3cf5e6",
   "metadata": {},
   "outputs": [
    {
     "data": {
      "text/plain": [
       "3    7111655\n",
       "0    4334006\n",
       "1    3112581\n",
       "5    2984630\n",
       "4    1301001\n",
       "2     915314\n",
       "6     524395\n",
       "Name: companyname, dtype: int64"
      ]
     },
     "execution_count": 10,
     "metadata": {},
     "output_type": "execute_result"
    }
   ],
   "source": [
    "may['companyname'].value_counts()"
   ]
  },
  {
   "cell_type": "code",
   "execution_count": 11,
   "id": "7c0c53fa",
   "metadata": {},
   "outputs": [
    {
     "data": {
      "text/plain": [
       "pubdatetime      0\n",
       "latitude         0\n",
       "longitude        0\n",
       "sumdid           0\n",
       "chargelevel    283\n",
       "companyname      0\n",
       "dtype: int64"
      ]
     },
     "execution_count": 11,
     "metadata": {},
     "output_type": "execute_result"
    }
   ],
   "source": [
    "may.isnull().sum()"
   ]
  },
  {
   "cell_type": "code",
   "execution_count": 12,
   "id": "1bf830b1",
   "metadata": {},
   "outputs": [
    {
     "data": {
      "text/plain": [
       "(524395, 6)"
      ]
     },
     "execution_count": 12,
     "metadata": {},
     "output_type": "execute_result"
    }
   ],
   "source": [
    "bolt = may.loc[may.companyname == 6]\n",
    "bolt.shape"
   ]
  },
  {
   "cell_type": "code",
   "execution_count": 14,
   "id": "d4dd7b1f",
   "metadata": {},
   "outputs": [
    {
     "data": {
      "text/plain": [
       "(89861, 6)"
      ]
     },
     "execution_count": 14,
     "metadata": {},
     "output_type": "execute_result"
    }
   ],
   "source": [
    "bolt_100 = bolt.loc[bolt.chargelevel == 100.00]\n",
    "bolt_100.shape"
   ]
  },
  {
   "cell_type": "code",
   "execution_count": null,
   "id": "60d1b202",
   "metadata": {},
   "outputs": [],
   "source": []
  }
 ],
 "metadata": {
  "kernelspec": {
   "display_name": "Python 3 (ipykernel)",
   "language": "python",
   "name": "python3"
  },
  "language_info": {
   "codemirror_mode": {
    "name": "ipython",
    "version": 3
   },
   "file_extension": ".py",
   "mimetype": "text/x-python",
   "name": "python",
   "nbconvert_exporter": "python",
   "pygments_lexer": "ipython3",
   "version": "3.8.5"
  }
 },
 "nbformat": 4,
 "nbformat_minor": 5
}
