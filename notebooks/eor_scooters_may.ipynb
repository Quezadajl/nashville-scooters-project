{
 "cells": [
  {
   "cell_type": "code",
   "execution_count": 9,
   "id": "d4655e2f",
   "metadata": {},
   "outputs": [],
   "source": [
    "from shapely.geometry import Point\n",
    "import pandas as pd\n",
    "import geopandas as gpd\n",
    "import pickle\n",
    "import matplotlib.pyplot as plt\n",
    "import folium\n",
    "from folium.plugins import HeatMap\n",
    "import numpy as np\n",
    "\n",
    "%matplotlib inline"
   ]
  },
  {
   "cell_type": "code",
   "execution_count": 10,
   "id": "acb4d59a",
   "metadata": {},
   "outputs": [
    {
     "data": {
      "text/html": [
       "<div>\n",
       "<style scoped>\n",
       "    .dataframe tbody tr th:only-of-type {\n",
       "        vertical-align: middle;\n",
       "    }\n",
       "\n",
       "    .dataframe tbody tr th {\n",
       "        vertical-align: top;\n",
       "    }\n",
       "\n",
       "    .dataframe thead th {\n",
       "        text-align: right;\n",
       "    }\n",
       "</style>\n",
       "<table border=\"1\" class=\"dataframe\">\n",
       "  <thead>\n",
       "    <tr style=\"text-align: right;\">\n",
       "      <th></th>\n",
       "      <th>pubdatetime</th>\n",
       "      <th>latitude</th>\n",
       "      <th>longitude</th>\n",
       "      <th>sumdid</th>\n",
       "      <th>chargelevel</th>\n",
       "      <th>companyname</th>\n",
       "    </tr>\n",
       "  </thead>\n",
       "  <tbody>\n",
       "    <tr>\n",
       "      <th>0</th>\n",
       "      <td>2019-05-01 00:01:41.247</td>\n",
       "      <td>36.136822</td>\n",
       "      <td>-86.799877</td>\n",
       "      <td>PoweredLIRL1</td>\n",
       "      <td>93.0</td>\n",
       "      <td>0</td>\n",
       "    </tr>\n",
       "    <tr>\n",
       "      <th>1</th>\n",
       "      <td>2019-05-01 00:01:41.247</td>\n",
       "      <td>36.191252</td>\n",
       "      <td>-86.772945</td>\n",
       "      <td>PoweredXWRWC</td>\n",
       "      <td>35.0</td>\n",
       "      <td>0</td>\n",
       "    </tr>\n",
       "    <tr>\n",
       "      <th>2</th>\n",
       "      <td>2019-05-01 00:01:41.247</td>\n",
       "      <td>36.144752</td>\n",
       "      <td>-86.806293</td>\n",
       "      <td>PoweredMEJEH</td>\n",
       "      <td>90.0</td>\n",
       "      <td>0</td>\n",
       "    </tr>\n",
       "    <tr>\n",
       "      <th>3</th>\n",
       "      <td>2019-05-01 00:01:41.247</td>\n",
       "      <td>36.162056</td>\n",
       "      <td>-86.774688</td>\n",
       "      <td>Powered1A7TC</td>\n",
       "      <td>88.0</td>\n",
       "      <td>0</td>\n",
       "    </tr>\n",
       "    <tr>\n",
       "      <th>4</th>\n",
       "      <td>2019-05-01 00:01:41.247</td>\n",
       "      <td>36.150973</td>\n",
       "      <td>-86.783109</td>\n",
       "      <td>Powered2TYEF</td>\n",
       "      <td>98.0</td>\n",
       "      <td>0</td>\n",
       "    </tr>\n",
       "    <tr>\n",
       "      <th>5</th>\n",
       "      <td>2019-05-01 00:01:41.247</td>\n",
       "      <td>36.157188</td>\n",
       "      <td>-86.769978</td>\n",
       "      <td>Powered3F3VK</td>\n",
       "      <td>82.0</td>\n",
       "      <td>0</td>\n",
       "    </tr>\n",
       "    <tr>\n",
       "      <th>6</th>\n",
       "      <td>2019-05-01 00:01:41.247</td>\n",
       "      <td>36.154348</td>\n",
       "      <td>-86.784765</td>\n",
       "      <td>PoweredVL7YG</td>\n",
       "      <td>56.0</td>\n",
       "      <td>0</td>\n",
       "    </tr>\n",
       "    <tr>\n",
       "      <th>7</th>\n",
       "      <td>2019-05-01 00:01:41.247</td>\n",
       "      <td>36.158930</td>\n",
       "      <td>-86.775987</td>\n",
       "      <td>Powered5LNUG</td>\n",
       "      <td>100.0</td>\n",
       "      <td>0</td>\n",
       "    </tr>\n",
       "    <tr>\n",
       "      <th>8</th>\n",
       "      <td>2019-05-01 00:01:41.247</td>\n",
       "      <td>36.135993</td>\n",
       "      <td>-86.804226</td>\n",
       "      <td>Powered7SPQQ</td>\n",
       "      <td>85.0</td>\n",
       "      <td>0</td>\n",
       "    </tr>\n",
       "    <tr>\n",
       "      <th>9</th>\n",
       "      <td>2019-05-01 00:01:41.247</td>\n",
       "      <td>36.148938</td>\n",
       "      <td>-86.811256</td>\n",
       "      <td>PoweredBV1DT</td>\n",
       "      <td>65.0</td>\n",
       "      <td>0</td>\n",
       "    </tr>\n",
       "  </tbody>\n",
       "</table>\n",
       "</div>"
      ],
      "text/plain": [
       "              pubdatetime   latitude  longitude        sumdid  chargelevel  \\\n",
       "0 2019-05-01 00:01:41.247  36.136822 -86.799877  PoweredLIRL1         93.0   \n",
       "1 2019-05-01 00:01:41.247  36.191252 -86.772945  PoweredXWRWC         35.0   \n",
       "2 2019-05-01 00:01:41.247  36.144752 -86.806293  PoweredMEJEH         90.0   \n",
       "3 2019-05-01 00:01:41.247  36.162056 -86.774688  Powered1A7TC         88.0   \n",
       "4 2019-05-01 00:01:41.247  36.150973 -86.783109  Powered2TYEF         98.0   \n",
       "5 2019-05-01 00:01:41.247  36.157188 -86.769978  Powered3F3VK         82.0   \n",
       "6 2019-05-01 00:01:41.247  36.154348 -86.784765  PoweredVL7YG         56.0   \n",
       "7 2019-05-01 00:01:41.247  36.158930 -86.775987  Powered5LNUG        100.0   \n",
       "8 2019-05-01 00:01:41.247  36.135993 -86.804226  Powered7SPQQ         85.0   \n",
       "9 2019-05-01 00:01:41.247  36.148938 -86.811256  PoweredBV1DT         65.0   \n",
       "\n",
       "   companyname  \n",
       "0            0  \n",
       "1            0  \n",
       "2            0  \n",
       "3            0  \n",
       "4            0  \n",
       "5            0  \n",
       "6            0  \n",
       "7            0  \n",
       "8            0  \n",
       "9            0  "
      ]
     },
     "execution_count": 10,
     "metadata": {},
     "output_type": "execute_result"
    }
   ],
   "source": [
    "may = pd.read_pickle(\"../data/may.pkl\")\n",
    "may.head(10)"
   ]
  },
  {
   "cell_type": "code",
   "execution_count": 11,
   "id": "057a093d",
   "metadata": {},
   "outputs": [
    {
     "data": {
      "text/plain": [
       "PoweredIE7H5RIN474PE    8921\n",
       "PoweredUK65LOU3K5N7G    8748\n",
       "PoweredIOHG2G3XKATUL    8576\n",
       "PoweredJCKMQCAL2SSNJ    8521\n",
       "Powered4NYK5PWADVIAU    8439\n",
       "                        ... \n",
       "Powered1PKP7               1\n",
       "PoweredN4YI2A7RXZQLY       1\n",
       "Powered3361332             1\n",
       "Powered523737              1\n",
       "PoweredCI6VKIK2KOFMC       1\n",
       "Name: sumdid, Length: 8303, dtype: int64"
      ]
     },
     "execution_count": 11,
     "metadata": {},
     "output_type": "execute_result"
    }
   ],
   "source": [
    "may['sumdid'].value_counts()"
   ]
  },
  {
   "cell_type": "code",
   "execution_count": 12,
   "id": "6b761094",
   "metadata": {},
   "outputs": [
    {
     "data": {
      "text/plain": [
       "100.00    2364422\n",
       "0.00      1025190\n",
       "98.00      456863\n",
       "99.00      417371\n",
       "96.00      398695\n",
       "           ...   \n",
       "13.35           1\n",
       "27.26           1\n",
       "21.15           1\n",
       "17.04           1\n",
       "58.90           1\n",
       "Name: chargelevel, Length: 885, dtype: int64"
      ]
     },
     "execution_count": 12,
     "metadata": {},
     "output_type": "execute_result"
    }
   ],
   "source": [
    "may['chargelevel'].value_counts()"
   ]
  },
  {
   "cell_type": "code",
   "execution_count": 13,
   "id": "2ed387bc",
   "metadata": {},
   "outputs": [],
   "source": [
    "## Does \"length: 8303\" denote the number of scooters in the list?"
   ]
  },
  {
   "cell_type": "code",
   "execution_count": 14,
   "id": "4f21c784",
   "metadata": {},
   "outputs": [
    {
     "data": {
      "text/plain": [
       "pubdatetime    datetime64[ns]\n",
       "latitude              float64\n",
       "longitude             float64\n",
       "sumdid                 object\n",
       "chargelevel           float64\n",
       "companyname             int64\n",
       "dtype: object"
      ]
     },
     "execution_count": 14,
     "metadata": {},
     "output_type": "execute_result"
    }
   ],
   "source": [
    "may.dtypes"
   ]
  },
  {
   "cell_type": "code",
   "execution_count": null,
   "id": "5b3cf5e6",
   "metadata": {},
   "outputs": [],
   "source": [
    "may['companyname'].value_counts()"
   ]
  },
  {
   "cell_type": "code",
   "execution_count": null,
   "id": "7c0c53fa",
   "metadata": {},
   "outputs": [],
   "source": [
    "may.isnull().sum()"
   ]
  },
  {
   "cell_type": "code",
   "execution_count": null,
   "id": "1bf830b1",
   "metadata": {},
   "outputs": [],
   "source": [
    "bolt = may.loc[may.companyname == 6]\n",
    "bolt.shape"
   ]
  },
  {
   "cell_type": "code",
   "execution_count": null,
   "id": "d4dd7b1f",
   "metadata": {},
   "outputs": [],
   "source": [
    "bolt_100 = bolt.loc[bolt.chargelevel == 100.00]\n",
    "bolt_100.shape"
   ]
  },
  {
   "cell_type": "code",
   "execution_count": null,
   "id": "4ec8ec3f",
   "metadata": {},
   "outputs": [],
   "source": [
    "bolt_100['geometry'] = bolt_100.apply(lambda x: Point((x.longitude, x.latitude)), axis=1)\n",
    "bolt_100.head(3)"
   ]
  },
  {
   "cell_type": "markdown",
   "id": "56ded58d",
   "metadata": {},
   "source": [
    "Experiment"
   ]
  },
  {
   "cell_type": "code",
   "execution_count": 7,
   "id": "7684fee3",
   "metadata": {},
   "outputs": [
    {
     "data": {
      "text/html": [
       "<div>\n",
       "<style scoped>\n",
       "    .dataframe tbody tr th:only-of-type {\n",
       "        vertical-align: middle;\n",
       "    }\n",
       "\n",
       "    .dataframe tbody tr th {\n",
       "        vertical-align: top;\n",
       "    }\n",
       "\n",
       "    .dataframe thead th {\n",
       "        text-align: right;\n",
       "    }\n",
       "</style>\n",
       "<table border=\"1\" class=\"dataframe\">\n",
       "  <thead>\n",
       "    <tr style=\"text-align: right;\">\n",
       "      <th></th>\n",
       "      <th>pubdatetime</th>\n",
       "      <th>latitude</th>\n",
       "      <th>longitude</th>\n",
       "      <th>sumdid</th>\n",
       "      <th>chargelevel</th>\n",
       "      <th>companyname</th>\n",
       "    </tr>\n",
       "  </thead>\n",
       "  <tbody>\n",
       "    <tr>\n",
       "      <th>1365</th>\n",
       "      <td>2019-05-01 00:04:56.910</td>\n",
       "      <td>36.150001</td>\n",
       "      <td>-86.761955</td>\n",
       "      <td>PoweredIE7H5RIN474PE</td>\n",
       "      <td>91.0</td>\n",
       "      <td>3</td>\n",
       "    </tr>\n",
       "    <tr>\n",
       "      <th>3607</th>\n",
       "      <td>2019-05-01 00:09:56.970</td>\n",
       "      <td>36.150001</td>\n",
       "      <td>-86.761955</td>\n",
       "      <td>PoweredIE7H5RIN474PE</td>\n",
       "      <td>91.0</td>\n",
       "      <td>3</td>\n",
       "    </tr>\n",
       "    <tr>\n",
       "      <th>5783</th>\n",
       "      <td>2019-05-01 00:14:58.037</td>\n",
       "      <td>36.150001</td>\n",
       "      <td>-86.761955</td>\n",
       "      <td>PoweredIE7H5RIN474PE</td>\n",
       "      <td>91.0</td>\n",
       "      <td>3</td>\n",
       "    </tr>\n",
       "    <tr>\n",
       "      <th>7982</th>\n",
       "      <td>2019-05-01 00:19:57.383</td>\n",
       "      <td>36.149929</td>\n",
       "      <td>-86.761890</td>\n",
       "      <td>PoweredIE7H5RIN474PE</td>\n",
       "      <td>91.0</td>\n",
       "      <td>3</td>\n",
       "    </tr>\n",
       "    <tr>\n",
       "      <th>10158</th>\n",
       "      <td>2019-05-01 00:24:57.743</td>\n",
       "      <td>36.149929</td>\n",
       "      <td>-86.761890</td>\n",
       "      <td>PoweredIE7H5RIN474PE</td>\n",
       "      <td>91.0</td>\n",
       "      <td>3</td>\n",
       "    </tr>\n",
       "    <tr>\n",
       "      <th>...</th>\n",
       "      <td>...</td>\n",
       "      <td>...</td>\n",
       "      <td>...</td>\n",
       "      <td>...</td>\n",
       "      <td>...</td>\n",
       "      <td>...</td>\n",
       "    </tr>\n",
       "    <tr>\n",
       "      <th>20277855</th>\n",
       "      <td>2019-05-31 23:38:26.567</td>\n",
       "      <td>36.150014</td>\n",
       "      <td>-86.761922</td>\n",
       "      <td>PoweredIE7H5RIN474PE</td>\n",
       "      <td>5.0</td>\n",
       "      <td>3</td>\n",
       "    </tr>\n",
       "    <tr>\n",
       "      <th>20281419</th>\n",
       "      <td>2019-05-31 23:43:26.623</td>\n",
       "      <td>36.150014</td>\n",
       "      <td>-86.761922</td>\n",
       "      <td>PoweredIE7H5RIN474PE</td>\n",
       "      <td>5.0</td>\n",
       "      <td>3</td>\n",
       "    </tr>\n",
       "    <tr>\n",
       "      <th>20284877</th>\n",
       "      <td>2019-05-31 23:48:26.857</td>\n",
       "      <td>36.150009</td>\n",
       "      <td>-86.761919</td>\n",
       "      <td>PoweredIE7H5RIN474PE</td>\n",
       "      <td>5.0</td>\n",
       "      <td>3</td>\n",
       "    </tr>\n",
       "    <tr>\n",
       "      <th>20288303</th>\n",
       "      <td>2019-05-31 23:53:27.153</td>\n",
       "      <td>36.150009</td>\n",
       "      <td>-86.761919</td>\n",
       "      <td>PoweredIE7H5RIN474PE</td>\n",
       "      <td>5.0</td>\n",
       "      <td>3</td>\n",
       "    </tr>\n",
       "    <tr>\n",
       "      <th>20291764</th>\n",
       "      <td>2019-05-31 23:58:27.207</td>\n",
       "      <td>36.150009</td>\n",
       "      <td>-86.761919</td>\n",
       "      <td>PoweredIE7H5RIN474PE</td>\n",
       "      <td>5.0</td>\n",
       "      <td>3</td>\n",
       "    </tr>\n",
       "  </tbody>\n",
       "</table>\n",
       "<p>8921 rows × 6 columns</p>\n",
       "</div>"
      ],
      "text/plain": [
       "                     pubdatetime   latitude  longitude                sumdid  \\\n",
       "1365     2019-05-01 00:04:56.910  36.150001 -86.761955  PoweredIE7H5RIN474PE   \n",
       "3607     2019-05-01 00:09:56.970  36.150001 -86.761955  PoweredIE7H5RIN474PE   \n",
       "5783     2019-05-01 00:14:58.037  36.150001 -86.761955  PoweredIE7H5RIN474PE   \n",
       "7982     2019-05-01 00:19:57.383  36.149929 -86.761890  PoweredIE7H5RIN474PE   \n",
       "10158    2019-05-01 00:24:57.743  36.149929 -86.761890  PoweredIE7H5RIN474PE   \n",
       "...                          ...        ...        ...                   ...   \n",
       "20277855 2019-05-31 23:38:26.567  36.150014 -86.761922  PoweredIE7H5RIN474PE   \n",
       "20281419 2019-05-31 23:43:26.623  36.150014 -86.761922  PoweredIE7H5RIN474PE   \n",
       "20284877 2019-05-31 23:48:26.857  36.150009 -86.761919  PoweredIE7H5RIN474PE   \n",
       "20288303 2019-05-31 23:53:27.153  36.150009 -86.761919  PoweredIE7H5RIN474PE   \n",
       "20291764 2019-05-31 23:58:27.207  36.150009 -86.761919  PoweredIE7H5RIN474PE   \n",
       "\n",
       "          chargelevel  companyname  \n",
       "1365             91.0            3  \n",
       "3607             91.0            3  \n",
       "5783             91.0            3  \n",
       "7982             91.0            3  \n",
       "10158            91.0            3  \n",
       "...               ...          ...  \n",
       "20277855          5.0            3  \n",
       "20281419          5.0            3  \n",
       "20284877          5.0            3  \n",
       "20288303          5.0            3  \n",
       "20291764          5.0            3  \n",
       "\n",
       "[8921 rows x 6 columns]"
      ]
     },
     "execution_count": 7,
     "metadata": {},
     "output_type": "execute_result"
    }
   ],
   "source": [
    "top_scooter = may[\"sumdid\"].isin([\"PoweredIE7H5RIN474PE\"])\n",
    "may[top_scooter]"
   ]
  },
  {
   "cell_type": "code",
   "execution_count": 8,
   "id": "5928c824",
   "metadata": {},
   "outputs": [
    {
     "data": {
      "text/plain": [
       "dtype('bool')"
      ]
     },
     "execution_count": 8,
     "metadata": {},
     "output_type": "execute_result"
    }
   ],
   "source": [
    "top_scooter.dtypes"
   ]
  },
  {
   "cell_type": "code",
   "execution_count": 21,
   "id": "a3acc70b",
   "metadata": {},
   "outputs": [
    {
     "name": "stderr",
     "output_type": "stream",
     "text": [
      "C:\\Users\\Erin\\AppData\\Local\\Temp/ipykernel_3336/3602254915.py:1: SettingWithCopyWarning: \n",
      "A value is trying to be set on a copy of a slice from a DataFrame.\n",
      "Try using .loc[row_indexer,col_indexer] = value instead\n",
      "\n",
      "See the caveats in the documentation: https://pandas.pydata.org/pandas-docs/stable/user_guide/indexing.html#returning-a-view-versus-a-copy\n",
      "  may_01['date'] = may['pubdatetime'].dt.date\n"
     ]
    },
    {
     "ename": "TypeError",
     "evalue": "'tuple' object is not callable",
     "output_type": "error",
     "traceback": [
      "\u001b[1;31m---------------------------------------------------------------------------\u001b[0m",
      "\u001b[1;31mTypeError\u001b[0m                                 Traceback (most recent call last)",
      "\u001b[1;32m~\\AppData\\Local\\Temp/ipykernel_3336/3602254915.py\u001b[0m in \u001b[0;36m<module>\u001b[1;34m\u001b[0m\n\u001b[0;32m      1\u001b[0m \u001b[0mmay_01\u001b[0m\u001b[1;33m[\u001b[0m\u001b[1;34m'date'\u001b[0m\u001b[1;33m]\u001b[0m \u001b[1;33m=\u001b[0m \u001b[0mmay\u001b[0m\u001b[1;33m[\u001b[0m\u001b[1;34m'pubdatetime'\u001b[0m\u001b[1;33m]\u001b[0m\u001b[1;33m.\u001b[0m\u001b[0mdt\u001b[0m\u001b[1;33m.\u001b[0m\u001b[0mdate\u001b[0m\u001b[1;33m\u001b[0m\u001b[1;33m\u001b[0m\u001b[0m\n\u001b[1;32m----> 2\u001b[1;33m \u001b[0mmay_01\u001b[0m\u001b[1;33m.\u001b[0m\u001b[0mshape\u001b[0m\u001b[1;33m(\u001b[0m\u001b[1;33m)\u001b[0m\u001b[1;33m\u001b[0m\u001b[1;33m\u001b[0m\u001b[0m\n\u001b[0m",
      "\u001b[1;31mTypeError\u001b[0m: 'tuple' object is not callable"
     ]
    }
   ],
   "source": [
    "may_01['date'] = may['pubdatetime'].dt.date\n",
    "may_01.shape()"
   ]
  },
  {
   "cell_type": "code",
   "execution_count": null,
   "id": "e3089577",
   "metadata": {},
   "outputs": [],
   "source": [
    "may_01 = may.loc[]"
   ]
  },
  {
   "cell_type": "markdown",
   "id": "3035203e",
   "metadata": {},
   "source": [
    "# read in shape file"
   ]
  },
  {
   "cell_type": "code",
   "execution_count": null,
   "id": "99973f34",
   "metadata": {},
   "outputs": [],
   "source": [
    "zip_codes = gpd.read_file('../data/zip_codes/zip_codes.shp')"
   ]
  },
  {
   "cell_type": "code",
   "execution_count": null,
   "id": "cc9d9014",
   "metadata": {},
   "outputs": [],
   "source": [
    "zip_codes.head()"
   ]
  },
  {
   "cell_type": "code",
   "execution_count": null,
   "id": "090ee000",
   "metadata": {},
   "outputs": [],
   "source": [
    "zip_codes.plot()"
   ]
  },
  {
   "cell_type": "code",
   "execution_count": null,
   "id": "5436fe95",
   "metadata": {},
   "outputs": [],
   "source": [
    "fig, ax = plt.subplots(figsize=(100,40))\n",
    "zip_codes.plot(ax = ax)\n",
    "ax.axis('off')"
   ]
  },
  {
   "cell_type": "code",
   "execution_count": null,
   "id": "a60737c5",
   "metadata": {},
   "outputs": [],
   "source": [
    "zip_codes.crs"
   ]
  },
  {
   "cell_type": "code",
   "execution_count": null,
   "id": "ca6385e9",
   "metadata": {},
   "outputs": [],
   "source": [
    "bolt_100_geo = gpd.GeoDataFrame(bolt_100, \n",
    "                           crs = zip_codes.crs, \n",
    "                           geometry = bolt_100['geometry'])"
   ]
  },
  {
   "cell_type": "code",
   "execution_count": null,
   "id": "5a541222",
   "metadata": {},
   "outputs": [],
   "source": [
    "type(bolt_100_geo)"
   ]
  },
  {
   "cell_type": "code",
   "execution_count": null,
   "id": "988bcbd8",
   "metadata": {},
   "outputs": [],
   "source": [
    "bolt_100_geo.dtypes"
   ]
  },
  {
   "cell_type": "code",
   "execution_count": null,
   "id": "ecf62ba2",
   "metadata": {},
   "outputs": [],
   "source": [
    "#fig, ax = matplotlib.subplots()\n",
    "ax = zip_codes.plot(figsize = (8, 10), color = 'lightgreen')\n",
    "bolt_100_geo.plot(ax = ax, column=\"sumdid\");\n",
    "plt.show();"
   ]
  },
  {
   "cell_type": "code",
   "execution_count": null,
   "id": "84b3f2c3",
   "metadata": {},
   "outputs": [],
   "source": [
    "zip_codes.geometry.centroid"
   ]
  },
  {
   "cell_type": "code",
   "execution_count": null,
   "id": "7099ac99",
   "metadata": {},
   "outputs": [],
   "source": [
    "center = zip_codes.geometry.centroid[42]"
   ]
  },
  {
   "cell_type": "code",
   "execution_count": null,
   "id": "8e7b77ac",
   "metadata": {},
   "outputs": [],
   "source": [
    "# reverse the order when constructing the array for folium location\n",
    "area_center = [center.y, center.x]\n",
    "\n",
    "# check the order of area_center, the location for our folium map\n",
    "print(area_center)"
   ]
  },
  {
   "cell_type": "code",
   "execution_count": null,
   "id": "a31f60e6",
   "metadata": {},
   "outputs": [],
   "source": [
    "map_bolt_100 = folium.Map(location = area_center, zoom_start = 12)\n",
    "map_bolt_100"
   ]
  },
  {
   "cell_type": "code",
   "execution_count": null,
   "id": "498ec442",
   "metadata": {},
   "outputs": [],
   "source": [
    "i = 0\n",
    "for row_index, row_values in bolt_100_geo.iterrows():\n",
    "    if i <3: \n",
    "        print('index is', row_index)\n",
    "        print('values are:')\n",
    "        print(' ')\n",
    "        print(row_values)\n",
    "        print('------------------------- ')\n",
    "        i+=1"
   ]
  },
  {
   "cell_type": "code",
   "execution_count": null,
   "id": "804ce733",
   "metadata": {},
   "outputs": [],
   "source": [
    "#keep all folium code for a map in the same cell - folium is a memory hog.\n",
    "\n",
    "#draw our zip code area: 37207\n",
    "map_bolt = folium.Map(location =  area_center, zoom_start = 12)\n",
    "\n",
    "folium.GeoJson(zip_codes).add_to(map_bolt)\n",
    "\n",
    "#iterate through stops_in_37207 to create locations and markers \n",
    "#for each bus stop\n",
    "#remember for Folium locations, lat is listed first!!\n",
    "\n",
    "for row_index, row_values in bolt_100_geo.iterrows():\n",
    "    loc = [row_values['latitude'], row_values['longitude']]\n",
    "    pop = str(row_values['sumdid'])\n",
    "    icon=folium.Icon(color=\"blue\",icon=\"bus\", prefix='fa')\n",
    "    \n",
    "    marker = folium.Marker(\n",
    "        location = loc, \n",
    "        popup = pop, icon = icon) \n",
    "\n",
    "    marker.add_to(map_bolt)\n",
    "\n",
    "#display our map\n",
    "map_bolt"
   ]
  },
  {
   "cell_type": "code",
   "execution_count": null,
   "id": "ab98cd73",
   "metadata": {},
   "outputs": [],
   "source": []
  }
 ],
 "metadata": {
  "kernelspec": {
   "display_name": "Python 3 (ipykernel)",
   "language": "python",
   "name": "python3"
  },
  "language_info": {
   "codemirror_mode": {
    "name": "ipython",
    "version": 3
   },
   "file_extension": ".py",
   "mimetype": "text/x-python",
   "name": "python",
   "nbconvert_exporter": "python",
   "pygments_lexer": "ipython3",
   "version": "3.8.5"
  }
 },
 "nbformat": 4,
 "nbformat_minor": 5
}
