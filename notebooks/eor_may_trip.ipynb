{
 "cells": [
  {
   "cell_type": "code",
   "execution_count": 1,
   "id": "aab2e822",
   "metadata": {},
   "outputs": [],
   "source": [
    "import pandas as pd\n",
    "import pickle\n",
    "import matplotlib.pyplot as plt\n",
    "import geopandas as gpd\n",
    "from shapely.geometry import Point\n",
    "\n",
    "%matplotlib inline"
   ]
  },
  {
   "cell_type": "code",
   "execution_count": 2,
   "id": "f56209cd",
   "metadata": {},
   "outputs": [
    {
     "data": {
      "text/plain": [
       "(224969, 16)"
      ]
     },
     "execution_count": 2,
     "metadata": {},
     "output_type": "execute_result"
    }
   ],
   "source": [
    "may_trips = pd.read_csv('../data/may_trip.csv')\n",
    "may_trips.shape"
   ]
  },
  {
   "cell_type": "code",
   "execution_count": 3,
   "id": "6e3b18d9",
   "metadata": {},
   "outputs": [
    {
     "data": {
      "text/plain": [
       "Index(['pubTimeStamp', 'companyName', 'tripRecordNum', 'sumdID',\n",
       "       'tripDuration', 'tripDistance', 'startDate', 'startTime', 'endDate',\n",
       "       'endTime', 'startLatitude', 'startLongitude', 'endLatitude',\n",
       "       'endLongitude', 'tripRoute', 'create_dt'],\n",
       "      dtype='object')"
      ]
     },
     "execution_count": 3,
     "metadata": {},
     "output_type": "execute_result"
    }
   ],
   "source": [
    "may_trips.columns"
   ]
  },
  {
   "cell_type": "code",
   "execution_count": 4,
   "id": "162bcc92",
   "metadata": {},
   "outputs": [],
   "source": [
    "may_trips = may_trips.rename(columns={\"pubTimeStamp\": \"time_stamp\",\n",
    "                        \"companyName\": \"company_name\",\n",
    "                        \"tripRecordNum\": \"trip_number\",\n",
    "                        \"sumdID\": \"scooter_id\",\n",
    "                         \"tripDuration\": \"trip_duration\",\n",
    "                         \"tripDistance\": \"trip_distance\",\n",
    "                         \"startDate\": \"start_date\",\n",
    "                         \"startTime\": \"start_time\",\n",
    "                         \"endDate\": \"end_date\",\n",
    "                         \"endTime\": \"end_time\",\n",
    "                         \"startLatitude\": \"start_lat\",\n",
    "                         \"startLongitude\": \"start_lon\",\n",
    "                         \"endLatitude\": \"end_lat\",\n",
    "                         \"endLongitude\": \"end_lon\",\n",
    "                         \"tripRoute\": \"trip_route\",\n",
    "                         \"create_dt\": \"created_date\"})"
   ]
  },
  {
   "cell_type": "code",
   "execution_count": 5,
   "id": "21537256",
   "metadata": {},
   "outputs": [
    {
     "data": {
      "text/plain": [
       "Lime             102569\n",
       "Lyft              54271\n",
       "Bird              53496\n",
       "SPIN               8471\n",
       "Bolt Mobility      4912\n",
       "Gotcha              650\n",
       "JUMP                600\n",
       "Name: company_name, dtype: int64"
      ]
     },
     "execution_count": 5,
     "metadata": {},
     "output_type": "execute_result"
    }
   ],
   "source": [
    "may_trips['company_name'].value_counts()"
   ]
  },
  {
   "cell_type": "code",
   "execution_count": 6,
   "id": "1ebb40f5",
   "metadata": {},
   "outputs": [
    {
     "data": {
      "text/plain": [
       "company_name\n",
       "Bird             2.593497e+08\n",
       "Bolt Mobility    3.619746e+07\n",
       "Gotcha           9.923631e+05\n",
       "JUMP             3.315629e+06\n",
       "Lime             2.408221e+08\n",
       "Lyft             3.503556e+08\n",
       "SPIN             2.425775e+07\n",
       "Name: trip_distance, dtype: float64"
      ]
     },
     "execution_count": 6,
     "metadata": {},
     "output_type": "execute_result"
    }
   ],
   "source": [
    "may_trips.groupby(['company_name'])['trip_distance'].sum()"
   ]
  },
  {
   "cell_type": "code",
   "execution_count": 7,
   "id": "e02de323",
   "metadata": {},
   "outputs": [
    {
     "data": {
      "text/plain": [
       "time_stamp        object\n",
       "company_name      object\n",
       "trip_number       object\n",
       "scooter_id        object\n",
       "trip_duration    float64\n",
       "trip_distance    float64\n",
       "start_date        object\n",
       "start_time        object\n",
       "end_date          object\n",
       "end_time          object\n",
       "start_lat        float64\n",
       "start_lon        float64\n",
       "end_lat          float64\n",
       "end_lon          float64\n",
       "trip_route        object\n",
       "created_date      object\n",
       "dtype: object"
      ]
     },
     "execution_count": 7,
     "metadata": {},
     "output_type": "execute_result"
    }
   ],
   "source": [
    "may_trips.dtypes"
   ]
  },
  {
   "cell_type": "code",
   "execution_count": 8,
   "id": "e3f8334c",
   "metadata": {},
   "outputs": [
    {
     "data": {
      "text/plain": [
       "(224969, 16)"
      ]
     },
     "execution_count": 8,
     "metadata": {},
     "output_type": "execute_result"
    }
   ],
   "source": [
    "may_trips.shape"
   ]
  },
  {
   "cell_type": "code",
   "execution_count": null,
   "id": "5bf5578f",
   "metadata": {},
   "outputs": [],
   "source": []
  },
  {
   "cell_type": "code",
   "execution_count": null,
   "id": "fc318116",
   "metadata": {},
   "outputs": [],
   "source": []
  }
 ],
 "metadata": {
  "kernelspec": {
   "display_name": "Python 3 (ipykernel)",
   "language": "python",
   "name": "python3"
  },
  "language_info": {
   "codemirror_mode": {
    "name": "ipython",
    "version": 3
   },
   "file_extension": ".py",
   "mimetype": "text/x-python",
   "name": "python",
   "nbconvert_exporter": "python",
   "pygments_lexer": "ipython3",
   "version": "3.8.5"
  }
 },
 "nbformat": 4,
 "nbformat_minor": 5
}
