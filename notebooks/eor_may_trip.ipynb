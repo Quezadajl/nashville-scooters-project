{
 "cells": [
  {
   "cell_type": "code",
   "execution_count": 2,
   "id": "aab2e822",
   "metadata": {},
   "outputs": [],
   "source": [
    "import pandas as pd\n",
    "import pickle\n",
    "import matplotlib.pyplot as plt\n",
    "\n",
    "%matplotlib inline"
   ]
  },
  {
   "cell_type": "code",
   "execution_count": 3,
   "id": "f56209cd",
   "metadata": {},
   "outputs": [
    {
     "data": {
      "text/plain": [
       "(224969, 16)"
      ]
     },
     "execution_count": 3,
     "metadata": {},
     "output_type": "execute_result"
    }
   ],
   "source": [
    "may_trips = pd.read_csv('../data/may_trip.csv')\n",
    "may_trips.shape"
   ]
  },
  {
   "cell_type": "code",
   "execution_count": null,
   "id": "6e3b18d9",
   "metadata": {},
   "outputs": [],
   "source": [
    "may_trips.columns"
   ]
  },
  {
   "cell_type": "code",
   "execution_count": 5,
   "id": "162bcc92",
   "metadata": {},
   "outputs": [
    {
     "ename": "NameError",
     "evalue": "name 'may_trips' is not defined",
     "output_type": "error",
     "traceback": [
      "\u001b[1;31m---------------------------------------------------------------------------\u001b[0m",
      "\u001b[1;31mNameError\u001b[0m                                 Traceback (most recent call last)",
      "\u001b[1;32m~\\AppData\\Local\\Temp/ipykernel_14864/3601347919.py\u001b[0m in \u001b[0;36m<module>\u001b[1;34m\u001b[0m\n\u001b[1;32m----> 1\u001b[1;33m may_trips = may_trips.rename(columns={\"pubTimeStamp\": \"time_stamp\",\n\u001b[0m\u001b[0;32m      2\u001b[0m                         \u001b[1;34m\"companyName\"\u001b[0m\u001b[1;33m:\u001b[0m \u001b[1;34m\"company_name\"\u001b[0m\u001b[1;33m,\u001b[0m\u001b[1;33m\u001b[0m\u001b[1;33m\u001b[0m\u001b[0m\n\u001b[0;32m      3\u001b[0m                         \u001b[1;34m\"tripRecordNum\"\u001b[0m\u001b[1;33m:\u001b[0m \u001b[1;34m\"trip_number\"\u001b[0m\u001b[1;33m,\u001b[0m\u001b[1;33m\u001b[0m\u001b[1;33m\u001b[0m\u001b[0m\n\u001b[0;32m      4\u001b[0m                         \u001b[1;34m\"sumdID\"\u001b[0m\u001b[1;33m:\u001b[0m \u001b[1;34m\"scooter_id\"\u001b[0m\u001b[1;33m,\u001b[0m\u001b[1;33m\u001b[0m\u001b[1;33m\u001b[0m\u001b[0m\n\u001b[0;32m      5\u001b[0m                          \u001b[1;34m\"tripDuration\"\u001b[0m\u001b[1;33m:\u001b[0m \u001b[1;34m\"trip_duration\"\u001b[0m\u001b[1;33m,\u001b[0m\u001b[1;33m\u001b[0m\u001b[1;33m\u001b[0m\u001b[0m\n",
      "\u001b[1;31mNameError\u001b[0m: name 'may_trips' is not defined"
     ]
    }
   ],
   "source": [
    "may_trips = may_trips.rename(columns={\"pubTimeStamp\": \"time_stamp\",\n",
    "                        \"companyName\": \"company_name\",\n",
    "                        \"tripRecordNum\": \"trip_number\",\n",
    "                        \"sumdID\": \"scooter_id\",\n",
    "                         \"tripDuration\": \"trip_duration\",\n",
    "                         \"tripDistance\": \"trip_distance\",\n",
    "                         \"startDate\": \"start_date\",\n",
    "                         \"startTime\": \"start_time\",\n",
    "                         \"endDate\": \"end_date\",\n",
    "                         \"endTime\": \"end_time\",\n",
    "                         \"startLatitude\": \"start_lat\",\n",
    "                         \"startLongitude\": \"start_lon\",\n",
    "                         \"endLatitude\": \"end_lat\",\n",
    "                         \"endLongitude\": \"end_lon\",\n",
    "                         \"tripRoute\": \"trip_route\",\n",
    "                         \"create_dt\": \"created_date\"})"
   ]
  },
  {
   "cell_type": "code",
   "execution_count": 26,
   "id": "21537256",
   "metadata": {},
   "outputs": [
    {
     "data": {
      "text/plain": [
       "Lime             102569\n",
       "Lyft              54271\n",
       "Bird              53496\n",
       "SPIN               8471\n",
       "Bolt Mobility      4912\n",
       "Gotcha              650\n",
       "JUMP                600\n",
       "Name: company_name, dtype: int64"
      ]
     },
     "execution_count": 26,
     "metadata": {},
     "output_type": "execute_result"
    }
   ],
   "source": [
    "may_trips['company_name'].value_counts()"
   ]
  },
  {
   "cell_type": "code",
   "execution_count": 28,
   "id": "1ebb40f5",
   "metadata": {},
   "outputs": [
    {
     "data": {
      "text/plain": [
       "company_name\n",
       "Bird             2.593497e+08\n",
       "Bolt Mobility    3.619746e+07\n",
       "Gotcha           9.923631e+05\n",
       "JUMP             3.315629e+06\n",
       "Lime             2.408221e+08\n",
       "Lyft             3.503556e+08\n",
       "SPIN             2.425775e+07\n",
       "Name: trip_distance, dtype: float64"
      ]
     },
     "execution_count": 28,
     "metadata": {},
     "output_type": "execute_result"
    }
   ],
   "source": [
    "may_trips.groupby(['company_name'])['trip_distance'].sum()"
   ]
  },
  {
   "cell_type": "code",
   "execution_count": 18,
   "id": "e02de323",
   "metadata": {},
   "outputs": [
    {
     "data": {
      "text/plain": [
       "pubTimeStamp       object\n",
       "companyName        object\n",
       "tripRecordNum      object\n",
       "sumdID             object\n",
       "tripDuration      float64\n",
       "tripDistance      float64\n",
       "startDate          object\n",
       "startTime          object\n",
       "endDate            object\n",
       "endTime            object\n",
       "startLatitude     float64\n",
       "startLongitude    float64\n",
       "endLatitude       float64\n",
       "endLongitude      float64\n",
       "tripRoute          object\n",
       "create_dt          object\n",
       "dtype: object"
      ]
     },
     "execution_count": 18,
     "metadata": {},
     "output_type": "execute_result"
    }
   ],
   "source": [
    "may_trips.dtypes"
   ]
  },
  {
   "cell_type": "code",
   "execution_count": 1,
   "id": "e3f8334c",
   "metadata": {},
   "outputs": [
    {
     "ename": "NameError",
     "evalue": "name 'may_trips' is not defined",
     "output_type": "error",
     "traceback": [
      "\u001b[1;31m---------------------------------------------------------------------------\u001b[0m",
      "\u001b[1;31mNameError\u001b[0m                                 Traceback (most recent call last)",
      "\u001b[1;32m~\\AppData\\Local\\Temp/ipykernel_14864/341097935.py\u001b[0m in \u001b[0;36m<module>\u001b[1;34m\u001b[0m\n\u001b[1;32m----> 1\u001b[1;33m \u001b[0mmay_trips\u001b[0m\u001b[1;33m.\u001b[0m\u001b[0mshape\u001b[0m\u001b[1;33m\u001b[0m\u001b[1;33m\u001b[0m\u001b[0m\n\u001b[0m",
      "\u001b[1;31mNameError\u001b[0m: name 'may_trips' is not defined"
     ]
    }
   ],
   "source": [
    "may_trips.shape"
   ]
  },
  {
   "cell_type": "code",
   "execution_count": null,
   "id": "5bf5578f",
   "metadata": {},
   "outputs": [],
   "source": []
  }
 ],
 "metadata": {
  "kernelspec": {
   "display_name": "Python 3",
   "language": "python",
   "name": "python3"
  },
  "language_info": {
   "codemirror_mode": {
    "name": "ipython",
    "version": 3
   },
   "file_extension": ".py",
   "mimetype": "text/x-python",
   "name": "python",
   "nbconvert_exporter": "python",
   "pygments_lexer": "ipython3",
   "version": "3.8.8"
  }
 },
 "nbformat": 4,
 "nbformat_minor": 5
}
