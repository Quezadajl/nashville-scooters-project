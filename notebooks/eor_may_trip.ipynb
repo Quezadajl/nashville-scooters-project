{
 "cells": [
  {
   "cell_type": "code",
   "execution_count": 1,
   "id": "aab2e822",
   "metadata": {},
   "outputs": [],
   "source": [
    "import pandas as pd\n",
    "import pickle\n",
    "import matplotlib.pyplot as plt\n",
    "import geopandas as gpd\n",
    "from shapely.geometry import Point\n",
    "\n",
    "%matplotlib inline"
   ]
  },
  {
   "cell_type": "code",
   "execution_count": 2,
   "id": "f56209cd",
   "metadata": {},
   "outputs": [
    {
     "data": {
      "text/plain": [
       "(224969, 16)"
      ]
     },
     "execution_count": 2,
     "metadata": {},
     "output_type": "execute_result"
    }
   ],
   "source": [
    "may_trips = pd.read_csv('../data/may_trip.csv')\n",
    "may_trips.shape"
   ]
  },
  {
   "cell_type": "code",
   "execution_count": 3,
   "id": "6e3b18d9",
   "metadata": {},
   "outputs": [
    {
     "data": {
      "text/plain": [
       "Index(['pubTimeStamp', 'companyName', 'tripRecordNum', 'sumdID',\n",
       "       'tripDuration', 'tripDistance', 'startDate', 'startTime', 'endDate',\n",
       "       'endTime', 'startLatitude', 'startLongitude', 'endLatitude',\n",
       "       'endLongitude', 'tripRoute', 'create_dt'],\n",
       "      dtype='object')"
      ]
     },
     "execution_count": 3,
     "metadata": {},
     "output_type": "execute_result"
    }
   ],
   "source": [
    "may_trips.columns"
   ]
  },
  {
   "cell_type": "code",
   "execution_count": 4,
   "id": "162bcc92",
   "metadata": {},
   "outputs": [],
   "source": [
    "may_trips = may_trips.rename(columns={\"pubTimeStamp\": \"time_stamp\",\n",
    "                        \"companyName\": \"company_name\",\n",
    "                        \"tripRecordNum\": \"trip_number\",\n",
    "                        \"sumdID\": \"scooter_id\",\n",
    "                         \"tripDuration\": \"trip_duration\",\n",
    "                         \"tripDistance\": \"trip_distance\",\n",
    "                         \"startDate\": \"start_date\",\n",
    "                         \"startTime\": \"start_time\",\n",
    "                         \"endDate\": \"end_date\",\n",
    "                         \"endTime\": \"end_time\",\n",
    "                         \"startLatitude\": \"start_lat\",\n",
    "                         \"startLongitude\": \"start_lon\",\n",
    "                         \"endLatitude\": \"end_lat\",\n",
    "                         \"endLongitude\": \"end_lon\",\n",
    "                         \"tripRoute\": \"trip_route\",\n",
    "                         \"create_dt\": \"created_date\"})"
   ]
  },
  {
   "cell_type": "code",
   "execution_count": 5,
   "id": "21537256",
   "metadata": {},
   "outputs": [
    {
     "data": {
      "text/plain": [
       "Lime             102569\n",
       "Lyft              54271\n",
       "Bird              53496\n",
       "SPIN               8471\n",
       "Bolt Mobility      4912\n",
       "Gotcha              650\n",
       "JUMP                600\n",
       "Name: company_name, dtype: int64"
      ]
     },
     "execution_count": 5,
     "metadata": {},
     "output_type": "execute_result"
    }
   ],
   "source": [
    "may_trips['company_name'].value_counts()"
   ]
  },
  {
   "cell_type": "code",
   "execution_count": 6,
   "id": "1ebb40f5",
   "metadata": {},
   "outputs": [
    {
     "data": {
      "text/plain": [
       "company_name\n",
       "Bird             2.593497e+08\n",
       "Bolt Mobility    3.619746e+07\n",
       "Gotcha           9.923631e+05\n",
       "JUMP             3.315629e+06\n",
       "Lime             2.408221e+08\n",
       "Lyft             3.503556e+08\n",
       "SPIN             2.425775e+07\n",
       "Name: trip_distance, dtype: float64"
      ]
     },
     "execution_count": 6,
     "metadata": {},
     "output_type": "execute_result"
    }
   ],
   "source": [
    "may_trips.groupby(['company_name'])['trip_distance'].sum()"
   ]
  },
  {
   "cell_type": "code",
   "execution_count": 7,
   "id": "e02de323",
   "metadata": {},
   "outputs": [
    {
     "data": {
      "text/plain": [
       "time_stamp        object\n",
       "company_name      object\n",
       "trip_number       object\n",
       "scooter_id        object\n",
       "trip_duration    float64\n",
       "trip_distance    float64\n",
       "start_date        object\n",
       "start_time        object\n",
       "end_date          object\n",
       "end_time          object\n",
       "start_lat        float64\n",
       "start_lon        float64\n",
       "end_lat          float64\n",
       "end_lon          float64\n",
       "trip_route        object\n",
       "created_date      object\n",
       "dtype: object"
      ]
     },
     "execution_count": 7,
     "metadata": {},
     "output_type": "execute_result"
    }
   ],
   "source": [
    "may_trips.dtypes"
   ]
  },
  {
   "cell_type": "code",
   "execution_count": 8,
   "id": "e3f8334c",
   "metadata": {},
   "outputs": [
    {
     "data": {
      "text/plain": [
       "(224969, 16)"
      ]
     },
     "execution_count": 8,
     "metadata": {},
     "output_type": "execute_result"
    }
   ],
   "source": [
    "may_trips.shape"
   ]
  },
  {
   "cell_type": "code",
   "execution_count": 9,
   "id": "5bf5578f",
   "metadata": {},
   "outputs": [
    {
     "data": {
      "text/plain": [
       "<bound method NDFrame.describe of                         time_stamp company_name trip_number  \\\n",
       "0       2019-05-01 00:00:55.423000         Bird     BRD2134   \n",
       "1       2019-05-01 00:03:33.147000         Lyft        LFT5   \n",
       "2       2019-05-01 00:05:55.570000         Bird     BRD2168   \n",
       "3       2019-05-01 00:05:55.570000         Bird     BRD2166   \n",
       "4       2019-05-01 00:05:55.570000         Bird     BRD2165   \n",
       "...                            ...          ...         ...   \n",
       "224964  2019-06-01 23:50:42.373000         Lime     LIM5241   \n",
       "224965  2019-06-01 23:50:42.397000         Lime     LIM5285   \n",
       "224966  2019-06-01 23:50:42.480000         Lime     LIM5413   \n",
       "224967  2019-06-01 23:50:42.480000         Lime     LIM5412   \n",
       "224968  2019-06-13 05:17:41.630000         SPIN      SPI146   \n",
       "\n",
       "                  scooter_id  trip_duration  trip_distance  \\\n",
       "0               Powered9EAJL       3.000000      958.00528   \n",
       "1              Powered296631       1.715600     1371.39112   \n",
       "2               Powered7S2UU       3.000000     2296.58800   \n",
       "3               PoweredZIIVX       3.000000     1200.78744   \n",
       "4               PoweredJ7MB3       2.000000      351.04988   \n",
       "...                      ...            ...            ...   \n",
       "224964  PoweredJ6OI7QJIK4NO2      62.316667        0.00000   \n",
       "224965  PoweredQDVYGLDL6ZQDU      22.383333     9337.15680   \n",
       "224966  PoweredH5HCTZB5WVABT      40.200000    20951.18880   \n",
       "224967  PoweredFXC5KHVLI3T7C      41.033333    21049.61280   \n",
       "224968        Powered5750098   36206.000000    21551.83796   \n",
       "\n",
       "                 start_date       start_time             end_date  \\\n",
       "0       2019-05-01 00:00:00  00:00:20.460000  2019-05-01 00:00:00   \n",
       "1       2019-05-01 00:00:00  00:01:50.090000  2019-05-01 00:00:00   \n",
       "2       2019-05-01 00:00:00  00:03:47.363333  2019-05-01 00:00:00   \n",
       "3       2019-05-01 00:00:00  00:04:21.386666  2019-05-01 00:00:00   \n",
       "4       2019-05-01 00:00:00  00:04:27.796666  2019-05-01 00:00:00   \n",
       "...                     ...              ...                  ...   \n",
       "224964  2019-05-31 00:00:00         23:16:25  2019-06-01 00:00:00   \n",
       "224965  2019-05-31 00:00:00         23:59:45  2019-06-01 00:00:00   \n",
       "224966  2019-05-31 00:00:00         23:31:19  2019-06-01 00:00:00   \n",
       "224967  2019-05-31 00:00:00         23:30:26  2019-06-01 00:00:00   \n",
       "224968  2019-05-19 00:00:00         01:49:22  2019-06-13 00:00:00   \n",
       "\n",
       "               end_time  start_lat  start_lon    end_lat    end_lon  \\\n",
       "0       00:02:52.346666  36.157100 -86.803600  36.156600 -86.806700   \n",
       "1       00:03:33.026666  36.157970 -86.778960  36.160540 -86.776890   \n",
       "2       00:07:13.596666  36.154700 -86.781800  36.156500 -86.786800   \n",
       "3       00:06:59.176666  36.149400 -86.779500  36.153100 -86.779600   \n",
       "4       00:06:23.150000  36.177800 -86.786600  36.177400 -86.787600   \n",
       "...                 ...        ...        ...        ...        ...   \n",
       "224964         00:18:44  36.131741 -86.779007  36.155466 -86.779859   \n",
       "224965         00:22:08  36.126207 -86.789366  36.149205 -86.786162   \n",
       "224966         00:11:31  36.126730 -86.778251  36.143138 -86.793144   \n",
       "224967         00:11:28  36.126730 -86.778195  36.143140 -86.793125   \n",
       "224968         05:14:40  36.148668 -86.813511  36.147776 -86.740437   \n",
       "\n",
       "                                               trip_route  \\\n",
       "0       [[36.157235,-86.803612],[36.157235,-86.80362],...   \n",
       "1       [[36.15797,-86.77896],[36.15795,-86.77873],[36...   \n",
       "2          [[36.155068,-86.782124],[36.156597,-86.78675]]   \n",
       "3       [[36.149741,-86.779344],[36.149741,-86.779327]...   \n",
       "4       [[36.177699,-86.786477],[36.177711,-86.786469]...   \n",
       "...                                                   ...   \n",
       "224964                              [[36.1317,-86.77903]]   \n",
       "224965  [[36.12621,-86.78937],[36.125840000000004,-86....   \n",
       "224966  [[36.12673,-86.77825],[36.12664,-86.77731],[36...   \n",
       "224967  [[36.12673,-86.77819],[36.126740000000005,-86....   \n",
       "224968  [[36.147775779365219,-86.740436729892863],[36....   \n",
       "\n",
       "                      created_date  \n",
       "0       2019-05-02 05:30:23.780000  \n",
       "1       2019-05-02 07:20:32.757000  \n",
       "2       2019-05-02 05:30:24.530000  \n",
       "3       2019-05-02 05:30:24.237000  \n",
       "4       2019-05-02 05:30:24.207000  \n",
       "...                            ...  \n",
       "224964  2019-06-02 08:04:56.923000  \n",
       "224965  2019-06-02 08:04:58.683000  \n",
       "224966  2019-06-02 08:05:02.987000  \n",
       "224967  2019-06-02 08:05:02.957000  \n",
       "224968  2019-06-14 09:36:56.957000  \n",
       "\n",
       "[224969 rows x 16 columns]>"
      ]
     },
     "execution_count": 9,
     "metadata": {},
     "output_type": "execute_result"
    }
   ],
   "source": []
  },
  {
   "cell_type": "code",
   "execution_count": null,
   "id": "fc318116",
   "metadata": {},
   "outputs": [],
   "source": []
  }
 ],
 "metadata": {
  "kernelspec": {
   "display_name": "Python 3 (ipykernel)",
   "language": "python",
   "name": "python3"
  },
  "language_info": {
   "codemirror_mode": {
    "name": "ipython",
    "version": 3
   },
   "file_extension": ".py",
   "mimetype": "text/x-python",
   "name": "python",
   "nbconvert_exporter": "python",
   "pygments_lexer": "ipython3",
   "version": "3.8.5"
  }
 },
 "nbformat": 4,
 "nbformat_minor": 5
}
