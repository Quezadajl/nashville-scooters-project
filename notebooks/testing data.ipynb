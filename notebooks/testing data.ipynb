{
 "cells": [
  {
   "cell_type": "markdown",
   "id": "c7139517",
   "metadata": {},
   "source": [
    "## testing may inventory"
   ]
  },
  {
   "cell_type": "code",
   "execution_count": 35,
   "id": "7cdbd417",
   "metadata": {},
   "outputs": [],
   "source": [
    "import pandas as pd\n",
    "import numpy as np\n",
    "import matplotlib.pyplot as plt\n",
    "import pickle\n",
    "import geopandas as gpd\n",
    "from shapely.geometry import Point\n",
    "import datetime\n",
    "%matplotlib inline"
   ]
  },
  {
   "cell_type": "code",
   "execution_count": 2,
   "id": "e23ae4dd",
   "metadata": {},
   "outputs": [
    {
     "name": "stdout",
     "output_type": "stream",
     "text": [
      "Wall time: 43.2 s\n"
     ]
    }
   ],
   "source": [
    "%%time\n",
    "july = pd.read_csv('../data/july.csv')\n",
    "july = july.sort_values('companyname')"
   ]
  },
  {
   "cell_type": "code",
   "execution_count": 3,
   "id": "faaf4f06",
   "metadata": {
    "scrolled": false
   },
   "outputs": [
    {
     "data": {
      "text/html": [
       "<div>\n",
       "<style scoped>\n",
       "    .dataframe tbody tr th:only-of-type {\n",
       "        vertical-align: middle;\n",
       "    }\n",
       "\n",
       "    .dataframe tbody tr th {\n",
       "        vertical-align: top;\n",
       "    }\n",
       "\n",
       "    .dataframe thead th {\n",
       "        text-align: right;\n",
       "    }\n",
       "</style>\n",
       "<table border=\"1\" class=\"dataframe\">\n",
       "  <thead>\n",
       "    <tr style=\"text-align: right;\">\n",
       "      <th></th>\n",
       "      <th>pubdatetime</th>\n",
       "      <th>latitude</th>\n",
       "      <th>longitude</th>\n",
       "      <th>sumdid</th>\n",
       "      <th>sumdtype</th>\n",
       "      <th>chargelevel</th>\n",
       "      <th>sumdgroup</th>\n",
       "      <th>costpermin</th>\n",
       "      <th>companyname</th>\n",
       "    </tr>\n",
       "  </thead>\n",
       "  <tbody>\n",
       "    <tr>\n",
       "      <th>18106104</th>\n",
       "      <td>2019-07-22 23:52:06.760000</td>\n",
       "      <td>36.173757</td>\n",
       "      <td>-86.784629</td>\n",
       "      <td>PoweredJALW3</td>\n",
       "      <td>Powered</td>\n",
       "      <td>100.0</td>\n",
       "      <td>scooter</td>\n",
       "      <td>0.15</td>\n",
       "      <td>Bird</td>\n",
       "    </tr>\n",
       "    <tr>\n",
       "      <th>9013191</th>\n",
       "      <td>2019-07-11 12:06:22.510000</td>\n",
       "      <td>36.157701</td>\n",
       "      <td>-86.784192</td>\n",
       "      <td>PoweredNLTKH</td>\n",
       "      <td>Powered</td>\n",
       "      <td>100.0</td>\n",
       "      <td>scooter</td>\n",
       "      <td>0.15</td>\n",
       "      <td>Bird</td>\n",
       "    </tr>\n",
       "    <tr>\n",
       "      <th>9013190</th>\n",
       "      <td>2019-07-11 12:06:22.510000</td>\n",
       "      <td>36.148716</td>\n",
       "      <td>-86.807103</td>\n",
       "      <td>PoweredBNP4F</td>\n",
       "      <td>Powered</td>\n",
       "      <td>100.0</td>\n",
       "      <td>scooter</td>\n",
       "      <td>0.15</td>\n",
       "      <td>Bird</td>\n",
       "    </tr>\n",
       "    <tr>\n",
       "      <th>9013189</th>\n",
       "      <td>2019-07-11 12:06:22.510000</td>\n",
       "      <td>36.147127</td>\n",
       "      <td>-86.808608</td>\n",
       "      <td>PoweredQYRFC</td>\n",
       "      <td>Powered</td>\n",
       "      <td>100.0</td>\n",
       "      <td>scooter</td>\n",
       "      <td>0.15</td>\n",
       "      <td>Bird</td>\n",
       "    </tr>\n",
       "    <tr>\n",
       "      <th>9013188</th>\n",
       "      <td>2019-07-11 12:06:22.510000</td>\n",
       "      <td>36.138204</td>\n",
       "      <td>-86.800673</td>\n",
       "      <td>PoweredEQH7F</td>\n",
       "      <td>Powered</td>\n",
       "      <td>100.0</td>\n",
       "      <td>scooter</td>\n",
       "      <td>0.15</td>\n",
       "      <td>Bird</td>\n",
       "    </tr>\n",
       "    <tr>\n",
       "      <th>9013187</th>\n",
       "      <td>2019-07-11 12:06:22.510000</td>\n",
       "      <td>36.145254</td>\n",
       "      <td>-86.805671</td>\n",
       "      <td>Powered1W73Q</td>\n",
       "      <td>Powered</td>\n",
       "      <td>100.0</td>\n",
       "      <td>scooter</td>\n",
       "      <td>0.15</td>\n",
       "      <td>Bird</td>\n",
       "    </tr>\n",
       "    <tr>\n",
       "      <th>9013186</th>\n",
       "      <td>2019-07-11 12:06:22.510000</td>\n",
       "      <td>36.143191</td>\n",
       "      <td>-86.792501</td>\n",
       "      <td>PoweredMX2R4</td>\n",
       "      <td>Powered</td>\n",
       "      <td>99.0</td>\n",
       "      <td>scooter</td>\n",
       "      <td>0.15</td>\n",
       "      <td>Bird</td>\n",
       "    </tr>\n",
       "    <tr>\n",
       "      <th>9013185</th>\n",
       "      <td>2019-07-11 12:06:22.510000</td>\n",
       "      <td>36.143494</td>\n",
       "      <td>-86.810114</td>\n",
       "      <td>PoweredE18E1</td>\n",
       "      <td>Powered</td>\n",
       "      <td>100.0</td>\n",
       "      <td>scooter</td>\n",
       "      <td>0.15</td>\n",
       "      <td>Bird</td>\n",
       "    </tr>\n",
       "    <tr>\n",
       "      <th>9013184</th>\n",
       "      <td>2019-07-11 12:06:22.510000</td>\n",
       "      <td>36.146229</td>\n",
       "      <td>-86.811679</td>\n",
       "      <td>PoweredU6WYW</td>\n",
       "      <td>Powered</td>\n",
       "      <td>100.0</td>\n",
       "      <td>scooter</td>\n",
       "      <td>0.15</td>\n",
       "      <td>Bird</td>\n",
       "    </tr>\n",
       "    <tr>\n",
       "      <th>9013183</th>\n",
       "      <td>2019-07-11 12:06:22.510000</td>\n",
       "      <td>36.141101</td>\n",
       "      <td>-86.797826</td>\n",
       "      <td>PoweredWYF9U</td>\n",
       "      <td>Powered</td>\n",
       "      <td>100.0</td>\n",
       "      <td>scooter</td>\n",
       "      <td>0.15</td>\n",
       "      <td>Bird</td>\n",
       "    </tr>\n",
       "  </tbody>\n",
       "</table>\n",
       "</div>"
      ],
      "text/plain": [
       "                         pubdatetime   latitude  longitude        sumdid  \\\n",
       "18106104  2019-07-22 23:52:06.760000  36.173757 -86.784629  PoweredJALW3   \n",
       "9013191   2019-07-11 12:06:22.510000  36.157701 -86.784192  PoweredNLTKH   \n",
       "9013190   2019-07-11 12:06:22.510000  36.148716 -86.807103  PoweredBNP4F   \n",
       "9013189   2019-07-11 12:06:22.510000  36.147127 -86.808608  PoweredQYRFC   \n",
       "9013188   2019-07-11 12:06:22.510000  36.138204 -86.800673  PoweredEQH7F   \n",
       "9013187   2019-07-11 12:06:22.510000  36.145254 -86.805671  Powered1W73Q   \n",
       "9013186   2019-07-11 12:06:22.510000  36.143191 -86.792501  PoweredMX2R4   \n",
       "9013185   2019-07-11 12:06:22.510000  36.143494 -86.810114  PoweredE18E1   \n",
       "9013184   2019-07-11 12:06:22.510000  36.146229 -86.811679  PoweredU6WYW   \n",
       "9013183   2019-07-11 12:06:22.510000  36.141101 -86.797826  PoweredWYF9U   \n",
       "\n",
       "         sumdtype  chargelevel sumdgroup  costpermin companyname  \n",
       "18106104  Powered        100.0   scooter        0.15        Bird  \n",
       "9013191   Powered        100.0   scooter        0.15        Bird  \n",
       "9013190   Powered        100.0   scooter        0.15        Bird  \n",
       "9013189   Powered        100.0   scooter        0.15        Bird  \n",
       "9013188   Powered        100.0   scooter        0.15        Bird  \n",
       "9013187   Powered        100.0   scooter        0.15        Bird  \n",
       "9013186   Powered         99.0   scooter        0.15        Bird  \n",
       "9013185   Powered        100.0   scooter        0.15        Bird  \n",
       "9013184   Powered        100.0   scooter        0.15        Bird  \n",
       "9013183   Powered        100.0   scooter        0.15        Bird  "
      ]
     },
     "execution_count": 3,
     "metadata": {},
     "output_type": "execute_result"
    }
   ],
   "source": [
    "july.head(10)"
   ]
  },
  {
   "cell_type": "code",
   "execution_count": 4,
   "id": "09a6cbb4",
   "metadata": {},
   "outputs": [
    {
     "name": "stdout",
     "output_type": "stream",
     "text": [
      "<class 'pandas.core.frame.DataFrame'>\n",
      "Int64Index: 25075445 entries, 18106104 to 21590775\n",
      "Data columns (total 9 columns):\n",
      " #   Column       Dtype  \n",
      "---  ------       -----  \n",
      " 0   pubdatetime  object \n",
      " 1   latitude     float64\n",
      " 2   longitude    float64\n",
      " 3   sumdid       object \n",
      " 4   sumdtype     object \n",
      " 5   chargelevel  float64\n",
      " 6   sumdgroup    object \n",
      " 7   costpermin   float64\n",
      " 8   companyname  object \n",
      "dtypes: float64(4), object(5)\n",
      "memory usage: 1.9+ GB\n"
     ]
    }
   ],
   "source": [
    "july.info()"
   ]
  },
  {
   "cell_type": "code",
   "execution_count": 5,
   "id": "c1e08134",
   "metadata": {},
   "outputs": [
    {
     "data": {
      "text/html": [
       "<div>\n",
       "<style scoped>\n",
       "    .dataframe tbody tr th:only-of-type {\n",
       "        vertical-align: middle;\n",
       "    }\n",
       "\n",
       "    .dataframe tbody tr th {\n",
       "        vertical-align: top;\n",
       "    }\n",
       "\n",
       "    .dataframe thead th {\n",
       "        text-align: right;\n",
       "    }\n",
       "</style>\n",
       "<table border=\"1\" class=\"dataframe\">\n",
       "  <thead>\n",
       "    <tr style=\"text-align: right;\">\n",
       "      <th></th>\n",
       "      <th>pubdatetime</th>\n",
       "      <th>latitude</th>\n",
       "      <th>longitude</th>\n",
       "      <th>sumdid</th>\n",
       "      <th>sumdtype</th>\n",
       "      <th>chargelevel</th>\n",
       "      <th>sumdgroup</th>\n",
       "      <th>costpermin</th>\n",
       "      <th>companyname</th>\n",
       "    </tr>\n",
       "  </thead>\n",
       "  <tbody>\n",
       "    <tr>\n",
       "      <th>4339135</th>\n",
       "      <td>2019-07-05 21:23:54.840000</td>\n",
       "      <td>36.17729</td>\n",
       "      <td>-86.75081</td>\n",
       "      <td>Powered5129907</td>\n",
       "      <td>Powered</td>\n",
       "      <td>89.0</td>\n",
       "      <td>Scooter</td>\n",
       "      <td>0.23</td>\n",
       "      <td>Spin</td>\n",
       "    </tr>\n",
       "    <tr>\n",
       "      <th>4339144</th>\n",
       "      <td>2019-07-05 21:23:54.840000</td>\n",
       "      <td>36.15045</td>\n",
       "      <td>-86.80091</td>\n",
       "      <td>Powered9338920</td>\n",
       "      <td>Powered</td>\n",
       "      <td>78.0</td>\n",
       "      <td>Scooter</td>\n",
       "      <td>0.23</td>\n",
       "      <td>Spin</td>\n",
       "    </tr>\n",
       "    <tr>\n",
       "      <th>4339142</th>\n",
       "      <td>2019-07-05 21:23:54.840000</td>\n",
       "      <td>36.17654</td>\n",
       "      <td>-86.78556</td>\n",
       "      <td>Powered6364514</td>\n",
       "      <td>Powered</td>\n",
       "      <td>93.0</td>\n",
       "      <td>Scooter</td>\n",
       "      <td>0.23</td>\n",
       "      <td>Spin</td>\n",
       "    </tr>\n",
       "    <tr>\n",
       "      <th>4339141</th>\n",
       "      <td>2019-07-05 21:23:54.840000</td>\n",
       "      <td>36.16874</td>\n",
       "      <td>-86.77932</td>\n",
       "      <td>Powered8626643</td>\n",
       "      <td>Powered</td>\n",
       "      <td>49.0</td>\n",
       "      <td>Scooter</td>\n",
       "      <td>0.23</td>\n",
       "      <td>Spin</td>\n",
       "    </tr>\n",
       "    <tr>\n",
       "      <th>4339140</th>\n",
       "      <td>2019-07-05 21:23:54.840000</td>\n",
       "      <td>36.16351</td>\n",
       "      <td>-86.78516</td>\n",
       "      <td>Powered7569689</td>\n",
       "      <td>Powered</td>\n",
       "      <td>93.0</td>\n",
       "      <td>Scooter</td>\n",
       "      <td>0.23</td>\n",
       "      <td>Spin</td>\n",
       "    </tr>\n",
       "    <tr>\n",
       "      <th>4339139</th>\n",
       "      <td>2019-07-05 21:23:54.840000</td>\n",
       "      <td>36.16464</td>\n",
       "      <td>-86.79533</td>\n",
       "      <td>Powered5856322</td>\n",
       "      <td>Powered</td>\n",
       "      <td>94.0</td>\n",
       "      <td>Scooter</td>\n",
       "      <td>0.23</td>\n",
       "      <td>Spin</td>\n",
       "    </tr>\n",
       "    <tr>\n",
       "      <th>4339138</th>\n",
       "      <td>2019-07-05 21:23:54.840000</td>\n",
       "      <td>36.16404</td>\n",
       "      <td>-86.79074</td>\n",
       "      <td>Powered2305866</td>\n",
       "      <td>Powered</td>\n",
       "      <td>98.0</td>\n",
       "      <td>Scooter</td>\n",
       "      <td>0.23</td>\n",
       "      <td>Spin</td>\n",
       "    </tr>\n",
       "    <tr>\n",
       "      <th>4339137</th>\n",
       "      <td>2019-07-05 21:23:54.840000</td>\n",
       "      <td>36.14813</td>\n",
       "      <td>-86.80622</td>\n",
       "      <td>Powered5150679</td>\n",
       "      <td>Powered</td>\n",
       "      <td>72.0</td>\n",
       "      <td>Scooter</td>\n",
       "      <td>0.23</td>\n",
       "      <td>Spin</td>\n",
       "    </tr>\n",
       "    <tr>\n",
       "      <th>4339143</th>\n",
       "      <td>2019-07-05 21:23:54.840000</td>\n",
       "      <td>36.17691</td>\n",
       "      <td>-86.78449</td>\n",
       "      <td>Powered9375489</td>\n",
       "      <td>Powered</td>\n",
       "      <td>61.0</td>\n",
       "      <td>Scooter</td>\n",
       "      <td>0.23</td>\n",
       "      <td>Spin</td>\n",
       "    </tr>\n",
       "    <tr>\n",
       "      <th>21590775</th>\n",
       "      <td>2019-07-27 15:02:59.907000</td>\n",
       "      <td>36.15261</td>\n",
       "      <td>-86.79329</td>\n",
       "      <td>Powered1897818</td>\n",
       "      <td>Powered</td>\n",
       "      <td>84.0</td>\n",
       "      <td>Scooter</td>\n",
       "      <td>0.23</td>\n",
       "      <td>Spin</td>\n",
       "    </tr>\n",
       "  </tbody>\n",
       "</table>\n",
       "</div>"
      ],
      "text/plain": [
       "                         pubdatetime  latitude  longitude          sumdid  \\\n",
       "4339135   2019-07-05 21:23:54.840000  36.17729  -86.75081  Powered5129907   \n",
       "4339144   2019-07-05 21:23:54.840000  36.15045  -86.80091  Powered9338920   \n",
       "4339142   2019-07-05 21:23:54.840000  36.17654  -86.78556  Powered6364514   \n",
       "4339141   2019-07-05 21:23:54.840000  36.16874  -86.77932  Powered8626643   \n",
       "4339140   2019-07-05 21:23:54.840000  36.16351  -86.78516  Powered7569689   \n",
       "4339139   2019-07-05 21:23:54.840000  36.16464  -86.79533  Powered5856322   \n",
       "4339138   2019-07-05 21:23:54.840000  36.16404  -86.79074  Powered2305866   \n",
       "4339137   2019-07-05 21:23:54.840000  36.14813  -86.80622  Powered5150679   \n",
       "4339143   2019-07-05 21:23:54.840000  36.17691  -86.78449  Powered9375489   \n",
       "21590775  2019-07-27 15:02:59.907000  36.15261  -86.79329  Powered1897818   \n",
       "\n",
       "         sumdtype  chargelevel sumdgroup  costpermin companyname  \n",
       "4339135   Powered         89.0   Scooter        0.23        Spin  \n",
       "4339144   Powered         78.0   Scooter        0.23        Spin  \n",
       "4339142   Powered         93.0   Scooter        0.23        Spin  \n",
       "4339141   Powered         49.0   Scooter        0.23        Spin  \n",
       "4339140   Powered         93.0   Scooter        0.23        Spin  \n",
       "4339139   Powered         94.0   Scooter        0.23        Spin  \n",
       "4339138   Powered         98.0   Scooter        0.23        Spin  \n",
       "4339137   Powered         72.0   Scooter        0.23        Spin  \n",
       "4339143   Powered         61.0   Scooter        0.23        Spin  \n",
       "21590775  Powered         84.0   Scooter        0.23        Spin  "
      ]
     },
     "execution_count": 5,
     "metadata": {},
     "output_type": "execute_result"
    }
   ],
   "source": [
    "july.tail(10)"
   ]
  },
  {
   "cell_type": "code",
   "execution_count": 6,
   "id": "4badc62e",
   "metadata": {
    "scrolled": true
   },
   "outputs": [
    {
     "name": "stdout",
     "output_type": "stream",
     "text": [
      "<class 'pandas.core.frame.DataFrame'>\n",
      "Int64Index: 25075445 entries, 18106104 to 21590775\n",
      "Data columns (total 9 columns):\n",
      " #   Column       Dtype  \n",
      "---  ------       -----  \n",
      " 0   pubdatetime  object \n",
      " 1   latitude     float64\n",
      " 2   longitude    float64\n",
      " 3   sumdid       object \n",
      " 4   sumdtype     object \n",
      " 5   chargelevel  float64\n",
      " 6   sumdgroup    object \n",
      " 7   costpermin   float64\n",
      " 8   companyname  object \n",
      "dtypes: float64(4), object(5)\n",
      "memory usage: 1.9+ GB\n"
     ]
    }
   ],
   "source": [
    "july.info()"
   ]
  },
  {
   "cell_type": "code",
   "execution_count": 7,
   "id": "c55d0c94",
   "metadata": {},
   "outputs": [
    {
     "data": {
      "text/html": [
       "<div>\n",
       "<style scoped>\n",
       "    .dataframe tbody tr th:only-of-type {\n",
       "        vertical-align: middle;\n",
       "    }\n",
       "\n",
       "    .dataframe tbody tr th {\n",
       "        vertical-align: top;\n",
       "    }\n",
       "\n",
       "    .dataframe thead th {\n",
       "        text-align: right;\n",
       "    }\n",
       "</style>\n",
       "<table border=\"1\" class=\"dataframe\">\n",
       "  <thead>\n",
       "    <tr style=\"text-align: right;\">\n",
       "      <th></th>\n",
       "      <th>pubdatetime</th>\n",
       "      <th>latitude</th>\n",
       "      <th>longitude</th>\n",
       "      <th>sumdid</th>\n",
       "      <th>sumdtype</th>\n",
       "      <th>chargelevel</th>\n",
       "      <th>sumdgroup</th>\n",
       "      <th>costpermin</th>\n",
       "      <th>companyname</th>\n",
       "    </tr>\n",
       "  </thead>\n",
       "  <tbody>\n",
       "    <tr>\n",
       "      <th>18106104</th>\n",
       "      <td>2019-07-22 23:52:06.760</td>\n",
       "      <td>36.173757</td>\n",
       "      <td>-86.784629</td>\n",
       "      <td>PoweredJALW3</td>\n",
       "      <td>Powered</td>\n",
       "      <td>100.0</td>\n",
       "      <td>scooter</td>\n",
       "      <td>0.15</td>\n",
       "      <td>Bird</td>\n",
       "    </tr>\n",
       "    <tr>\n",
       "      <th>9013191</th>\n",
       "      <td>2019-07-11 12:06:22.510</td>\n",
       "      <td>36.157701</td>\n",
       "      <td>-86.784192</td>\n",
       "      <td>PoweredNLTKH</td>\n",
       "      <td>Powered</td>\n",
       "      <td>100.0</td>\n",
       "      <td>scooter</td>\n",
       "      <td>0.15</td>\n",
       "      <td>Bird</td>\n",
       "    </tr>\n",
       "    <tr>\n",
       "      <th>9013190</th>\n",
       "      <td>2019-07-11 12:06:22.510</td>\n",
       "      <td>36.148716</td>\n",
       "      <td>-86.807103</td>\n",
       "      <td>PoweredBNP4F</td>\n",
       "      <td>Powered</td>\n",
       "      <td>100.0</td>\n",
       "      <td>scooter</td>\n",
       "      <td>0.15</td>\n",
       "      <td>Bird</td>\n",
       "    </tr>\n",
       "    <tr>\n",
       "      <th>9013189</th>\n",
       "      <td>2019-07-11 12:06:22.510</td>\n",
       "      <td>36.147127</td>\n",
       "      <td>-86.808608</td>\n",
       "      <td>PoweredQYRFC</td>\n",
       "      <td>Powered</td>\n",
       "      <td>100.0</td>\n",
       "      <td>scooter</td>\n",
       "      <td>0.15</td>\n",
       "      <td>Bird</td>\n",
       "    </tr>\n",
       "    <tr>\n",
       "      <th>9013188</th>\n",
       "      <td>2019-07-11 12:06:22.510</td>\n",
       "      <td>36.138204</td>\n",
       "      <td>-86.800673</td>\n",
       "      <td>PoweredEQH7F</td>\n",
       "      <td>Powered</td>\n",
       "      <td>100.0</td>\n",
       "      <td>scooter</td>\n",
       "      <td>0.15</td>\n",
       "      <td>Bird</td>\n",
       "    </tr>\n",
       "    <tr>\n",
       "      <th>9013187</th>\n",
       "      <td>2019-07-11 12:06:22.510</td>\n",
       "      <td>36.145254</td>\n",
       "      <td>-86.805671</td>\n",
       "      <td>Powered1W73Q</td>\n",
       "      <td>Powered</td>\n",
       "      <td>100.0</td>\n",
       "      <td>scooter</td>\n",
       "      <td>0.15</td>\n",
       "      <td>Bird</td>\n",
       "    </tr>\n",
       "    <tr>\n",
       "      <th>9013186</th>\n",
       "      <td>2019-07-11 12:06:22.510</td>\n",
       "      <td>36.143191</td>\n",
       "      <td>-86.792501</td>\n",
       "      <td>PoweredMX2R4</td>\n",
       "      <td>Powered</td>\n",
       "      <td>99.0</td>\n",
       "      <td>scooter</td>\n",
       "      <td>0.15</td>\n",
       "      <td>Bird</td>\n",
       "    </tr>\n",
       "    <tr>\n",
       "      <th>9013185</th>\n",
       "      <td>2019-07-11 12:06:22.510</td>\n",
       "      <td>36.143494</td>\n",
       "      <td>-86.810114</td>\n",
       "      <td>PoweredE18E1</td>\n",
       "      <td>Powered</td>\n",
       "      <td>100.0</td>\n",
       "      <td>scooter</td>\n",
       "      <td>0.15</td>\n",
       "      <td>Bird</td>\n",
       "    </tr>\n",
       "    <tr>\n",
       "      <th>9013184</th>\n",
       "      <td>2019-07-11 12:06:22.510</td>\n",
       "      <td>36.146229</td>\n",
       "      <td>-86.811679</td>\n",
       "      <td>PoweredU6WYW</td>\n",
       "      <td>Powered</td>\n",
       "      <td>100.0</td>\n",
       "      <td>scooter</td>\n",
       "      <td>0.15</td>\n",
       "      <td>Bird</td>\n",
       "    </tr>\n",
       "    <tr>\n",
       "      <th>9013183</th>\n",
       "      <td>2019-07-11 12:06:22.510</td>\n",
       "      <td>36.141101</td>\n",
       "      <td>-86.797826</td>\n",
       "      <td>PoweredWYF9U</td>\n",
       "      <td>Powered</td>\n",
       "      <td>100.0</td>\n",
       "      <td>scooter</td>\n",
       "      <td>0.15</td>\n",
       "      <td>Bird</td>\n",
       "    </tr>\n",
       "  </tbody>\n",
       "</table>\n",
       "</div>"
      ],
      "text/plain": [
       "                     pubdatetime   latitude  longitude        sumdid sumdtype  \\\n",
       "18106104 2019-07-22 23:52:06.760  36.173757 -86.784629  PoweredJALW3  Powered   \n",
       "9013191  2019-07-11 12:06:22.510  36.157701 -86.784192  PoweredNLTKH  Powered   \n",
       "9013190  2019-07-11 12:06:22.510  36.148716 -86.807103  PoweredBNP4F  Powered   \n",
       "9013189  2019-07-11 12:06:22.510  36.147127 -86.808608  PoweredQYRFC  Powered   \n",
       "9013188  2019-07-11 12:06:22.510  36.138204 -86.800673  PoweredEQH7F  Powered   \n",
       "9013187  2019-07-11 12:06:22.510  36.145254 -86.805671  Powered1W73Q  Powered   \n",
       "9013186  2019-07-11 12:06:22.510  36.143191 -86.792501  PoweredMX2R4  Powered   \n",
       "9013185  2019-07-11 12:06:22.510  36.143494 -86.810114  PoweredE18E1  Powered   \n",
       "9013184  2019-07-11 12:06:22.510  36.146229 -86.811679  PoweredU6WYW  Powered   \n",
       "9013183  2019-07-11 12:06:22.510  36.141101 -86.797826  PoweredWYF9U  Powered   \n",
       "\n",
       "          chargelevel sumdgroup  costpermin companyname  \n",
       "18106104        100.0   scooter        0.15        Bird  \n",
       "9013191         100.0   scooter        0.15        Bird  \n",
       "9013190         100.0   scooter        0.15        Bird  \n",
       "9013189         100.0   scooter        0.15        Bird  \n",
       "9013188         100.0   scooter        0.15        Bird  \n",
       "9013187         100.0   scooter        0.15        Bird  \n",
       "9013186          99.0   scooter        0.15        Bird  \n",
       "9013185         100.0   scooter        0.15        Bird  \n",
       "9013184         100.0   scooter        0.15        Bird  \n",
       "9013183         100.0   scooter        0.15        Bird  "
      ]
     },
     "execution_count": 7,
     "metadata": {},
     "output_type": "execute_result"
    }
   ],
   "source": [
    "july.pubdatetime = pd.to_datetime(july.pubdatetime)\n",
    "july.head(10)"
   ]
  },
  {
   "cell_type": "code",
   "execution_count": 8,
   "id": "f0935a08",
   "metadata": {
    "scrolled": true
   },
   "outputs": [
    {
     "data": {
      "text/plain": [
       "array(['scooter', 'Scooter', 'bicycle'], dtype=object)"
      ]
     },
     "execution_count": 8,
     "metadata": {},
     "output_type": "execute_result"
    }
   ],
   "source": [
    "july.sumdgroup.unique()"
   ]
  },
  {
   "cell_type": "code",
   "execution_count": 9,
   "id": "23ba0758",
   "metadata": {},
   "outputs": [],
   "source": [
    "july_scooters = july.loc[july.sumdgroup.isin(['scooter', 'scooter'])]"
   ]
  },
  {
   "cell_type": "code",
   "execution_count": 10,
   "id": "094e0350",
   "metadata": {},
   "outputs": [],
   "source": [
    "july_scooters = july_scooters[['pubdatetime', \"latitude\", 'longitude', 'sumdid', 'chargelevel', 'costpermin', 'companyname']]"
   ]
  },
  {
   "cell_type": "code",
   "execution_count": 11,
   "id": "1695a933",
   "metadata": {},
   "outputs": [],
   "source": [
    "july_scooters.to_pickle('../data/july.pkl')"
   ]
  },
  {
   "cell_type": "code",
   "execution_count": 12,
   "id": "54263c00",
   "metadata": {
    "scrolled": true
   },
   "outputs": [
    {
     "name": "stdout",
     "output_type": "stream",
     "text": [
      "Wall time: 2.56 s\n"
     ]
    }
   ],
   "source": [
    "%%time\n",
    "july_inv = pd.read_pickle(\"../data/july.pkl\")"
   ]
  },
  {
   "cell_type": "code",
   "execution_count": 13,
   "id": "8b4a469a",
   "metadata": {
    "scrolled": false
   },
   "outputs": [
    {
     "data": {
      "text/html": [
       "<div>\n",
       "<style scoped>\n",
       "    .dataframe tbody tr th:only-of-type {\n",
       "        vertical-align: middle;\n",
       "    }\n",
       "\n",
       "    .dataframe tbody tr th {\n",
       "        vertical-align: top;\n",
       "    }\n",
       "\n",
       "    .dataframe thead th {\n",
       "        text-align: right;\n",
       "    }\n",
       "</style>\n",
       "<table border=\"1\" class=\"dataframe\">\n",
       "  <thead>\n",
       "    <tr style=\"text-align: right;\">\n",
       "      <th></th>\n",
       "      <th>pubdatetime</th>\n",
       "      <th>latitude</th>\n",
       "      <th>longitude</th>\n",
       "      <th>sumdid</th>\n",
       "      <th>chargelevel</th>\n",
       "      <th>costpermin</th>\n",
       "      <th>companyname</th>\n",
       "    </tr>\n",
       "  </thead>\n",
       "  <tbody>\n",
       "    <tr>\n",
       "      <th>18106104</th>\n",
       "      <td>2019-07-22 23:52:06.760</td>\n",
       "      <td>36.173757</td>\n",
       "      <td>-86.784629</td>\n",
       "      <td>PoweredJALW3</td>\n",
       "      <td>100.0</td>\n",
       "      <td>0.15</td>\n",
       "      <td>Bird</td>\n",
       "    </tr>\n",
       "    <tr>\n",
       "      <th>9013191</th>\n",
       "      <td>2019-07-11 12:06:22.510</td>\n",
       "      <td>36.157701</td>\n",
       "      <td>-86.784192</td>\n",
       "      <td>PoweredNLTKH</td>\n",
       "      <td>100.0</td>\n",
       "      <td>0.15</td>\n",
       "      <td>Bird</td>\n",
       "    </tr>\n",
       "    <tr>\n",
       "      <th>9013190</th>\n",
       "      <td>2019-07-11 12:06:22.510</td>\n",
       "      <td>36.148716</td>\n",
       "      <td>-86.807103</td>\n",
       "      <td>PoweredBNP4F</td>\n",
       "      <td>100.0</td>\n",
       "      <td>0.15</td>\n",
       "      <td>Bird</td>\n",
       "    </tr>\n",
       "    <tr>\n",
       "      <th>9013189</th>\n",
       "      <td>2019-07-11 12:06:22.510</td>\n",
       "      <td>36.147127</td>\n",
       "      <td>-86.808608</td>\n",
       "      <td>PoweredQYRFC</td>\n",
       "      <td>100.0</td>\n",
       "      <td>0.15</td>\n",
       "      <td>Bird</td>\n",
       "    </tr>\n",
       "    <tr>\n",
       "      <th>9013188</th>\n",
       "      <td>2019-07-11 12:06:22.510</td>\n",
       "      <td>36.138204</td>\n",
       "      <td>-86.800673</td>\n",
       "      <td>PoweredEQH7F</td>\n",
       "      <td>100.0</td>\n",
       "      <td>0.15</td>\n",
       "      <td>Bird</td>\n",
       "    </tr>\n",
       "  </tbody>\n",
       "</table>\n",
       "</div>"
      ],
      "text/plain": [
       "                     pubdatetime   latitude  longitude        sumdid  \\\n",
       "18106104 2019-07-22 23:52:06.760  36.173757 -86.784629  PoweredJALW3   \n",
       "9013191  2019-07-11 12:06:22.510  36.157701 -86.784192  PoweredNLTKH   \n",
       "9013190  2019-07-11 12:06:22.510  36.148716 -86.807103  PoweredBNP4F   \n",
       "9013189  2019-07-11 12:06:22.510  36.147127 -86.808608  PoweredQYRFC   \n",
       "9013188  2019-07-11 12:06:22.510  36.138204 -86.800673  PoweredEQH7F   \n",
       "\n",
       "          chargelevel  costpermin companyname  \n",
       "18106104        100.0        0.15        Bird  \n",
       "9013191         100.0        0.15        Bird  \n",
       "9013190         100.0        0.15        Bird  \n",
       "9013189         100.0        0.15        Bird  \n",
       "9013188         100.0        0.15        Bird  "
      ]
     },
     "execution_count": 13,
     "metadata": {},
     "output_type": "execute_result"
    }
   ],
   "source": [
    "july_inv.head(5)"
   ]
  },
  {
   "cell_type": "code",
   "execution_count": 14,
   "id": "e0cdfbb3",
   "metadata": {
    "scrolled": false
   },
   "outputs": [
    {
     "name": "stdout",
     "output_type": "stream",
     "text": [
      "Wall time: 15min 25s\n"
     ]
    }
   ],
   "source": [
    "%%time\n",
    "july_inv['geometry'] = july_inv.apply(lambda x: Point((x.longitude, x.latitude)), axis=1)"
   ]
  },
  {
   "cell_type": "code",
   "execution_count": 15,
   "id": "13f4361e",
   "metadata": {
    "scrolled": true
   },
   "outputs": [
    {
     "data": {
      "text/html": [
       "<div>\n",
       "<style scoped>\n",
       "    .dataframe tbody tr th:only-of-type {\n",
       "        vertical-align: middle;\n",
       "    }\n",
       "\n",
       "    .dataframe tbody tr th {\n",
       "        vertical-align: top;\n",
       "    }\n",
       "\n",
       "    .dataframe thead th {\n",
       "        text-align: right;\n",
       "    }\n",
       "</style>\n",
       "<table border=\"1\" class=\"dataframe\">\n",
       "  <thead>\n",
       "    <tr style=\"text-align: right;\">\n",
       "      <th></th>\n",
       "      <th>pubdatetime</th>\n",
       "      <th>latitude</th>\n",
       "      <th>longitude</th>\n",
       "      <th>sumdid</th>\n",
       "      <th>chargelevel</th>\n",
       "      <th>costpermin</th>\n",
       "      <th>companyname</th>\n",
       "      <th>geometry</th>\n",
       "    </tr>\n",
       "  </thead>\n",
       "  <tbody>\n",
       "    <tr>\n",
       "      <th>18106104</th>\n",
       "      <td>2019-07-22 23:52:06.760</td>\n",
       "      <td>36.173757</td>\n",
       "      <td>-86.784629</td>\n",
       "      <td>PoweredJALW3</td>\n",
       "      <td>100.0</td>\n",
       "      <td>0.15</td>\n",
       "      <td>Bird</td>\n",
       "      <td>POINT (-86.784629 36.173757)</td>\n",
       "    </tr>\n",
       "    <tr>\n",
       "      <th>9013191</th>\n",
       "      <td>2019-07-11 12:06:22.510</td>\n",
       "      <td>36.157701</td>\n",
       "      <td>-86.784192</td>\n",
       "      <td>PoweredNLTKH</td>\n",
       "      <td>100.0</td>\n",
       "      <td>0.15</td>\n",
       "      <td>Bird</td>\n",
       "      <td>POINT (-86.784192 36.157701)</td>\n",
       "    </tr>\n",
       "    <tr>\n",
       "      <th>9013190</th>\n",
       "      <td>2019-07-11 12:06:22.510</td>\n",
       "      <td>36.148716</td>\n",
       "      <td>-86.807103</td>\n",
       "      <td>PoweredBNP4F</td>\n",
       "      <td>100.0</td>\n",
       "      <td>0.15</td>\n",
       "      <td>Bird</td>\n",
       "      <td>POINT (-86.807103 36.148716)</td>\n",
       "    </tr>\n",
       "    <tr>\n",
       "      <th>9013189</th>\n",
       "      <td>2019-07-11 12:06:22.510</td>\n",
       "      <td>36.147127</td>\n",
       "      <td>-86.808608</td>\n",
       "      <td>PoweredQYRFC</td>\n",
       "      <td>100.0</td>\n",
       "      <td>0.15</td>\n",
       "      <td>Bird</td>\n",
       "      <td>POINT (-86.80860800000001 36.147127)</td>\n",
       "    </tr>\n",
       "    <tr>\n",
       "      <th>9013188</th>\n",
       "      <td>2019-07-11 12:06:22.510</td>\n",
       "      <td>36.138204</td>\n",
       "      <td>-86.800673</td>\n",
       "      <td>PoweredEQH7F</td>\n",
       "      <td>100.0</td>\n",
       "      <td>0.15</td>\n",
       "      <td>Bird</td>\n",
       "      <td>POINT (-86.800673 36.138204)</td>\n",
       "    </tr>\n",
       "  </tbody>\n",
       "</table>\n",
       "</div>"
      ],
      "text/plain": [
       "                     pubdatetime   latitude  longitude        sumdid  \\\n",
       "18106104 2019-07-22 23:52:06.760  36.173757 -86.784629  PoweredJALW3   \n",
       "9013191  2019-07-11 12:06:22.510  36.157701 -86.784192  PoweredNLTKH   \n",
       "9013190  2019-07-11 12:06:22.510  36.148716 -86.807103  PoweredBNP4F   \n",
       "9013189  2019-07-11 12:06:22.510  36.147127 -86.808608  PoweredQYRFC   \n",
       "9013188  2019-07-11 12:06:22.510  36.138204 -86.800673  PoweredEQH7F   \n",
       "\n",
       "          chargelevel  costpermin companyname  \\\n",
       "18106104        100.0        0.15        Bird   \n",
       "9013191         100.0        0.15        Bird   \n",
       "9013190         100.0        0.15        Bird   \n",
       "9013189         100.0        0.15        Bird   \n",
       "9013188         100.0        0.15        Bird   \n",
       "\n",
       "                                      geometry  \n",
       "18106104          POINT (-86.784629 36.173757)  \n",
       "9013191           POINT (-86.784192 36.157701)  \n",
       "9013190           POINT (-86.807103 36.148716)  \n",
       "9013189   POINT (-86.80860800000001 36.147127)  \n",
       "9013188           POINT (-86.800673 36.138204)  "
      ]
     },
     "execution_count": 15,
     "metadata": {},
     "output_type": "execute_result"
    }
   ],
   "source": [
    "july_inv.head(5)"
   ]
  },
  {
   "cell_type": "code",
   "execution_count": 36,
   "id": "3e99e378",
   "metadata": {
    "scrolled": true
   },
   "outputs": [
    {
     "ename": "AttributeError",
     "evalue": "'DataFrame' object has no attribute 'startTime'",
     "output_type": "error",
     "traceback": [
      "\u001b[1;31m---------------------------------------------------------------------------\u001b[0m",
      "\u001b[1;31mAttributeError\u001b[0m                            Traceback (most recent call last)",
      "\u001b[1;32m~\\AppData\\Local\\Temp/ipykernel_15424/971685259.py\u001b[0m in \u001b[0;36m<module>\u001b[1;34m\u001b[0m\n\u001b[1;32m----> 1\u001b[1;33m \u001b[0mday_of_week\u001b[0m \u001b[1;33m=\u001b[0m \u001b[0mjuly_inv\u001b[0m\u001b[1;33m.\u001b[0m\u001b[0mgroupby\u001b[0m\u001b[1;33m(\u001b[0m\u001b[0mfull_charge\u001b[0m\u001b[1;33m[\u001b[0m\u001b[1;34m'pubdatetime'\u001b[0m\u001b[1;33m]\u001b[0m\u001b[1;33m.\u001b[0m\u001b[0mdt\u001b[0m\u001b[1;33m.\u001b[0m\u001b[0mdayofweek\u001b[0m\u001b[1;33m)\u001b[0m\u001b[1;33m.\u001b[0m\u001b[0mcount\u001b[0m\u001b[1;33m(\u001b[0m\u001b[1;33m)\u001b[0m\u001b[1;33m.\u001b[0m\u001b[0mstartTime\u001b[0m\u001b[1;33m\u001b[0m\u001b[1;33m\u001b[0m\u001b[0m\n\u001b[0m",
      "\u001b[1;32m~\\anaconda3\\envs\\geospatial\\lib\\site-packages\\pandas\\core\\generic.py\u001b[0m in \u001b[0;36m__getattr__\u001b[1;34m(self, name)\u001b[0m\n\u001b[0;32m   5485\u001b[0m         ):\n\u001b[0;32m   5486\u001b[0m             \u001b[1;32mreturn\u001b[0m \u001b[0mself\u001b[0m\u001b[1;33m[\u001b[0m\u001b[0mname\u001b[0m\u001b[1;33m]\u001b[0m\u001b[1;33m\u001b[0m\u001b[1;33m\u001b[0m\u001b[0m\n\u001b[1;32m-> 5487\u001b[1;33m         \u001b[1;32mreturn\u001b[0m \u001b[0mobject\u001b[0m\u001b[1;33m.\u001b[0m\u001b[0m__getattribute__\u001b[0m\u001b[1;33m(\u001b[0m\u001b[0mself\u001b[0m\u001b[1;33m,\u001b[0m \u001b[0mname\u001b[0m\u001b[1;33m)\u001b[0m\u001b[1;33m\u001b[0m\u001b[1;33m\u001b[0m\u001b[0m\n\u001b[0m\u001b[0;32m   5488\u001b[0m \u001b[1;33m\u001b[0m\u001b[0m\n\u001b[0;32m   5489\u001b[0m     \u001b[1;32mdef\u001b[0m \u001b[0m__setattr__\u001b[0m\u001b[1;33m(\u001b[0m\u001b[0mself\u001b[0m\u001b[1;33m,\u001b[0m \u001b[0mname\u001b[0m\u001b[1;33m:\u001b[0m \u001b[0mstr\u001b[0m\u001b[1;33m,\u001b[0m \u001b[0mvalue\u001b[0m\u001b[1;33m)\u001b[0m \u001b[1;33m->\u001b[0m \u001b[1;32mNone\u001b[0m\u001b[1;33m:\u001b[0m\u001b[1;33m\u001b[0m\u001b[1;33m\u001b[0m\u001b[0m\n",
      "\u001b[1;31mAttributeError\u001b[0m: 'DataFrame' object has no attribute 'startTime'"
     ]
    }
   ],
   "source": [
    "day_of_week = july_inv.groupby(full_charge['pubdatetime'].dt.dayofweek).count().startTime"
   ]
  },
  {
   "cell_type": "code",
   "execution_count": null,
   "id": "37f9feed",
   "metadata": {},
   "outputs": [],
   "source": [
    "day_of_week"
   ]
  },
  {
   "cell_type": "code",
   "execution_count": 16,
   "id": "6a6775fc",
   "metadata": {},
   "outputs": [],
   "source": [
    "july_geo = gpd.GeoDataFrame(july_inv, crs = 4326, geometry = july_inv['geometry'])"
   ]
  },
  {
   "cell_type": "code",
   "execution_count": 17,
   "id": "245459af",
   "metadata": {},
   "outputs": [
    {
     "name": "stdout",
     "output_type": "stream",
     "text": [
      "<class 'geopandas.geodataframe.GeoDataFrame'>\n",
      "Int64Index: 20193663 entries, 18106104 to 9791045\n",
      "Data columns (total 8 columns):\n",
      " #   Column       Dtype         \n",
      "---  ------       -----         \n",
      " 0   pubdatetime  datetime64[ns]\n",
      " 1   latitude     float64       \n",
      " 2   longitude    float64       \n",
      " 3   sumdid       object        \n",
      " 4   chargelevel  float64       \n",
      " 5   costpermin   float64       \n",
      " 6   companyname  object        \n",
      " 7   geometry     geometry      \n",
      "dtypes: datetime64[ns](1), float64(4), geometry(1), object(2)\n",
      "memory usage: 1.4+ GB\n"
     ]
    }
   ],
   "source": [
    "july_geo.info()"
   ]
  },
  {
   "cell_type": "code",
   "execution_count": 18,
   "id": "0f0fd81d",
   "metadata": {},
   "outputs": [],
   "source": [
    "july_geo.to_pickle('../data/july_geo.pkl')"
   ]
  },
  {
   "cell_type": "code",
   "execution_count": 19,
   "id": "e0f42337",
   "metadata": {
    "scrolled": false
   },
   "outputs": [
    {
     "data": {
      "image/png": "[encoded data removed]",
      "text/plain": [
       "<Figure size 432x288 with 1 Axes>"
      ]
     },
     "metadata": {
      "needs_background": "light"
     },
     "output_type": "display_data"
    }
   ],
   "source": [
    "july_geo.hist(column = 'chargelevel', bins = 15)\n",
    "plt.show()"
   ]
  },
  {
   "cell_type": "code",
   "execution_count": 20,
   "id": "010ad0d2",
   "metadata": {
    "scrolled": true
   },
   "outputs": [
    {
     "data": {
      "text/plain": [
       "[(0, 'Bird'), (1, 'Jump'), (2, 'Lime'), (3, 'Lyft')]"
      ]
     },
     "execution_count": 20,
     "metadata": {},
     "output_type": "execute_result"
    }
   ],
   "source": [
    "july_companies = list(enumerate(july_inv.companyname.unique()))\n",
    "july_companies"
   ]
  },
  {
   "cell_type": "code",
   "execution_count": 21,
   "id": "fc3da3bf",
   "metadata": {},
   "outputs": [
    {
     "data": {
      "text/plain": [
       "array(['PoweredJALW3', 'PoweredNLTKH', 'PoweredBNP4F', ...,\n",
       "       'Powered594863', 'Powered904713', 'Powered047010'], dtype=object)"
      ]
     },
     "execution_count": 21,
     "metadata": {},
     "output_type": "execute_result"
    }
   ],
   "source": [
    "unique_scooter = july_inv['sumdid'].unique()\n",
    "unique_scooter"
   ]
  },
  {
   "cell_type": "code",
   "execution_count": 22,
   "id": "abb3ccb8",
   "metadata": {
    "scrolled": false
   },
   "outputs": [
    {
     "name": "stdout",
     "output_type": "stream",
     "text": [
      "<class 'pandas.core.frame.DataFrame'>\n",
      "Int64Index: 20193663 entries, 18106104 to 9791045\n",
      "Data columns (total 8 columns):\n",
      " #   Column       Dtype         \n",
      "---  ------       -----         \n",
      " 0   pubdatetime  datetime64[ns]\n",
      " 1   latitude     float64       \n",
      " 2   longitude    float64       \n",
      " 3   sumdid       object        \n",
      " 4   chargelevel  float64       \n",
      " 5   costpermin   float64       \n",
      " 6   companyname  object        \n",
      " 7   geometry     geometry      \n",
      "dtypes: datetime64[ns](1), float64(4), geometry(1), object(2)\n",
      "memory usage: 1.4+ GB\n"
     ]
    }
   ],
   "source": [
    "july_inv.info()"
   ]
  },
  {
   "cell_type": "code",
   "execution_count": 23,
   "id": "75e1e586",
   "metadata": {},
   "outputs": [
    {
     "data": {
      "text/plain": [
       "companyname\n",
       "Jump    10367575\n",
       "Bird     3702282\n",
       "Lime     3233573\n",
       "Lyft     2890233\n",
       "dtype: int64"
      ]
     },
     "execution_count": 23,
     "metadata": {},
     "output_type": "execute_result"
    }
   ],
   "source": [
    "july_inv.value_counts('companyname')"
   ]
  },
  {
   "cell_type": "code",
   "execution_count": 24,
   "id": "714d5fa1",
   "metadata": {
    "scrolled": false
   },
   "outputs": [
    {
     "data": {
      "text/html": [
       "<div>\n",
       "<style scoped>\n",
       "    .dataframe tbody tr th:only-of-type {\n",
       "        vertical-align: middle;\n",
       "    }\n",
       "\n",
       "    .dataframe tbody tr th {\n",
       "        vertical-align: top;\n",
       "    }\n",
       "\n",
       "    .dataframe thead th {\n",
       "        text-align: right;\n",
       "    }\n",
       "</style>\n",
       "<table border=\"1\" class=\"dataframe\">\n",
       "  <thead>\n",
       "    <tr style=\"text-align: right;\">\n",
       "      <th></th>\n",
       "      <th>pubdatetime</th>\n",
       "      <th>latitude</th>\n",
       "      <th>longitude</th>\n",
       "      <th>sumdid</th>\n",
       "      <th>chargelevel</th>\n",
       "      <th>costpermin</th>\n",
       "      <th>companyname</th>\n",
       "      <th>geometry</th>\n",
       "    </tr>\n",
       "  </thead>\n",
       "  <tbody>\n",
       "    <tr>\n",
       "      <th>18106104</th>\n",
       "      <td>2019-07-22 23:52:06.760</td>\n",
       "      <td>36.173757</td>\n",
       "      <td>-86.784629</td>\n",
       "      <td>PoweredJALW3</td>\n",
       "      <td>100.0</td>\n",
       "      <td>0.15</td>\n",
       "      <td>Bird</td>\n",
       "      <td>POINT (-86.78463 36.17376)</td>\n",
       "    </tr>\n",
       "    <tr>\n",
       "      <th>9013191</th>\n",
       "      <td>2019-07-11 12:06:22.510</td>\n",
       "      <td>36.157701</td>\n",
       "      <td>-86.784192</td>\n",
       "      <td>PoweredNLTKH</td>\n",
       "      <td>100.0</td>\n",
       "      <td>0.15</td>\n",
       "      <td>Bird</td>\n",
       "      <td>POINT (-86.78419 36.15770)</td>\n",
       "    </tr>\n",
       "  </tbody>\n",
       "</table>\n",
       "</div>"
      ],
      "text/plain": [
       "                     pubdatetime   latitude  longitude        sumdid  \\\n",
       "18106104 2019-07-22 23:52:06.760  36.173757 -86.784629  PoweredJALW3   \n",
       "9013191  2019-07-11 12:06:22.510  36.157701 -86.784192  PoweredNLTKH   \n",
       "\n",
       "          chargelevel  costpermin companyname                    geometry  \n",
       "18106104        100.0        0.15        Bird  POINT (-86.78463 36.17376)  \n",
       "9013191         100.0        0.15        Bird  POINT (-86.78419 36.15770)  "
      ]
     },
     "execution_count": 24,
     "metadata": {},
     "output_type": "execute_result"
    }
   ],
   "source": [
    "full_charge = july_inv.loc[july_inv['chargelevel'] == 100]\n",
    "full_charge.head(2)"
   ]
  },
  {
   "cell_type": "code",
   "execution_count": 25,
   "id": "1ad4c44f",
   "metadata": {
    "scrolled": false
   },
   "outputs": [
    {
     "data": {
      "text/html": [
       "<div>\n",
       "<style scoped>\n",
       "    .dataframe tbody tr th:only-of-type {\n",
       "        vertical-align: middle;\n",
       "    }\n",
       "\n",
       "    .dataframe tbody tr th {\n",
       "        vertical-align: top;\n",
       "    }\n",
       "\n",
       "    .dataframe thead th {\n",
       "        text-align: right;\n",
       "    }\n",
       "</style>\n",
       "<table border=\"1\" class=\"dataframe\">\n",
       "  <thead>\n",
       "    <tr style=\"text-align: right;\">\n",
       "      <th></th>\n",
       "      <th>pubdatetime</th>\n",
       "      <th>latitude</th>\n",
       "      <th>longitude</th>\n",
       "      <th>sumdid</th>\n",
       "      <th>chargelevel</th>\n",
       "      <th>costpermin</th>\n",
       "      <th>companyname</th>\n",
       "      <th>geometry</th>\n",
       "    </tr>\n",
       "  </thead>\n",
       "  <tbody>\n",
       "    <tr>\n",
       "      <th>14088405</th>\n",
       "      <td>2019-07-17 18:23:13</td>\n",
       "      <td>36.12</td>\n",
       "      <td>-86.7531</td>\n",
       "      <td>Powered66a21bb4-9981-506f-a392-4b6263bf79e1</td>\n",
       "      <td>1.0</td>\n",
       "      <td>0.06</td>\n",
       "      <td>Jump</td>\n",
       "      <td>POINT (-86.75310 36.12000)</td>\n",
       "    </tr>\n",
       "    <tr>\n",
       "      <th>14088404</th>\n",
       "      <td>2019-07-17 18:23:13</td>\n",
       "      <td>36.12</td>\n",
       "      <td>-86.7534</td>\n",
       "      <td>Powered4501372e-4eba-5c5f-9209-5f6783eb4501</td>\n",
       "      <td>0.0</td>\n",
       "      <td>0.06</td>\n",
       "      <td>Jump</td>\n",
       "      <td>POINT (-86.75340 36.12000)</td>\n",
       "    </tr>\n",
       "  </tbody>\n",
       "</table>\n",
       "</div>"
      ],
      "text/plain": [
       "                 pubdatetime  latitude  longitude  \\\n",
       "14088405 2019-07-17 18:23:13     36.12   -86.7531   \n",
       "14088404 2019-07-17 18:23:13     36.12   -86.7534   \n",
       "\n",
       "                                               sumdid  chargelevel  \\\n",
       "14088405  Powered66a21bb4-9981-506f-a392-4b6263bf79e1          1.0   \n",
       "14088404  Powered4501372e-4eba-5c5f-9209-5f6783eb4501          0.0   \n",
       "\n",
       "          costpermin companyname                    geometry  \n",
       "14088405        0.06        Jump  POINT (-86.75310 36.12000)  \n",
       "14088404        0.06        Jump  POINT (-86.75340 36.12000)  "
      ]
     },
     "execution_count": 25,
     "metadata": {},
     "output_type": "execute_result"
    }
   ],
   "source": [
    "dead = july_inv.loc[july_inv['chargelevel'] <5]\n",
    "dead.head(2)"
   ]
  },
  {
   "cell_type": "code",
   "execution_count": 26,
   "id": "a2c78c00",
   "metadata": {
    "scrolled": true
   },
   "outputs": [
    {
     "data": {
      "text/plain": [
       "array([[<AxesSubplot:title={'center':'chargelevel'}>]], dtype=object)"
      ]
     },
     "execution_count": 26,
     "metadata": {},
     "output_type": "execute_result"
    },
    {
     "data": {
      "image/png": "[encoded data removed]",
      "text/plain": [
       "<Figure size 432x288 with 1 Axes>"
      ]
     },
     "metadata": {
      "needs_background": "light"
     },
     "output_type": "display_data"
    }
   ],
   "source": [
    "dead.hist('chargelevel', bins= 10)"
   ]
  },
  {
   "cell_type": "code",
   "execution_count": 33,
   "id": "b7f86b20",
   "metadata": {},
   "outputs": [
    {
     "data": {
      "text/plain": [
       "<matplotlib.collections.PathCollection at 0x1ee72fec2b0>"
      ]
     },
     "execution_count": 33,
     "metadata": {},
     "output_type": "execute_result"
    },
    {
     "data": {
      "image/png": "[encoded data removed]",
      "text/plain": [
       "<Figure size 432x288 with 1 Axes>"
      ]
     },
     "metadata": {
      "needs_background": "light"
     },
     "output_type": "display_data"
    }
   ],
   "source": [
    "plt.scatter(x='pubdatetime', y= 'chargelevel', data = dead)"
   ]
  },
  {
   "cell_type": "markdown",
   "id": "0d11340e",
   "metadata": {},
   "source": [
    "### july_trip data to join"
   ]
  },
  {
   "cell_type": "code",
   "execution_count": 28,
   "id": "1704cde7",
   "metadata": {},
   "outputs": [
    {
     "name": "stdout",
     "output_type": "stream",
     "text": [
      "Wall time: 3.04 s\n"
     ]
    }
   ],
   "source": [
    "%%time\n",
    "july_trip = pd.read_csv('../data/july_trip.csv')\n",
    "july_trip = july_trip.sort_values('companyName')"
   ]
  },
  {
   "cell_type": "code",
   "execution_count": 29,
   "id": "036fe0f9",
   "metadata": {
    "scrolled": false
   },
   "outputs": [
    {
     "data": {
      "text/html": [
       "<div>\n",
       "<style scoped>\n",
       "    .dataframe tbody tr th:only-of-type {\n",
       "        vertical-align: middle;\n",
       "    }\n",
       "\n",
       "    .dataframe tbody tr th {\n",
       "        vertical-align: top;\n",
       "    }\n",
       "\n",
       "    .dataframe thead th {\n",
       "        text-align: right;\n",
       "    }\n",
       "</style>\n",
       "<table border=\"1\" class=\"dataframe\">\n",
       "  <thead>\n",
       "    <tr style=\"text-align: right;\">\n",
       "      <th></th>\n",
       "      <th>pubTimeStamp</th>\n",
       "      <th>companyName</th>\n",
       "      <th>tripRecordNum</th>\n",
       "      <th>sumdID</th>\n",
       "      <th>tripDuration</th>\n",
       "      <th>tripDistance</th>\n",
       "      <th>startDate</th>\n",
       "      <th>startTime</th>\n",
       "      <th>endDate</th>\n",
       "      <th>endTime</th>\n",
       "      <th>startLatitude</th>\n",
       "      <th>startLongitude</th>\n",
       "      <th>endLatitude</th>\n",
       "      <th>endLongitude</th>\n",
       "      <th>tripRoute</th>\n",
       "      <th>create_dt</th>\n",
       "    </tr>\n",
       "  </thead>\n",
       "  <tbody>\n",
       "    <tr>\n",
       "      <th>0</th>\n",
       "      <td>2019-07-01 00:02:52.213000</td>\n",
       "      <td>Bird</td>\n",
       "      <td>BRD5179</td>\n",
       "      <td>PoweredZSHKJ</td>\n",
       "      <td>2.0</td>\n",
       "      <td>0.000</td>\n",
       "      <td>2019-07-01 00:00:00</td>\n",
       "      <td>00:01:32.290000</td>\n",
       "      <td>2019-07-01 00:00:00</td>\n",
       "      <td>00:03:55.966666</td>\n",
       "      <td>36.1775</td>\n",
       "      <td>-86.7516</td>\n",
       "      <td>36.1778</td>\n",
       "      <td>-86.7514</td>\n",
       "      <td>[[36.177438,-86.751861],[36.177425,-86.751987]...</td>\n",
       "      <td>2019-07-02 05:30:18.333000</td>\n",
       "    </tr>\n",
       "    <tr>\n",
       "      <th>34240</th>\n",
       "      <td>2019-07-07 17:30:13.820000</td>\n",
       "      <td>Bird</td>\n",
       "      <td>BRD1485</td>\n",
       "      <td>PoweredDNCQL</td>\n",
       "      <td>9.0</td>\n",
       "      <td>0.000</td>\n",
       "      <td>2019-07-07 00:00:00</td>\n",
       "      <td>17:22:50.260000</td>\n",
       "      <td>2019-07-07 00:00:00</td>\n",
       "      <td>17:32:02.596666</td>\n",
       "      <td>36.1565</td>\n",
       "      <td>-86.7754</td>\n",
       "      <td>36.1549</td>\n",
       "      <td>-86.7771</td>\n",
       "      <td>[[36.156569,-86.775076],[36.156682,-86.775097]...</td>\n",
       "      <td>2019-07-08 05:31:19.507000</td>\n",
       "    </tr>\n",
       "    <tr>\n",
       "      <th>34241</th>\n",
       "      <td>2019-07-07 17:30:13.820000</td>\n",
       "      <td>Bird</td>\n",
       "      <td>BRD1492</td>\n",
       "      <td>Powered22LF9</td>\n",
       "      <td>16.0</td>\n",
       "      <td>0.000</td>\n",
       "      <td>2019-07-07 00:00:00</td>\n",
       "      <td>17:16:30.086666</td>\n",
       "      <td>2019-07-07 00:00:00</td>\n",
       "      <td>17:32:04.733333</td>\n",
       "      <td>36.1641</td>\n",
       "      <td>-86.7965</td>\n",
       "      <td>36.1600</td>\n",
       "      <td>-86.7766</td>\n",
       "      <td>[[36.164459,-86.796071],[36.164469,-86.796059]...</td>\n",
       "      <td>2019-07-08 05:31:19.737000</td>\n",
       "    </tr>\n",
       "    <tr>\n",
       "      <th>34242</th>\n",
       "      <td>2019-07-07 17:30:13.820000</td>\n",
       "      <td>Bird</td>\n",
       "      <td>BRD1494</td>\n",
       "      <td>PoweredSPQ21</td>\n",
       "      <td>19.0</td>\n",
       "      <td>6233.596</td>\n",
       "      <td>2019-07-07 00:00:00</td>\n",
       "      <td>17:11:56.446666</td>\n",
       "      <td>2019-07-07 00:00:00</td>\n",
       "      <td>17:31:20.343333</td>\n",
       "      <td>36.1667</td>\n",
       "      <td>-86.7664</td>\n",
       "      <td>36.1703</td>\n",
       "      <td>-86.7556</td>\n",
       "      <td>[[36.166688,-86.766301],[36.170331,-86.755504]]</td>\n",
       "      <td>2019-07-08 05:31:19.800000</td>\n",
       "    </tr>\n",
       "    <tr>\n",
       "      <th>34243</th>\n",
       "      <td>2019-07-07 17:30:13.820000</td>\n",
       "      <td>Bird</td>\n",
       "      <td>BRD1487</td>\n",
       "      <td>Powered53RQ1</td>\n",
       "      <td>9.0</td>\n",
       "      <td>0.000</td>\n",
       "      <td>2019-07-07 00:00:00</td>\n",
       "      <td>17:21:09.640000</td>\n",
       "      <td>2019-07-07 00:00:00</td>\n",
       "      <td>17:30:31.990000</td>\n",
       "      <td>36.1548</td>\n",
       "      <td>-86.7819</td>\n",
       "      <td>36.1615</td>\n",
       "      <td>-86.7750</td>\n",
       "      <td>[[36.154871,-86.781869],[36.155727,-86.7815],[...</td>\n",
       "      <td>2019-07-08 05:31:19.583000</td>\n",
       "    </tr>\n",
       "  </tbody>\n",
       "</table>\n",
       "</div>"
      ],
      "text/plain": [
       "                     pubTimeStamp companyName tripRecordNum        sumdID  \\\n",
       "0      2019-07-01 00:02:52.213000        Bird       BRD5179  PoweredZSHKJ   \n",
       "34240  2019-07-07 17:30:13.820000        Bird       BRD1485  PoweredDNCQL   \n",
       "34241  2019-07-07 17:30:13.820000        Bird       BRD1492  Powered22LF9   \n",
       "34242  2019-07-07 17:30:13.820000        Bird       BRD1494  PoweredSPQ21   \n",
       "34243  2019-07-07 17:30:13.820000        Bird       BRD1487  Powered53RQ1   \n",
       "\n",
       "       tripDuration  tripDistance            startDate        startTime  \\\n",
       "0               2.0         0.000  2019-07-01 00:00:00  00:01:32.290000   \n",
       "34240           9.0         0.000  2019-07-07 00:00:00  17:22:50.260000   \n",
       "34241          16.0         0.000  2019-07-07 00:00:00  17:16:30.086666   \n",
       "34242          19.0      6233.596  2019-07-07 00:00:00  17:11:56.446666   \n",
       "34243           9.0         0.000  2019-07-07 00:00:00  17:21:09.640000   \n",
       "\n",
       "                   endDate          endTime  startLatitude  startLongitude  \\\n",
       "0      2019-07-01 00:00:00  00:03:55.966666        36.1775        -86.7516   \n",
       "34240  2019-07-07 00:00:00  17:32:02.596666        36.1565        -86.7754   \n",
       "34241  2019-07-07 00:00:00  17:32:04.733333        36.1641        -86.7965   \n",
       "34242  2019-07-07 00:00:00  17:31:20.343333        36.1667        -86.7664   \n",
       "34243  2019-07-07 00:00:00  17:30:31.990000        36.1548        -86.7819   \n",
       "\n",
       "       endLatitude  endLongitude  \\\n",
       "0          36.1778      -86.7514   \n",
       "34240      36.1549      -86.7771   \n",
       "34241      36.1600      -86.7766   \n",
       "34242      36.1703      -86.7556   \n",
       "34243      36.1615      -86.7750   \n",
       "\n",
       "                                               tripRoute  \\\n",
       "0      [[36.177438,-86.751861],[36.177425,-86.751987]...   \n",
       "34240  [[36.156569,-86.775076],[36.156682,-86.775097]...   \n",
       "34241  [[36.164459,-86.796071],[36.164469,-86.796059]...   \n",
       "34242    [[36.166688,-86.766301],[36.170331,-86.755504]]   \n",
       "34243  [[36.154871,-86.781869],[36.155727,-86.7815],[...   \n",
       "\n",
       "                        create_dt  \n",
       "0      2019-07-02 05:30:18.333000  \n",
       "34240  2019-07-08 05:31:19.507000  \n",
       "34241  2019-07-08 05:31:19.737000  \n",
       "34242  2019-07-08 05:31:19.800000  \n",
       "34243  2019-07-08 05:31:19.583000  "
      ]
     },
     "execution_count": 29,
     "metadata": {},
     "output_type": "execute_result"
    }
   ],
   "source": [
    "july_trip.head(5)"
   ]
  },
  {
   "cell_type": "code",
   "execution_count": 30,
   "id": "49a40bc7",
   "metadata": {},
   "outputs": [],
   "source": [
    "july_trip.columns = july_trip.columns.str.lower()"
   ]
  },
  {
   "cell_type": "code",
   "execution_count": 31,
   "id": "20958b9b",
   "metadata": {},
   "outputs": [
    {
     "data": {
      "text/html": [
       "<div>\n",
       "<style scoped>\n",
       "    .dataframe tbody tr th:only-of-type {\n",
       "        vertical-align: middle;\n",
       "    }\n",
       "\n",
       "    .dataframe tbody tr th {\n",
       "        vertical-align: top;\n",
       "    }\n",
       "\n",
       "    .dataframe thead th {\n",
       "        text-align: right;\n",
       "    }\n",
       "</style>\n",
       "<table border=\"1\" class=\"dataframe\">\n",
       "  <thead>\n",
       "    <tr style=\"text-align: right;\">\n",
       "      <th></th>\n",
       "      <th>pubtimestamp</th>\n",
       "      <th>companyname</th>\n",
       "      <th>triprecordnum</th>\n",
       "      <th>sumdid</th>\n",
       "      <th>tripduration</th>\n",
       "      <th>tripdistance</th>\n",
       "      <th>startdate</th>\n",
       "      <th>starttime</th>\n",
       "      <th>enddate</th>\n",
       "      <th>endtime</th>\n",
       "      <th>startlatitude</th>\n",
       "      <th>startlongitude</th>\n",
       "      <th>endlatitude</th>\n",
       "      <th>endlongitude</th>\n",
       "      <th>triproute</th>\n",
       "      <th>create_dt</th>\n",
       "    </tr>\n",
       "  </thead>\n",
       "  <tbody>\n",
       "    <tr>\n",
       "      <th>0</th>\n",
       "      <td>2019-07-01 00:02:52.213000</td>\n",
       "      <td>Bird</td>\n",
       "      <td>BRD5179</td>\n",
       "      <td>PoweredZSHKJ</td>\n",
       "      <td>2.0</td>\n",
       "      <td>0.000</td>\n",
       "      <td>2019-07-01 00:00:00</td>\n",
       "      <td>00:01:32.290000</td>\n",
       "      <td>2019-07-01 00:00:00</td>\n",
       "      <td>00:03:55.966666</td>\n",
       "      <td>36.1775</td>\n",
       "      <td>-86.7516</td>\n",
       "      <td>36.1778</td>\n",
       "      <td>-86.7514</td>\n",
       "      <td>[[36.177438,-86.751861],[36.177425,-86.751987]...</td>\n",
       "      <td>2019-07-02 05:30:18.333000</td>\n",
       "    </tr>\n",
       "    <tr>\n",
       "      <th>34240</th>\n",
       "      <td>2019-07-07 17:30:13.820000</td>\n",
       "      <td>Bird</td>\n",
       "      <td>BRD1485</td>\n",
       "      <td>PoweredDNCQL</td>\n",
       "      <td>9.0</td>\n",
       "      <td>0.000</td>\n",
       "      <td>2019-07-07 00:00:00</td>\n",
       "      <td>17:22:50.260000</td>\n",
       "      <td>2019-07-07 00:00:00</td>\n",
       "      <td>17:32:02.596666</td>\n",
       "      <td>36.1565</td>\n",
       "      <td>-86.7754</td>\n",
       "      <td>36.1549</td>\n",
       "      <td>-86.7771</td>\n",
       "      <td>[[36.156569,-86.775076],[36.156682,-86.775097]...</td>\n",
       "      <td>2019-07-08 05:31:19.507000</td>\n",
       "    </tr>\n",
       "    <tr>\n",
       "      <th>34241</th>\n",
       "      <td>2019-07-07 17:30:13.820000</td>\n",
       "      <td>Bird</td>\n",
       "      <td>BRD1492</td>\n",
       "      <td>Powered22LF9</td>\n",
       "      <td>16.0</td>\n",
       "      <td>0.000</td>\n",
       "      <td>2019-07-07 00:00:00</td>\n",
       "      <td>17:16:30.086666</td>\n",
       "      <td>2019-07-07 00:00:00</td>\n",
       "      <td>17:32:04.733333</td>\n",
       "      <td>36.1641</td>\n",
       "      <td>-86.7965</td>\n",
       "      <td>36.1600</td>\n",
       "      <td>-86.7766</td>\n",
       "      <td>[[36.164459,-86.796071],[36.164469,-86.796059]...</td>\n",
       "      <td>2019-07-08 05:31:19.737000</td>\n",
       "    </tr>\n",
       "    <tr>\n",
       "      <th>34242</th>\n",
       "      <td>2019-07-07 17:30:13.820000</td>\n",
       "      <td>Bird</td>\n",
       "      <td>BRD1494</td>\n",
       "      <td>PoweredSPQ21</td>\n",
       "      <td>19.0</td>\n",
       "      <td>6233.596</td>\n",
       "      <td>2019-07-07 00:00:00</td>\n",
       "      <td>17:11:56.446666</td>\n",
       "      <td>2019-07-07 00:00:00</td>\n",
       "      <td>17:31:20.343333</td>\n",
       "      <td>36.1667</td>\n",
       "      <td>-86.7664</td>\n",
       "      <td>36.1703</td>\n",
       "      <td>-86.7556</td>\n",
       "      <td>[[36.166688,-86.766301],[36.170331,-86.755504]]</td>\n",
       "      <td>2019-07-08 05:31:19.800000</td>\n",
       "    </tr>\n",
       "    <tr>\n",
       "      <th>34243</th>\n",
       "      <td>2019-07-07 17:30:13.820000</td>\n",
       "      <td>Bird</td>\n",
       "      <td>BRD1487</td>\n",
       "      <td>Powered53RQ1</td>\n",
       "      <td>9.0</td>\n",
       "      <td>0.000</td>\n",
       "      <td>2019-07-07 00:00:00</td>\n",
       "      <td>17:21:09.640000</td>\n",
       "      <td>2019-07-07 00:00:00</td>\n",
       "      <td>17:30:31.990000</td>\n",
       "      <td>36.1548</td>\n",
       "      <td>-86.7819</td>\n",
       "      <td>36.1615</td>\n",
       "      <td>-86.7750</td>\n",
       "      <td>[[36.154871,-86.781869],[36.155727,-86.7815],[...</td>\n",
       "      <td>2019-07-08 05:31:19.583000</td>\n",
       "    </tr>\n",
       "  </tbody>\n",
       "</table>\n",
       "</div>"
      ],
      "text/plain": [
       "                     pubtimestamp companyname triprecordnum        sumdid  \\\n",
       "0      2019-07-01 00:02:52.213000        Bird       BRD5179  PoweredZSHKJ   \n",
       "34240  2019-07-07 17:30:13.820000        Bird       BRD1485  PoweredDNCQL   \n",
       "34241  2019-07-07 17:30:13.820000        Bird       BRD1492  Powered22LF9   \n",
       "34242  2019-07-07 17:30:13.820000        Bird       BRD1494  PoweredSPQ21   \n",
       "34243  2019-07-07 17:30:13.820000        Bird       BRD1487  Powered53RQ1   \n",
       "\n",
       "       tripduration  tripdistance            startdate        starttime  \\\n",
       "0               2.0         0.000  2019-07-01 00:00:00  00:01:32.290000   \n",
       "34240           9.0         0.000  2019-07-07 00:00:00  17:22:50.260000   \n",
       "34241          16.0         0.000  2019-07-07 00:00:00  17:16:30.086666   \n",
       "34242          19.0      6233.596  2019-07-07 00:00:00  17:11:56.446666   \n",
       "34243           9.0         0.000  2019-07-07 00:00:00  17:21:09.640000   \n",
       "\n",
       "                   enddate          endtime  startlatitude  startlongitude  \\\n",
       "0      2019-07-01 00:00:00  00:03:55.966666        36.1775        -86.7516   \n",
       "34240  2019-07-07 00:00:00  17:32:02.596666        36.1565        -86.7754   \n",
       "34241  2019-07-07 00:00:00  17:32:04.733333        36.1641        -86.7965   \n",
       "34242  2019-07-07 00:00:00  17:31:20.343333        36.1667        -86.7664   \n",
       "34243  2019-07-07 00:00:00  17:30:31.990000        36.1548        -86.7819   \n",
       "\n",
       "       endlatitude  endlongitude  \\\n",
       "0          36.1778      -86.7514   \n",
       "34240      36.1549      -86.7771   \n",
       "34241      36.1600      -86.7766   \n",
       "34242      36.1703      -86.7556   \n",
       "34243      36.1615      -86.7750   \n",
       "\n",
       "                                               triproute  \\\n",
       "0      [[36.177438,-86.751861],[36.177425,-86.751987]...   \n",
       "34240  [[36.156569,-86.775076],[36.156682,-86.775097]...   \n",
       "34241  [[36.164459,-86.796071],[36.164469,-86.796059]...   \n",
       "34242    [[36.166688,-86.766301],[36.170331,-86.755504]]   \n",
       "34243  [[36.154871,-86.781869],[36.155727,-86.7815],[...   \n",
       "\n",
       "                        create_dt  \n",
       "0      2019-07-02 05:30:18.333000  \n",
       "34240  2019-07-08 05:31:19.507000  \n",
       "34241  2019-07-08 05:31:19.737000  \n",
       "34242  2019-07-08 05:31:19.800000  \n",
       "34243  2019-07-08 05:31:19.583000  "
      ]
     },
     "execution_count": 31,
     "metadata": {},
     "output_type": "execute_result"
    }
   ],
   "source": [
    "july_trip.head(5)"
   ]
  },
  {
   "cell_type": "code",
   "execution_count": null,
   "id": "8181e6e9",
   "metadata": {},
   "outputs": [],
   "source": []
  }
 ],
 "metadata": {
  "kernelspec": {
   "display_name": "Python 3 (ipykernel)",
   "language": "python",
   "name": "python3"
  },
  "language_info": {
   "codemirror_mode": {
    "name": "ipython",
    "version": 3
   },
   "file_extension": ".py",
   "mimetype": "text/x-python",
   "name": "python",
   "nbconvert_exporter": "python",
   "pygments_lexer": "ipython3",
   "version": "3.8.5"
  }
 },
 "nbformat": 4,
 "nbformat_minor": 5
}
