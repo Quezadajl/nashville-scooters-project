{
 "cells": [
  {
   "cell_type": "markdown",
   "id": "c7139517",
   "metadata": {},
   "source": [
    "## may inventory and trip data"
   ]
  },
  {
   "cell_type": "code",
   "execution_count": 1,
   "id": "7cdbd417",
   "metadata": {},
   "outputs": [],
   "source": [
    "import pandas as pd\n",
    "import numpy as np\n",
    "import matplotlib.pyplot as plt\n",
    "import pickle\n",
    "import geopandas as gpd\n",
    "from shapely.geometry import Point\n",
    "%matplotlib inline"
   ]
  },
  {
   "cell_type": "code",
   "execution_count": 2,
   "id": "e23ae4dd",
   "metadata": {},
   "outputs": [
    {
     "name": "stdout",
     "output_type": "stream",
     "text": [
      "Wall time: 31.8 s\n"
     ]
    }
   ],
   "source": [
    "%%time\n",
    "may = pd.read_csv('../data/may.csv')\n",
    "may = may.sort_values('companyname')"
   ]
  },
  {
   "cell_type": "code",
   "execution_count": 3,
   "id": "faaf4f06",
   "metadata": {
    "scrolled": false
   },
   "outputs": [
    {
     "data": {
      "text/html": [
       "<div>\n",
       "<style scoped>\n",
       "    .dataframe tbody tr th:only-of-type {\n",
       "        vertical-align: middle;\n",
       "    }\n",
       "\n",
       "    .dataframe tbody tr th {\n",
       "        vertical-align: top;\n",
       "    }\n",
       "\n",
       "    .dataframe thead th {\n",
       "        text-align: right;\n",
       "    }\n",
       "</style>\n",
       "<table border=\"1\" class=\"dataframe\">\n",
       "  <thead>\n",
       "    <tr style=\"text-align: right;\">\n",
       "      <th></th>\n",
       "      <th>pubdatetime</th>\n",
       "      <th>latitude</th>\n",
       "      <th>longitude</th>\n",
       "      <th>sumdid</th>\n",
       "      <th>sumdtype</th>\n",
       "      <th>chargelevel</th>\n",
       "      <th>sumdgroup</th>\n",
       "      <th>costpermin</th>\n",
       "      <th>companyname</th>\n",
       "    </tr>\n",
       "  </thead>\n",
       "  <tbody>\n",
       "    <tr>\n",
       "      <th>0</th>\n",
       "      <td>2019-05-01 00:01:41.247000</td>\n",
       "      <td>36.136822</td>\n",
       "      <td>-86.799877</td>\n",
       "      <td>PoweredLIRL1</td>\n",
       "      <td>Powered</td>\n",
       "      <td>93.0</td>\n",
       "      <td>scooter</td>\n",
       "      <td>0.0</td>\n",
       "      <td>Bird</td>\n",
       "    </tr>\n",
       "    <tr>\n",
       "      <th>5028030</th>\n",
       "      <td>2019-05-11 16:46:35.640000</td>\n",
       "      <td>36.162264</td>\n",
       "      <td>-86.771856</td>\n",
       "      <td>PoweredBM9H5</td>\n",
       "      <td>Powered</td>\n",
       "      <td>50.0</td>\n",
       "      <td>scooter</td>\n",
       "      <td>0.0</td>\n",
       "      <td>Bird</td>\n",
       "    </tr>\n",
       "    <tr>\n",
       "      <th>5028029</th>\n",
       "      <td>2019-05-11 16:46:35.640000</td>\n",
       "      <td>36.156659</td>\n",
       "      <td>-86.776048</td>\n",
       "      <td>PoweredCPJ2D</td>\n",
       "      <td>Powered</td>\n",
       "      <td>48.0</td>\n",
       "      <td>scooter</td>\n",
       "      <td>0.0</td>\n",
       "      <td>Bird</td>\n",
       "    </tr>\n",
       "    <tr>\n",
       "      <th>5028028</th>\n",
       "      <td>2019-05-11 16:46:35.640000</td>\n",
       "      <td>36.153987</td>\n",
       "      <td>-86.796820</td>\n",
       "      <td>PoweredNM176</td>\n",
       "      <td>Powered</td>\n",
       "      <td>97.0</td>\n",
       "      <td>scooter</td>\n",
       "      <td>0.0</td>\n",
       "      <td>Bird</td>\n",
       "    </tr>\n",
       "    <tr>\n",
       "      <th>5028027</th>\n",
       "      <td>2019-05-11 16:46:35.640000</td>\n",
       "      <td>36.138335</td>\n",
       "      <td>-86.807256</td>\n",
       "      <td>Powered6GM9U</td>\n",
       "      <td>Powered</td>\n",
       "      <td>87.0</td>\n",
       "      <td>scooter</td>\n",
       "      <td>0.0</td>\n",
       "      <td>Bird</td>\n",
       "    </tr>\n",
       "    <tr>\n",
       "      <th>5028026</th>\n",
       "      <td>2019-05-11 16:46:35.640000</td>\n",
       "      <td>36.162575</td>\n",
       "      <td>-86.771640</td>\n",
       "      <td>PoweredKTBB5</td>\n",
       "      <td>Powered</td>\n",
       "      <td>37.0</td>\n",
       "      <td>scooter</td>\n",
       "      <td>0.0</td>\n",
       "      <td>Bird</td>\n",
       "    </tr>\n",
       "    <tr>\n",
       "      <th>5028025</th>\n",
       "      <td>2019-05-11 16:46:35.640000</td>\n",
       "      <td>36.171047</td>\n",
       "      <td>-86.782196</td>\n",
       "      <td>PoweredVX7S1</td>\n",
       "      <td>Powered</td>\n",
       "      <td>80.0</td>\n",
       "      <td>scooter</td>\n",
       "      <td>0.0</td>\n",
       "      <td>Bird</td>\n",
       "    </tr>\n",
       "    <tr>\n",
       "      <th>5028024</th>\n",
       "      <td>2019-05-11 16:46:35.640000</td>\n",
       "      <td>36.145138</td>\n",
       "      <td>-86.780191</td>\n",
       "      <td>PoweredR1256</td>\n",
       "      <td>Powered</td>\n",
       "      <td>81.0</td>\n",
       "      <td>scooter</td>\n",
       "      <td>0.0</td>\n",
       "      <td>Bird</td>\n",
       "    </tr>\n",
       "    <tr>\n",
       "      <th>5028023</th>\n",
       "      <td>2019-05-11 16:46:35.640000</td>\n",
       "      <td>36.152678</td>\n",
       "      <td>-86.797014</td>\n",
       "      <td>PoweredS3KLU</td>\n",
       "      <td>Powered</td>\n",
       "      <td>39.0</td>\n",
       "      <td>scooter</td>\n",
       "      <td>0.0</td>\n",
       "      <td>Bird</td>\n",
       "    </tr>\n",
       "    <tr>\n",
       "      <th>5028031</th>\n",
       "      <td>2019-05-11 16:46:35.640000</td>\n",
       "      <td>36.160880</td>\n",
       "      <td>-86.781606</td>\n",
       "      <td>PoweredBHAPC</td>\n",
       "      <td>Powered</td>\n",
       "      <td>100.0</td>\n",
       "      <td>scooter</td>\n",
       "      <td>0.0</td>\n",
       "      <td>Bird</td>\n",
       "    </tr>\n",
       "  </tbody>\n",
       "</table>\n",
       "</div>"
      ],
      "text/plain": [
       "                        pubdatetime   latitude  longitude        sumdid  \\\n",
       "0        2019-05-01 00:01:41.247000  36.136822 -86.799877  PoweredLIRL1   \n",
       "5028030  2019-05-11 16:46:35.640000  36.162264 -86.771856  PoweredBM9H5   \n",
       "5028029  2019-05-11 16:46:35.640000  36.156659 -86.776048  PoweredCPJ2D   \n",
       "5028028  2019-05-11 16:46:35.640000  36.153987 -86.796820  PoweredNM176   \n",
       "5028027  2019-05-11 16:46:35.640000  36.138335 -86.807256  Powered6GM9U   \n",
       "5028026  2019-05-11 16:46:35.640000  36.162575 -86.771640  PoweredKTBB5   \n",
       "5028025  2019-05-11 16:46:35.640000  36.171047 -86.782196  PoweredVX7S1   \n",
       "5028024  2019-05-11 16:46:35.640000  36.145138 -86.780191  PoweredR1256   \n",
       "5028023  2019-05-11 16:46:35.640000  36.152678 -86.797014  PoweredS3KLU   \n",
       "5028031  2019-05-11 16:46:35.640000  36.160880 -86.781606  PoweredBHAPC   \n",
       "\n",
       "        sumdtype  chargelevel sumdgroup  costpermin companyname  \n",
       "0        Powered         93.0   scooter         0.0        Bird  \n",
       "5028030  Powered         50.0   scooter         0.0        Bird  \n",
       "5028029  Powered         48.0   scooter         0.0        Bird  \n",
       "5028028  Powered         97.0   scooter         0.0        Bird  \n",
       "5028027  Powered         87.0   scooter         0.0        Bird  \n",
       "5028026  Powered         37.0   scooter         0.0        Bird  \n",
       "5028025  Powered         80.0   scooter         0.0        Bird  \n",
       "5028024  Powered         81.0   scooter         0.0        Bird  \n",
       "5028023  Powered         39.0   scooter         0.0        Bird  \n",
       "5028031  Powered        100.0   scooter         0.0        Bird  "
      ]
     },
     "execution_count": 3,
     "metadata": {},
     "output_type": "execute_result"
    }
   ],
   "source": [
    "may.head(10)"
   ]
  },
  {
   "cell_type": "code",
   "execution_count": 4,
   "id": "09a6cbb4",
   "metadata": {},
   "outputs": [
    {
     "name": "stdout",
     "output_type": "stream",
     "text": [
      "<class 'pandas.core.frame.DataFrame'>\n",
      "Int64Index: 20292503 entries, 0 to 10146251\n",
      "Data columns (total 9 columns):\n",
      " #   Column       Dtype  \n",
      "---  ------       -----  \n",
      " 0   pubdatetime  object \n",
      " 1   latitude     float64\n",
      " 2   longitude    float64\n",
      " 3   sumdid       object \n",
      " 4   sumdtype     object \n",
      " 5   chargelevel  float64\n",
      " 6   sumdgroup    object \n",
      " 7   costpermin   float64\n",
      " 8   companyname  object \n",
      "dtypes: float64(4), object(5)\n",
      "memory usage: 1.5+ GB\n"
     ]
    }
   ],
   "source": [
    "may.info()"
   ]
  },
  {
   "cell_type": "code",
   "execution_count": 5,
   "id": "c1e08134",
   "metadata": {},
   "outputs": [
    {
     "data": {
      "text/html": [
       "<div>\n",
       "<style scoped>\n",
       "    .dataframe tbody tr th:only-of-type {\n",
       "        vertical-align: middle;\n",
       "    }\n",
       "\n",
       "    .dataframe tbody tr th {\n",
       "        vertical-align: top;\n",
       "    }\n",
       "\n",
       "    .dataframe thead th {\n",
       "        text-align: right;\n",
       "    }\n",
       "</style>\n",
       "<table border=\"1\" class=\"dataframe\">\n",
       "  <thead>\n",
       "    <tr style=\"text-align: right;\">\n",
       "      <th></th>\n",
       "      <th>pubdatetime</th>\n",
       "      <th>latitude</th>\n",
       "      <th>longitude</th>\n",
       "      <th>sumdid</th>\n",
       "      <th>sumdtype</th>\n",
       "      <th>chargelevel</th>\n",
       "      <th>sumdgroup</th>\n",
       "      <th>costpermin</th>\n",
       "      <th>companyname</th>\n",
       "    </tr>\n",
       "  </thead>\n",
       "  <tbody>\n",
       "    <tr>\n",
       "      <th>12246901</th>\n",
       "      <td>2019-05-23 12:20:08.247000</td>\n",
       "      <td>36.15226</td>\n",
       "      <td>-86.79106</td>\n",
       "      <td>Powered8389404</td>\n",
       "      <td>Powered</td>\n",
       "      <td>99.0</td>\n",
       "      <td>Scooter</td>\n",
       "      <td>0.23</td>\n",
       "      <td>Spin</td>\n",
       "    </tr>\n",
       "    <tr>\n",
       "      <th>12246902</th>\n",
       "      <td>2019-05-23 12:20:08.247000</td>\n",
       "      <td>36.15228</td>\n",
       "      <td>-86.78356</td>\n",
       "      <td>Powered7465952</td>\n",
       "      <td>Powered</td>\n",
       "      <td>98.0</td>\n",
       "      <td>Scooter</td>\n",
       "      <td>0.23</td>\n",
       "      <td>Spin</td>\n",
       "    </tr>\n",
       "    <tr>\n",
       "      <th>12246903</th>\n",
       "      <td>2019-05-23 12:20:08.247000</td>\n",
       "      <td>36.15349</td>\n",
       "      <td>-86.79385</td>\n",
       "      <td>Powered3643342</td>\n",
       "      <td>Powered</td>\n",
       "      <td>93.0</td>\n",
       "      <td>Scooter</td>\n",
       "      <td>0.23</td>\n",
       "      <td>Spin</td>\n",
       "    </tr>\n",
       "    <tr>\n",
       "      <th>12246904</th>\n",
       "      <td>2019-05-23 12:20:08.247000</td>\n",
       "      <td>36.15197</td>\n",
       "      <td>-86.78450</td>\n",
       "      <td>Powered9105973</td>\n",
       "      <td>Powered</td>\n",
       "      <td>98.0</td>\n",
       "      <td>Scooter</td>\n",
       "      <td>0.23</td>\n",
       "      <td>Spin</td>\n",
       "    </tr>\n",
       "    <tr>\n",
       "      <th>12246905</th>\n",
       "      <td>2019-05-23 12:20:08.247000</td>\n",
       "      <td>36.17728</td>\n",
       "      <td>-86.75085</td>\n",
       "      <td>Powered9703898</td>\n",
       "      <td>Powered</td>\n",
       "      <td>98.0</td>\n",
       "      <td>Scooter</td>\n",
       "      <td>0.23</td>\n",
       "      <td>Spin</td>\n",
       "    </tr>\n",
       "    <tr>\n",
       "      <th>12246906</th>\n",
       "      <td>2019-05-23 12:20:08.247000</td>\n",
       "      <td>36.15089</td>\n",
       "      <td>-86.78283</td>\n",
       "      <td>Powered3555620</td>\n",
       "      <td>Powered</td>\n",
       "      <td>99.0</td>\n",
       "      <td>Scooter</td>\n",
       "      <td>0.23</td>\n",
       "      <td>Spin</td>\n",
       "    </tr>\n",
       "    <tr>\n",
       "      <th>12246907</th>\n",
       "      <td>2019-05-23 12:20:08.247000</td>\n",
       "      <td>36.17605</td>\n",
       "      <td>-86.75674</td>\n",
       "      <td>Powered1098749</td>\n",
       "      <td>Powered</td>\n",
       "      <td>92.0</td>\n",
       "      <td>Scooter</td>\n",
       "      <td>0.23</td>\n",
       "      <td>Spin</td>\n",
       "    </tr>\n",
       "    <tr>\n",
       "      <th>12246908</th>\n",
       "      <td>2019-05-23 12:20:08.247000</td>\n",
       "      <td>36.14787</td>\n",
       "      <td>-86.80696</td>\n",
       "      <td>Powered4207407</td>\n",
       "      <td>Powered</td>\n",
       "      <td>99.0</td>\n",
       "      <td>Scooter</td>\n",
       "      <td>0.23</td>\n",
       "      <td>Spin</td>\n",
       "    </tr>\n",
       "    <tr>\n",
       "      <th>12246897</th>\n",
       "      <td>2019-05-23 12:20:08.247000</td>\n",
       "      <td>36.16875</td>\n",
       "      <td>-86.77273</td>\n",
       "      <td>Powered6588515</td>\n",
       "      <td>Powered</td>\n",
       "      <td>92.0</td>\n",
       "      <td>Scooter</td>\n",
       "      <td>0.23</td>\n",
       "      <td>Spin</td>\n",
       "    </tr>\n",
       "    <tr>\n",
       "      <th>10146251</th>\n",
       "      <td>2019-05-20 19:42:33.423000</td>\n",
       "      <td>36.15853</td>\n",
       "      <td>-86.78045</td>\n",
       "      <td>Powered5484396</td>\n",
       "      <td>Powered</td>\n",
       "      <td>99.0</td>\n",
       "      <td>Scooter</td>\n",
       "      <td>0.00</td>\n",
       "      <td>Spin</td>\n",
       "    </tr>\n",
       "  </tbody>\n",
       "</table>\n",
       "</div>"
      ],
      "text/plain": [
       "                         pubdatetime  latitude  longitude          sumdid  \\\n",
       "12246901  2019-05-23 12:20:08.247000  36.15226  -86.79106  Powered8389404   \n",
       "12246902  2019-05-23 12:20:08.247000  36.15228  -86.78356  Powered7465952   \n",
       "12246903  2019-05-23 12:20:08.247000  36.15349  -86.79385  Powered3643342   \n",
       "12246904  2019-05-23 12:20:08.247000  36.15197  -86.78450  Powered9105973   \n",
       "12246905  2019-05-23 12:20:08.247000  36.17728  -86.75085  Powered9703898   \n",
       "12246906  2019-05-23 12:20:08.247000  36.15089  -86.78283  Powered3555620   \n",
       "12246907  2019-05-23 12:20:08.247000  36.17605  -86.75674  Powered1098749   \n",
       "12246908  2019-05-23 12:20:08.247000  36.14787  -86.80696  Powered4207407   \n",
       "12246897  2019-05-23 12:20:08.247000  36.16875  -86.77273  Powered6588515   \n",
       "10146251  2019-05-20 19:42:33.423000  36.15853  -86.78045  Powered5484396   \n",
       "\n",
       "         sumdtype  chargelevel sumdgroup  costpermin companyname  \n",
       "12246901  Powered         99.0   Scooter        0.23        Spin  \n",
       "12246902  Powered         98.0   Scooter        0.23        Spin  \n",
       "12246903  Powered         93.0   Scooter        0.23        Spin  \n",
       "12246904  Powered         98.0   Scooter        0.23        Spin  \n",
       "12246905  Powered         98.0   Scooter        0.23        Spin  \n",
       "12246906  Powered         99.0   Scooter        0.23        Spin  \n",
       "12246907  Powered         92.0   Scooter        0.23        Spin  \n",
       "12246908  Powered         99.0   Scooter        0.23        Spin  \n",
       "12246897  Powered         92.0   Scooter        0.23        Spin  \n",
       "10146251  Powered         99.0   Scooter        0.00        Spin  "
      ]
     },
     "execution_count": 5,
     "metadata": {},
     "output_type": "execute_result"
    }
   ],
   "source": [
    "may.tail(10)"
   ]
  },
  {
   "cell_type": "code",
   "execution_count": 6,
   "id": "4badc62e",
   "metadata": {
    "scrolled": true
   },
   "outputs": [
    {
     "name": "stdout",
     "output_type": "stream",
     "text": [
      "<class 'pandas.core.frame.DataFrame'>\n",
      "Int64Index: 20292503 entries, 0 to 10146251\n",
      "Data columns (total 9 columns):\n",
      " #   Column       Dtype  \n",
      "---  ------       -----  \n",
      " 0   pubdatetime  object \n",
      " 1   latitude     float64\n",
      " 2   longitude    float64\n",
      " 3   sumdid       object \n",
      " 4   sumdtype     object \n",
      " 5   chargelevel  float64\n",
      " 6   sumdgroup    object \n",
      " 7   costpermin   float64\n",
      " 8   companyname  object \n",
      "dtypes: float64(4), object(5)\n",
      "memory usage: 1.5+ GB\n"
     ]
    }
   ],
   "source": [
    "may.info()"
   ]
  },
  {
   "cell_type": "code",
   "execution_count": 7,
   "id": "c55d0c94",
   "metadata": {},
   "outputs": [
    {
     "data": {
      "text/html": [
       "<div>\n",
       "<style scoped>\n",
       "    .dataframe tbody tr th:only-of-type {\n",
       "        vertical-align: middle;\n",
       "    }\n",
       "\n",
       "    .dataframe tbody tr th {\n",
       "        vertical-align: top;\n",
       "    }\n",
       "\n",
       "    .dataframe thead th {\n",
       "        text-align: right;\n",
       "    }\n",
       "</style>\n",
       "<table border=\"1\" class=\"dataframe\">\n",
       "  <thead>\n",
       "    <tr style=\"text-align: right;\">\n",
       "      <th></th>\n",
       "      <th>pubdatetime</th>\n",
       "      <th>latitude</th>\n",
       "      <th>longitude</th>\n",
       "      <th>sumdid</th>\n",
       "      <th>sumdtype</th>\n",
       "      <th>chargelevel</th>\n",
       "      <th>sumdgroup</th>\n",
       "      <th>costpermin</th>\n",
       "      <th>companyname</th>\n",
       "    </tr>\n",
       "  </thead>\n",
       "  <tbody>\n",
       "    <tr>\n",
       "      <th>0</th>\n",
       "      <td>2019-05-01 00:01:41.247</td>\n",
       "      <td>36.136822</td>\n",
       "      <td>-86.799877</td>\n",
       "      <td>PoweredLIRL1</td>\n",
       "      <td>Powered</td>\n",
       "      <td>93.0</td>\n",
       "      <td>scooter</td>\n",
       "      <td>0.0</td>\n",
       "      <td>Bird</td>\n",
       "    </tr>\n",
       "    <tr>\n",
       "      <th>5028030</th>\n",
       "      <td>2019-05-11 16:46:35.640</td>\n",
       "      <td>36.162264</td>\n",
       "      <td>-86.771856</td>\n",
       "      <td>PoweredBM9H5</td>\n",
       "      <td>Powered</td>\n",
       "      <td>50.0</td>\n",
       "      <td>scooter</td>\n",
       "      <td>0.0</td>\n",
       "      <td>Bird</td>\n",
       "    </tr>\n",
       "    <tr>\n",
       "      <th>5028029</th>\n",
       "      <td>2019-05-11 16:46:35.640</td>\n",
       "      <td>36.156659</td>\n",
       "      <td>-86.776048</td>\n",
       "      <td>PoweredCPJ2D</td>\n",
       "      <td>Powered</td>\n",
       "      <td>48.0</td>\n",
       "      <td>scooter</td>\n",
       "      <td>0.0</td>\n",
       "      <td>Bird</td>\n",
       "    </tr>\n",
       "    <tr>\n",
       "      <th>5028028</th>\n",
       "      <td>2019-05-11 16:46:35.640</td>\n",
       "      <td>36.153987</td>\n",
       "      <td>-86.796820</td>\n",
       "      <td>PoweredNM176</td>\n",
       "      <td>Powered</td>\n",
       "      <td>97.0</td>\n",
       "      <td>scooter</td>\n",
       "      <td>0.0</td>\n",
       "      <td>Bird</td>\n",
       "    </tr>\n",
       "    <tr>\n",
       "      <th>5028027</th>\n",
       "      <td>2019-05-11 16:46:35.640</td>\n",
       "      <td>36.138335</td>\n",
       "      <td>-86.807256</td>\n",
       "      <td>Powered6GM9U</td>\n",
       "      <td>Powered</td>\n",
       "      <td>87.0</td>\n",
       "      <td>scooter</td>\n",
       "      <td>0.0</td>\n",
       "      <td>Bird</td>\n",
       "    </tr>\n",
       "    <tr>\n",
       "      <th>5028026</th>\n",
       "      <td>2019-05-11 16:46:35.640</td>\n",
       "      <td>36.162575</td>\n",
       "      <td>-86.771640</td>\n",
       "      <td>PoweredKTBB5</td>\n",
       "      <td>Powered</td>\n",
       "      <td>37.0</td>\n",
       "      <td>scooter</td>\n",
       "      <td>0.0</td>\n",
       "      <td>Bird</td>\n",
       "    </tr>\n",
       "    <tr>\n",
       "      <th>5028025</th>\n",
       "      <td>2019-05-11 16:46:35.640</td>\n",
       "      <td>36.171047</td>\n",
       "      <td>-86.782196</td>\n",
       "      <td>PoweredVX7S1</td>\n",
       "      <td>Powered</td>\n",
       "      <td>80.0</td>\n",
       "      <td>scooter</td>\n",
       "      <td>0.0</td>\n",
       "      <td>Bird</td>\n",
       "    </tr>\n",
       "    <tr>\n",
       "      <th>5028024</th>\n",
       "      <td>2019-05-11 16:46:35.640</td>\n",
       "      <td>36.145138</td>\n",
       "      <td>-86.780191</td>\n",
       "      <td>PoweredR1256</td>\n",
       "      <td>Powered</td>\n",
       "      <td>81.0</td>\n",
       "      <td>scooter</td>\n",
       "      <td>0.0</td>\n",
       "      <td>Bird</td>\n",
       "    </tr>\n",
       "    <tr>\n",
       "      <th>5028023</th>\n",
       "      <td>2019-05-11 16:46:35.640</td>\n",
       "      <td>36.152678</td>\n",
       "      <td>-86.797014</td>\n",
       "      <td>PoweredS3KLU</td>\n",
       "      <td>Powered</td>\n",
       "      <td>39.0</td>\n",
       "      <td>scooter</td>\n",
       "      <td>0.0</td>\n",
       "      <td>Bird</td>\n",
       "    </tr>\n",
       "    <tr>\n",
       "      <th>5028031</th>\n",
       "      <td>2019-05-11 16:46:35.640</td>\n",
       "      <td>36.160880</td>\n",
       "      <td>-86.781606</td>\n",
       "      <td>PoweredBHAPC</td>\n",
       "      <td>Powered</td>\n",
       "      <td>100.0</td>\n",
       "      <td>scooter</td>\n",
       "      <td>0.0</td>\n",
       "      <td>Bird</td>\n",
       "    </tr>\n",
       "  </tbody>\n",
       "</table>\n",
       "</div>"
      ],
      "text/plain": [
       "                    pubdatetime   latitude  longitude        sumdid sumdtype  \\\n",
       "0       2019-05-01 00:01:41.247  36.136822 -86.799877  PoweredLIRL1  Powered   \n",
       "5028030 2019-05-11 16:46:35.640  36.162264 -86.771856  PoweredBM9H5  Powered   \n",
       "5028029 2019-05-11 16:46:35.640  36.156659 -86.776048  PoweredCPJ2D  Powered   \n",
       "5028028 2019-05-11 16:46:35.640  36.153987 -86.796820  PoweredNM176  Powered   \n",
       "5028027 2019-05-11 16:46:35.640  36.138335 -86.807256  Powered6GM9U  Powered   \n",
       "5028026 2019-05-11 16:46:35.640  36.162575 -86.771640  PoweredKTBB5  Powered   \n",
       "5028025 2019-05-11 16:46:35.640  36.171047 -86.782196  PoweredVX7S1  Powered   \n",
       "5028024 2019-05-11 16:46:35.640  36.145138 -86.780191  PoweredR1256  Powered   \n",
       "5028023 2019-05-11 16:46:35.640  36.152678 -86.797014  PoweredS3KLU  Powered   \n",
       "5028031 2019-05-11 16:46:35.640  36.160880 -86.781606  PoweredBHAPC  Powered   \n",
       "\n",
       "         chargelevel sumdgroup  costpermin companyname  \n",
       "0               93.0   scooter         0.0        Bird  \n",
       "5028030         50.0   scooter         0.0        Bird  \n",
       "5028029         48.0   scooter         0.0        Bird  \n",
       "5028028         97.0   scooter         0.0        Bird  \n",
       "5028027         87.0   scooter         0.0        Bird  \n",
       "5028026         37.0   scooter         0.0        Bird  \n",
       "5028025         80.0   scooter         0.0        Bird  \n",
       "5028024         81.0   scooter         0.0        Bird  \n",
       "5028023         39.0   scooter         0.0        Bird  \n",
       "5028031        100.0   scooter         0.0        Bird  "
      ]
     },
     "execution_count": 7,
     "metadata": {},
     "output_type": "execute_result"
    }
   ],
   "source": [
    "may.pubdatetime = pd.to_datetime(may.pubdatetime)\n",
    "may.head(10)"
   ]
  },
  {
   "cell_type": "code",
   "execution_count": 8,
   "id": "f0935a08",
   "metadata": {
    "scrolled": true
   },
   "outputs": [
    {
     "data": {
      "text/plain": [
       "array(['scooter', 'Scooter', 'bicycle'], dtype=object)"
      ]
     },
     "execution_count": 8,
     "metadata": {},
     "output_type": "execute_result"
    }
   ],
   "source": [
    "may.sumdgroup.unique()"
   ]
  },
  {
   "cell_type": "code",
   "execution_count": 9,
   "id": "23ba0758",
   "metadata": {},
   "outputs": [],
   "source": [
    "may_scooters = may.loc[may.sumdgroup.isin(['scooter', 'scooter'])]"
   ]
  },
  {
   "cell_type": "code",
   "execution_count": 10,
   "id": "094e0350",
   "metadata": {},
   "outputs": [],
   "source": [
    "may_scooters = may_scooters[['pubdatetime', \"latitude\", 'longitude', 'sumdid', 'chargelevel', 'costpermin', 'companyname']]"
   ]
  },
  {
   "cell_type": "code",
   "execution_count": 11,
   "id": "1695a933",
   "metadata": {},
   "outputs": [],
   "source": [
    "may_scooters.to_pickle('../data/may.pkl')"
   ]
  },
  {
   "cell_type": "code",
   "execution_count": 12,
   "id": "54263c00",
   "metadata": {
    "scrolled": true
   },
   "outputs": [
    {
     "name": "stdout",
     "output_type": "stream",
     "text": [
      "Wall time: 1.87 s\n"
     ]
    }
   ],
   "source": [
    "%%time\n",
    "may_inv = pd.read_pickle(\"../data/may.pkl\")"
   ]
  },
  {
   "cell_type": "code",
   "execution_count": 22,
   "id": "8b4a469a",
   "metadata": {
    "scrolled": false
   },
   "outputs": [
    {
     "data": {
      "text/html": [
       "<div>\n",
       "<style scoped>\n",
       "    .dataframe tbody tr th:only-of-type {\n",
       "        vertical-align: middle;\n",
       "    }\n",
       "\n",
       "    .dataframe tbody tr th {\n",
       "        vertical-align: top;\n",
       "    }\n",
       "\n",
       "    .dataframe thead th {\n",
       "        text-align: right;\n",
       "    }\n",
       "</style>\n",
       "<table border=\"1\" class=\"dataframe\">\n",
       "  <thead>\n",
       "    <tr style=\"text-align: right;\">\n",
       "      <th></th>\n",
       "      <th>pubdatetime</th>\n",
       "      <th>latitude</th>\n",
       "      <th>longitude</th>\n",
       "      <th>sumdid</th>\n",
       "      <th>chargelevel</th>\n",
       "      <th>costpermin</th>\n",
       "      <th>companyname</th>\n",
       "      <th>geometry</th>\n",
       "    </tr>\n",
       "  </thead>\n",
       "  <tbody>\n",
       "    <tr>\n",
       "      <th>0</th>\n",
       "      <td>2019-05-01 00:01:41.247</td>\n",
       "      <td>36.136822</td>\n",
       "      <td>-86.799877</td>\n",
       "      <td>PoweredLIRL1</td>\n",
       "      <td>93.0</td>\n",
       "      <td>0.0</td>\n",
       "      <td>Bird</td>\n",
       "      <td>POINT (-86.79988 36.13682)</td>\n",
       "    </tr>\n",
       "    <tr>\n",
       "      <th>5028030</th>\n",
       "      <td>2019-05-11 16:46:35.640</td>\n",
       "      <td>36.162264</td>\n",
       "      <td>-86.771856</td>\n",
       "      <td>PoweredBM9H5</td>\n",
       "      <td>50.0</td>\n",
       "      <td>0.0</td>\n",
       "      <td>Bird</td>\n",
       "      <td>POINT (-86.77186 36.16226)</td>\n",
       "    </tr>\n",
       "    <tr>\n",
       "      <th>5028029</th>\n",
       "      <td>2019-05-11 16:46:35.640</td>\n",
       "      <td>36.156659</td>\n",
       "      <td>-86.776048</td>\n",
       "      <td>PoweredCPJ2D</td>\n",
       "      <td>48.0</td>\n",
       "      <td>0.0</td>\n",
       "      <td>Bird</td>\n",
       "      <td>POINT (-86.77605 36.15666)</td>\n",
       "    </tr>\n",
       "    <tr>\n",
       "      <th>5028028</th>\n",
       "      <td>2019-05-11 16:46:35.640</td>\n",
       "      <td>36.153987</td>\n",
       "      <td>-86.796820</td>\n",
       "      <td>PoweredNM176</td>\n",
       "      <td>97.0</td>\n",
       "      <td>0.0</td>\n",
       "      <td>Bird</td>\n",
       "      <td>POINT (-86.79682 36.15399)</td>\n",
       "    </tr>\n",
       "    <tr>\n",
       "      <th>5028027</th>\n",
       "      <td>2019-05-11 16:46:35.640</td>\n",
       "      <td>36.138335</td>\n",
       "      <td>-86.807256</td>\n",
       "      <td>Powered6GM9U</td>\n",
       "      <td>87.0</td>\n",
       "      <td>0.0</td>\n",
       "      <td>Bird</td>\n",
       "      <td>POINT (-86.80726 36.13833)</td>\n",
       "    </tr>\n",
       "  </tbody>\n",
       "</table>\n",
       "</div>"
      ],
      "text/plain": [
       "                    pubdatetime   latitude  longitude        sumdid  \\\n",
       "0       2019-05-01 00:01:41.247  36.136822 -86.799877  PoweredLIRL1   \n",
       "5028030 2019-05-11 16:46:35.640  36.162264 -86.771856  PoweredBM9H5   \n",
       "5028029 2019-05-11 16:46:35.640  36.156659 -86.776048  PoweredCPJ2D   \n",
       "5028028 2019-05-11 16:46:35.640  36.153987 -86.796820  PoweredNM176   \n",
       "5028027 2019-05-11 16:46:35.640  36.138335 -86.807256  Powered6GM9U   \n",
       "\n",
       "         chargelevel  costpermin companyname                    geometry  \n",
       "0               93.0         0.0        Bird  POINT (-86.79988 36.13682)  \n",
       "5028030         50.0         0.0        Bird  POINT (-86.77186 36.16226)  \n",
       "5028029         48.0         0.0        Bird  POINT (-86.77605 36.15666)  \n",
       "5028028         97.0         0.0        Bird  POINT (-86.79682 36.15399)  \n",
       "5028027         87.0         0.0        Bird  POINT (-86.80726 36.13833)  "
      ]
     },
     "execution_count": 22,
     "metadata": {},
     "output_type": "execute_result"
    }
   ],
   "source": [
    "may_inv.head(5)"
   ]
  },
  {
   "cell_type": "code",
   "execution_count": 23,
   "id": "52352ebe",
   "metadata": {},
   "outputs": [],
   "source": [
    "may_geo = gpd.GeoDataFrame(may_inv)"
   ]
  },
  {
   "cell_type": "code",
   "execution_count": 24,
   "id": "e0cdfbb3",
   "metadata": {
    "scrolled": false
   },
   "outputs": [
    {
     "name": "stdout",
     "output_type": "stream",
     "text": [
      "Wall time: 13min 40s\n"
     ]
    }
   ],
   "source": [
    "%%time\n",
    "may_inv['geometry'] = may_inv.apply(lambda x: Point((x.longitude, x.latitude)), axis=1)"
   ]
  },
  {
   "cell_type": "code",
   "execution_count": 31,
   "id": "13f4361e",
   "metadata": {
    "scrolled": true
   },
   "outputs": [
    {
     "data": {
      "text/html": [
       "<div>\n",
       "<style scoped>\n",
       "    .dataframe tbody tr th:only-of-type {\n",
       "        vertical-align: middle;\n",
       "    }\n",
       "\n",
       "    .dataframe tbody tr th {\n",
       "        vertical-align: top;\n",
       "    }\n",
       "\n",
       "    .dataframe thead th {\n",
       "        text-align: right;\n",
       "    }\n",
       "</style>\n",
       "<table border=\"1\" class=\"dataframe\">\n",
       "  <thead>\n",
       "    <tr style=\"text-align: right;\">\n",
       "      <th></th>\n",
       "      <th>pubdatetime</th>\n",
       "      <th>latitude</th>\n",
       "      <th>longitude</th>\n",
       "      <th>sumdid</th>\n",
       "      <th>chargelevel</th>\n",
       "      <th>costpermin</th>\n",
       "      <th>companyname</th>\n",
       "      <th>geometry</th>\n",
       "    </tr>\n",
       "  </thead>\n",
       "  <tbody>\n",
       "    <tr>\n",
       "      <th>0</th>\n",
       "      <td>2019-05-01 00:01:41.247</td>\n",
       "      <td>36.136822</td>\n",
       "      <td>-86.799877</td>\n",
       "      <td>PoweredLIRL1</td>\n",
       "      <td>93.0</td>\n",
       "      <td>0.0</td>\n",
       "      <td>Bird</td>\n",
       "      <td>POINT (-86.799877 36.136822)</td>\n",
       "    </tr>\n",
       "    <tr>\n",
       "      <th>5028030</th>\n",
       "      <td>2019-05-11 16:46:35.640</td>\n",
       "      <td>36.162264</td>\n",
       "      <td>-86.771856</td>\n",
       "      <td>PoweredBM9H5</td>\n",
       "      <td>50.0</td>\n",
       "      <td>0.0</td>\n",
       "      <td>Bird</td>\n",
       "      <td>POINT (-86.771856 36.162264)</td>\n",
       "    </tr>\n",
       "    <tr>\n",
       "      <th>5028029</th>\n",
       "      <td>2019-05-11 16:46:35.640</td>\n",
       "      <td>36.156659</td>\n",
       "      <td>-86.776048</td>\n",
       "      <td>PoweredCPJ2D</td>\n",
       "      <td>48.0</td>\n",
       "      <td>0.0</td>\n",
       "      <td>Bird</td>\n",
       "      <td>POINT (-86.776048 36.156659)</td>\n",
       "    </tr>\n",
       "    <tr>\n",
       "      <th>5028028</th>\n",
       "      <td>2019-05-11 16:46:35.640</td>\n",
       "      <td>36.153987</td>\n",
       "      <td>-86.796820</td>\n",
       "      <td>PoweredNM176</td>\n",
       "      <td>97.0</td>\n",
       "      <td>0.0</td>\n",
       "      <td>Bird</td>\n",
       "      <td>POINT (-86.79682 36.153987)</td>\n",
       "    </tr>\n",
       "    <tr>\n",
       "      <th>5028027</th>\n",
       "      <td>2019-05-11 16:46:35.640</td>\n",
       "      <td>36.138335</td>\n",
       "      <td>-86.807256</td>\n",
       "      <td>Powered6GM9U</td>\n",
       "      <td>87.0</td>\n",
       "      <td>0.0</td>\n",
       "      <td>Bird</td>\n",
       "      <td>POINT (-86.807256 36.138335)</td>\n",
       "    </tr>\n",
       "  </tbody>\n",
       "</table>\n",
       "</div>"
      ],
      "text/plain": [
       "                    pubdatetime   latitude  longitude        sumdid  \\\n",
       "0       2019-05-01 00:01:41.247  36.136822 -86.799877  PoweredLIRL1   \n",
       "5028030 2019-05-11 16:46:35.640  36.162264 -86.771856  PoweredBM9H5   \n",
       "5028029 2019-05-11 16:46:35.640  36.156659 -86.776048  PoweredCPJ2D   \n",
       "5028028 2019-05-11 16:46:35.640  36.153987 -86.796820  PoweredNM176   \n",
       "5028027 2019-05-11 16:46:35.640  36.138335 -86.807256  Powered6GM9U   \n",
       "\n",
       "         chargelevel  costpermin companyname                      geometry  \n",
       "0               93.0         0.0        Bird  POINT (-86.799877 36.136822)  \n",
       "5028030         50.0         0.0        Bird  POINT (-86.771856 36.162264)  \n",
       "5028029         48.0         0.0        Bird  POINT (-86.776048 36.156659)  \n",
       "5028028         97.0         0.0        Bird   POINT (-86.79682 36.153987)  \n",
       "5028027         87.0         0.0        Bird  POINT (-86.807256 36.138335)  "
      ]
     },
     "execution_count": 31,
     "metadata": {},
     "output_type": "execute_result"
    }
   ],
   "source": [
    "may_inv.head(5)"
   ]
  },
  {
   "cell_type": "code",
   "execution_count": 33,
   "id": "d9e4787e",
   "metadata": {},
   "outputs": [],
   "source": [
    "may_geo = gpd.GeoDataFrame(may_inv, crs = 4326, geometry = may_inv['geometry'])"
   ]
  },
  {
   "cell_type": "code",
   "execution_count": null,
   "id": "e0f42337",
   "metadata": {
    "scrolled": false
   },
   "outputs": [],
   "source": [
    "may_geo.plot(column = 'chargelevel', figsize=(10, 10),\n",
    "              edgecolor = 'black',\n",
    "              cmap = 'Set2')\n",
    "plt.show()"
   ]
  },
  {
   "cell_type": "code",
   "execution_count": null,
   "id": "010ad0d2",
   "metadata": {
    "scrolled": true
   },
   "outputs": [],
   "source": [
    "may_companies = list(enumerate(may_inv.companyname.unique()))\n",
    "may_companies"
   ]
  },
  {
   "cell_type": "code",
   "execution_count": null,
   "id": "fc3da3bf",
   "metadata": {},
   "outputs": [],
   "source": [
    "unique_scooter = may_inv['sumdid'].unique()\n",
    "unique_scooter"
   ]
  },
  {
   "cell_type": "code",
   "execution_count": null,
   "id": "abb3ccb8",
   "metadata": {
    "scrolled": false
   },
   "outputs": [],
   "source": [
    "may_inv.info()"
   ]
  },
  {
   "cell_type": "code",
   "execution_count": null,
   "id": "75e1e586",
   "metadata": {},
   "outputs": [],
   "source": [
    "may_inv.value_counts('companyname')"
   ]
  },
  {
   "cell_type": "code",
   "execution_count": null,
   "id": "714d5fa1",
   "metadata": {
    "scrolled": false
   },
   "outputs": [],
   "source": [
    "full_charge = may_inv.loc[may_inv['chargelevel'] == 100]\n",
    "full_charge"
   ]
  },
  {
   "cell_type": "code",
   "execution_count": null,
   "id": "1ad4c44f",
   "metadata": {
    "scrolled": false
   },
   "outputs": [],
   "source": [
    "dead = may_inv.loc[may_inv['chargelevel'] <5]\n",
    "dead"
   ]
  },
  {
   "cell_type": "code",
   "execution_count": null,
   "id": "a2c78c00",
   "metadata": {},
   "outputs": [],
   "source": [
    "dead.hist('chargelevel', bins= 10)"
   ]
  },
  {
   "cell_type": "code",
   "execution_count": null,
   "id": "b7f86b20",
   "metadata": {},
   "outputs": [],
   "source": [
    "plt.scatter(x='pubdatetime', y= 'sumdid', data = dead)"
   ]
  },
  {
   "cell_type": "markdown",
   "id": "0d11340e",
   "metadata": {},
   "source": [
    "### may_trip data to join"
   ]
  },
  {
   "cell_type": "code",
   "execution_count": null,
   "id": "1704cde7",
   "metadata": {},
   "outputs": [],
   "source": [
    "%%time\n",
    "may_trip = pd.read_csv('../data/may_trip.csv')\n",
    "may_trip = may_trip.sort_values('companyName')"
   ]
  },
  {
   "cell_type": "code",
   "execution_count": null,
   "id": "036fe0f9",
   "metadata": {
    "scrolled": false
   },
   "outputs": [],
   "source": [
    "may_trip.head(5)"
   ]
  },
  {
   "cell_type": "code",
   "execution_count": null,
   "id": "49a40bc7",
   "metadata": {},
   "outputs": [],
   "source": [
    "may_trip.columns = may_trip.columns.str.lower()"
   ]
  },
  {
   "cell_type": "code",
   "execution_count": null,
   "id": "20958b9b",
   "metadata": {},
   "outputs": [],
   "source": [
    "may_trip.head(5)"
   ]
  },
  {
   "cell_type": "code",
   "execution_count": null,
   "id": "8181e6e9",
   "metadata": {},
   "outputs": [],
   "source": []
  }
 ],
 "metadata": {
  "kernelspec": {
   "display_name": "Python 3 (ipykernel)",
   "language": "python",
   "name": "python3"
  },
  "language_info": {
   "codemirror_mode": {
    "name": "ipython",
    "version": 3
   },
   "file_extension": ".py",
   "mimetype": "text/x-python",
   "name": "python",
   "nbconvert_exporter": "python",
   "pygments_lexer": "ipython3",
   "version": "3.8.5"
  }
 },
 "nbformat": 4,
 "nbformat_minor": 5
}
