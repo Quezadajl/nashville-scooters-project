{
 "cells": [
  {
   "cell_type": "code",
   "execution_count": 1,
   "id": "fe5652e5",
   "metadata": {},
   "outputs": [],
   "source": [
    "import numpy as np\n",
    "import pandas as pd\n",
    "import geopandas as gpd\n",
    "import folium\n",
    "import datetime\n",
    "import pickle\n",
    "from shapely.geometry import Point"
   ]
  },
  {
   "cell_type": "code",
   "execution_count": 2,
   "id": "1b149e96",
   "metadata": {},
   "outputs": [
    {
     "name": "stdout",
     "output_type": "stream",
     "text": [
      "epsg:2274\n"
     ]
    },
    {
     "data": {
      "text/html": [
       "<div>\n",
       "<style scoped>\n",
       "    .dataframe tbody tr th:only-of-type {\n",
       "        vertical-align: middle;\n",
       "    }\n",
       "\n",
       "    .dataframe tbody tr th {\n",
       "        vertical-align: top;\n",
       "    }\n",
       "\n",
       "    .dataframe thead th {\n",
       "        text-align: right;\n",
       "    }\n",
       "</style>\n",
       "<table border=\"1\" class=\"dataframe\">\n",
       "  <thead>\n",
       "    <tr style=\"text-align: right;\">\n",
       "      <th></th>\n",
       "      <th>OBJECTID</th>\n",
       "      <th>ZONE_ID</th>\n",
       "      <th>SHAPE_STAr</th>\n",
       "      <th>SHAPE_STLe</th>\n",
       "      <th>geometry</th>\n",
       "    </tr>\n",
       "  </thead>\n",
       "  <tbody>\n",
       "    <tr>\n",
       "      <th>0</th>\n",
       "      <td>1</td>\n",
       "      <td>1</td>\n",
       "      <td>1.053728e+08</td>\n",
       "      <td>49364.601403</td>\n",
       "      <td>POLYGON ((1743366.812 678044.543, 1743367.698 ...</td>\n",
       "    </tr>\n",
       "    <tr>\n",
       "      <th>1</th>\n",
       "      <td>2</td>\n",
       "      <td>2</td>\n",
       "      <td>7.670585e+07</td>\n",
       "      <td>45226.018917</td>\n",
       "      <td>POLYGON ((1738690.545 661791.347, 1738733.644 ...</td>\n",
       "    </tr>\n",
       "    <tr>\n",
       "      <th>2</th>\n",
       "      <td>3</td>\n",
       "      <td>3</td>\n",
       "      <td>2.985488e+08</td>\n",
       "      <td>75207.067487</td>\n",
       "      <td>POLYGON ((1759602.544 668309.889, 1759640.155 ...</td>\n",
       "    </tr>\n",
       "    <tr>\n",
       "      <th>3</th>\n",
       "      <td>4</td>\n",
       "      <td>4</td>\n",
       "      <td>2.713638e+08</td>\n",
       "      <td>74348.596054</td>\n",
       "      <td>POLYGON ((1747799.003 654974.612, 1747821.293 ...</td>\n",
       "    </tr>\n",
       "    <tr>\n",
       "      <th>4</th>\n",
       "      <td>5</td>\n",
       "      <td>5</td>\n",
       "      <td>3.928178e+08</td>\n",
       "      <td>106661.712102</td>\n",
       "      <td>POLYGON ((1737013.744 692634.639, 1737122.605 ...</td>\n",
       "    </tr>\n",
       "    <tr>\n",
       "      <th>5</th>\n",
       "      <td>6</td>\n",
       "      <td>6</td>\n",
       "      <td>9.535996e+07</td>\n",
       "      <td>59256.923574</td>\n",
       "      <td>POLYGON ((1716935.654 667534.495, 1716992.481 ...</td>\n",
       "    </tr>\n",
       "  </tbody>\n",
       "</table>\n",
       "</div>"
      ],
      "text/plain": [
       "   OBJECTID  ZONE_ID    SHAPE_STAr     SHAPE_STLe  \\\n",
       "0         1        1  1.053728e+08   49364.601403   \n",
       "1         2        2  7.670585e+07   45226.018917   \n",
       "2         3        3  2.985488e+08   75207.067487   \n",
       "3         4        4  2.713638e+08   74348.596054   \n",
       "4         5        5  3.928178e+08  106661.712102   \n",
       "5         6        6  9.535996e+07   59256.923574   \n",
       "\n",
       "                                            geometry  \n",
       "0  POLYGON ((1743366.812 678044.543, 1743367.698 ...  \n",
       "1  POLYGON ((1738690.545 661791.347, 1738733.644 ...  \n",
       "2  POLYGON ((1759602.544 668309.889, 1759640.155 ...  \n",
       "3  POLYGON ((1747799.003 654974.612, 1747821.293 ...  \n",
       "4  POLYGON ((1737013.744 692634.639, 1737122.605 ...  \n",
       "5  POLYGON ((1716935.654 667534.495, 1716992.481 ...  "
      ]
     },
     "execution_count": 2,
     "metadata": {},
     "output_type": "execute_result"
    }
   ],
   "source": [
    "promise_zone = gpd.read_file('../data/MDHA_Promise_Zones/Export_Output_5.shp')\n",
    "print(promise_zone.crs)\n",
    "promise_zone.head(7 )"
   ]
  },
  {
   "cell_type": "code",
   "execution_count": 3,
   "id": "01780d1a",
   "metadata": {},
   "outputs": [],
   "source": [
    "promise_zone = promise_zone.to_crs(epsg = 4326)"
   ]
  },
  {
   "cell_type": "code",
   "execution_count": 4,
   "id": "0c9e88e3",
   "metadata": {},
   "outputs": [],
   "source": [
    "polygon_zone_5 = promise_zone.loc[promise_zone['ZONE_ID']==5]"
   ]
  },
  {
   "cell_type": "code",
   "execution_count": 5,
   "id": "5de3f1cf",
   "metadata": {},
   "outputs": [
    {
     "name": "stdout",
     "output_type": "stream",
     "text": [
      "(2524, 5)\n"
     ]
    }
   ],
   "source": [
    "bus_stops = pd.read_csv('../data/busstops_cleaned.csv')\n",
    "print(bus_stops.shape)"
   ]
  },
  {
   "cell_type": "code",
   "execution_count": 6,
   "id": "39435966",
   "metadata": {},
   "outputs": [],
   "source": [
    "bus_stops['geometry'] = bus_stops.apply(lambda x: Point((x.lng,x.lat)),\n",
    "                                        axis=1)"
   ]
  },
  {
   "cell_type": "code",
   "execution_count": 7,
   "id": "2879b1ee",
   "metadata": {},
   "outputs": [],
   "source": [
    "bus_geo = gpd.GeoDataFrame(bus_stops, \n",
    "                           crs = promise_zone.crs, \n",
    "                           geometry = bus_stops['geometry'])"
   ]
  },
  {
   "cell_type": "code",
   "execution_count": 8,
   "id": "79575572",
   "metadata": {},
   "outputs": [
    {
     "name": "stderr",
     "output_type": "stream",
     "text": [
      "C:\\Users\\RMAUR\\anaconda3\\envs\\geo_env\\lib\\site-packages\\IPython\\core\\interactiveshell.py:3364: FutureWarning: The `op` parameter is deprecated and will be removed in a future release. Please use the `predicate` parameter instead.\n",
      "  if (await self.run_code(code, result,  async_=asy)):\n"
     ]
    }
   ],
   "source": [
    "stops_by_zone = gpd.sjoin( bus_geo,polygon_zone_5, op = 'within')"
   ]
  },
  {
   "cell_type": "code",
   "execution_count": 9,
   "id": "29b89d17",
   "metadata": {},
   "outputs": [
    {
     "name": "stderr",
     "output_type": "stream",
     "text": [
      "C:\\Users\\RMAUR\\AppData\\Local\\Temp/ipykernel_6280/806582915.py:1: UserWarning: Geometry is in a geographic CRS. Results from 'centroid' are likely incorrect. Use 'GeoSeries.to_crs()' to re-project geometries to a projected CRS before this operation.\n",
      "\n",
      "  zone_5_center = polygon_zone_5.centroid\n"
     ]
    }
   ],
   "source": [
    "zone_5_center = polygon_zone_5.centroid"
   ]
  },
  {
   "cell_type": "code",
   "execution_count": 10,
   "id": "6631487f",
   "metadata": {},
   "outputs": [],
   "source": [
    "stops_in_zone5 = stops_by_zone.loc[stops_by_zone['ZONE_ID']==5]"
   ]
  },
  {
   "cell_type": "code",
   "execution_count": 11,
   "id": "1a78c82d",
   "metadata": {},
   "outputs": [],
   "source": [
    "zone_5_area = (zone_5_center.y,zone_5_center.x)"
   ]
  },
  {
   "cell_type": "code",
   "execution_count": 12,
   "id": "8ffba1e4",
   "metadata": {},
   "outputs": [],
   "source": [
    "# Import the file as a Pandas DataFrame\n",
    "fp = '../data/july.csv'\n",
    "july = pd.read_csv(fp)"
   ]
  },
  {
   "cell_type": "code",
   "execution_count": 13,
   "id": "5207f546",
   "metadata": {},
   "outputs": [],
   "source": [
    "company_dict = {'Bird':0, 'Lyft': 1, 'Gotcha': 2, 'Lime': 3, 'Spin': 4, 'Jump': 5, 'Bolt': 6}\n",
    "july.companyname = july.companyname.replace(company_dict)"
   ]
  },
  {
   "cell_type": "code",
   "execution_count": 14,
   "id": "b2ec25b8",
   "metadata": {},
   "outputs": [],
   "source": [
    "july.pubdatetime = pd.to_datetime(july['pubdatetime'])"
   ]
  },
  {
   "cell_type": "code",
   "execution_count": 15,
   "id": "e2a6e59e",
   "metadata": {},
   "outputs": [],
   "source": [
    "july.to_pickle(\"../data/july.pkl\")"
   ]
  },
  {
   "cell_type": "code",
   "execution_count": 16,
   "id": "668d1d7e",
   "metadata": {},
   "outputs": [],
   "source": [
    "july_scooters = july[['pubdatetime', 'latitude', 'longitude', 'sumdid', 'chargelevel', 'companyname']]"
   ]
  },
  {
   "cell_type": "code",
   "execution_count": 17,
   "id": "310e3d4c",
   "metadata": {},
   "outputs": [],
   "source": [
    "july_1_scooters = july_scooters[july_scooters['pubdatetime']<='2019-07-02 00:00:00.000'] "
   ]
  },
  {
   "cell_type": "code",
   "execution_count": 25,
   "id": "6e4cf7f4",
   "metadata": {},
   "outputs": [],
   "source": [
    "july_6_scooters = july_scooters[july_scooters['pubdatetime'].between('2019-07-06 00:00:00.000','2019-07-07 00:00:00.000')] "
   ]
  },
  {
   "cell_type": "code",
   "execution_count": 29,
   "id": "5363e090",
   "metadata": {},
   "outputs": [],
   "source": [
    "july_6_scooters = july_6_scooters.set_index('pubdatetime')"
   ]
  },
  {
   "cell_type": "code",
   "execution_count": 22,
   "id": "24838ab4",
   "metadata": {},
   "outputs": [],
   "source": [
    "july_1_scooters['geometry'] = july_1_scooters.apply(lambda x: Point(float(x.longitude), float(x.latitude)),axis=1)"
   ]
  },
  {
   "cell_type": "code",
   "execution_count": 32,
   "id": "c07a17cc",
   "metadata": {},
   "outputs": [],
   "source": [
    "july_6_scooters['geometry'] = july_6_scooters.apply(lambda x: Point(float(x.longitude), float(x.latitude)),axis=1)"
   ]
  },
  {
   "cell_type": "code",
   "execution_count": 36,
   "id": "f8e3a89d",
   "metadata": {},
   "outputs": [],
   "source": [
    "jul1_scoots_geo = gpd.GeoDataFrame(july_1_scooters,crs=promise_zone.crs,geometry=july_1_scooters.geometry)\n",
    "jul6_scoots_geo = gpd.GeoDataFrame(july_1_scooters,crs=promise_zone.crs,geometry=july_1_scooters.geometry)"
   ]
  },
  {
   "cell_type": "code",
   "execution_count": 34,
   "id": "83811e35",
   "metadata": {},
   "outputs": [
    {
     "name": "stderr",
     "output_type": "stream",
     "text": [
      "C:\\Users\\RMAUR\\anaconda3\\envs\\geo_env\\lib\\site-packages\\IPython\\core\\interactiveshell.py:3364: FutureWarning: The `op` parameter is deprecated and will be removed in a future release. Please use the `predicate` parameter instead.\n",
      "  if (await self.run_code(code, result,  async_=asy)):\n"
     ]
    }
   ],
   "source": [
    "jul1_scoots_by_zone = gpd.sjoin( jul1_scoots_geo,promise_zone, op = 'within')"
   ]
  },
  {
   "cell_type": "code",
   "execution_count": 37,
   "id": "f6ac578f",
   "metadata": {},
   "outputs": [
    {
     "name": "stderr",
     "output_type": "stream",
     "text": [
      "C:\\Users\\RMAUR\\anaconda3\\envs\\geo_env\\lib\\site-packages\\IPython\\core\\interactiveshell.py:3364: FutureWarning: The `op` parameter is deprecated and will be removed in a future release. Please use the `predicate` parameter instead.\n",
      "  if (await self.run_code(code, result,  async_=asy)):\n"
     ]
    }
   ],
   "source": [
    "jul6_scoots_by_zone = gpd.sjoin( jul1_scoots_geo,promise_zone, op = 'within')"
   ]
  },
  {
   "cell_type": "code",
   "execution_count": 42,
   "id": "8e2467d7",
   "metadata": {},
   "outputs": [],
   "source": [
    "jul1_scoots_zone5 = jul1_scoots_by_zone.loc[jul1_scoots_by_zone['ZONE_ID']==5]"
   ]
  },
  {
   "cell_type": "code",
   "execution_count": 41,
   "id": "deca2c84",
   "metadata": {},
   "outputs": [],
   "source": [
    "jul6_scoots_zone5 = jul6_scoots_by_zone.loc[jul6_scoots_by_zone['ZONE_ID']==5]"
   ]
  },
  {
   "cell_type": "code",
   "execution_count": 47,
   "id": "70d10818",
   "metadata": {},
   "outputs": [],
   "source": [
    "# Create an empty list\n",
    "jul1_hour_list = []\n",
    "\n",
    "# Create a series with the different hours of the day\n",
    "jul1_hours = pd.Series(jul1_scoots_zone5.index.hour.unique().sort_values())\n",
    "\n",
    "# Create a list of points for each hour of the day\n",
    "def create_list(hour):\n",
    "    jul1_hour_list.append(jul1_scoots_zone5.loc[jul1_scoots_zone5.index.hour == hour,\n",
    "                                ['latitude',\n",
    "                                 'longitude']].\n",
    "                        groupby(['latitude', \n",
    "                                 'longitude']).sum().reset_index().values.tolist())\n",
    "jul1_hours.apply(create_list);"
   ]
  },
  {
   "cell_type": "code",
   "execution_count": 48,
   "id": "9e7559fd",
   "metadata": {},
   "outputs": [],
   "source": [
    "# Create an empty list\n",
    "jul6_hour_list = []\n",
    "\n",
    "# Create a series with the different hours of the day\n",
    "jul6_hours = pd.Series(jul6_scoots_zone5.index.hour.unique().sort_values())\n",
    "\n",
    "# Create a list of points for each hour of the day\n",
    "def create_list(hour):\n",
    "    jul6_hour_list.append(jul6_scoots_zone5.loc[jul6_scoots_zone5.index.hour == hour,\n",
    "                                ['latitude',\n",
    "                                 'longitude']].\n",
    "                        groupby(['latitude', \n",
    "                                 'longitude']).sum().reset_index().values.tolist())\n",
    "jul6_hours.apply(create_list);"
   ]
  },
  {
   "cell_type": "code",
   "execution_count": 53,
   "id": "466ba9c7",
   "metadata": {},
   "outputs": [
    {
     "ename": "AttributeError",
     "evalue": "'Map' object has no attribute 'm1'",
     "output_type": "error",
     "traceback": [
      "\u001b[1;31m---------------------------------------------------------------------------\u001b[0m",
      "\u001b[1;31mAttributeError\u001b[0m                            Traceback (most recent call last)",
      "\u001b[1;32m~\\AppData\\Local\\Temp/ipykernel_6280/435306526.py\u001b[0m in \u001b[0;36m<module>\u001b[1;34m\u001b[0m\n\u001b[0;32m     17\u001b[0m                             \u001b[1;36m0.4\u001b[0m\u001b[1;33m:\u001b[0m \u001b[1;34m'#fa782f'\u001b[0m\u001b[1;33m,\u001b[0m\u001b[1;33m\u001b[0m\u001b[1;33m\u001b[0m\u001b[0m\n\u001b[0;32m     18\u001b[0m                             \u001b[1;36m0.75\u001b[0m\u001b[1;33m:\u001b[0m \u001b[1;34m'#F16578'\u001b[0m\u001b[1;33m,\u001b[0m\u001b[1;33m\u001b[0m\u001b[1;33m\u001b[0m\u001b[0m\n\u001b[1;32m---> 19\u001b[1;33m                             1: '#782890'}).add_to(zone5_dual_map.m1)\n\u001b[0m\u001b[0;32m     20\u001b[0m \u001b[1;33m\u001b[0m\u001b[0m\n\u001b[0;32m     21\u001b[0m HeatMapWithTime(jul1_hour_list, \n",
      "\u001b[1;31mAttributeError\u001b[0m: 'Map' object has no attribute 'm1'"
     ]
    }
   ],
   "source": [
    "from folium.plugins import HeatMapWithTime\n",
    "# Add trip events to the map\n",
    "ju6_zone5_map_time = folium.Map(location = zone_5_area, \n",
    "                      tiles=\"CartoDB Positron\", \n",
    "                      zoom_start=13)\n",
    "\n",
    "\n",
    "folium.GeoJson(polygon_zone_5).add_to(zone5_map_time)\n",
    "\n",
    "\n",
    "HeatMapWithTime(df_hour_list, \n",
    "                auto_play=False, \n",
    "                max_opacity=0.5, \n",
    "                gradient = {0.2: '#FBD973', \n",
    "                            0.4: '#fa782f', \n",
    "                            0.75: '#F16578', \n",
    "                            1: '#782890'}).add_to(zone5_map_time)\n",
    "zone5_map_time.save('../maps/zone5_map_time.html')\n",
    "zone5_map_time"
   ]
  },
  {
   "cell_type": "code",
   "execution_count": 52,
   "id": "06ec90cf",
   "metadata": {},
   "outputs": [
    {
     "name": "stdout",
     "output_type": "stream",
     "text": [
      "Help on class DualMap in module folium.plugins.dual_map:\n",
      "\n",
      "class DualMap(folium.elements.JSCSSMixin, branca.element.MacroElement)\n",
      " |  DualMap(location=None, layout='horizontal', **kwargs)\n",
      " |  \n",
      " |  Create two maps in the same window.\n",
      " |  \n",
      " |  Adding children to this objects adds them to both maps. You can access\n",
      " |  the individual maps with `DualMap.m1` and `DualMap.m2`.\n",
      " |  \n",
      " |  Uses the Leaflet plugin Sync: https://github.com/jieter/Leaflet.Sync\n",
      " |  \n",
      " |  Parameters\n",
      " |  ----------\n",
      " |  location: tuple or list, optional\n",
      " |      Latitude and longitude of center point of the maps.\n",
      " |  layout : {'horizontal', 'vertical'}\n",
      " |      Select how the two maps should be positioned. Either horizontal (left\n",
      " |      and right) or vertical (top and bottom).\n",
      " |  **kwargs\n",
      " |      Keyword arguments are passed to the two Map objects.\n",
      " |  \n",
      " |  Examples\n",
      " |  --------\n",
      " |  >>> # DualMap accepts the same arguments as Map:\n",
      " |  >>> m = DualMap(location=(0, 0), tiles='cartodbpositron', zoom_start=5)\n",
      " |  >>> # Add the same marker to both maps:\n",
      " |  >>> Marker((0, 0)).add_to(m)\n",
      " |  >>> # The individual maps are attributes called `m1` and `m2`:\n",
      " |  >>> Marker((0, 1)).add_to(m.m1)\n",
      " |  >>> LayerControl().add_to(m)\n",
      " |  >>> m.save('map.html')\n",
      " |  \n",
      " |  Method resolution order:\n",
      " |      DualMap\n",
      " |      folium.elements.JSCSSMixin\n",
      " |      branca.element.MacroElement\n",
      " |      branca.element.Element\n",
      " |      builtins.object\n",
      " |  \n",
      " |  Methods defined here:\n",
      " |  \n",
      " |  __init__(self, location=None, layout='horizontal', **kwargs)\n",
      " |      Initialize self.  See help(type(self)) for accurate signature.\n",
      " |  \n",
      " |  add_child(self, child, name=None, index=None)\n",
      " |      Add object `child` to the first map and store it for the second.\n",
      " |  \n",
      " |  fit_bounds(self, *args, **kwargs)\n",
      " |  \n",
      " |  keep_in_front(self, *args)\n",
      " |  \n",
      " |  render(self, **kwargs)\n",
      " |      Renders the HTML representation of the element.\n",
      " |  \n",
      " |  ----------------------------------------------------------------------\n",
      " |  Data and other attributes defined here:\n",
      " |  \n",
      " |  default_js = [('Leaflet.Sync', 'https://cdn.jsdelivr.net/gh/jieter/Lea...\n",
      " |  \n",
      " |  ----------------------------------------------------------------------\n",
      " |  Data and other attributes inherited from folium.elements.JSCSSMixin:\n",
      " |  \n",
      " |  default_css = []\n",
      " |  \n",
      " |  ----------------------------------------------------------------------\n",
      " |  Methods inherited from branca.element.Element:\n",
      " |  \n",
      " |  add_children(self, child, name=None, index=None)\n",
      " |      Add a child.\n",
      " |  \n",
      " |  add_to(self, parent, name=None, index=None)\n",
      " |      Add element to a parent.\n",
      " |  \n",
      " |  get_bounds(self)\n",
      " |      Computes the bounds of the object and all it's children\n",
      " |      in the form [[lat_min, lon_min], [lat_max, lon_max]].\n",
      " |  \n",
      " |  get_name(self)\n",
      " |      Returns a string representation of the object.\n",
      " |      This string has to be unique and to be a python and\n",
      " |      javascript-compatible\n",
      " |      variable name.\n",
      " |  \n",
      " |  get_root(self)\n",
      " |      Returns the root of the elements tree.\n",
      " |  \n",
      " |  save(self, outfile, close_file=True, **kwargs)\n",
      " |      Saves an Element into a file.\n",
      " |      \n",
      " |      Parameters\n",
      " |      ----------\n",
      " |      outfile : str or file object\n",
      " |          The file (or filename) where you want to output the html.\n",
      " |      close_file : bool, default True\n",
      " |          Whether the file has to be closed after write.\n",
      " |  \n",
      " |  to_dict(self, depth=-1, ordered=True, **kwargs)\n",
      " |      Returns a dict representation of the object.\n",
      " |  \n",
      " |  to_json(self, depth=-1, **kwargs)\n",
      " |      Returns a JSON representation of the object.\n",
      " |  \n",
      " |  ----------------------------------------------------------------------\n",
      " |  Data descriptors inherited from branca.element.Element:\n",
      " |  \n",
      " |  __dict__\n",
      " |      dictionary for instance variables (if defined)\n",
      " |  \n",
      " |  __weakref__\n",
      " |      list of weak references to the object (if defined)\n",
      "\n"
     ]
    }
   ],
   "source": [
    "help(folium.plugins.DualMap)"
   ]
  },
  {
   "cell_type": "code",
   "execution_count": null,
   "id": "9eeeb724",
   "metadata": {},
   "outputs": [],
   "source": []
  }
 ],
 "metadata": {
  "kernelspec": {
   "display_name": "Python 3 (ipykernel)",
   "language": "python",
   "name": "python3"
  },
  "language_info": {
   "codemirror_mode": {
    "name": "ipython",
    "version": 3
   },
   "file_extension": ".py",
   "mimetype": "text/x-python",
   "name": "python",
   "nbconvert_exporter": "python",
   "pygments_lexer": "ipython3",
   "version": "3.9.7"
  }
 },
 "nbformat": 4,
 "nbformat_minor": 5
}
